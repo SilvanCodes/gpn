{
 "cells": [
  {
   "cell_type": "code",
   "execution_count": 1,
   "id": "0e58d04a-9be8-426e-adb0-fa488f489a1a",
   "metadata": {
    "tags": []
   },
   "outputs": [],
   "source": [
    "import matplotlib.pyplot as plt\n",
    "import numpy as np\n",
    "import pandas as pd\n",
    "import polars as pl\n",
    "import seaborn as sns\n",
    "import warnings\n",
    "warnings.filterwarnings('ignore')"
   ]
  },
  {
   "cell_type": "code",
   "execution_count": 2,
   "id": "8bf2e200-ac2b-475c-a29e-941de0b9db32",
   "metadata": {
    "tags": []
   },
   "outputs": [],
   "source": [
    "plot_dir = \"../../../results/plots/\"\n",
    "COORDINATES = [\"chrom\", \"pos\", \"ref\", \"alt\"]\n",
    "data_path = \"gnomad/merged/all\"\n",
    "model_paths = {\n",
    "    \"GPN-MSA\": \"multiz100way/89/128/64/True/defined.phastCons.percentile-75_0.05_0.001/medium/0.1/42/30000/True/True/True\",\n",
    "    \"MSA\": \"msa_multiz100way/89\",\n",
    "}\n",
    "models = list(model_paths.keys())\n",
    "\n",
    "def format_number(num):\n",
    "    \"\"\"\n",
    "    Converts a number into a more readable format, using K for thousands, M for millions, etc.\n",
    "    Args:\n",
    "    - num: The number to format.\n",
    "    \n",
    "    Returns:\n",
    "    - A formatted string representing the number.\n",
    "    \"\"\"\n",
    "    if num >= 1e9:\n",
    "        return f'{num/1e9:.1f}B'\n",
    "    elif num >= 1e6:\n",
    "        return f'{num/1e6:.1f}M'\n",
    "    elif num >= 1e3:\n",
    "        return f'{num/1e3:.1f}K'\n",
    "    else:\n",
    "        return str(num)"
   ]
  },
  {
   "cell_type": "code",
   "execution_count": 3,
   "id": "d0f23799-6785-4551-82dc-eb524dc4f374",
   "metadata": {
    "tags": []
   },
   "outputs": [
    {
     "data": {
      "text/plain": [
       "569854116"
      ]
     },
     "execution_count": 3,
     "metadata": {},
     "output_type": "execute_result"
    }
   ],
   "source": [
    "# load data\n",
    "V = pl.read_parquet(f\"../../../results/{data_path}/test.parquet\", columns=COORDINATES + [\"AF\"])\n",
    "len(V)"
   ]
  },
  {
   "cell_type": "code",
   "execution_count": 4,
   "id": "8fa773e0-90f2-46e4-9dd1-4f70c4b80eaa",
   "metadata": {
    "tags": []
   },
   "outputs": [],
   "source": [
    "# load models\n",
    "for model, path in model_paths.items():\n",
    "    V = V.with_columns(\n",
    "        pl.read_parquet(f\"../../../results/preds/results/{data_path}/{path}.parquet\", columns=\"score\")[\"score\"].alias(model)\n",
    "    )"
   ]
  },
  {
   "cell_type": "code",
   "execution_count": 5,
   "id": "4be42d57-ebe8-491f-b09a-5c53fe59627b",
   "metadata": {
    "tags": []
   },
   "outputs": [
    {
     "data": {
      "text/plain": [
       "(488699771, 7)"
      ]
     },
     "execution_count": 5,
     "metadata": {},
     "output_type": "execute_result"
    }
   ],
   "source": [
    "# filter bi-allelic\n",
    "V = V.unique(subset=[\"chrom\", \"pos\"], keep=\"none\")\n",
    "V.shape"
   ]
  },
  {
   "cell_type": "code",
   "execution_count": 6,
   "id": "28789d2b-572f-48ce-9898-277f44e7726e",
   "metadata": {
    "tags": []
   },
   "outputs": [
    {
     "data": {
      "text/html": [
       "<div><style>\n",
       ".dataframe > thead > tr,\n",
       ".dataframe > tbody > tr {\n",
       "  text-align: right;\n",
       "  white-space: pre-wrap;\n",
       "}\n",
       "</style>\n",
       "<small>shape: (488_699_771, 8)</small><table border=\"1\" class=\"dataframe\"><thead><tr><th>chrom</th><th>pos</th><th>ref</th><th>alt</th><th>AF</th><th>GPN-MSA</th><th>MSA</th><th>MAF</th></tr><tr><td>str</td><td>i64</td><td>str</td><td>str</td><td>f64</td><td>f32</td><td>f64</td><td>f64</td></tr></thead><tbody><tr><td>&quot;1&quot;</td><td>10111</td><td>&quot;C&quot;</td><td>&quot;A&quot;</td><td>0.000023</td><td>-0.017578</td><td>0.0</td><td>0.000023</td></tr><tr><td>&quot;1&quot;</td><td>10131</td><td>&quot;C&quot;</td><td>&quot;A&quot;</td><td>0.000009</td><td>-0.347656</td><td>0.0</td><td>0.000009</td></tr><tr><td>&quot;1&quot;</td><td>10132</td><td>&quot;T&quot;</td><td>&quot;C&quot;</td><td>0.000263</td><td>0.884766</td><td>0.0</td><td>0.000263</td></tr><tr><td>&quot;1&quot;</td><td>10139</td><td>&quot;A&quot;</td><td>&quot;T&quot;</td><td>0.000017</td><td>-0.432617</td><td>0.0</td><td>0.000017</td></tr><tr><td>&quot;1&quot;</td><td>10140</td><td>&quot;A&quot;</td><td>&quot;C&quot;</td><td>0.000028</td><td>0.074219</td><td>0.0</td><td>0.000028</td></tr><tr><td>&quot;1&quot;</td><td>10141</td><td>&quot;C&quot;</td><td>&quot;G&quot;</td><td>0.00002</td><td>-0.496094</td><td>0.0</td><td>0.00002</td></tr><tr><td>&quot;1&quot;</td><td>10145</td><td>&quot;A&quot;</td><td>&quot;T&quot;</td><td>0.000177</td><td>-0.43457</td><td>0.0</td><td>0.000177</td></tr><tr><td>&quot;1&quot;</td><td>10147</td><td>&quot;C&quot;</td><td>&quot;G&quot;</td><td>0.004386</td><td>-0.486328</td><td>0.0</td><td>0.004386</td></tr><tr><td>&quot;1&quot;</td><td>10149</td><td>&quot;C&quot;</td><td>&quot;A&quot;</td><td>0.000059</td><td>-0.246094</td><td>0.0</td><td>0.000059</td></tr><tr><td>&quot;1&quot;</td><td>10151</td><td>&quot;T&quot;</td><td>&quot;C&quot;</td><td>0.00411</td><td>0.787109</td><td>0.0</td><td>0.00411</td></tr><tr><td>&quot;1&quot;</td><td>10154</td><td>&quot;C&quot;</td><td>&quot;A&quot;</td><td>0.000036</td><td>-0.009766</td><td>0.0</td><td>0.000036</td></tr><tr><td>&quot;1&quot;</td><td>10159</td><td>&quot;A&quot;</td><td>&quot;G&quot;</td><td>0.000145</td><td>-0.479492</td><td>0.0</td><td>0.000145</td></tr><tr><td>&hellip;</td><td>&hellip;</td><td>&hellip;</td><td>&hellip;</td><td>&hellip;</td><td>&hellip;</td><td>&hellip;</td><td>&hellip;</td></tr><tr><td>&quot;Y&quot;</td><td>56887580</td><td>&quot;C&quot;</td><td>&quot;T&quot;</td><td>0.000929</td><td>2.395386</td><td>0.0</td><td>0.000929</td></tr><tr><td>&quot;Y&quot;</td><td>56887581</td><td>&quot;G&quot;</td><td>&quot;A&quot;</td><td>0.000036</td><td>2.526123</td><td>0.0</td><td>0.000036</td></tr><tr><td>&quot;Y&quot;</td><td>56887584</td><td>&quot;A&quot;</td><td>&quot;G&quot;</td><td>0.000111</td><td>-0.251953</td><td>0.0</td><td>0.000111</td></tr><tr><td>&quot;Y&quot;</td><td>56887611</td><td>&quot;T&quot;</td><td>&quot;C&quot;</td><td>0.000039</td><td>-0.125</td><td>0.0</td><td>0.000039</td></tr><tr><td>&quot;Y&quot;</td><td>56887616</td><td>&quot;G&quot;</td><td>&quot;A&quot;</td><td>0.000079</td><td>0.170898</td><td>0.0</td><td>0.000079</td></tr><tr><td>&quot;Y&quot;</td><td>56887617</td><td>&quot;C&quot;</td><td>&quot;T&quot;</td><td>0.000119</td><td>0.249023</td><td>0.0</td><td>0.000119</td></tr><tr><td>&quot;Y&quot;</td><td>56887631</td><td>&quot;C&quot;</td><td>&quot;T&quot;</td><td>0.003357</td><td>0.545898</td><td>0.0</td><td>0.003357</td></tr><tr><td>&quot;Y&quot;</td><td>56887645</td><td>&quot;C&quot;</td><td>&quot;A&quot;</td><td>0.000044</td><td>0.4609375</td><td>0.0</td><td>0.000044</td></tr><tr><td>&quot;Y&quot;</td><td>56887664</td><td>&quot;G&quot;</td><td>&quot;A&quot;</td><td>0.000094</td><td>0.205078</td><td>0.0</td><td>0.000094</td></tr><tr><td>&quot;Y&quot;</td><td>56887696</td><td>&quot;G&quot;</td><td>&quot;T&quot;</td><td>0.000054</td><td>0.0234375</td><td>0.0</td><td>0.000054</td></tr><tr><td>&quot;Y&quot;</td><td>56887702</td><td>&quot;G&quot;</td><td>&quot;A&quot;</td><td>0.000164</td><td>2.310791</td><td>0.0</td><td>0.000164</td></tr><tr><td>&quot;Y&quot;</td><td>56887731</td><td>&quot;A&quot;</td><td>&quot;G&quot;</td><td>0.00018</td><td>0.286133</td><td>0.0</td><td>0.00018</td></tr></tbody></table></div>"
      ],
      "text/plain": [
       "shape: (488_699_771, 8)\n",
       "┌───────┬──────────┬─────┬─────┬──────────┬───────────┬─────┬──────────┐\n",
       "│ chrom ┆ pos      ┆ ref ┆ alt ┆ AF       ┆ GPN-MSA   ┆ MSA ┆ MAF      │\n",
       "│ ---   ┆ ---      ┆ --- ┆ --- ┆ ---      ┆ ---       ┆ --- ┆ ---      │\n",
       "│ str   ┆ i64      ┆ str ┆ str ┆ f64      ┆ f32       ┆ f64 ┆ f64      │\n",
       "╞═══════╪══════════╪═════╪═════╪══════════╪═══════════╪═════╪══════════╡\n",
       "│ 1     ┆ 10111    ┆ C   ┆ A   ┆ 0.000023 ┆ -0.017578 ┆ 0.0 ┆ 0.000023 │\n",
       "│ 1     ┆ 10131    ┆ C   ┆ A   ┆ 0.000009 ┆ -0.347656 ┆ 0.0 ┆ 0.000009 │\n",
       "│ 1     ┆ 10132    ┆ T   ┆ C   ┆ 0.000263 ┆ 0.884766  ┆ 0.0 ┆ 0.000263 │\n",
       "│ 1     ┆ 10139    ┆ A   ┆ T   ┆ 0.000017 ┆ -0.432617 ┆ 0.0 ┆ 0.000017 │\n",
       "│ 1     ┆ 10140    ┆ A   ┆ C   ┆ 0.000028 ┆ 0.074219  ┆ 0.0 ┆ 0.000028 │\n",
       "│ …     ┆ …        ┆ …   ┆ …   ┆ …        ┆ …         ┆ …   ┆ …        │\n",
       "│ Y     ┆ 56887645 ┆ C   ┆ A   ┆ 0.000044 ┆ 0.4609375 ┆ 0.0 ┆ 0.000044 │\n",
       "│ Y     ┆ 56887664 ┆ G   ┆ A   ┆ 0.000094 ┆ 0.205078  ┆ 0.0 ┆ 0.000094 │\n",
       "│ Y     ┆ 56887696 ┆ G   ┆ T   ┆ 0.000054 ┆ 0.0234375 ┆ 0.0 ┆ 0.000054 │\n",
       "│ Y     ┆ 56887702 ┆ G   ┆ A   ┆ 0.000164 ┆ 2.310791  ┆ 0.0 ┆ 0.000164 │\n",
       "│ Y     ┆ 56887731 ┆ A   ┆ G   ┆ 0.00018  ┆ 0.286133  ┆ 0.0 ┆ 0.00018  │\n",
       "└───────┴──────────┴─────┴─────┴──────────┴───────────┴─────┴──────────┘"
      ]
     },
     "execution_count": 6,
     "metadata": {},
     "output_type": "execute_result"
    }
   ],
   "source": [
    "# fold AF and scores\n",
    "V = V.with_columns(\n",
    "    pl.when(pl.col(\"AF\") <= 0.5).then(pl.col(\"AF\")).otherwise(1 - pl.col(\"AF\")).alias(\"MAF\")\n",
    ")\n",
    "for model in models:\n",
    "    V = V.with_columns(\n",
    "        pl.when(pl.col(\"AF\") <= 0.5).then(pl.col(model)).otherwise(-pl.col(model))\n",
    "    )\n",
    "V"
   ]
  },
  {
   "cell_type": "code",
   "execution_count": 7,
   "id": "192aed4c-cae1-4c49-ba35-465949e7a002",
   "metadata": {
    "tags": []
   },
   "outputs": [
    {
     "data": {
      "text/plain": [
       "(488699715, 8)"
      ]
     },
     "execution_count": 7,
     "metadata": {},
     "output_type": "execute_result"
    }
   ],
   "source": [
    "V = V.drop_nulls(subset=models)\n",
    "V.shape"
   ]
  },
  {
   "cell_type": "markdown",
   "id": "f903b0e7-37a1-4db3-9492-c3c3ca5b8c86",
   "metadata": {
    "user_expressions": []
   },
   "source": [
    "## First version"
   ]
  },
  {
   "cell_type": "code",
   "execution_count": 31,
   "id": "8ae53252-78f5-4d56-8379-bb8dff505454",
   "metadata": {
    "tags": []
   },
   "outputs": [
    {
     "data": {
      "text/html": [
       "<div>\n",
       "<style scoped>\n",
       "    .dataframe tbody tr th:only-of-type {\n",
       "        vertical-align: middle;\n",
       "    }\n",
       "\n",
       "    .dataframe tbody tr th {\n",
       "        vertical-align: top;\n",
       "    }\n",
       "\n",
       "    .dataframe thead th {\n",
       "        text-align: right;\n",
       "    }\n",
       "</style>\n",
       "<table border=\"1\" class=\"dataframe\">\n",
       "  <thead>\n",
       "    <tr style=\"text-align: right;\">\n",
       "      <th></th>\n",
       "      <th>score_bin</th>\n",
       "      <th>MAF-mean</th>\n",
       "      <th>MAF-count</th>\n",
       "      <th>Model</th>\n",
       "    </tr>\n",
       "  </thead>\n",
       "  <tbody>\n",
       "    <tr>\n",
       "      <th>0</th>\n",
       "      <td>-14.0</td>\n",
       "      <td>0.000009</td>\n",
       "      <td>76</td>\n",
       "      <td>GPN-MSA</td>\n",
       "    </tr>\n",
       "    <tr>\n",
       "      <th>1</th>\n",
       "      <td>-13.0</td>\n",
       "      <td>0.000061</td>\n",
       "      <td>11143</td>\n",
       "      <td>GPN-MSA</td>\n",
       "    </tr>\n",
       "    <tr>\n",
       "      <th>2</th>\n",
       "      <td>-12.0</td>\n",
       "      <td>0.000040</td>\n",
       "      <td>63281</td>\n",
       "      <td>GPN-MSA</td>\n",
       "    </tr>\n",
       "    <tr>\n",
       "      <th>3</th>\n",
       "      <td>-11.0</td>\n",
       "      <td>0.000081</td>\n",
       "      <td>155347</td>\n",
       "      <td>GPN-MSA</td>\n",
       "    </tr>\n",
       "    <tr>\n",
       "      <th>4</th>\n",
       "      <td>-10.0</td>\n",
       "      <td>0.000147</td>\n",
       "      <td>265247</td>\n",
       "      <td>GPN-MSA</td>\n",
       "    </tr>\n",
       "    <tr>\n",
       "      <th>5</th>\n",
       "      <td>-9.0</td>\n",
       "      <td>0.000236</td>\n",
       "      <td>431772</td>\n",
       "      <td>GPN-MSA</td>\n",
       "    </tr>\n",
       "    <tr>\n",
       "      <th>6</th>\n",
       "      <td>-8.0</td>\n",
       "      <td>0.000444</td>\n",
       "      <td>756581</td>\n",
       "      <td>GPN-MSA</td>\n",
       "    </tr>\n",
       "    <tr>\n",
       "      <th>7</th>\n",
       "      <td>-7.0</td>\n",
       "      <td>0.000794</td>\n",
       "      <td>1538679</td>\n",
       "      <td>GPN-MSA</td>\n",
       "    </tr>\n",
       "    <tr>\n",
       "      <th>8</th>\n",
       "      <td>-6.0</td>\n",
       "      <td>0.001151</td>\n",
       "      <td>3788514</td>\n",
       "      <td>GPN-MSA</td>\n",
       "    </tr>\n",
       "    <tr>\n",
       "      <th>9</th>\n",
       "      <td>-5.0</td>\n",
       "      <td>0.001504</td>\n",
       "      <td>9146503</td>\n",
       "      <td>GPN-MSA</td>\n",
       "    </tr>\n",
       "    <tr>\n",
       "      <th>10</th>\n",
       "      <td>-4.0</td>\n",
       "      <td>0.001766</td>\n",
       "      <td>17682635</td>\n",
       "      <td>GPN-MSA</td>\n",
       "    </tr>\n",
       "    <tr>\n",
       "      <th>11</th>\n",
       "      <td>-3.0</td>\n",
       "      <td>0.001999</td>\n",
       "      <td>29934732</td>\n",
       "      <td>GPN-MSA</td>\n",
       "    </tr>\n",
       "    <tr>\n",
       "      <th>12</th>\n",
       "      <td>-2.0</td>\n",
       "      <td>0.002097</td>\n",
       "      <td>95714397</td>\n",
       "      <td>GPN-MSA</td>\n",
       "    </tr>\n",
       "    <tr>\n",
       "      <th>13</th>\n",
       "      <td>-1.0</td>\n",
       "      <td>0.002403</td>\n",
       "      <td>167020479</td>\n",
       "      <td>GPN-MSA</td>\n",
       "    </tr>\n",
       "    <tr>\n",
       "      <th>14</th>\n",
       "      <td>0.0</td>\n",
       "      <td>0.003508</td>\n",
       "      <td>108849535</td>\n",
       "      <td>GPN-MSA</td>\n",
       "    </tr>\n",
       "    <tr>\n",
       "      <th>15</th>\n",
       "      <td>1.0</td>\n",
       "      <td>0.006942</td>\n",
       "      <td>37552481</td>\n",
       "      <td>GPN-MSA</td>\n",
       "    </tr>\n",
       "    <tr>\n",
       "      <th>16</th>\n",
       "      <td>2.0</td>\n",
       "      <td>0.010066</td>\n",
       "      <td>11836700</td>\n",
       "      <td>GPN-MSA</td>\n",
       "    </tr>\n",
       "    <tr>\n",
       "      <th>17</th>\n",
       "      <td>3.0</td>\n",
       "      <td>0.011983</td>\n",
       "      <td>2707830</td>\n",
       "      <td>GPN-MSA</td>\n",
       "    </tr>\n",
       "    <tr>\n",
       "      <th>18</th>\n",
       "      <td>4.0</td>\n",
       "      <td>0.015851</td>\n",
       "      <td>937719</td>\n",
       "      <td>GPN-MSA</td>\n",
       "    </tr>\n",
       "    <tr>\n",
       "      <th>19</th>\n",
       "      <td>5.0</td>\n",
       "      <td>0.022359</td>\n",
       "      <td>262022</td>\n",
       "      <td>GPN-MSA</td>\n",
       "    </tr>\n",
       "    <tr>\n",
       "      <th>20</th>\n",
       "      <td>6.0</td>\n",
       "      <td>0.041284</td>\n",
       "      <td>37002</td>\n",
       "      <td>GPN-MSA</td>\n",
       "    </tr>\n",
       "    <tr>\n",
       "      <th>21</th>\n",
       "      <td>7.0</td>\n",
       "      <td>0.062203</td>\n",
       "      <td>5514</td>\n",
       "      <td>GPN-MSA</td>\n",
       "    </tr>\n",
       "    <tr>\n",
       "      <th>22</th>\n",
       "      <td>8.0</td>\n",
       "      <td>0.077183</td>\n",
       "      <td>1155</td>\n",
       "      <td>GPN-MSA</td>\n",
       "    </tr>\n",
       "    <tr>\n",
       "      <th>23</th>\n",
       "      <td>9.0</td>\n",
       "      <td>0.076061</td>\n",
       "      <td>276</td>\n",
       "      <td>GPN-MSA</td>\n",
       "    </tr>\n",
       "    <tr>\n",
       "      <th>24</th>\n",
       "      <td>10.0</td>\n",
       "      <td>0.055964</td>\n",
       "      <td>74</td>\n",
       "      <td>GPN-MSA</td>\n",
       "    </tr>\n",
       "    <tr>\n",
       "      <th>25</th>\n",
       "      <td>11.0</td>\n",
       "      <td>0.070193</td>\n",
       "      <td>19</td>\n",
       "      <td>GPN-MSA</td>\n",
       "    </tr>\n",
       "    <tr>\n",
       "      <th>26</th>\n",
       "      <td>-4.0</td>\n",
       "      <td>0.001430</td>\n",
       "      <td>19119042</td>\n",
       "      <td>MSA</td>\n",
       "    </tr>\n",
       "    <tr>\n",
       "      <th>27</th>\n",
       "      <td>-3.0</td>\n",
       "      <td>0.001849</td>\n",
       "      <td>72736642</td>\n",
       "      <td>MSA</td>\n",
       "    </tr>\n",
       "    <tr>\n",
       "      <th>28</th>\n",
       "      <td>-2.0</td>\n",
       "      <td>0.002131</td>\n",
       "      <td>105238217</td>\n",
       "      <td>MSA</td>\n",
       "    </tr>\n",
       "    <tr>\n",
       "      <th>29</th>\n",
       "      <td>-1.0</td>\n",
       "      <td>0.002550</td>\n",
       "      <td>99263138</td>\n",
       "      <td>MSA</td>\n",
       "    </tr>\n",
       "    <tr>\n",
       "      <th>30</th>\n",
       "      <td>0.0</td>\n",
       "      <td>0.003554</td>\n",
       "      <td>153134248</td>\n",
       "      <td>MSA</td>\n",
       "    </tr>\n",
       "    <tr>\n",
       "      <th>31</th>\n",
       "      <td>1.0</td>\n",
       "      <td>0.006584</td>\n",
       "      <td>23959241</td>\n",
       "      <td>MSA</td>\n",
       "    </tr>\n",
       "    <tr>\n",
       "      <th>32</th>\n",
       "      <td>2.0</td>\n",
       "      <td>0.010770</td>\n",
       "      <td>10708053</td>\n",
       "      <td>MSA</td>\n",
       "    </tr>\n",
       "    <tr>\n",
       "      <th>33</th>\n",
       "      <td>3.0</td>\n",
       "      <td>0.015531</td>\n",
       "      <td>4000821</td>\n",
       "      <td>MSA</td>\n",
       "    </tr>\n",
       "    <tr>\n",
       "      <th>34</th>\n",
       "      <td>4.0</td>\n",
       "      <td>0.020763</td>\n",
       "      <td>540313</td>\n",
       "      <td>MSA</td>\n",
       "    </tr>\n",
       "  </tbody>\n",
       "</table>\n",
       "</div>"
      ],
      "text/plain": [
       "    score_bin  MAF-mean  MAF-count    Model\n",
       "0       -14.0  0.000009         76  GPN-MSA\n",
       "1       -13.0  0.000061      11143  GPN-MSA\n",
       "2       -12.0  0.000040      63281  GPN-MSA\n",
       "3       -11.0  0.000081     155347  GPN-MSA\n",
       "4       -10.0  0.000147     265247  GPN-MSA\n",
       "5        -9.0  0.000236     431772  GPN-MSA\n",
       "6        -8.0  0.000444     756581  GPN-MSA\n",
       "7        -7.0  0.000794    1538679  GPN-MSA\n",
       "8        -6.0  0.001151    3788514  GPN-MSA\n",
       "9        -5.0  0.001504    9146503  GPN-MSA\n",
       "10       -4.0  0.001766   17682635  GPN-MSA\n",
       "11       -3.0  0.001999   29934732  GPN-MSA\n",
       "12       -2.0  0.002097   95714397  GPN-MSA\n",
       "13       -1.0  0.002403  167020479  GPN-MSA\n",
       "14        0.0  0.003508  108849535  GPN-MSA\n",
       "15        1.0  0.006942   37552481  GPN-MSA\n",
       "16        2.0  0.010066   11836700  GPN-MSA\n",
       "17        3.0  0.011983    2707830  GPN-MSA\n",
       "18        4.0  0.015851     937719  GPN-MSA\n",
       "19        5.0  0.022359     262022  GPN-MSA\n",
       "20        6.0  0.041284      37002  GPN-MSA\n",
       "21        7.0  0.062203       5514  GPN-MSA\n",
       "22        8.0  0.077183       1155  GPN-MSA\n",
       "23        9.0  0.076061        276  GPN-MSA\n",
       "24       10.0  0.055964         74  GPN-MSA\n",
       "25       11.0  0.070193         19  GPN-MSA\n",
       "26       -4.0  0.001430   19119042      MSA\n",
       "27       -3.0  0.001849   72736642      MSA\n",
       "28       -2.0  0.002131  105238217      MSA\n",
       "29       -1.0  0.002550   99263138      MSA\n",
       "30        0.0  0.003554  153134248      MSA\n",
       "31        1.0  0.006584   23959241      MSA\n",
       "32        2.0  0.010770   10708053      MSA\n",
       "33        3.0  0.015531    4000821      MSA\n",
       "34        4.0  0.020763     540313      MSA"
      ]
     },
     "execution_count": 31,
     "metadata": {},
     "output_type": "execute_result"
    }
   ],
   "source": [
    "breaks = np.arange(-15.5, 12.5)\n",
    "bins = breaks + 0.5\n",
    "\n",
    "dfs = []\n",
    "\n",
    "for model in models:\n",
    "    V_m = V.with_columns(\n",
    "        (pl.col(model).cut(breaks, include_breaks=True).struct.field(\"brk\") - 0.5).alias(\"score_bin\")\n",
    "    ).filter(pl.col(\"score_bin\").is_in(bins))\n",
    "    df = (\n",
    "        V_m.group_by(\"score_bin\")\n",
    "        .agg(pl.mean(\"MAF\").alias(\"MAF-mean\"), pl.count(\"MAF\").alias(\"MAF-count\"))\n",
    "        .sort(\"score_bin\")\n",
    "        .to_pandas()\n",
    "    )\n",
    "    df[\"Model\"] = model\n",
    "    dfs.append(df)\n",
    "df = pd.concat(dfs, ignore_index=True)\n",
    "df"
   ]
  },
  {
   "cell_type": "code",
   "execution_count": 33,
   "id": "6058f568-bedf-4ade-aa9d-bc2e758e8bc3",
   "metadata": {
    "tags": []
   },
   "outputs": [
    {
     "data": {
      "image/png": "[encoded data removed]",
      "text/plain": [
       "<Figure size 144x144 with 1 Axes>"
      ]
     },
     "metadata": {
      "needs_background": "light"
     },
     "output_type": "display_data"
    }
   ],
   "source": [
    "plt.figure(figsize=(2,2))\n",
    "g = sns.lineplot(\n",
    "    #data=df[df[\"MAF-count\"] >= 1000].replace(\"MSA\", \"MSA column\"),\n",
    "    data=df[(df[\"MAF-count\"] >= 1000) & (df.Model==\"GPN-MSA\")],\n",
    "    x=\"score_bin\",\n",
    "    y=\"MAF-mean\",\n",
    "    #hue=\"Model\",\n",
    "    errorbar=None,\n",
    "    #palette=sns.color_palette(\"tab20\")[:2],\n",
    ")\n",
    "plt.xlabel(\"GPN-MSA score bin\")\n",
    "#plt.xlabel(\"Log-likelihood ratio\")\n",
    "plt.ylabel(\"Mean MAF\")\n",
    "#title = f\"gnomAD bi-allelic\\nn={format_number(len(V))}\"\n",
    "title = f\"gnomAD (n={format_number(len(V))})\"\n",
    "plt.title(title)\n",
    "#sns.move_legend(g, \"upper left\", bbox_to_anchor=(1, 1))\n",
    "sns.despine();\n",
    "g.set(yscale='log');\n",
    "plt.xticks([-10, -5, 0, 5]);\n",
    "#plt.savefig(plot_dir + \"gnomad_full_score_vs_maf.pdf\", bbox_inches=\"tight\")"
   ]
  },
  {
   "cell_type": "markdown",
   "id": "c1d781ea-f00b-4b2c-a094-4320e8c21209",
   "metadata": {
    "tags": [],
    "user_expressions": []
   },
   "source": [
    "## Quantile version"
   ]
  },
  {
   "cell_type": "code",
   "execution_count": 8,
   "id": "8057f255-ceab-439a-906e-9e6f97bb583f",
   "metadata": {
    "tags": []
   },
   "outputs": [],
   "source": [
    "from itertools import pairwise\n",
    "\n",
    "def min_nonzero_dist(x):\n",
    "    return min([b-a for a, b in pairwise(x.sort()) if a != b])"
   ]
  },
  {
   "cell_type": "code",
   "execution_count": 9,
   "id": "7514dad8-4c7d-4b7f-88dd-62191f45e9bd",
   "metadata": {
    "tags": []
   },
   "outputs": [
    {
     "data": {
      "text/plain": [
       "1.862645149230957e-09"
      ]
     },
     "execution_count": 9,
     "metadata": {},
     "output_type": "execute_result"
    }
   ],
   "source": [
    "min_nonzero_dist(V[\"GPN-MSA\"])"
   ]
  },
  {
   "cell_type": "code",
   "execution_count": 10,
   "id": "65ab38cf-33f2-4216-9b5e-dd0968410c51",
   "metadata": {
    "tags": []
   },
   "outputs": [
    {
     "data": {
      "text/plain": [
       "0.0004939491332834889"
      ]
     },
     "execution_count": 10,
     "metadata": {},
     "output_type": "execute_result"
    }
   ],
   "source": [
    "min_nonzero_dist(V[\"MSA\"])"
   ]
  },
  {
   "cell_type": "code",
   "execution_count": 11,
   "id": "ba22f86d-d06c-4d41-b20b-f81748c94bda",
   "metadata": {
    "tags": []
   },
   "outputs": [],
   "source": [
    "generator = np.random.default_rng(seed=42)\n",
    "random_noise = generator.normal(0, 1e-8, len(V))"
   ]
  },
  {
   "cell_type": "code",
   "execution_count": 12,
   "id": "3050db21-eab2-4e6e-bbb6-991cb43d4173",
   "metadata": {
    "tags": []
   },
   "outputs": [
    {
     "data": {
      "text/plain": [
       "48869.9715"
      ]
     },
     "execution_count": 12,
     "metadata": {},
     "output_type": "execute_result"
    }
   ],
   "source": [
    "len(V) / 10_000"
   ]
  },
  {
   "cell_type": "code",
   "execution_count": 13,
   "id": "9b70787e-49c3-4116-af2a-59179f364e5a",
   "metadata": {
    "tags": []
   },
   "outputs": [
    {
     "data": {
      "text/plain": [
       "4886.99715"
      ]
     },
     "execution_count": 13,
     "metadata": {},
     "output_type": "execute_result"
    }
   ],
   "source": [
    "len(V) / 100_000"
   ]
  },
  {
   "cell_type": "code",
   "execution_count": 14,
   "id": "005447e1-ff71-4752-8330-b9ffd0978fdd",
   "metadata": {
    "tags": []
   },
   "outputs": [
    {
     "data": {
      "text/html": [
       "<div>\n",
       "<style scoped>\n",
       "    .dataframe tbody tr th:only-of-type {\n",
       "        vertical-align: middle;\n",
       "    }\n",
       "\n",
       "    .dataframe tbody tr th {\n",
       "        vertical-align: top;\n",
       "    }\n",
       "\n",
       "    .dataframe thead th {\n",
       "        text-align: right;\n",
       "    }\n",
       "</style>\n",
       "<table border=\"1\" class=\"dataframe\">\n",
       "  <thead>\n",
       "    <tr style=\"text-align: right;\">\n",
       "      <th></th>\n",
       "      <th>score_bin</th>\n",
       "      <th>Mean MAF</th>\n",
       "      <th>Count</th>\n",
       "      <th>Model</th>\n",
       "    </tr>\n",
       "  </thead>\n",
       "  <tbody>\n",
       "    <tr>\n",
       "      <th>0</th>\n",
       "      <td>0.000001</td>\n",
       "      <td>0.000013</td>\n",
       "      <td>489</td>\n",
       "      <td>GPN-MSA</td>\n",
       "    </tr>\n",
       "    <tr>\n",
       "      <th>1</th>\n",
       "      <td>0.000010</td>\n",
       "      <td>0.000025</td>\n",
       "      <td>4398</td>\n",
       "      <td>GPN-MSA</td>\n",
       "    </tr>\n",
       "    <tr>\n",
       "      <th>2</th>\n",
       "      <td>0.000100</td>\n",
       "      <td>0.000040</td>\n",
       "      <td>43983</td>\n",
       "      <td>GPN-MSA</td>\n",
       "    </tr>\n",
       "    <tr>\n",
       "      <th>3</th>\n",
       "      <td>0.001000</td>\n",
       "      <td>0.000119</td>\n",
       "      <td>439830</td>\n",
       "      <td>GPN-MSA</td>\n",
       "    </tr>\n",
       "    <tr>\n",
       "      <th>4</th>\n",
       "      <td>0.010000</td>\n",
       "      <td>0.000770</td>\n",
       "      <td>4398298</td>\n",
       "      <td>GPN-MSA</td>\n",
       "    </tr>\n",
       "    <tr>\n",
       "      <th>5</th>\n",
       "      <td>0.100000</td>\n",
       "      <td>0.001738</td>\n",
       "      <td>43982974</td>\n",
       "      <td>GPN-MSA</td>\n",
       "    </tr>\n",
       "    <tr>\n",
       "      <th>6</th>\n",
       "      <td>1.000000</td>\n",
       "      <td>0.003297</td>\n",
       "      <td>439829743</td>\n",
       "      <td>GPN-MSA</td>\n",
       "    </tr>\n",
       "    <tr>\n",
       "      <th>7</th>\n",
       "      <td>0.000001</td>\n",
       "      <td>0.000128</td>\n",
       "      <td>489</td>\n",
       "      <td>MSA</td>\n",
       "    </tr>\n",
       "    <tr>\n",
       "      <th>8</th>\n",
       "      <td>0.000010</td>\n",
       "      <td>0.000194</td>\n",
       "      <td>4398</td>\n",
       "      <td>MSA</td>\n",
       "    </tr>\n",
       "    <tr>\n",
       "      <th>9</th>\n",
       "      <td>0.000100</td>\n",
       "      <td>0.000171</td>\n",
       "      <td>43983</td>\n",
       "      <td>MSA</td>\n",
       "    </tr>\n",
       "    <tr>\n",
       "      <th>10</th>\n",
       "      <td>0.001000</td>\n",
       "      <td>0.000191</td>\n",
       "      <td>439830</td>\n",
       "      <td>MSA</td>\n",
       "    </tr>\n",
       "    <tr>\n",
       "      <th>11</th>\n",
       "      <td>0.010000</td>\n",
       "      <td>0.001012</td>\n",
       "      <td>4398298</td>\n",
       "      <td>MSA</td>\n",
       "    </tr>\n",
       "    <tr>\n",
       "      <th>12</th>\n",
       "      <td>0.100000</td>\n",
       "      <td>0.001713</td>\n",
       "      <td>43982974</td>\n",
       "      <td>MSA</td>\n",
       "    </tr>\n",
       "    <tr>\n",
       "      <th>13</th>\n",
       "      <td>1.000000</td>\n",
       "      <td>0.003297</td>\n",
       "      <td>439829743</td>\n",
       "      <td>MSA</td>\n",
       "    </tr>\n",
       "  </tbody>\n",
       "</table>\n",
       "</div>"
      ],
      "text/plain": [
       "    score_bin  Mean MAF      Count    Model\n",
       "0    0.000001  0.000013        489  GPN-MSA\n",
       "1    0.000010  0.000025       4398  GPN-MSA\n",
       "2    0.000100  0.000040      43983  GPN-MSA\n",
       "3    0.001000  0.000119     439830  GPN-MSA\n",
       "4    0.010000  0.000770    4398298  GPN-MSA\n",
       "5    0.100000  0.001738   43982974  GPN-MSA\n",
       "6    1.000000  0.003297  439829743  GPN-MSA\n",
       "7    0.000001  0.000128        489      MSA\n",
       "8    0.000010  0.000194       4398      MSA\n",
       "9    0.000100  0.000171      43983      MSA\n",
       "10   0.001000  0.000191     439830      MSA\n",
       "11   0.010000  0.001012    4398298      MSA\n",
       "12   0.100000  0.001713   43982974      MSA\n",
       "13   1.000000  0.003297  439829743      MSA"
      ]
     },
     "execution_count": 14,
     "metadata": {},
     "output_type": "execute_result"
    }
   ],
   "source": [
    "quantiles = np.logspace(-6, 0, 7)\n",
    "labels = [str(x) for x in list(quantiles) + [\"np.inf\"]]\n",
    "\n",
    "dfs = []\n",
    "for model in models:\n",
    "    V_m = V.with_columns(\n",
    "        (pl.col(model) + random_noise).qcut(quantiles, labels=labels).cast(float).alias(\"score_bin\")\n",
    "    )\n",
    "    df = (\n",
    "        V_m.group_by(\"score_bin\")\n",
    "        .agg(pl.mean(\"MAF\").alias(\"Mean MAF\"), pl.count(\"MAF\").alias(\"Count\"))\n",
    "        .sort(\"score_bin\")\n",
    "        .to_pandas()\n",
    "    )\n",
    "    df[\"Model\"] = model\n",
    "    dfs.append(df)\n",
    "df = pd.concat(dfs, ignore_index=True)\n",
    "df"
   ]
  },
  {
   "cell_type": "code",
   "execution_count": 18,
   "id": "f5a36960-4bc4-4d2d-943c-9c2ea1826a33",
   "metadata": {
    "tags": []
   },
   "outputs": [
    {
     "data": {
      "image/png": "[encoded data removed]",
      "text/plain": [
       "<Figure size 108x108 with 1 Axes>"
      ]
     },
     "metadata": {
      "needs_background": "light"
     },
     "output_type": "display_data"
    }
   ],
   "source": [
    "plt.figure(figsize=(1.5,1.5))\n",
    "g = sns.lineplot(\n",
    "    data=df.replace(\"MSA\", \"MSA column\\nfrequency\"),\n",
    "    x=\"score_bin\",\n",
    "    y=\"Mean MAF\",\n",
    "    hue=\"Model\",\n",
    "    errorbar=None,\n",
    "    palette=sns.color_palette(\"tab20\")[:2],\n",
    "    marker=\"o\",\n",
    ")\n",
    "plt.xlabel(\"Score quantile\")\n",
    "#title = f\"gnomAD bi-allelic\\nn={format_number(len(V))}\"\n",
    "title = f\"gnomAD variants\\n(n={format_number(len(V))})\"\n",
    "plt.title(title)\n",
    "sns.move_legend(g, \"upper left\", bbox_to_anchor=(1, 1))\n",
    "sns.despine();\n",
    "g.set(\n",
    "    xscale=\"log\",\n",
    "    yscale='log',\n",
    "    xticks=quantiles[::2],\n",
    "    #xticklabels=[r\"$[0,10^{-6}]$\", r\"$(10^{-3},10^{-3}]$\", r\"$(10^{-1},1]$\"],\n",
    ");\n",
    "#plt.savefig(\"../../../results/plots/gnomad_vs_column.svg\", bbox_inches=\"tight\")"
   ]
  },
  {
   "cell_type": "code",
   "execution_count": 16,
   "id": "52e6976f-f79a-4bd0-a4d3-64f4a7a84200",
   "metadata": {
    "tags": []
   },
   "outputs": [
    {
     "data": {
      "text/plain": [
       "4"
      ]
     },
     "execution_count": 16,
     "metadata": {},
     "output_type": "execute_result"
    }
   ],
   "source": [
    "2+2"
   ]
  },
  {
   "cell_type": "markdown",
   "id": "eb5f9844-fd2b-4a70-af40-3df7412c3010",
   "metadata": {
    "user_expressions": []
   },
   "source": [
    "## third version, cut into 20 bins? (different ranges)"
   ]
  },
  {
   "cell_type": "code",
   "execution_count": 108,
   "id": "3e4ff8d9-c1b9-46c7-91cb-a0231e56d11b",
   "metadata": {
    "tags": []
   },
   "outputs": [
    {
     "data": {
      "text/html": [
       "<div>\n",
       "<style scoped>\n",
       "    .dataframe tbody tr th:only-of-type {\n",
       "        vertical-align: middle;\n",
       "    }\n",
       "\n",
       "    .dataframe tbody tr th {\n",
       "        vertical-align: top;\n",
       "    }\n",
       "\n",
       "    .dataframe thead th {\n",
       "        text-align: right;\n",
       "    }\n",
       "</style>\n",
       "<table border=\"1\" class=\"dataframe\">\n",
       "  <thead>\n",
       "    <tr style=\"text-align: right;\">\n",
       "      <th></th>\n",
       "      <th>score_bin</th>\n",
       "      <th>Mean MAF</th>\n",
       "      <th>count</th>\n",
       "      <th>Model</th>\n",
       "    </tr>\n",
       "  </thead>\n",
       "  <tbody>\n",
       "    <tr>\n",
       "      <th>0</th>\n",
       "      <td>1</td>\n",
       "      <td>0.000046</td>\n",
       "      <td>83575</td>\n",
       "      <td>GPN-MSA</td>\n",
       "    </tr>\n",
       "    <tr>\n",
       "      <th>1</th>\n",
       "      <td>2</td>\n",
       "      <td>0.000158</td>\n",
       "      <td>665578</td>\n",
       "      <td>GPN-MSA</td>\n",
       "    </tr>\n",
       "    <tr>\n",
       "      <th>2</th>\n",
       "      <td>3</td>\n",
       "      <td>0.000703</td>\n",
       "      <td>3014761</td>\n",
       "      <td>GPN-MSA</td>\n",
       "    </tr>\n",
       "    <tr>\n",
       "      <th>3</th>\n",
       "      <td>4</td>\n",
       "      <td>0.001580</td>\n",
       "      <td>25354398</td>\n",
       "      <td>GPN-MSA</td>\n",
       "    </tr>\n",
       "    <tr>\n",
       "      <th>4</th>\n",
       "      <td>5</td>\n",
       "      <td>0.002111</td>\n",
       "      <td>230503877</td>\n",
       "      <td>GPN-MSA</td>\n",
       "    </tr>\n",
       "    <tr>\n",
       "      <th>5</th>\n",
       "      <td>6</td>\n",
       "      <td>0.003757</td>\n",
       "      <td>210229749</td>\n",
       "      <td>GPN-MSA</td>\n",
       "    </tr>\n",
       "    <tr>\n",
       "      <th>6</th>\n",
       "      <td>7</td>\n",
       "      <td>0.010822</td>\n",
       "      <td>18164377</td>\n",
       "      <td>GPN-MSA</td>\n",
       "    </tr>\n",
       "    <tr>\n",
       "      <th>7</th>\n",
       "      <td>8</td>\n",
       "      <td>0.020575</td>\n",
       "      <td>676799</td>\n",
       "      <td>GPN-MSA</td>\n",
       "    </tr>\n",
       "    <tr>\n",
       "      <th>8</th>\n",
       "      <td>9</td>\n",
       "      <td>0.065631</td>\n",
       "      <td>6442</td>\n",
       "      <td>GPN-MSA</td>\n",
       "    </tr>\n",
       "    <tr>\n",
       "      <th>9</th>\n",
       "      <td>10</td>\n",
       "      <td>0.066042</td>\n",
       "      <td>159</td>\n",
       "      <td>GPN-MSA</td>\n",
       "    </tr>\n",
       "    <tr>\n",
       "      <th>10</th>\n",
       "      <td>1</td>\n",
       "      <td>0.001358</td>\n",
       "      <td>14443360</td>\n",
       "      <td>MSA</td>\n",
       "    </tr>\n",
       "    <tr>\n",
       "      <th>11</th>\n",
       "      <td>2</td>\n",
       "      <td>0.001807</td>\n",
       "      <td>60864584</td>\n",
       "      <td>MSA</td>\n",
       "    </tr>\n",
       "    <tr>\n",
       "      <th>12</th>\n",
       "      <td>3</td>\n",
       "      <td>0.002058</td>\n",
       "      <td>86546229</td>\n",
       "      <td>MSA</td>\n",
       "    </tr>\n",
       "    <tr>\n",
       "      <th>13</th>\n",
       "      <td>4</td>\n",
       "      <td>0.002343</td>\n",
       "      <td>92893661</td>\n",
       "      <td>MSA</td>\n",
       "    </tr>\n",
       "    <tr>\n",
       "      <th>14</th>\n",
       "      <td>5</td>\n",
       "      <td>0.003340</td>\n",
       "      <td>186834157</td>\n",
       "      <td>MSA</td>\n",
       "    </tr>\n",
       "    <tr>\n",
       "      <th>15</th>\n",
       "      <td>6</td>\n",
       "      <td>0.005214</td>\n",
       "      <td>21261277</td>\n",
       "      <td>MSA</td>\n",
       "    </tr>\n",
       "    <tr>\n",
       "      <th>16</th>\n",
       "      <td>7</td>\n",
       "      <td>0.008203</td>\n",
       "      <td>14981030</td>\n",
       "      <td>MSA</td>\n",
       "    </tr>\n",
       "    <tr>\n",
       "      <th>17</th>\n",
       "      <td>8</td>\n",
       "      <td>0.011890</td>\n",
       "      <td>7472081</td>\n",
       "      <td>MSA</td>\n",
       "    </tr>\n",
       "    <tr>\n",
       "      <th>18</th>\n",
       "      <td>9</td>\n",
       "      <td>0.016423</td>\n",
       "      <td>3034437</td>\n",
       "      <td>MSA</td>\n",
       "    </tr>\n",
       "    <tr>\n",
       "      <th>19</th>\n",
       "      <td>10</td>\n",
       "      <td>0.021586</td>\n",
       "      <td>368899</td>\n",
       "      <td>MSA</td>\n",
       "    </tr>\n",
       "  </tbody>\n",
       "</table>\n",
       "</div>"
      ],
      "text/plain": [
       "    score_bin  Mean MAF      count    Model\n",
       "0           1  0.000046      83575  GPN-MSA\n",
       "1           2  0.000158     665578  GPN-MSA\n",
       "2           3  0.000703    3014761  GPN-MSA\n",
       "3           4  0.001580   25354398  GPN-MSA\n",
       "4           5  0.002111  230503877  GPN-MSA\n",
       "5           6  0.003757  210229749  GPN-MSA\n",
       "6           7  0.010822   18164377  GPN-MSA\n",
       "7           8  0.020575     676799  GPN-MSA\n",
       "8           9  0.065631       6442  GPN-MSA\n",
       "9          10  0.066042        159  GPN-MSA\n",
       "10          1  0.001358   14443360      MSA\n",
       "11          2  0.001807   60864584      MSA\n",
       "12          3  0.002058   86546229      MSA\n",
       "13          4  0.002343   92893661      MSA\n",
       "14          5  0.003340  186834157      MSA\n",
       "15          6  0.005214   21261277      MSA\n",
       "16          7  0.008203   14981030      MSA\n",
       "17          8  0.011890    7472081      MSA\n",
       "18          9  0.016423    3034437      MSA\n",
       "19         10  0.021586     368899      MSA"
      ]
     },
     "execution_count": 108,
     "metadata": {},
     "output_type": "execute_result"
    }
   ],
   "source": [
    "dfs = []\n",
    "\n",
    "for model in models:\n",
    "    eps = 1e-4\n",
    "    breaks = np.linspace(V[model].min() - eps, V[model].max() + eps, 11)\n",
    "    labels = [str(i) for i in range(len(breaks) + 1)]\n",
    "    V_m = V.with_columns(\n",
    "        pl.col(model).cut(breaks, labels=labels).cast(int).alias(\"score_bin\")\n",
    "    )\n",
    "    df = (\n",
    "        V_m.group_by(\"score_bin\")\n",
    "        .agg(pl.mean(\"MAF\").alias(\"Mean MAF\"), pl.count(\"MAF\").alias(\"count\"))\n",
    "        .sort(\"score_bin\")\n",
    "        .to_pandas()\n",
    "    )\n",
    "    df[\"Model\"] = model\n",
    "    dfs.append(df)\n",
    "df = pd.concat(dfs, ignore_index=True)\n",
    "df"
   ]
  },
  {
   "cell_type": "code",
   "execution_count": 116,
   "id": "06b88e42-88e5-440a-af39-64f0328c74bc",
   "metadata": {
    "tags": []
   },
   "outputs": [
    {
     "data": {
      "image/png": "[encoded data removed]",
      "text/plain": [
       "<Figure size 144x144 with 1 Axes>"
      ]
     },
     "metadata": {
      "needs_background": "light"
     },
     "output_type": "display_data"
    }
   ],
   "source": [
    "plt.figure(figsize=(2,2))\n",
    "g = sns.lineplot(\n",
    "    data=df[df[\"count\"] >= 1000].replace(\"MSA\", \"MSA column\"),  # 100 or 1000\n",
    "    x=\"score_bin\",\n",
    "    y=\"Mean MAF\",\n",
    "    hue=\"Model\",\n",
    "    errorbar=None,\n",
    "    palette=sns.color_palette(\"tab20\")[:2],\n",
    ")\n",
    "plt.xlabel(\"Uniformly spaced score bin\")\n",
    "#plt.xlabel(\"Log-likelihood ratio\")\n",
    "#title = f\"gnomAD bi-allelic\\nn={format_number(len(V))}\"\n",
    "title = f\"gnomAD (n={format_number(len(V))})\"\n",
    "plt.title(title)\n",
    "sns.move_legend(g, \"upper left\", bbox_to_anchor=(1, 1))\n",
    "sns.despine();\n",
    "g.set(xticks=range(1, 11))\n",
    "g.set(yscale='log');"
   ]
  },
  {
   "cell_type": "code",
   "execution_count": 123,
   "id": "ac2daea1-8413-4a72-bcca-fc0c5ff09359",
   "metadata": {
    "tags": []
   },
   "outputs": [],
   "source": [
    "# maybe just do correlation"
   ]
  },
  {
   "cell_type": "code",
   "execution_count": 129,
   "id": "7a4df937-cddc-43e9-824a-58ca3b5f3c53",
   "metadata": {
    "tags": []
   },
   "outputs": [
    {
     "data": {
      "text/html": [
       "<div>\n",
       "<style scoped>\n",
       "    .dataframe tbody tr th:only-of-type {\n",
       "        vertical-align: middle;\n",
       "    }\n",
       "\n",
       "    .dataframe tbody tr th {\n",
       "        vertical-align: top;\n",
       "    }\n",
       "\n",
       "    .dataframe thead th {\n",
       "        text-align: right;\n",
       "    }\n",
       "</style>\n",
       "<table border=\"1\" class=\"dataframe\">\n",
       "  <thead>\n",
       "    <tr style=\"text-align: right;\">\n",
       "      <th></th>\n",
       "      <th>GPN-MSA</th>\n",
       "      <th>MSA</th>\n",
       "      <th>MAF</th>\n",
       "    </tr>\n",
       "  </thead>\n",
       "  <tbody>\n",
       "    <tr>\n",
       "      <th>0</th>\n",
       "      <td>-0.017578</td>\n",
       "      <td>0.0</td>\n",
       "      <td>0.000023</td>\n",
       "    </tr>\n",
       "    <tr>\n",
       "      <th>1</th>\n",
       "      <td>-0.347656</td>\n",
       "      <td>0.0</td>\n",
       "      <td>0.000009</td>\n",
       "    </tr>\n",
       "    <tr>\n",
       "      <th>2</th>\n",
       "      <td>0.884766</td>\n",
       "      <td>0.0</td>\n",
       "      <td>0.000263</td>\n",
       "    </tr>\n",
       "    <tr>\n",
       "      <th>3</th>\n",
       "      <td>-0.432617</td>\n",
       "      <td>0.0</td>\n",
       "      <td>0.000017</td>\n",
       "    </tr>\n",
       "    <tr>\n",
       "      <th>4</th>\n",
       "      <td>0.074219</td>\n",
       "      <td>0.0</td>\n",
       "      <td>0.000028</td>\n",
       "    </tr>\n",
       "    <tr>\n",
       "      <th>...</th>\n",
       "      <td>...</td>\n",
       "      <td>...</td>\n",
       "      <td>...</td>\n",
       "    </tr>\n",
       "    <tr>\n",
       "      <th>488699710</th>\n",
       "      <td>0.460938</td>\n",
       "      <td>0.0</td>\n",
       "      <td>0.000044</td>\n",
       "    </tr>\n",
       "    <tr>\n",
       "      <th>488699711</th>\n",
       "      <td>0.205078</td>\n",
       "      <td>0.0</td>\n",
       "      <td>0.000094</td>\n",
       "    </tr>\n",
       "    <tr>\n",
       "      <th>488699712</th>\n",
       "      <td>0.023438</td>\n",
       "      <td>0.0</td>\n",
       "      <td>0.000054</td>\n",
       "    </tr>\n",
       "    <tr>\n",
       "      <th>488699713</th>\n",
       "      <td>2.310791</td>\n",
       "      <td>0.0</td>\n",
       "      <td>0.000164</td>\n",
       "    </tr>\n",
       "    <tr>\n",
       "      <th>488699714</th>\n",
       "      <td>0.286133</td>\n",
       "      <td>0.0</td>\n",
       "      <td>0.000180</td>\n",
       "    </tr>\n",
       "  </tbody>\n",
       "</table>\n",
       "<p>488699715 rows × 3 columns</p>\n",
       "</div>"
      ],
      "text/plain": [
       "            GPN-MSA  MSA       MAF\n",
       "0         -0.017578  0.0  0.000023\n",
       "1         -0.347656  0.0  0.000009\n",
       "2          0.884766  0.0  0.000263\n",
       "3         -0.432617  0.0  0.000017\n",
       "4          0.074219  0.0  0.000028\n",
       "...             ...  ...       ...\n",
       "488699710  0.460938  0.0  0.000044\n",
       "488699711  0.205078  0.0  0.000094\n",
       "488699712  0.023438  0.0  0.000054\n",
       "488699713  2.310791  0.0  0.000164\n",
       "488699714  0.286133  0.0  0.000180\n",
       "\n",
       "[488699715 rows x 3 columns]"
      ]
     },
     "execution_count": 129,
     "metadata": {},
     "output_type": "execute_result"
    }
   ],
   "source": [
    "V2 = V.select(models + [\"MAF\"]).to_pandas()\n",
    "V2"
   ]
  }
 ],
 "metadata": {
  "kernelspec": {
   "display_name": "gpn",
   "language": "python",
   "name": "gpn"
  },
  "language_info": {
   "codemirror_mode": {
    "name": "ipython",
    "version": 3
   },
   "file_extension": ".py",
   "mimetype": "text/x-python",
   "name": "python",
   "nbconvert_exporter": "python",
   "pygments_lexer": "ipython3",
   "version": "3.11.3"
  }
 },
 "nbformat": 4,
 "nbformat_minor": 5
}
