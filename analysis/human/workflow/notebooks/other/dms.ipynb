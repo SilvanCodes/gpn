{
 "cells": [
  {
   "cell_type": "code",
   "execution_count": 1,
   "id": "4e09a707-5382-4917-a07f-d677745a4d5a",
   "metadata": {
    "tags": []
   },
   "outputs": [
    {
     "name": "stderr",
     "output_type": "stream",
     "text": [
      "/accounts/projects/yss/gbenegas/.local/lib/python3.11/site-packages/tqdm/auto.py:21: TqdmWarning: IProgress not found. Please update jupyter and ipywidgets. See https://ipywidgets.readthedocs.io/en/stable/user_install.html\n",
      "  from .autonotebook import tqdm as notebook_tqdm\n"
     ]
    }
   ],
   "source": [
    "import bioframe as bf\n",
    "from datasets import load_dataset\n",
    "import numpy as np\n",
    "import pandas as pd\n",
    "from pathlib import Path\n",
    "import matplotlib.pyplot as plt\n",
    "from scipy.stats import pearsonr, spearmanr\n",
    "import seaborn as sns\n",
    "from sklearn.cross_decomposition import PLSRegression\n",
    "from sklearn.decomposition import PCA\n",
    "from sklearn.ensemble import RandomForestClassifier\n",
    "from sklearn.linear_model import RidgeCV\n",
    "from sklearn.preprocessing import StandardScaler\n",
    "from sklearn.pipeline import Pipeline\n",
    "from sklearn.metrics import roc_auc_score, precision_recall_curve, auc, RocCurveDisplay, average_precision_score\n",
    "from tqdm import tqdm\n",
    "import warnings\n",
    "warnings.filterwarnings('ignore')"
   ]
  },
  {
   "cell_type": "code",
   "execution_count": 16,
   "id": "6fa3a18f-d635-434c-9e7c-bba2df05bad2",
   "metadata": {
    "tags": []
   },
   "outputs": [],
   "source": [
    "dataset_path = \"results/dms/merged\"\n",
    "plot_dir = \"../../results/plots/\""
   ]
  },
  {
   "cell_type": "code",
   "execution_count": 3,
   "id": "83996baa-6fa3-4b37-a746-2241809def51",
   "metadata": {
    "tags": []
   },
   "outputs": [
    {
     "data": {
      "text/html": [
       "<div>\n",
       "<style scoped>\n",
       "    .dataframe tbody tr th:only-of-type {\n",
       "        vertical-align: middle;\n",
       "    }\n",
       "\n",
       "    .dataframe tbody tr th {\n",
       "        vertical-align: top;\n",
       "    }\n",
       "\n",
       "    .dataframe thead th {\n",
       "        text-align: right;\n",
       "    }\n",
       "</style>\n",
       "<table border=\"1\" class=\"dataframe\">\n",
       "  <thead>\n",
       "    <tr style=\"text-align: right;\">\n",
       "      <th></th>\n",
       "      <th>chrom</th>\n",
       "      <th>pos</th>\n",
       "      <th>ref</th>\n",
       "      <th>alt</th>\n",
       "      <th>label</th>\n",
       "      <th>DMS</th>\n",
       "      <th>CADD</th>\n",
       "      <th>phyloP-100-vertebrates</th>\n",
       "      <th>phastCons-100-vertebrates</th>\n",
       "      <th>phyloP-241-mammals</th>\n",
       "      <th>GPN-MSA</th>\n",
       "      <th>ESM-1b</th>\n",
       "    </tr>\n",
       "  </thead>\n",
       "  <tbody>\n",
       "    <tr>\n",
       "      <th>0</th>\n",
       "      <td>1</td>\n",
       "      <td>11022277</td>\n",
       "      <td>G</td>\n",
       "      <td>A</td>\n",
       "      <td>0.030803</td>\n",
       "      <td>DMS_TADBP_HUMAN_Bolognesi_2019</td>\n",
       "      <td>-2.673625</td>\n",
       "      <td>-6.393</td>\n",
       "      <td>-1.0</td>\n",
       "      <td>-0.581</td>\n",
       "      <td>-10.109375</td>\n",
       "      <td>-5.665</td>\n",
       "    </tr>\n",
       "    <tr>\n",
       "      <th>1</th>\n",
       "      <td>1</td>\n",
       "      <td>11022277</td>\n",
       "      <td>G</td>\n",
       "      <td>C</td>\n",
       "      <td>-0.010471</td>\n",
       "      <td>DMS_TADBP_HUMAN_Bolognesi_2019</td>\n",
       "      <td>-3.286737</td>\n",
       "      <td>-6.393</td>\n",
       "      <td>-1.0</td>\n",
       "      <td>-0.581</td>\n",
       "      <td>-11.539062</td>\n",
       "      <td>-6.711</td>\n",
       "    </tr>\n",
       "    <tr>\n",
       "      <th>2</th>\n",
       "      <td>1</td>\n",
       "      <td>11022277</td>\n",
       "      <td>G</td>\n",
       "      <td>T</td>\n",
       "      <td>0.007680</td>\n",
       "      <td>DMS_TADBP_HUMAN_Bolognesi_2019</td>\n",
       "      <td>-4.006828</td>\n",
       "      <td>-6.393</td>\n",
       "      <td>-1.0</td>\n",
       "      <td>-0.581</td>\n",
       "      <td>-11.328125</td>\n",
       "      <td>-11.341</td>\n",
       "    </tr>\n",
       "    <tr>\n",
       "      <th>3</th>\n",
       "      <td>1</td>\n",
       "      <td>11022278</td>\n",
       "      <td>G</td>\n",
       "      <td>A</td>\n",
       "      <td>0.044342</td>\n",
       "      <td>DMS_TADBP_HUMAN_Bolognesi_2019</td>\n",
       "      <td>-2.628964</td>\n",
       "      <td>-7.618</td>\n",
       "      <td>-1.0</td>\n",
       "      <td>-0.581</td>\n",
       "      <td>-11.328125</td>\n",
       "      <td>-7.358</td>\n",
       "    </tr>\n",
       "    <tr>\n",
       "      <th>4</th>\n",
       "      <td>1</td>\n",
       "      <td>11022278</td>\n",
       "      <td>G</td>\n",
       "      <td>C</td>\n",
       "      <td>0.001282</td>\n",
       "      <td>DMS_TADBP_HUMAN_Bolognesi_2019</td>\n",
       "      <td>-2.423196</td>\n",
       "      <td>-7.618</td>\n",
       "      <td>-1.0</td>\n",
       "      <td>-0.581</td>\n",
       "      <td>-9.906250</td>\n",
       "      <td>-7.296</td>\n",
       "    </tr>\n",
       "    <tr>\n",
       "      <th>...</th>\n",
       "      <td>...</td>\n",
       "      <td>...</td>\n",
       "      <td>...</td>\n",
       "      <td>...</td>\n",
       "      <td>...</td>\n",
       "      <td>...</td>\n",
       "      <td>...</td>\n",
       "      <td>...</td>\n",
       "      <td>...</td>\n",
       "      <td>...</td>\n",
       "      <td>...</td>\n",
       "      <td>...</td>\n",
       "    </tr>\n",
       "    <tr>\n",
       "      <th>41306</th>\n",
       "      <td>22</td>\n",
       "      <td>21867436</td>\n",
       "      <td>G</td>\n",
       "      <td>C</td>\n",
       "      <td>-8.598136</td>\n",
       "      <td>DMS_MK01_HUMAN_Brenan_2016</td>\n",
       "      <td>-3.250944</td>\n",
       "      <td>-5.193</td>\n",
       "      <td>-1.0</td>\n",
       "      <td>-7.713</td>\n",
       "      <td>-10.539062</td>\n",
       "      <td>-6.981</td>\n",
       "    </tr>\n",
       "    <tr>\n",
       "      <th>41307</th>\n",
       "      <td>22</td>\n",
       "      <td>21867436</td>\n",
       "      <td>G</td>\n",
       "      <td>T</td>\n",
       "      <td>-5.301858</td>\n",
       "      <td>DMS_MK01_HUMAN_Brenan_2016</td>\n",
       "      <td>-3.433464</td>\n",
       "      <td>-5.193</td>\n",
       "      <td>-1.0</td>\n",
       "      <td>-7.713</td>\n",
       "      <td>-9.132812</td>\n",
       "      <td>-8.935</td>\n",
       "    </tr>\n",
       "    <tr>\n",
       "      <th>41308</th>\n",
       "      <td>22</td>\n",
       "      <td>21867437</td>\n",
       "      <td>C</td>\n",
       "      <td>A</td>\n",
       "      <td>-8.316191</td>\n",
       "      <td>DMS_MK01_HUMAN_Brenan_2016</td>\n",
       "      <td>-2.446545</td>\n",
       "      <td>-2.833</td>\n",
       "      <td>-1.0</td>\n",
       "      <td>-7.806</td>\n",
       "      <td>-9.390625</td>\n",
       "      <td>-3.772</td>\n",
       "    </tr>\n",
       "    <tr>\n",
       "      <th>41309</th>\n",
       "      <td>22</td>\n",
       "      <td>21867437</td>\n",
       "      <td>C</td>\n",
       "      <td>G</td>\n",
       "      <td>-8.520877</td>\n",
       "      <td>DMS_MK01_HUMAN_Brenan_2016</td>\n",
       "      <td>-3.304997</td>\n",
       "      <td>-2.833</td>\n",
       "      <td>-1.0</td>\n",
       "      <td>-7.806</td>\n",
       "      <td>-10.109375</td>\n",
       "      <td>-6.219</td>\n",
       "    </tr>\n",
       "    <tr>\n",
       "      <th>41310</th>\n",
       "      <td>22</td>\n",
       "      <td>21867437</td>\n",
       "      <td>C</td>\n",
       "      <td>T</td>\n",
       "      <td>-9.346828</td>\n",
       "      <td>DMS_MK01_HUMAN_Brenan_2016</td>\n",
       "      <td>-2.746260</td>\n",
       "      <td>-2.833</td>\n",
       "      <td>-1.0</td>\n",
       "      <td>-7.806</td>\n",
       "      <td>-8.632812</td>\n",
       "      <td>-6.694</td>\n",
       "    </tr>\n",
       "  </tbody>\n",
       "</table>\n",
       "<p>41311 rows × 12 columns</p>\n",
       "</div>"
      ],
      "text/plain": [
       "      chrom       pos ref alt     label                             DMS  \\\n",
       "0         1  11022277   G   A  0.030803  DMS_TADBP_HUMAN_Bolognesi_2019   \n",
       "1         1  11022277   G   C -0.010471  DMS_TADBP_HUMAN_Bolognesi_2019   \n",
       "2         1  11022277   G   T  0.007680  DMS_TADBP_HUMAN_Bolognesi_2019   \n",
       "3         1  11022278   G   A  0.044342  DMS_TADBP_HUMAN_Bolognesi_2019   \n",
       "4         1  11022278   G   C  0.001282  DMS_TADBP_HUMAN_Bolognesi_2019   \n",
       "...     ...       ...  ..  ..       ...                             ...   \n",
       "41306    22  21867436   G   C -8.598136      DMS_MK01_HUMAN_Brenan_2016   \n",
       "41307    22  21867436   G   T -5.301858      DMS_MK01_HUMAN_Brenan_2016   \n",
       "41308    22  21867437   C   A -8.316191      DMS_MK01_HUMAN_Brenan_2016   \n",
       "41309    22  21867437   C   G -8.520877      DMS_MK01_HUMAN_Brenan_2016   \n",
       "41310    22  21867437   C   T -9.346828      DMS_MK01_HUMAN_Brenan_2016   \n",
       "\n",
       "           CADD  phyloP-100-vertebrates  phastCons-100-vertebrates  \\\n",
       "0     -2.673625                  -6.393                       -1.0   \n",
       "1     -3.286737                  -6.393                       -1.0   \n",
       "2     -4.006828                  -6.393                       -1.0   \n",
       "3     -2.628964                  -7.618                       -1.0   \n",
       "4     -2.423196                  -7.618                       -1.0   \n",
       "...         ...                     ...                        ...   \n",
       "41306 -3.250944                  -5.193                       -1.0   \n",
       "41307 -3.433464                  -5.193                       -1.0   \n",
       "41308 -2.446545                  -2.833                       -1.0   \n",
       "41309 -3.304997                  -2.833                       -1.0   \n",
       "41310 -2.746260                  -2.833                       -1.0   \n",
       "\n",
       "       phyloP-241-mammals    GPN-MSA  ESM-1b  \n",
       "0                  -0.581 -10.109375  -5.665  \n",
       "1                  -0.581 -11.539062  -6.711  \n",
       "2                  -0.581 -11.328125 -11.341  \n",
       "3                  -0.581 -11.328125  -7.358  \n",
       "4                  -0.581  -9.906250  -7.296  \n",
       "...                   ...        ...     ...  \n",
       "41306              -7.713 -10.539062  -6.981  \n",
       "41307              -7.713  -9.132812  -8.935  \n",
       "41308              -7.806  -9.390625  -3.772  \n",
       "41309              -7.806 -10.109375  -6.219  \n",
       "41310              -7.806  -8.632812  -6.694  \n",
       "\n",
       "[41311 rows x 12 columns]"
      ]
     },
     "execution_count": 3,
     "metadata": {},
     "output_type": "execute_result"
    }
   ],
   "source": [
    "models = [\n",
    "    \"CADD.RawScore\",\n",
    "    \"phyloP\",\n",
    "    \"phastCons\",\n",
    "    \"phyloP-Zoonomia\",\n",
    "    \"multiz100way/89/128/64/True/defined.phastCons.percentile-75_0.05_0.001/medium/0.1/42/30000/True/True/True\",\n",
    "    \"ESM-1b\",\n",
    "]\n",
    "\n",
    "model_renaming = {\n",
    "    \"CADD.RawScore\": \"CADD\",\n",
    "    \"multiz100way/89/128/64/True/defined.phastCons.percentile-75_0.05_0.001/medium/0.1/42/30000/True/True/True\": \"GPN-MSA\",\n",
    "    \"phyloP\": \"phyloP-100-vertebrates\",\n",
    "    \"phastCons\": \"phastCons-100-vertebrates\",\n",
    "    \"phyloP-Zoonomia\": \"phyloP-241-mammals\",\n",
    "}\n",
    "\n",
    "V = load_dataset(f\"../../{dataset_path}\", split=\"test\").to_pandas()\n",
    "d = Path(f\"../../results/preds/{dataset_path}\")\n",
    "\n",
    "for m in models:\n",
    "    model_name = model_renaming.get(m, m)\n",
    "    model_path = d / f\"{m}.parquet\"\n",
    "    V[model_name] = pd.read_parquet(model_path)[\"score\"].values\n",
    "models = [model_renaming.get(m, m) for m in models]\n",
    "V"
   ]
  },
  {
   "cell_type": "code",
   "execution_count": 4,
   "id": "7339912c-e432-4ea8-abbd-75ef0d5c54fa",
   "metadata": {
    "tags": []
   },
   "outputs": [
    {
     "data": {
      "text/plain": [
       "(41279, 12)"
      ]
     },
     "execution_count": 4,
     "metadata": {},
     "output_type": "execute_result"
    }
   ],
   "source": [
    "V.dropna(subset=models, inplace=True)\n",
    "V.shape"
   ]
  },
  {
   "cell_type": "code",
   "execution_count": 5,
   "id": "ee24b696-7484-41c4-9ecd-8bd96739397d",
   "metadata": {
    "tags": []
   },
   "outputs": [
    {
     "data": {
      "text/html": [
       "<div>\n",
       "<style scoped>\n",
       "    .dataframe tbody tr th:only-of-type {\n",
       "        vertical-align: middle;\n",
       "    }\n",
       "\n",
       "    .dataframe tbody tr th {\n",
       "        vertical-align: top;\n",
       "    }\n",
       "\n",
       "    .dataframe thead th {\n",
       "        text-align: right;\n",
       "    }\n",
       "</style>\n",
       "<table border=\"1\" class=\"dataframe\">\n",
       "  <thead>\n",
       "    <tr style=\"text-align: right;\">\n",
       "      <th></th>\n",
       "      <th>DMS</th>\n",
       "      <th>Model</th>\n",
       "      <th>Spearman</th>\n",
       "    </tr>\n",
       "  </thead>\n",
       "  <tbody>\n",
       "    <tr>\n",
       "      <th>0</th>\n",
       "      <td>DMS_TADBP_HUMAN_Bolognesi_2019</td>\n",
       "      <td>CADD</td>\n",
       "      <td>0.046299</td>\n",
       "    </tr>\n",
       "    <tr>\n",
       "      <th>1</th>\n",
       "      <td>DMS_TADBP_HUMAN_Bolognesi_2019</td>\n",
       "      <td>phyloP-100-vertebrates</td>\n",
       "      <td>-0.068083</td>\n",
       "    </tr>\n",
       "    <tr>\n",
       "      <th>2</th>\n",
       "      <td>DMS_TADBP_HUMAN_Bolognesi_2019</td>\n",
       "      <td>phastCons-100-vertebrates</td>\n",
       "      <td>0.016584</td>\n",
       "    </tr>\n",
       "    <tr>\n",
       "      <th>3</th>\n",
       "      <td>DMS_TADBP_HUMAN_Bolognesi_2019</td>\n",
       "      <td>phyloP-241-mammals</td>\n",
       "      <td>0.077465</td>\n",
       "    </tr>\n",
       "    <tr>\n",
       "      <th>4</th>\n",
       "      <td>DMS_TADBP_HUMAN_Bolognesi_2019</td>\n",
       "      <td>GPN-MSA</td>\n",
       "      <td>-0.071710</td>\n",
       "    </tr>\n",
       "    <tr>\n",
       "      <th>...</th>\n",
       "      <td>...</td>\n",
       "      <td>...</td>\n",
       "      <td>...</td>\n",
       "    </tr>\n",
       "    <tr>\n",
       "      <th>181</th>\n",
       "      <td>DMS_MK01_HUMAN_Brenan_2016</td>\n",
       "      <td>phyloP-100-vertebrates</td>\n",
       "      <td>-0.017284</td>\n",
       "    </tr>\n",
       "    <tr>\n",
       "      <th>182</th>\n",
       "      <td>DMS_MK01_HUMAN_Brenan_2016</td>\n",
       "      <td>phastCons-100-vertebrates</td>\n",
       "      <td>-0.027703</td>\n",
       "    </tr>\n",
       "    <tr>\n",
       "      <th>183</th>\n",
       "      <td>DMS_MK01_HUMAN_Brenan_2016</td>\n",
       "      <td>phyloP-241-mammals</td>\n",
       "      <td>0.014495</td>\n",
       "    </tr>\n",
       "    <tr>\n",
       "      <th>184</th>\n",
       "      <td>DMS_MK01_HUMAN_Brenan_2016</td>\n",
       "      <td>GPN-MSA</td>\n",
       "      <td>0.150939</td>\n",
       "    </tr>\n",
       "    <tr>\n",
       "      <th>185</th>\n",
       "      <td>DMS_MK01_HUMAN_Brenan_2016</td>\n",
       "      <td>ESM-1b</td>\n",
       "      <td>0.085312</td>\n",
       "    </tr>\n",
       "  </tbody>\n",
       "</table>\n",
       "<p>186 rows × 3 columns</p>\n",
       "</div>"
      ],
      "text/plain": [
       "                                DMS                      Model  Spearman\n",
       "0    DMS_TADBP_HUMAN_Bolognesi_2019                       CADD  0.046299\n",
       "1    DMS_TADBP_HUMAN_Bolognesi_2019     phyloP-100-vertebrates -0.068083\n",
       "2    DMS_TADBP_HUMAN_Bolognesi_2019  phastCons-100-vertebrates  0.016584\n",
       "3    DMS_TADBP_HUMAN_Bolognesi_2019         phyloP-241-mammals  0.077465\n",
       "4    DMS_TADBP_HUMAN_Bolognesi_2019                    GPN-MSA -0.071710\n",
       "..                              ...                        ...       ...\n",
       "181      DMS_MK01_HUMAN_Brenan_2016     phyloP-100-vertebrates -0.017284\n",
       "182      DMS_MK01_HUMAN_Brenan_2016  phastCons-100-vertebrates -0.027703\n",
       "183      DMS_MK01_HUMAN_Brenan_2016         phyloP-241-mammals  0.014495\n",
       "184      DMS_MK01_HUMAN_Brenan_2016                    GPN-MSA  0.150939\n",
       "185      DMS_MK01_HUMAN_Brenan_2016                     ESM-1b  0.085312\n",
       "\n",
       "[186 rows x 3 columns]"
      ]
     },
     "execution_count": 5,
     "metadata": {},
     "output_type": "execute_result"
    }
   ],
   "source": [
    "rows = []\n",
    "for DMS in V.DMS.unique():\n",
    "    V_c = V[V.DMS==DMS]\n",
    "    for m in models:\n",
    "        rows.append([DMS, m, spearmanr(V_c.label, V_c[m])[0]])\n",
    "results = pd.DataFrame(rows, columns=[\"DMS\", \"Model\", \"Spearman\"])\n",
    "results"
   ]
  },
  {
   "cell_type": "code",
   "execution_count": 6,
   "id": "97a29882-2a7b-4529-b531-8dce272bb762",
   "metadata": {
    "tags": []
   },
   "outputs": [
    {
     "data": {
      "text/plain": [
       "Model\n",
       "ESM-1b                       0.423723\n",
       "CADD                         0.337638\n",
       "GPN-MSA                      0.322003\n",
       "phyloP-100-vertebrates       0.230236\n",
       "phastCons-100-vertebrates    0.156252\n",
       "phyloP-241-mammals           0.141147\n",
       "Name: Spearman, dtype: float64"
      ]
     },
     "execution_count": 6,
     "metadata": {},
     "output_type": "execute_result"
    }
   ],
   "source": [
    "results.groupby(\"Model\")[\"Spearman\"].mean().sort_values(ascending=False)"
   ]
  },
  {
   "cell_type": "code",
   "execution_count": 7,
   "id": "4bf27ad6-a0c1-475e-acc7-8ee7a9a0e1a3",
   "metadata": {
    "tags": []
   },
   "outputs": [
    {
     "data": {
      "text/plain": [
       "Model\n",
       "ESM-1b                       0.454056\n",
       "GPN-MSA                      0.354891\n",
       "CADD                         0.320596\n",
       "phyloP-100-vertebrates       0.273353\n",
       "phyloP-241-mammals           0.151679\n",
       "phastCons-100-vertebrates    0.141818\n",
       "Name: Spearman, dtype: float64"
      ]
     },
     "execution_count": 7,
     "metadata": {},
     "output_type": "execute_result"
    }
   ],
   "source": [
    "results.groupby(\"Model\")[\"Spearman\"].median().sort_values(ascending=False)"
   ]
  },
  {
   "cell_type": "code",
   "execution_count": 10,
   "id": "6947c862-5966-4660-9d38-15695a662615",
   "metadata": {
    "tags": []
   },
   "outputs": [],
   "source": [
    "palette = {\n",
    "    \"GPN-MSA\": \"C0\",\n",
    "    \"CADD\": \"C1\",\n",
    "    \"phyloP\": \"C2\",\n",
    "    \"ESM-1b\": \"C3\",\n",
    "    \"NT\": \"C4\",\n",
    "    \"SpliceAI\": \"C5\",\n",
    "    \"Enformer\": \"C6\",\n",
    "    \"HyenaDNA\": \"C9\",\n",
    "    \n",
    "    \"phyloP-100-vertebrates\": \"C2\",\n",
    "    \"phyloP-241-mammals\": \"C7\",\n",
    "    \"phastCons-100-vertebrates\": \"C8\",\n",
    "    \n",
    "    \"NT-500m-human-ref\": \"gray\",\n",
    "    \"NT-500m-1000g\": \"gray\",\n",
    "    \"NT-2.5b-1000g\": \"gray\",\n",
    "    \"NT-2.5b-multi-species\": \"C4\",\n",
    "    \n",
    "    r\"Enformer ($L^1$)\": \"C7\",\n",
    "    r\"Enformer ($L^2$)\": \"C6\",\n",
    "    r\"Enformer ($L^\\infty$)\": \"C8\",\n",
    "}"
   ]
  },
  {
   "cell_type": "code",
   "execution_count": 11,
   "id": "e1afc4a4-b684-402a-8965-e0c04ace5848",
   "metadata": {
    "tags": []
   },
   "outputs": [
    {
     "data": {
      "image/png": "[encoded data removed]",
      "text/plain": [
       "<Figure size 1080x216 with 1 Axes>"
      ]
     },
     "metadata": {
      "needs_background": "light"
     },
     "output_type": "display_data"
    }
   ],
   "source": [
    "plt.figure(figsize=(15,3))\n",
    "g = sns.barplot(\n",
    "    data=results, x=\"DMS\", hue=\"Model\", y=\"Spearman\", palette=palette,\n",
    "    order=results.groupby(\"DMS\")[\"Spearman\"].median().sort_values(ascending=False).index.values\n",
    ");\n",
    "g.set_xticklabels(g.get_xticklabels(), rotation=90, horizontalalignment='center')\n",
    "sns.move_legend(g, \"upper left\", bbox_to_anchor=(1, 1))\n",
    "sns.despine();"
   ]
  },
  {
   "cell_type": "code",
   "execution_count": 17,
   "id": "e3074e38-62ee-4d75-bf6f-cc2054685307",
   "metadata": {
    "tags": []
   },
   "outputs": [
    {
     "data": {
      "image/png": "[encoded data removed]",
      "text/plain": [
       "<Figure size 144x144 with 1 Axes>"
      ]
     },
     "metadata": {
      "needs_background": "light"
     },
     "output_type": "display_data"
    }
   ],
   "source": [
    "plt.figure(figsize=(2,2))\n",
    "g = sns.boxplot(\n",
    "    data=results, y=\"Model\", x=\"Spearman\", palette=palette,\n",
    "    order=results.groupby(\"Model\")[\"Spearman\"].median().sort_values(ascending=False).index.values\n",
    ");\n",
    "plt.ylabel(\"\")\n",
    "sns.despine()\n",
    "#plt.savefig(plot_dir + \"dms.pdf\", bbox_inches=\"tight\")"
   ]
  }
 ],
 "metadata": {
  "kernelspec": {
   "display_name": "gpn",
   "language": "python",
   "name": "gpn"
  },
  "language_info": {
   "codemirror_mode": {
    "name": "ipython",
    "version": 3
   },
   "file_extension": ".py",
   "mimetype": "text/x-python",
   "name": "python",
   "nbconvert_exporter": "python",
   "pygments_lexer": "ipython3",
   "version": "3.11.3"
  }
 },
 "nbformat": 4,
 "nbformat_minor": 5
}
