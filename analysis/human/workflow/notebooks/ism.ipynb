{
 "cells": [
  {
   "cell_type": "code",
   "execution_count": 1,
   "id": "5875562a-7632-419d-85a7-6f8db5df58a6",
   "metadata": {
    "tags": []
   },
   "outputs": [],
   "source": [
    "import matplotlib.pyplot as plt\n",
    "import numpy as np\n",
    "import pandas as pd\n",
    "import polars as pl\n",
    "import seaborn as sns\n",
    "import warnings\n",
    "warnings.filterwarnings('ignore')"
   ]
  },
  {
   "cell_type": "code",
   "execution_count": 3,
   "id": "7b616b49-5198-4829-9d0e-1791677a341e",
   "metadata": {
    "tags": []
   },
   "outputs": [
    {
     "data": {
      "text/html": [
       "<div><style>\n",
       ".dataframe > thead > tr,\n",
       ".dataframe > tbody > tr {\n",
       "  text-align: right;\n",
       "  white-space: pre-wrap;\n",
       "}\n",
       "</style>\n",
       "<small>shape: (10_000_000, 6)</small><table border=\"1\" class=\"dataframe\"><thead><tr><th>chrom</th><th>pos</th><th>ref</th><th>alt</th><th>score</th><th>consequence</th></tr><tr><td>str</td><td>i64</td><td>str</td><td>str</td><td>f32</td><td>str</td></tr></thead><tbody><tr><td>&quot;22&quot;</td><td>10510068</td><td>&quot;A&quot;</td><td>&quot;G&quot;</td><td>-1.703125</td><td>&quot;intergenic&quot;</td></tr><tr><td>&quot;22&quot;</td><td>10510076</td><td>&quot;T&quot;</td><td>&quot;G&quot;</td><td>-2.344482</td><td>&quot;intergenic&quot;</td></tr><tr><td>&quot;22&quot;</td><td>10510080</td><td>&quot;A&quot;</td><td>&quot;T&quot;</td><td>-2.135254</td><td>&quot;intergenic&quot;</td></tr><tr><td>&quot;22&quot;</td><td>10510084</td><td>&quot;T&quot;</td><td>&quot;C&quot;</td><td>1.03125</td><td>&quot;intergenic&quot;</td></tr><tr><td>&quot;22&quot;</td><td>10510087</td><td>&quot;T&quot;</td><td>&quot;G&quot;</td><td>-0.422363</td><td>&quot;intergenic&quot;</td></tr><tr><td>&quot;22&quot;</td><td>10510093</td><td>&quot;C&quot;</td><td>&quot;T&quot;</td><td>-0.027832</td><td>&quot;intergenic&quot;</td></tr><tr><td>&quot;22&quot;</td><td>10510098</td><td>&quot;T&quot;</td><td>&quot;C&quot;</td><td>-1.896484</td><td>&quot;intergenic&quot;</td></tr><tr><td>&quot;22&quot;</td><td>10510100</td><td>&quot;C&quot;</td><td>&quot;A&quot;</td><td>-1.763672</td><td>&quot;intergenic&quot;</td></tr><tr><td>&quot;22&quot;</td><td>10510100</td><td>&quot;C&quot;</td><td>&quot;G&quot;</td><td>-1.76123</td><td>&quot;intergenic&quot;</td></tr><tr><td>&quot;22&quot;</td><td>10510100</td><td>&quot;C&quot;</td><td>&quot;T&quot;</td><td>-1.064453</td><td>&quot;intergenic&quot;</td></tr><tr><td>&quot;22&quot;</td><td>10510102</td><td>&quot;A&quot;</td><td>&quot;C&quot;</td><td>-1.810547</td><td>&quot;intergenic&quot;</td></tr><tr><td>&quot;22&quot;</td><td>10510110</td><td>&quot;T&quot;</td><td>&quot;A&quot;</td><td>-4.242554</td><td>&quot;intergenic&quot;</td></tr><tr><td>&hellip;</td><td>&hellip;</td><td>&hellip;</td><td>&hellip;</td><td>&hellip;</td><td>&hellip;</td></tr><tr><td>&quot;22&quot;</td><td>50808366</td><td>&quot;T&quot;</td><td>&quot;G&quot;</td><td>0.365234</td><td>&quot;intergenic&quot;</td></tr><tr><td>&quot;22&quot;</td><td>50808373</td><td>&quot;A&quot;</td><td>&quot;G&quot;</td><td>0.962891</td><td>&quot;intergenic&quot;</td></tr><tr><td>&quot;22&quot;</td><td>50808375</td><td>&quot;G&quot;</td><td>&quot;A&quot;</td><td>-0.320312</td><td>&quot;intergenic&quot;</td></tr><tr><td>&quot;22&quot;</td><td>50808377</td><td>&quot;T&quot;</td><td>&quot;C&quot;</td><td>-0.253906</td><td>&quot;intergenic&quot;</td></tr><tr><td>&quot;22&quot;</td><td>50808379</td><td>&quot;G&quot;</td><td>&quot;T&quot;</td><td>-0.34375</td><td>&quot;intergenic&quot;</td></tr><tr><td>&quot;22&quot;</td><td>50808381</td><td>&quot;G&quot;</td><td>&quot;T&quot;</td><td>0.068359</td><td>&quot;intergenic&quot;</td></tr><tr><td>&quot;22&quot;</td><td>50808384</td><td>&quot;G&quot;</td><td>&quot;A&quot;</td><td>-0.792969</td><td>&quot;intergenic&quot;</td></tr><tr><td>&quot;22&quot;</td><td>50808387</td><td>&quot;G&quot;</td><td>&quot;T&quot;</td><td>0.03125</td><td>&quot;intergenic&quot;</td></tr><tr><td>&quot;22&quot;</td><td>50808390</td><td>&quot;A&quot;</td><td>&quot;G&quot;</td><td>0.972656</td><td>&quot;intergenic&quot;</td></tr><tr><td>&quot;22&quot;</td><td>50808391</td><td>&quot;G&quot;</td><td>&quot;C&quot;</td><td>-2.780518</td><td>&quot;intergenic&quot;</td></tr><tr><td>&quot;22&quot;</td><td>50808397</td><td>&quot;G&quot;</td><td>&quot;T&quot;</td><td>-0.404297</td><td>&quot;intergenic&quot;</td></tr><tr><td>&quot;22&quot;</td><td>50808401</td><td>&quot;T&quot;</td><td>&quot;A&quot;</td><td>-0.40625</td><td>&quot;intergenic&quot;</td></tr></tbody></table></div>"
      ],
      "text/plain": [
       "shape: (10_000_000, 6)\n",
       "┌───────┬──────────┬─────┬─────┬───────────┬─────────────┐\n",
       "│ chrom ┆ pos      ┆ ref ┆ alt ┆ score     ┆ consequence │\n",
       "│ ---   ┆ ---      ┆ --- ┆ --- ┆ ---       ┆ ---         │\n",
       "│ str   ┆ i64      ┆ str ┆ str ┆ f32       ┆ str         │\n",
       "╞═══════╪══════════╪═════╪═════╪═══════════╪═════════════╡\n",
       "│ 22    ┆ 10510068 ┆ A   ┆ G   ┆ -1.703125 ┆ intergenic  │\n",
       "│ 22    ┆ 10510076 ┆ T   ┆ G   ┆ -2.344482 ┆ intergenic  │\n",
       "│ 22    ┆ 10510080 ┆ A   ┆ T   ┆ -2.135254 ┆ intergenic  │\n",
       "│ 22    ┆ 10510084 ┆ T   ┆ C   ┆ 1.03125   ┆ intergenic  │\n",
       "│ 22    ┆ 10510087 ┆ T   ┆ G   ┆ -0.422363 ┆ intergenic  │\n",
       "│ …     ┆ …        ┆ …   ┆ …   ┆ …         ┆ …           │\n",
       "│ 22    ┆ 50808387 ┆ G   ┆ T   ┆ 0.03125   ┆ intergenic  │\n",
       "│ 22    ┆ 50808390 ┆ A   ┆ G   ┆ 0.972656  ┆ intergenic  │\n",
       "│ 22    ┆ 50808391 ┆ G   ┆ C   ┆ -2.780518 ┆ intergenic  │\n",
       "│ 22    ┆ 50808397 ┆ G   ┆ T   ┆ -0.404297 ┆ intergenic  │\n",
       "│ 22    ┆ 50808401 ┆ T   ┆ A   ┆ -0.40625  ┆ intergenic  │\n",
       "└───────┴──────────┴─────┴─────┴───────────┴─────────────┘"
      ]
     },
     "execution_count": 3,
     "metadata": {},
     "output_type": "execute_result"
    }
   ],
   "source": [
    "chrom = \"22\"\n",
    "model = \"multiz100way/89/128/64/True/defined.phastCons.percentile-75_0.05_0.001/medium/0.1/42/30000/True/True/True\"\n",
    "\n",
    "V = pl.read_parquet(f\"../../results/positions/{chrom}/llr/{model}.subsample_10000000.annot.parquet\")\n",
    "V = V.with_columns(\n",
    "    pl.col(\"consequence\").str.replace(\"_variant\", \"\")\n",
    ")\n",
    "V"
   ]
  },
  {
   "cell_type": "code",
   "execution_count": 4,
   "id": "977a2a1f-8be9-4a64-be3f-cafc334aaa97",
   "metadata": {
    "tags": []
   },
   "outputs": [
    {
     "data": {
      "text/html": [
       "<div><style>\n",
       ".dataframe > thead > tr,\n",
       ".dataframe > tbody > tr {\n",
       "  text-align: right;\n",
       "  white-space: pre-wrap;\n",
       "}\n",
       "</style>\n",
       "<small>shape: (22, 2)</small><table border=\"1\" class=\"dataframe\"><thead><tr><th>consequence</th><th>count</th></tr><tr><td>str</td><td>u32</td></tr></thead><tbody><tr><td>&quot;intron&quot;</td><td>5275697</td></tr><tr><td>&quot;intergenic&quot;</td><td>3446002</td></tr><tr><td>&quot;non_coding_tra…</td><td>443413</td></tr><tr><td>&quot;3_prime_UTR&quot;</td><td>198938</td></tr><tr><td>&quot;upstream_gene&quot;</td><td>183453</td></tr><tr><td>&quot;downstream_gen…</td><td>170413</td></tr><tr><td>&quot;missense&quot;</td><td>140041</td></tr><tr><td>&quot;5_prime_UTR&quot;</td><td>46155</td></tr><tr><td>&quot;synonymous&quot;</td><td>42172</td></tr><tr><td>&quot;splice_polypyr…</td><td>23324</td></tr><tr><td>&quot;splice_region&quot;</td><td>8122</td></tr><tr><td>&quot;stop_gained&quot;</td><td>7359</td></tr><tr><td>&quot;splice_donor_r…</td><td>4869</td></tr><tr><td>&quot;splice_donor&quot;</td><td>3365</td></tr><tr><td>&quot;splice_accepto…</td><td>3347</td></tr><tr><td>&quot;splice_donor_5…</td><td>1704</td></tr><tr><td>&quot;stop_lost&quot;</td><td>639</td></tr><tr><td>&quot;start_lost&quot;</td><td>541</td></tr><tr><td>&quot;mature_miRNA&quot;</td><td>355</td></tr><tr><td>&quot;stop_retained&quot;</td><td>67</td></tr><tr><td>&quot;incomplete_ter…</td><td>18</td></tr><tr><td>&quot;coding_sequenc…</td><td>6</td></tr></tbody></table></div>"
      ],
      "text/plain": [
       "shape: (22, 2)\n",
       "┌────────────────────────────┬─────────┐\n",
       "│ consequence                ┆ count   │\n",
       "│ ---                        ┆ ---     │\n",
       "│ str                        ┆ u32     │\n",
       "╞════════════════════════════╪═════════╡\n",
       "│ intron                     ┆ 5275697 │\n",
       "│ intergenic                 ┆ 3446002 │\n",
       "│ non_coding_transcript_exon ┆ 443413  │\n",
       "│ 3_prime_UTR                ┆ 198938  │\n",
       "│ upstream_gene              ┆ 183453  │\n",
       "│ …                          ┆ …       │\n",
       "│ start_lost                 ┆ 541     │\n",
       "│ mature_miRNA               ┆ 355     │\n",
       "│ stop_retained              ┆ 67      │\n",
       "│ incomplete_terminal_codon  ┆ 18      │\n",
       "│ coding_sequence            ┆ 6       │\n",
       "└────────────────────────────┴─────────┘"
      ]
     },
     "execution_count": 4,
     "metadata": {},
     "output_type": "execute_result"
    }
   ],
   "source": [
    "c_counts = V[\"consequence\"].value_counts().sort(\"count\", descending=True)\n",
    "c_counts"
   ]
  },
  {
   "cell_type": "code",
   "execution_count": 5,
   "id": "4d9b3d19-f080-46d7-8c07-1edbb46f47b7",
   "metadata": {
    "tags": []
   },
   "outputs": [
    {
     "data": {
      "text/html": [
       "<div><style>\n",
       ".dataframe > thead > tr,\n",
       ".dataframe > tbody > tr {\n",
       "  text-align: right;\n",
       "  white-space: pre-wrap;\n",
       "}\n",
       "</style>\n",
       "<small>shape: (19, 2)</small><table border=\"1\" class=\"dataframe\"><thead><tr><th>consequence</th><th>score</th></tr><tr><td>str</td><td>f32</td></tr></thead><tbody><tr><td>&quot;stop_gained&quot;</td><td>-13.257812</td></tr><tr><td>&quot;splice_accepto…</td><td>-13.082031</td></tr><tr><td>&quot;splice_donor&quot;</td><td>-13.027344</td></tr><tr><td>&quot;splice_donor_5…</td><td>-13.003906</td></tr><tr><td>&quot;missense&quot;</td><td>-12.601562</td></tr><tr><td>&quot;stop_lost&quot;</td><td>-12.457031</td></tr><tr><td>&quot;start_lost&quot;</td><td>-12.335938</td></tr><tr><td>&quot;splice_donor_r…</td><td>-11.150391</td></tr><tr><td>&quot;mature_miRNA&quot;</td><td>-10.484375</td></tr><tr><td>&quot;splice_polypyr…</td><td>-9.476562</td></tr><tr><td>&quot;splice_region&quot;</td><td>-9.164062</td></tr><tr><td>&quot;5_prime_UTR&quot;</td><td>-8.27832</td></tr><tr><td>&quot;3_prime_UTR&quot;</td><td>-7.928711</td></tr><tr><td>&quot;non_coding_tra…</td><td>-6.968018</td></tr><tr><td>&quot;synonymous&quot;</td><td>-6.890137</td></tr><tr><td>&quot;upstream_gene&quot;</td><td>-6.411133</td></tr><tr><td>&quot;intron&quot;</td><td>-5.802734</td></tr><tr><td>&quot;downstream_gen…</td><td>-5.743164</td></tr><tr><td>&quot;intergenic&quot;</td><td>-5.241211</td></tr></tbody></table></div>"
      ],
      "text/plain": [
       "shape: (19, 2)\n",
       "┌───────────────────────┬────────────┐\n",
       "│ consequence           ┆ score      │\n",
       "│ ---                   ┆ ---        │\n",
       "│ str                   ┆ f32        │\n",
       "╞═══════════════════════╪════════════╡\n",
       "│ stop_gained           ┆ -13.257812 │\n",
       "│ splice_acceptor       ┆ -13.082031 │\n",
       "│ splice_donor          ┆ -13.027344 │\n",
       "│ splice_donor_5th_base ┆ -13.003906 │\n",
       "│ missense              ┆ -12.601562 │\n",
       "│ …                     ┆ …          │\n",
       "│ synonymous            ┆ -6.890137  │\n",
       "│ upstream_gene         ┆ -6.411133  │\n",
       "│ intron                ┆ -5.802734  │\n",
       "│ downstream_gene       ┆ -5.743164  │\n",
       "│ intergenic            ┆ -5.241211  │\n",
       "└───────────────────────┴────────────┘"
      ]
     },
     "execution_count": 5,
     "metadata": {},
     "output_type": "execute_result"
    }
   ],
   "source": [
    "c_quantile = V.filter(\n",
    "    pl.col(\"consequence\").is_in(c_counts.filter(pl.col(\"count\") >= 100)[\"consequence\"])\n",
    ").group_by(\"consequence\").agg(pl.quantile(\"score\", 0.01)).sort(\"score\")\n",
    "c_quantile"
   ]
  },
  {
   "cell_type": "code",
   "execution_count": 6,
   "id": "77eef2b8-d469-47a3-9ab7-074710ceabad",
   "metadata": {},
   "outputs": [
    {
     "data": {
      "text/html": [
       "<div><style>\n",
       ".dataframe > thead > tr,\n",
       ".dataframe > tbody > tr {\n",
       "  text-align: right;\n",
       "  white-space: pre-wrap;\n",
       "}\n",
       "</style>\n",
       "<small>shape: (19,)</small><table border=\"1\" class=\"dataframe\"><thead><tr><th>consequence</th></tr><tr><td>str</td></tr></thead><tbody><tr><td>&quot;stop_gained&quot;</td></tr><tr><td>&quot;splice_accepto…</td></tr><tr><td>&quot;splice_donor&quot;</td></tr><tr><td>&quot;splice_donor_5…</td></tr><tr><td>&quot;missense&quot;</td></tr><tr><td>&quot;stop_lost&quot;</td></tr><tr><td>&quot;start_lost&quot;</td></tr><tr><td>&quot;splice_donor_r…</td></tr><tr><td>&quot;mature_miRNA&quot;</td></tr><tr><td>&quot;splice_polypyr…</td></tr><tr><td>&quot;splice_region&quot;</td></tr><tr><td>&quot;5_prime_UTR&quot;</td></tr><tr><td>&quot;3_prime_UTR&quot;</td></tr><tr><td>&quot;non_coding_tra…</td></tr><tr><td>&quot;synonymous&quot;</td></tr><tr><td>&quot;upstream_gene&quot;</td></tr><tr><td>&quot;intron&quot;</td></tr><tr><td>&quot;downstream_gen…</td></tr><tr><td>&quot;intergenic&quot;</td></tr></tbody></table></div>"
      ],
      "text/plain": [
       "shape: (19,)\n",
       "Series: 'consequence' [str]\n",
       "[\n",
       "\t\"stop_gained\"\n",
       "\t\"splice_accepto…\n",
       "\t\"splice_donor\"\n",
       "\t\"splice_donor_5…\n",
       "\t\"missense\"\n",
       "\t\"stop_lost\"\n",
       "\t\"start_lost\"\n",
       "\t\"splice_donor_r…\n",
       "\t\"mature_miRNA\"\n",
       "\t\"splice_polypyr…\n",
       "\t\"splice_region\"\n",
       "\t\"5_prime_UTR\"\n",
       "\t\"3_prime_UTR\"\n",
       "\t\"non_coding_tra…\n",
       "\t\"synonymous\"\n",
       "\t\"upstream_gene\"\n",
       "\t\"intron\"\n",
       "\t\"downstream_gen…\n",
       "\t\"intergenic\"\n",
       "]"
      ]
     },
     "execution_count": 6,
     "metadata": {},
     "output_type": "execute_result"
    }
   ],
   "source": [
    "c_plot = c_quantile[\"consequence\"]\n",
    "c_plot"
   ]
  },
  {
   "cell_type": "code",
   "execution_count": 7,
   "id": "4d181fc0-8250-4aad-ad09-0de351314f9f",
   "metadata": {
    "tags": []
   },
   "outputs": [
    {
     "data": {
      "text/html": [
       "<div>\n",
       "<style scoped>\n",
       "    .dataframe tbody tr th:only-of-type {\n",
       "        vertical-align: middle;\n",
       "    }\n",
       "\n",
       "    .dataframe tbody tr th {\n",
       "        vertical-align: top;\n",
       "    }\n",
       "\n",
       "    .dataframe thead th {\n",
       "        text-align: right;\n",
       "    }\n",
       "</style>\n",
       "<table border=\"1\" class=\"dataframe\">\n",
       "  <thead>\n",
       "    <tr style=\"text-align: right;\">\n",
       "      <th></th>\n",
       "      <th>chrom</th>\n",
       "      <th>pos</th>\n",
       "      <th>ref</th>\n",
       "      <th>alt</th>\n",
       "      <th>score</th>\n",
       "      <th>consequence</th>\n",
       "      <th>g</th>\n",
       "      <th>GPN-MSA score</th>\n",
       "    </tr>\n",
       "  </thead>\n",
       "  <tbody>\n",
       "    <tr>\n",
       "      <th>1592836</th>\n",
       "      <td>22</td>\n",
       "      <td>17689045</td>\n",
       "      <td>G</td>\n",
       "      <td>T</td>\n",
       "      <td>-12.027344</td>\n",
       "      <td>stop_gained</td>\n",
       "      <td>stop_gained</td>\n",
       "      <td>-12.027344</td>\n",
       "    </tr>\n",
       "    <tr>\n",
       "      <th>9926167</th>\n",
       "      <td>22</td>\n",
       "      <td>50519246</td>\n",
       "      <td>G</td>\n",
       "      <td>T</td>\n",
       "      <td>-2.718994</td>\n",
       "      <td>stop_gained</td>\n",
       "      <td>stop_gained</td>\n",
       "      <td>-2.718994</td>\n",
       "    </tr>\n",
       "    <tr>\n",
       "      <th>9926176</th>\n",
       "      <td>22</td>\n",
       "      <td>50519291</td>\n",
       "      <td>G</td>\n",
       "      <td>T</td>\n",
       "      <td>-6.714844</td>\n",
       "      <td>stop_gained</td>\n",
       "      <td>stop_gained</td>\n",
       "      <td>-6.714844</td>\n",
       "    </tr>\n",
       "    <tr>\n",
       "      <th>6043595</th>\n",
       "      <td>22</td>\n",
       "      <td>35323157</td>\n",
       "      <td>A</td>\n",
       "      <td>T</td>\n",
       "      <td>-11.466797</td>\n",
       "      <td>stop_gained</td>\n",
       "      <td>stop_gained</td>\n",
       "      <td>-11.466797</td>\n",
       "    </tr>\n",
       "    <tr>\n",
       "      <th>9926182</th>\n",
       "      <td>22</td>\n",
       "      <td>50519318</td>\n",
       "      <td>C</td>\n",
       "      <td>T</td>\n",
       "      <td>-5.077881</td>\n",
       "      <td>stop_gained</td>\n",
       "      <td>stop_gained</td>\n",
       "      <td>-5.077881</td>\n",
       "    </tr>\n",
       "    <tr>\n",
       "      <th>...</th>\n",
       "      <td>...</td>\n",
       "      <td>...</td>\n",
       "      <td>...</td>\n",
       "      <td>...</td>\n",
       "      <td>...</td>\n",
       "      <td>...</td>\n",
       "      <td>...</td>\n",
       "      <td>...</td>\n",
       "    </tr>\n",
       "    <tr>\n",
       "      <th>3680017</th>\n",
       "      <td>22</td>\n",
       "      <td>26067410</td>\n",
       "      <td>A</td>\n",
       "      <td>G</td>\n",
       "      <td>-0.878906</td>\n",
       "      <td>intergenic</td>\n",
       "      <td>intergenic</td>\n",
       "      <td>-0.878906</td>\n",
       "    </tr>\n",
       "    <tr>\n",
       "      <th>3680016</th>\n",
       "      <td>22</td>\n",
       "      <td>26067408</td>\n",
       "      <td>C</td>\n",
       "      <td>A</td>\n",
       "      <td>-1.500000</td>\n",
       "      <td>intergenic</td>\n",
       "      <td>intergenic</td>\n",
       "      <td>-1.500000</td>\n",
       "    </tr>\n",
       "    <tr>\n",
       "      <th>3680015</th>\n",
       "      <td>22</td>\n",
       "      <td>26067400</td>\n",
       "      <td>C</td>\n",
       "      <td>A</td>\n",
       "      <td>-1.522461</td>\n",
       "      <td>intergenic</td>\n",
       "      <td>intergenic</td>\n",
       "      <td>-1.522461</td>\n",
       "    </tr>\n",
       "    <tr>\n",
       "      <th>3680033</th>\n",
       "      <td>22</td>\n",
       "      <td>26067454</td>\n",
       "      <td>G</td>\n",
       "      <td>T</td>\n",
       "      <td>-0.994629</td>\n",
       "      <td>intergenic</td>\n",
       "      <td>intergenic</td>\n",
       "      <td>-0.994629</td>\n",
       "    </tr>\n",
       "    <tr>\n",
       "      <th>9999908</th>\n",
       "      <td>22</td>\n",
       "      <td>50808401</td>\n",
       "      <td>T</td>\n",
       "      <td>A</td>\n",
       "      <td>-0.406250</td>\n",
       "      <td>intergenic</td>\n",
       "      <td>intergenic</td>\n",
       "      <td>-0.406250</td>\n",
       "    </tr>\n",
       "  </tbody>\n",
       "</table>\n",
       "<p>9999909 rows × 8 columns</p>\n",
       "</div>"
      ],
      "text/plain": [
       "        chrom       pos ref alt      score  consequence            g  \\\n",
       "1592836    22  17689045   G   T -12.027344  stop_gained  stop_gained   \n",
       "9926167    22  50519246   G   T  -2.718994  stop_gained  stop_gained   \n",
       "9926176    22  50519291   G   T  -6.714844  stop_gained  stop_gained   \n",
       "6043595    22  35323157   A   T -11.466797  stop_gained  stop_gained   \n",
       "9926182    22  50519318   C   T  -5.077881  stop_gained  stop_gained   \n",
       "...       ...       ...  ..  ..        ...          ...          ...   \n",
       "3680017    22  26067410   A   G  -0.878906   intergenic   intergenic   \n",
       "3680016    22  26067408   C   A  -1.500000   intergenic   intergenic   \n",
       "3680015    22  26067400   C   A  -1.522461   intergenic   intergenic   \n",
       "3680033    22  26067454   G   T  -0.994629   intergenic   intergenic   \n",
       "9999908    22  50808401   T   A  -0.406250   intergenic   intergenic   \n",
       "\n",
       "         GPN-MSA score  \n",
       "1592836     -12.027344  \n",
       "9926167      -2.718994  \n",
       "9926176      -6.714844  \n",
       "6043595     -11.466797  \n",
       "9926182      -5.077881  \n",
       "...                ...  \n",
       "3680017      -0.878906  \n",
       "3680016      -1.500000  \n",
       "3680015      -1.522461  \n",
       "3680033      -0.994629  \n",
       "9999908      -0.406250  \n",
       "\n",
       "[9999909 rows x 8 columns]"
      ]
     },
     "execution_count": 7,
     "metadata": {},
     "output_type": "execute_result"
    }
   ],
   "source": [
    "score_col = \"GPN-MSA score\"\n",
    "df = V.filter(pl.col(\"consequence\").is_in(c_plot)).to_pandas()\n",
    "df[\"g\"] = df.consequence\n",
    "df[score_col] = df.score\n",
    "df['consequence'] = pd.Categorical(df['consequence'], categories=c_plot, ordered=True)\n",
    "df = df.sort_values(\"consequence\")\n",
    "df"
   ]
  },
  {
   "cell_type": "code",
   "execution_count": 12,
   "id": "bb88ad94-70fa-4181-b12f-9aefe16b5034",
   "metadata": {
    "tags": []
   },
   "outputs": [
    {
     "data": {
      "text/plain": [
       "(-12.896484375, 5.2102073242185725)"
      ]
     },
     "execution_count": 12,
     "metadata": {},
     "output_type": "execute_result"
    }
   ],
   "source": [
    "q = 1 / 10_000 #1/2_000\n",
    "x_left, x_right = df[score_col].quantile(q), df[score_col].quantile(1-q)\n",
    "x_left, x_right"
   ]
  },
  {
   "cell_type": "code",
   "execution_count": 14,
   "id": "d4050c30-d349-4805-8c0d-e0eaedde447f",
   "metadata": {
    "tags": []
   },
   "outputs": [
    {
     "data": {
      "image/png": "[encoded data removed]",
      "text/plain": [
       "<Figure size 360x684 with 19 Axes>"
      ]
     },
     "metadata": {},
     "output_type": "display_data"
    }
   ],
   "source": [
    "sns.set_theme(style=\"white\", rc={\"axes.facecolor\": (0, 0, 0, 0)})\n",
    "\n",
    "pal = sns.cubehelix_palette(len(c_plot), rot=-.25, light=.7, reverse=True)\n",
    "g = sns.FacetGrid(\n",
    "    df, row=\"g\", hue=\"g\",\n",
    "    aspect=10,#15,\n",
    "    #height=.5,  # doesn't work\n",
    "    #height=1, # this works\n",
    "    height=0.5,\n",
    "    palette=pal,\n",
    "    sharey=False,\n",
    ")\n",
    "\n",
    "g.map(\n",
    "    sns.histplot,\n",
    "    score_col,\n",
    "    bins=np.linspace(x_left, x_right, 50),\n",
    "    alpha=1,\n",
    "    fill=True,\n",
    "    stat=\"density\",\n",
    ")\n",
    "\n",
    "def label(x, color, label):\n",
    "    ax = plt.gca()\n",
    "    ax.text(\n",
    "        0, .2, label, fontweight=\"bold\", color=color,\n",
    "        ha=\"right\",\n",
    "        va=\"center\", transform=ax.transAxes\n",
    "    )\n",
    "g.map(label, score_col)\n",
    "\n",
    "def add_quantile(x, color, label):\n",
    "    ax = plt.gca()\n",
    "    artist = ax.axvline(x.quantile(0.01), ls='--', color=color)\n",
    "    \n",
    "g.map(add_quantile, score_col)\n",
    "\n",
    "# Set the subplots to overlap\n",
    "g.figure.subplots_adjust(hspace=-.25)\n",
    "\n",
    "g.set_titles(\"\")\n",
    "g.set(yticks=[], ylabel=\"\")\n",
    "g.despine(bottom=True, left=True);\n",
    "import matplotlib\n",
    "\n",
    "artist = [c for c in g.axes[0,0].get_children() if type(c)==matplotlib.lines.Line2D][0]\n",
    "legend = g.axes[0,0].legend([artist], [\"1st percentile\"], loc=\"upper right\")\n",
    "legend.get_frame().set_facecolor('white')\n",
    "#plt.savefig(\"../../results/plots/ism.pdf\", bbox_inches=\"tight\")"
   ]
  },
  {
   "cell_type": "code",
   "execution_count": 11,
   "id": "571c96e1-9510-437f-9f96-0146c3022ead",
   "metadata": {
    "tags": []
   },
   "outputs": [
    {
     "data": {
      "text/html": [
       "<div><style>\n",
       ".dataframe > thead > tr,\n",
       ".dataframe > tbody > tr {\n",
       "  text-align: right;\n",
       "  white-space: pre-wrap;\n",
       "}\n",
       "</style>\n",
       "<small>shape: (10, 6)</small><table border=\"1\" class=\"dataframe\"><thead><tr><th>chrom</th><th>pos</th><th>ref</th><th>alt</th><th>score</th><th>consequence</th></tr><tr><td>str</td><td>i64</td><td>str</td><td>str</td><td>f32</td><td>str</td></tr></thead><tbody><tr><td>&quot;22&quot;</td><td>25459429</td><td>&quot;T&quot;</td><td>&quot;C&quot;</td><td>9.556641</td><td>&quot;non_coding_tra…</td></tr><tr><td>&quot;22&quot;</td><td>41387550</td><td>&quot;C&quot;</td><td>&quot;G&quot;</td><td>9.472656</td><td>&quot;missense&quot;</td></tr><tr><td>&quot;22&quot;</td><td>30932707</td><td>&quot;A&quot;</td><td>&quot;G&quot;</td><td>9.416016</td><td>&quot;missense&quot;</td></tr><tr><td>&quot;22&quot;</td><td>23963924</td><td>&quot;G&quot;</td><td>&quot;T&quot;</td><td>9.324219</td><td>&quot;splice_donor_r…</td></tr><tr><td>&quot;22&quot;</td><td>41147882</td><td>&quot;T&quot;</td><td>&quot;G&quot;</td><td>9.322266</td><td>&quot;missense&quot;</td></tr><tr><td>&quot;22&quot;</td><td>19766568</td><td>&quot;A&quot;</td><td>&quot;C&quot;</td><td>9.28418</td><td>&quot;missense&quot;</td></tr><tr><td>&quot;22&quot;</td><td>21065539</td><td>&quot;T&quot;</td><td>&quot;A&quot;</td><td>9.064453</td><td>&quot;non_coding_tra…</td></tr><tr><td>&quot;22&quot;</td><td>37095596</td><td>&quot;A&quot;</td><td>&quot;T&quot;</td><td>8.8984375</td><td>&quot;splice_polypyr…</td></tr><tr><td>&quot;22&quot;</td><td>28351522</td><td>&quot;T&quot;</td><td>&quot;A&quot;</td><td>8.564453</td><td>&quot;intron&quot;</td></tr><tr><td>&quot;22&quot;</td><td>27639332</td><td>&quot;C&quot;</td><td>&quot;G&quot;</td><td>8.544922</td><td>&quot;intergenic&quot;</td></tr></tbody></table></div>"
      ],
      "text/plain": [
       "shape: (10, 6)\n",
       "┌───────┬──────────┬─────┬─────┬───────────┬─────────────────────────────┐\n",
       "│ chrom ┆ pos      ┆ ref ┆ alt ┆ score     ┆ consequence                 │\n",
       "│ ---   ┆ ---      ┆ --- ┆ --- ┆ ---       ┆ ---                         │\n",
       "│ str   ┆ i64      ┆ str ┆ str ┆ f32       ┆ str                         │\n",
       "╞═══════╪══════════╪═════╪═════╪═══════════╪═════════════════════════════╡\n",
       "│ 22    ┆ 25459429 ┆ T   ┆ C   ┆ 9.556641  ┆ non_coding_transcript_exon  │\n",
       "│ 22    ┆ 41387550 ┆ C   ┆ G   ┆ 9.472656  ┆ missense                    │\n",
       "│ 22    ┆ 30932707 ┆ A   ┆ G   ┆ 9.416016  ┆ missense                    │\n",
       "│ 22    ┆ 23963924 ┆ G   ┆ T   ┆ 9.324219  ┆ splice_donor_region         │\n",
       "│ 22    ┆ 41147882 ┆ T   ┆ G   ┆ 9.322266  ┆ missense                    │\n",
       "│ 22    ┆ 19766568 ┆ A   ┆ C   ┆ 9.28418   ┆ missense                    │\n",
       "│ 22    ┆ 21065539 ┆ T   ┆ A   ┆ 9.064453  ┆ non_coding_transcript_exon  │\n",
       "│ 22    ┆ 37095596 ┆ A   ┆ T   ┆ 8.8984375 ┆ splice_polypyrimidine_tract │\n",
       "│ 22    ┆ 28351522 ┆ T   ┆ A   ┆ 8.564453  ┆ intron                      │\n",
       "│ 22    ┆ 27639332 ┆ C   ┆ G   ┆ 8.544922  ┆ intergenic                  │\n",
       "└───────┴──────────┴─────┴─────┴───────────┴─────────────────────────────┘"
      ]
     },
     "execution_count": 11,
     "metadata": {},
     "output_type": "execute_result"
    }
   ],
   "source": [
    "V.sort(\"score\", descending=True).head(10)"
   ]
  }
 ],
 "metadata": {
  "kernelspec": {
   "display_name": "gpn",
   "language": "python",
   "name": "gpn"
  },
  "language_info": {
   "codemirror_mode": {
    "name": "ipython",
    "version": 3
   },
   "file_extension": ".py",
   "mimetype": "text/x-python",
   "name": "python",
   "nbconvert_exporter": "python",
   "pygments_lexer": "ipython3",
   "version": "3.11.3"
  }
 },
 "nbformat": 4,
 "nbformat_minor": 5
}
