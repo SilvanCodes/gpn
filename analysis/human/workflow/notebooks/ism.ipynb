{
 "cells": [
  {
   "cell_type": "code",
   "execution_count": 1,
   "id": "5875562a-7632-419d-85a7-6f8db5df58a6",
   "metadata": {
    "tags": []
   },
   "outputs": [],
   "source": [
    "import matplotlib.pyplot as plt\n",
    "import numpy as np\n",
    "import pandas as pd\n",
    "import polars as pl\n",
    "import seaborn as sns\n",
    "import warnings\n",
    "warnings.filterwarnings('ignore')"
   ]
  },
  {
   "cell_type": "code",
   "execution_count": 2,
   "id": "c0d2ded7-90e4-48c6-9b19-da09b2978943",
   "metadata": {
    "tags": []
   },
   "outputs": [],
   "source": [
    "def format_number(num):\n",
    "    \"\"\"\n",
    "    Converts a number into a more readable format, using K for thousands, M for millions, etc.\n",
    "    Args:\n",
    "    - num: The number to format.\n",
    "    \n",
    "    Returns:\n",
    "    - A formatted string representing the number.\n",
    "    \"\"\"\n",
    "    if num >= 1e9:\n",
    "        return f'{num/1e9:.1f}B'\n",
    "    elif num >= 1e6:\n",
    "        return f'{num/1e6:.1f}M'\n",
    "    elif num >= 1e3:\n",
    "        return f'{num/1e3:.1f}K'\n",
    "    else:\n",
    "        return str(num)"
   ]
  },
  {
   "cell_type": "code",
   "execution_count": 3,
   "id": "7b616b49-5198-4829-9d0e-1791677a341e",
   "metadata": {
    "tags": []
   },
   "outputs": [
    {
     "data": {
      "text/html": [
       "<div><style>\n",
       ".dataframe > thead > tr,\n",
       ".dataframe > tbody > tr {\n",
       "  text-align: right;\n",
       "  white-space: pre-wrap;\n",
       "}\n",
       "</style>\n",
       "<small>shape: (28_926, 6)</small><table border=\"1\" class=\"dataframe\"><thead><tr><th>chrom</th><th>pos</th><th>ref</th><th>alt</th><th>score</th><th>consequence</th></tr><tr><td>str</td><td>i64</td><td>str</td><td>str</td><td>f32</td><td>str</td></tr></thead><tbody><tr><td>&quot;22&quot;</td><td>17145047</td><td>&quot;G&quot;</td><td>&quot;A&quot;</td><td>-3.816406</td><td>&quot;synonymous&quot;</td></tr><tr><td>&quot;22&quot;</td><td>17145047</td><td>&quot;G&quot;</td><td>&quot;C&quot;</td><td>-7.462891</td><td>&quot;missense&quot;</td></tr><tr><td>&quot;22&quot;</td><td>17145047</td><td>&quot;G&quot;</td><td>&quot;T&quot;</td><td>-6.922852</td><td>&quot;missense&quot;</td></tr><tr><td>&quot;22&quot;</td><td>17145049</td><td>&quot;T&quot;</td><td>&quot;A&quot;</td><td>-10.332031</td><td>&quot;missense&quot;</td></tr><tr><td>&quot;22&quot;</td><td>17145049</td><td>&quot;T&quot;</td><td>&quot;C&quot;</td><td>-9.749023</td><td>&quot;missense&quot;</td></tr><tr><td>&quot;22&quot;</td><td>17145049</td><td>&quot;T&quot;</td><td>&quot;G&quot;</td><td>-10.654297</td><td>&quot;missense&quot;</td></tr><tr><td>&quot;22&quot;</td><td>17145050</td><td>&quot;C&quot;</td><td>&quot;A&quot;</td><td>-11.292969</td><td>&quot;missense&quot;</td></tr><tr><td>&quot;22&quot;</td><td>17145050</td><td>&quot;C&quot;</td><td>&quot;G&quot;</td><td>-10.032227</td><td>&quot;missense&quot;</td></tr><tr><td>&quot;22&quot;</td><td>17145050</td><td>&quot;C&quot;</td><td>&quot;T&quot;</td><td>-9.432617</td><td>&quot;missense&quot;</td></tr><tr><td>&quot;22&quot;</td><td>17145053</td><td>&quot;C&quot;</td><td>&quot;A&quot;</td><td>-9.367188</td><td>&quot;missense&quot;</td></tr><tr><td>&quot;22&quot;</td><td>17145053</td><td>&quot;C&quot;</td><td>&quot;G&quot;</td><td>-9.304688</td><td>&quot;missense&quot;</td></tr><tr><td>&quot;22&quot;</td><td>17145053</td><td>&quot;C&quot;</td><td>&quot;T&quot;</td><td>-8.613281</td><td>&quot;missense&quot;</td></tr><tr><td>&hellip;</td><td>&hellip;</td><td>&hellip;</td><td>&hellip;</td><td>&hellip;</td><td>&hellip;</td></tr><tr><td>&quot;22&quot;</td><td>50679097</td><td>&quot;G&quot;</td><td>&quot;A&quot;</td><td>-9.701172</td><td>&quot;missense&quot;</td></tr><tr><td>&quot;22&quot;</td><td>50679097</td><td>&quot;G&quot;</td><td>&quot;C&quot;</td><td>-12.09375</td><td>&quot;missense&quot;</td></tr><tr><td>&quot;22&quot;</td><td>50679097</td><td>&quot;G&quot;</td><td>&quot;T&quot;</td><td>-11.394531</td><td>&quot;missense&quot;</td></tr><tr><td>&quot;22&quot;</td><td>50679101</td><td>&quot;G&quot;</td><td>&quot;A&quot;</td><td>-10.970703</td><td>&quot;missense&quot;</td></tr><tr><td>&quot;22&quot;</td><td>50679101</td><td>&quot;G&quot;</td><td>&quot;C&quot;</td><td>-10.427734</td><td>&quot;missense&quot;</td></tr><tr><td>&quot;22&quot;</td><td>50679101</td><td>&quot;G&quot;</td><td>&quot;T&quot;</td><td>-12.070312</td><td>&quot;missense&quot;</td></tr><tr><td>&quot;22&quot;</td><td>50679103</td><td>&quot;G&quot;</td><td>&quot;A&quot;</td><td>-10.238281</td><td>&quot;missense&quot;</td></tr><tr><td>&quot;22&quot;</td><td>50679103</td><td>&quot;G&quot;</td><td>&quot;C&quot;</td><td>-11.148438</td><td>&quot;missense&quot;</td></tr><tr><td>&quot;22&quot;</td><td>50679103</td><td>&quot;G&quot;</td><td>&quot;T&quot;</td><td>-12.335938</td><td>&quot;missense&quot;</td></tr><tr><td>&quot;22&quot;</td><td>50679113</td><td>&quot;G&quot;</td><td>&quot;A&quot;</td><td>-12.025391</td><td>&quot;missense&quot;</td></tr><tr><td>&quot;22&quot;</td><td>50679113</td><td>&quot;G&quot;</td><td>&quot;C&quot;</td><td>-10.390625</td><td>&quot;missense&quot;</td></tr><tr><td>&quot;22&quot;</td><td>50679113</td><td>&quot;G&quot;</td><td>&quot;T&quot;</td><td>-11.851562</td><td>&quot;missense&quot;</td></tr></tbody></table></div>"
      ],
      "text/plain": [
       "shape: (28_926, 6)\n",
       "┌───────┬──────────┬─────┬─────┬────────────┬─────────────┐\n",
       "│ chrom ┆ pos      ┆ ref ┆ alt ┆ score      ┆ consequence │\n",
       "│ ---   ┆ ---      ┆ --- ┆ --- ┆ ---        ┆ ---         │\n",
       "│ str   ┆ i64      ┆ str ┆ str ┆ f32        ┆ str         │\n",
       "╞═══════╪══════════╪═════╪═════╪════════════╪═════════════╡\n",
       "│ 22    ┆ 17145047 ┆ G   ┆ A   ┆ -3.816406  ┆ synonymous  │\n",
       "│ 22    ┆ 17145047 ┆ G   ┆ C   ┆ -7.462891  ┆ missense    │\n",
       "│ 22    ┆ 17145047 ┆ G   ┆ T   ┆ -6.922852  ┆ missense    │\n",
       "│ 22    ┆ 17145049 ┆ T   ┆ A   ┆ -10.332031 ┆ missense    │\n",
       "│ 22    ┆ 17145049 ┆ T   ┆ C   ┆ -9.749023  ┆ missense    │\n",
       "│ …     ┆ …        ┆ …   ┆ …   ┆ …          ┆ …           │\n",
       "│ 22    ┆ 50679103 ┆ G   ┆ C   ┆ -11.148438 ┆ missense    │\n",
       "│ 22    ┆ 50679103 ┆ G   ┆ T   ┆ -12.335938 ┆ missense    │\n",
       "│ 22    ┆ 50679113 ┆ G   ┆ A   ┆ -12.025391 ┆ missense    │\n",
       "│ 22    ┆ 50679113 ┆ G   ┆ C   ┆ -10.390625 ┆ missense    │\n",
       "│ 22    ┆ 50679113 ┆ G   ┆ T   ┆ -11.851562 ┆ missense    │\n",
       "└───────┴──────────┴─────┴─────┴────────────┴─────────────┘"
      ]
     },
     "execution_count": 3,
     "metadata": {},
     "output_type": "execute_result"
    }
   ],
   "source": [
    "chrom = \"22\"\n",
    "model = \"multiz100way/89/128/64/True/defined.phastCons.percentile-75_0.05_0.001/medium/0.1/42/30000/True/True/True\"\n",
    "min_count_per_consequence = 30\n",
    "\n",
    "#variants = f\"../../results/positions/{chrom}/llr/{model}.subsample_10000000.annot.parquet\"\n",
    "variants = f\"../../results/positions/{chrom}/llr/{model}.conserved_pos_full_22.annot.parquet\"\n",
    "\n",
    "V = pl.read_parquet(variants)\n",
    "V = V.with_columns(\n",
    "    pl.col(\"consequence\").str.replace(\"_variant\", \"\")\n",
    ")\n",
    "\n",
    "# optional: replace with model without flipping\n",
    "#V = V.with_columns(\n",
    "#    score=pl.read_parquet(\"../../results/preds/results/ism_subset/multiz100way/89/128/64/True/defined.phastCons.percentile-75_0.05_0.001/medium/0.1/42/30000/True/True/False.parquet\")[\"score\"]\n",
    "#)\n",
    "\n",
    "# optional\n",
    "#V = V.drop(\"consequence\").rename({\"score\": \"GPN-MSA\"}).with_columns(\n",
    "#    pl.read_parquet(\"../../results/preds/results/ism_subset/msa_multiz100way/89.parquet\")[\"score\"].alias(\"MSA\"),\n",
    "#)\n",
    "\n",
    "V"
   ]
  },
  {
   "cell_type": "code",
   "execution_count": 4,
   "id": "913b61b2-3d15-4d9a-9b47-9175e54e4f75",
   "metadata": {
    "tags": []
   },
   "outputs": [],
   "source": [
    "#V.write_parquet(\"simulated_variants.parquet\")"
   ]
  },
  {
   "cell_type": "code",
   "execution_count": 5,
   "id": "977a2a1f-8be9-4a64-be3f-cafc334aaa97",
   "metadata": {
    "tags": []
   },
   "outputs": [
    {
     "data": {
      "text/html": [
       "<div><style>\n",
       ".dataframe > thead > tr,\n",
       ".dataframe > tbody > tr {\n",
       "  text-align: right;\n",
       "  white-space: pre-wrap;\n",
       "}\n",
       "</style>\n",
       "<small>shape: (10, 2)</small><table border=\"1\" class=\"dataframe\"><thead><tr><th>consequence</th><th>count</th></tr><tr><td>str</td><td>u32</td></tr></thead><tbody><tr><td>&quot;missense&quot;</td><td>26300</td></tr><tr><td>&quot;stop_gained&quot;</td><td>1348</td></tr><tr><td>&quot;splice_accepto…</td><td>585</td></tr><tr><td>&quot;splice_donor&quot;</td><td>492</td></tr><tr><td>&quot;splice_donor_5…</td><td>54</td></tr><tr><td>&quot;stop_lost&quot;</td><td>41</td></tr><tr><td>&quot;synonymous&quot;</td><td>31</td></tr><tr><td>&quot;splice_donor_r…</td><td>30</td></tr><tr><td>&quot;start_lost&quot;</td><td>24</td></tr><tr><td>&quot;splice_region&quot;</td><td>21</td></tr></tbody></table></div>"
      ],
      "text/plain": [
       "shape: (10, 2)\n",
       "┌───────────────────────┬───────┐\n",
       "│ consequence           ┆ count │\n",
       "│ ---                   ┆ ---   │\n",
       "│ str                   ┆ u32   │\n",
       "╞═══════════════════════╪═══════╡\n",
       "│ missense              ┆ 26300 │\n",
       "│ stop_gained           ┆ 1348  │\n",
       "│ splice_acceptor       ┆ 585   │\n",
       "│ splice_donor          ┆ 492   │\n",
       "│ splice_donor_5th_base ┆ 54    │\n",
       "│ stop_lost             ┆ 41    │\n",
       "│ synonymous            ┆ 31    │\n",
       "│ splice_donor_region   ┆ 30    │\n",
       "│ start_lost            ┆ 24    │\n",
       "│ splice_region         ┆ 21    │\n",
       "└───────────────────────┴───────┘"
      ]
     },
     "execution_count": 5,
     "metadata": {},
     "output_type": "execute_result"
    }
   ],
   "source": [
    "c_counts = V[\"consequence\"].value_counts().sort(\"count\", descending=True)\n",
    "c_counts"
   ]
  },
  {
   "cell_type": "code",
   "execution_count": 6,
   "id": "4d9b3d19-f080-46d7-8c07-1edbb46f47b7",
   "metadata": {
    "tags": []
   },
   "outputs": [
    {
     "data": {
      "text/html": [
       "<div><style>\n",
       ".dataframe > thead > tr,\n",
       ".dataframe > tbody > tr {\n",
       "  text-align: right;\n",
       "  white-space: pre-wrap;\n",
       "}\n",
       "</style>\n",
       "<small>shape: (8, 2)</small><table border=\"1\" class=\"dataframe\"><thead><tr><th>consequence</th><th>score</th></tr><tr><td>str</td><td>f32</td></tr></thead><tbody><tr><td>&quot;stop_gained&quot;</td><td>-13.515625</td></tr><tr><td>&quot;splice_donor_r…</td><td>-13.5</td></tr><tr><td>&quot;splice_donor&quot;</td><td>-13.484375</td></tr><tr><td>&quot;splice_donor_5…</td><td>-13.453125</td></tr><tr><td>&quot;splice_accepto…</td><td>-13.4375</td></tr><tr><td>&quot;stop_lost&quot;</td><td>-13.296875</td></tr><tr><td>&quot;missense&quot;</td><td>-13.195312</td></tr><tr><td>&quot;synonymous&quot;</td><td>-7.564453</td></tr></tbody></table></div>"
      ],
      "text/plain": [
       "shape: (8, 2)\n",
       "┌───────────────────────┬────────────┐\n",
       "│ consequence           ┆ score      │\n",
       "│ ---                   ┆ ---        │\n",
       "│ str                   ┆ f32        │\n",
       "╞═══════════════════════╪════════════╡\n",
       "│ stop_gained           ┆ -13.515625 │\n",
       "│ splice_donor_region   ┆ -13.5      │\n",
       "│ splice_donor          ┆ -13.484375 │\n",
       "│ splice_donor_5th_base ┆ -13.453125 │\n",
       "│ splice_acceptor       ┆ -13.4375   │\n",
       "│ stop_lost             ┆ -13.296875 │\n",
       "│ missense              ┆ -13.195312 │\n",
       "│ synonymous            ┆ -7.564453  │\n",
       "└───────────────────────┴────────────┘"
      ]
     },
     "execution_count": 6,
     "metadata": {},
     "output_type": "execute_result"
    }
   ],
   "source": [
    "c_quantile = V.filter(\n",
    "    pl.col(\"consequence\").is_in(c_counts.filter(pl.col(\"count\") >= min_count_per_consequence)[\"consequence\"])\n",
    ").group_by(\"consequence\").agg(pl.quantile(\"score\", 0.01)).sort(\"score\")\n",
    "c_quantile"
   ]
  },
  {
   "cell_type": "code",
   "execution_count": 7,
   "id": "77eef2b8-d469-47a3-9ab7-074710ceabad",
   "metadata": {},
   "outputs": [
    {
     "data": {
      "text/html": [
       "<div><style>\n",
       ".dataframe > thead > tr,\n",
       ".dataframe > tbody > tr {\n",
       "  text-align: right;\n",
       "  white-space: pre-wrap;\n",
       "}\n",
       "</style>\n",
       "<small>shape: (8,)</small><table border=\"1\" class=\"dataframe\"><thead><tr><th>consequence</th></tr><tr><td>str</td></tr></thead><tbody><tr><td>&quot;stop_gained&quot;</td></tr><tr><td>&quot;splice_donor_r…</td></tr><tr><td>&quot;splice_donor&quot;</td></tr><tr><td>&quot;splice_donor_5…</td></tr><tr><td>&quot;splice_accepto…</td></tr><tr><td>&quot;stop_lost&quot;</td></tr><tr><td>&quot;missense&quot;</td></tr><tr><td>&quot;synonymous&quot;</td></tr></tbody></table></div>"
      ],
      "text/plain": [
       "shape: (8,)\n",
       "Series: 'consequence' [str]\n",
       "[\n",
       "\t\"stop_gained\"\n",
       "\t\"splice_donor_r…\n",
       "\t\"splice_donor\"\n",
       "\t\"splice_donor_5…\n",
       "\t\"splice_accepto…\n",
       "\t\"stop_lost\"\n",
       "\t\"missense\"\n",
       "\t\"synonymous\"\n",
       "]"
      ]
     },
     "execution_count": 7,
     "metadata": {},
     "output_type": "execute_result"
    }
   ],
   "source": [
    "c_plot = c_quantile[\"consequence\"]\n",
    "c_plot"
   ]
  },
  {
   "cell_type": "code",
   "execution_count": 8,
   "id": "53f34ac1-2841-4eac-9568-378d4b57ced8",
   "metadata": {
    "tags": []
   },
   "outputs": [],
   "source": [
    "#c_plot = c_plot_backup.clone()"
   ]
  },
  {
   "cell_type": "code",
   "execution_count": 9,
   "id": "64171f44-a81a-4b31-ab64-01e9a8ec5b05",
   "metadata": {
    "tags": []
   },
   "outputs": [],
   "source": [
    "#c_plot_backup = c_plot.clone()"
   ]
  },
  {
   "cell_type": "code",
   "execution_count": 10,
   "id": "7ecfa5e2-a356-47b2-8aea-b679a1788cce",
   "metadata": {
    "tags": []
   },
   "outputs": [],
   "source": [
    "#c_plot = [\n",
    "#    \"stop_gained\",\n",
    "#    \"missense\",\n",
    "#    \"synonymous\",\n",
    "#]"
   ]
  },
  {
   "cell_type": "code",
   "execution_count": 11,
   "id": "4d181fc0-8250-4aad-ad09-0de351314f9f",
   "metadata": {
    "tags": []
   },
   "outputs": [
    {
     "data": {
      "text/html": [
       "<div>\n",
       "<style scoped>\n",
       "    .dataframe tbody tr th:only-of-type {\n",
       "        vertical-align: middle;\n",
       "    }\n",
       "\n",
       "    .dataframe tbody tr th {\n",
       "        vertical-align: top;\n",
       "    }\n",
       "\n",
       "    .dataframe thead th {\n",
       "        text-align: right;\n",
       "    }\n",
       "</style>\n",
       "<table border=\"1\" class=\"dataframe\">\n",
       "  <thead>\n",
       "    <tr style=\"text-align: right;\">\n",
       "      <th></th>\n",
       "      <th>chrom</th>\n",
       "      <th>pos</th>\n",
       "      <th>ref</th>\n",
       "      <th>alt</th>\n",
       "      <th>score</th>\n",
       "      <th>consequence</th>\n",
       "      <th>g</th>\n",
       "      <th>GPN-MSA score</th>\n",
       "    </tr>\n",
       "  </thead>\n",
       "  <tbody>\n",
       "    <tr>\n",
       "      <th>4127</th>\n",
       "      <td>22</td>\n",
       "      <td>20933939</td>\n",
       "      <td>G</td>\n",
       "      <td>T</td>\n",
       "      <td>-12.732422</td>\n",
       "      <td>stop_gained</td>\n",
       "      <td>stop_gained</td>\n",
       "      <td>-12.732422</td>\n",
       "    </tr>\n",
       "    <tr>\n",
       "      <th>25454</th>\n",
       "      <td>22</td>\n",
       "      <td>41225858</td>\n",
       "      <td>G</td>\n",
       "      <td>A</td>\n",
       "      <td>-11.556641</td>\n",
       "      <td>stop_gained</td>\n",
       "      <td>stop_gained</td>\n",
       "      <td>-11.556641</td>\n",
       "    </tr>\n",
       "    <tr>\n",
       "      <th>3678</th>\n",
       "      <td>22</td>\n",
       "      <td>20125363</td>\n",
       "      <td>G</td>\n",
       "      <td>A</td>\n",
       "      <td>-11.732422</td>\n",
       "      <td>stop_gained</td>\n",
       "      <td>stop_gained</td>\n",
       "      <td>-11.732422</td>\n",
       "    </tr>\n",
       "    <tr>\n",
       "      <th>12008</th>\n",
       "      <td>22</td>\n",
       "      <td>36298961</td>\n",
       "      <td>T</td>\n",
       "      <td>A</td>\n",
       "      <td>-12.968750</td>\n",
       "      <td>stop_gained</td>\n",
       "      <td>stop_gained</td>\n",
       "      <td>-12.968750</td>\n",
       "    </tr>\n",
       "    <tr>\n",
       "      <th>11999</th>\n",
       "      <td>22</td>\n",
       "      <td>36298955</td>\n",
       "      <td>T</td>\n",
       "      <td>A</td>\n",
       "      <td>-12.585938</td>\n",
       "      <td>stop_gained</td>\n",
       "      <td>stop_gained</td>\n",
       "      <td>-12.585938</td>\n",
       "    </tr>\n",
       "    <tr>\n",
       "      <th>...</th>\n",
       "      <td>...</td>\n",
       "      <td>...</td>\n",
       "      <td>...</td>\n",
       "      <td>...</td>\n",
       "      <td>...</td>\n",
       "      <td>...</td>\n",
       "      <td>...</td>\n",
       "      <td>...</td>\n",
       "    </tr>\n",
       "    <tr>\n",
       "      <th>14594</th>\n",
       "      <td>22</td>\n",
       "      <td>36348919</td>\n",
       "      <td>G</td>\n",
       "      <td>A</td>\n",
       "      <td>-4.208984</td>\n",
       "      <td>synonymous</td>\n",
       "      <td>synonymous</td>\n",
       "      <td>-4.208984</td>\n",
       "    </tr>\n",
       "    <tr>\n",
       "      <th>3650</th>\n",
       "      <td>22</td>\n",
       "      <td>20125348</td>\n",
       "      <td>C</td>\n",
       "      <td>T</td>\n",
       "      <td>-3.384766</td>\n",
       "      <td>synonymous</td>\n",
       "      <td>synonymous</td>\n",
       "      <td>-3.384766</td>\n",
       "    </tr>\n",
       "    <tr>\n",
       "      <th>20308</th>\n",
       "      <td>22</td>\n",
       "      <td>39313289</td>\n",
       "      <td>G</td>\n",
       "      <td>T</td>\n",
       "      <td>-4.174805</td>\n",
       "      <td>synonymous</td>\n",
       "      <td>synonymous</td>\n",
       "      <td>-4.174805</td>\n",
       "    </tr>\n",
       "    <tr>\n",
       "      <th>17936</th>\n",
       "      <td>22</td>\n",
       "      <td>38225512</td>\n",
       "      <td>G</td>\n",
       "      <td>A</td>\n",
       "      <td>-3.796875</td>\n",
       "      <td>synonymous</td>\n",
       "      <td>synonymous</td>\n",
       "      <td>-3.796875</td>\n",
       "    </tr>\n",
       "    <tr>\n",
       "      <th>0</th>\n",
       "      <td>22</td>\n",
       "      <td>17145047</td>\n",
       "      <td>G</td>\n",
       "      <td>A</td>\n",
       "      <td>-3.816406</td>\n",
       "      <td>synonymous</td>\n",
       "      <td>synonymous</td>\n",
       "      <td>-3.816406</td>\n",
       "    </tr>\n",
       "  </tbody>\n",
       "</table>\n",
       "<p>28881 rows × 8 columns</p>\n",
       "</div>"
      ],
      "text/plain": [
       "      chrom       pos ref alt      score  consequence            g  \\\n",
       "4127     22  20933939   G   T -12.732422  stop_gained  stop_gained   \n",
       "25454    22  41225858   G   A -11.556641  stop_gained  stop_gained   \n",
       "3678     22  20125363   G   A -11.732422  stop_gained  stop_gained   \n",
       "12008    22  36298961   T   A -12.968750  stop_gained  stop_gained   \n",
       "11999    22  36298955   T   A -12.585938  stop_gained  stop_gained   \n",
       "...     ...       ...  ..  ..        ...          ...          ...   \n",
       "14594    22  36348919   G   A  -4.208984   synonymous   synonymous   \n",
       "3650     22  20125348   C   T  -3.384766   synonymous   synonymous   \n",
       "20308    22  39313289   G   T  -4.174805   synonymous   synonymous   \n",
       "17936    22  38225512   G   A  -3.796875   synonymous   synonymous   \n",
       "0        22  17145047   G   A  -3.816406   synonymous   synonymous   \n",
       "\n",
       "       GPN-MSA score  \n",
       "4127      -12.732422  \n",
       "25454     -11.556641  \n",
       "3678      -11.732422  \n",
       "12008     -12.968750  \n",
       "11999     -12.585938  \n",
       "...              ...  \n",
       "14594      -4.208984  \n",
       "3650       -3.384766  \n",
       "20308      -4.174805  \n",
       "17936      -3.796875  \n",
       "0          -3.816406  \n",
       "\n",
       "[28881 rows x 8 columns]"
      ]
     },
     "execution_count": 11,
     "metadata": {},
     "output_type": "execute_result"
    }
   ],
   "source": [
    "score_col = \"GPN-MSA score\"\n",
    "df = V.filter(pl.col(\"consequence\").is_in(c_plot)).to_pandas()\n",
    "df[\"g\"] = df.consequence\n",
    "df[score_col] = df.score\n",
    "df['consequence'] = pd.Categorical(df['consequence'], categories=c_plot, ordered=True)\n",
    "df = df.sort_values(\"consequence\")\n",
    "df"
   ]
  },
  {
   "cell_type": "code",
   "execution_count": 12,
   "id": "bb88ad94-70fa-4181-b12f-9aefe16b5034",
   "metadata": {
    "tags": []
   },
   "outputs": [
    {
     "data": {
      "text/plain": [
       "(-13.8055625, -3.5217812500004086)"
      ]
     },
     "execution_count": 12,
     "metadata": {},
     "output_type": "execute_result"
    }
   ],
   "source": [
    "q = 1 / 10_000\n",
    "x_left, x_right = df[score_col].quantile(q), df[score_col].quantile(1-q)\n",
    "x_left, x_right"
   ]
  },
  {
   "cell_type": "code",
   "execution_count": 27,
   "id": "d4050c30-d349-4805-8c0d-e0eaedde447f",
   "metadata": {
    "tags": []
   },
   "outputs": [
    {
     "data": {
      "image/png": "[encoded data removed]",
      "text/plain": [
       "<Figure size 230.4x230.4 with 8 Axes>"
      ]
     },
     "metadata": {},
     "output_type": "display_data"
    }
   ],
   "source": [
    "sns.set_theme(style=\"white\", rc={\"axes.facecolor\": (0, 0, 0, 0)})\n",
    "\n",
    "pal = sns.cubehelix_palette(len(c_plot), rot=-.25, light=.7, reverse=True)\n",
    "g = sns.FacetGrid(\n",
    "    df, row=\"g\", hue=\"g\",\n",
    "    #aspect=10, height=0.5,\n",
    "    #aspect=5, height=0.4,\n",
    "    aspect=8, height=0.4,\n",
    "    palette=pal,\n",
    "    sharey=False,\n",
    ")\n",
    "\n",
    "g.map(\n",
    "    sns.histplot,\n",
    "    score_col,\n",
    "    bins=np.linspace(x_left, x_right, 50),\n",
    "    alpha=1,\n",
    "    fill=True,\n",
    "    stat=\"density\",\n",
    ")\n",
    "\n",
    "def label(x, color, label):\n",
    "    n = c_counts.filter(consequence=label)[0, \"count\"]\n",
    "    label = label.replace(\"_\", \" \")\n",
    "    label = f\"{label} (n={format_number(n)})\"\n",
    "    #label = label.replace(\"non_coding_transcript_exon\", \"non_coding\\ntranscript_exon\")\n",
    "    #label = label.replace(\"splice_polypyrimidine_tract\", \"splice_polypyrimidine\\ntract\")\n",
    "    ax = plt.gca()\n",
    "    ax.text(\n",
    "        0, .2, label, fontweight=\"bold\", color=color,\n",
    "        ha=\"right\",\n",
    "        va=\"center\", transform=ax.transAxes\n",
    "    )\n",
    "g.map(label, score_col)\n",
    "\n",
    "# start: quantile\n",
    "\"\"\"\n",
    "def add_quantile(x, color, label):\n",
    "    ax = plt.gca()\n",
    "    artist = ax.axvline(x.quantile(0.01), ls='--', color=color)\n",
    "    \n",
    "g.map(add_quantile, score_col)\n",
    "\n",
    "import matplotlib\n",
    "artist = [c for c in g.axes[0,0].get_children() if type(c)==matplotlib.lines.Line2D][0]\n",
    "legend = g.axes[0,0].legend([artist], [\"1st percentile\"], loc=\"upper right\")\n",
    "legend.get_frame().set_facecolor('white')\n",
    "\"\"\"\n",
    "# end: quantile\n",
    "\n",
    "# Set the subplots to overlap\n",
    "g.figure.subplots_adjust(hspace=-.25)\n",
    "\n",
    "g.set_titles(\"\")\n",
    "g.set(yticks=[], ylabel=\"\")\n",
    "g.despine(bottom=True, left=True);\n",
    "\n",
    "plt.suptitle(\"Simulated variants at perfectly conserved positions\", x=0.1)\n",
    "\n",
    "#plt.axvline(-1.6)\n",
    "\n",
    "#plt.savefig(\"../../results/plots/ism.svg\", bbox_inches=\"tight\")\n",
    "#plt.savefig(\"../../results/plots/ism_noshuffle.svg\", bbox_inches=\"tight\")\n",
    "\n",
    "#plt.savefig(\"../../results/plots/ism_fully_conserved_pos.svg\", bbox_inches=\"tight\")"
   ]
  },
  {
   "cell_type": "code",
   "execution_count": 13,
   "id": "571a20aa-118b-4d2f-a29e-d7706cf749cf",
   "metadata": {},
   "outputs": [],
   "source": [
    "#0.625, 0.125, 0.125, 0.125"
   ]
  }
 ],
 "metadata": {
  "kernelspec": {
   "display_name": "gpn",
   "language": "python",
   "name": "gpn"
  },
  "language_info": {
   "codemirror_mode": {
    "name": "ipython",
    "version": 3
   },
   "file_extension": ".py",
   "mimetype": "text/x-python",
   "name": "python",
   "nbconvert_exporter": "python",
   "pygments_lexer": "ipython3",
   "version": "3.11.3"
  }
 },
 "nbformat": 4,
 "nbformat_minor": 5
}
