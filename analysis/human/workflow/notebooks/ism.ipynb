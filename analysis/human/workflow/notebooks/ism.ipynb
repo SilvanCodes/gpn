{
 "cells": [
  {
   "cell_type": "code",
   "execution_count": 1,
   "id": "5875562a-7632-419d-85a7-6f8db5df58a6",
   "metadata": {
    "tags": []
   },
   "outputs": [],
   "source": [
    "import matplotlib.pyplot as plt\n",
    "import numpy as np\n",
    "import pandas as pd\n",
    "import polars as pl\n",
    "import seaborn as sns\n",
    "import warnings\n",
    "warnings.filterwarnings('ignore')"
   ]
  },
  {
   "cell_type": "code",
   "execution_count": 2,
   "id": "c0d2ded7-90e4-48c6-9b19-da09b2978943",
   "metadata": {
    "tags": []
   },
   "outputs": [],
   "source": [
    "def format_number(num):\n",
    "    \"\"\"\n",
    "    Converts a number into a more readable format, using K for thousands, M for millions, etc.\n",
    "    Args:\n",
    "    - num: The number to format.\n",
    "    \n",
    "    Returns:\n",
    "    - A formatted string representing the number.\n",
    "    \"\"\"\n",
    "    if num >= 1e9:\n",
    "        return f'{num/1e9:.1f}B'\n",
    "    elif num >= 1e6:\n",
    "        return f'{num/1e6:.1f}M'\n",
    "    elif num >= 1e3:\n",
    "        return f'{num/1e3:.1f}K'\n",
    "    else:\n",
    "        return str(num)"
   ]
  },
  {
   "cell_type": "code",
   "execution_count": 3,
   "id": "7b616b49-5198-4829-9d0e-1791677a341e",
   "metadata": {
    "tags": []
   },
   "outputs": [
    {
     "data": {
      "text/html": [
       "<div><style>\n",
       ".dataframe > thead > tr,\n",
       ".dataframe > tbody > tr {\n",
       "  text-align: right;\n",
       "  white-space: pre-wrap;\n",
       "}\n",
       "</style>\n",
       "<small>shape: (10_000_000, 6)</small><table border=\"1\" class=\"dataframe\"><thead><tr><th>chrom</th><th>pos</th><th>ref</th><th>alt</th><th>score</th><th>consequence</th></tr><tr><td>str</td><td>i64</td><td>str</td><td>str</td><td>f32</td><td>str</td></tr></thead><tbody><tr><td>&quot;22&quot;</td><td>10510068</td><td>&quot;A&quot;</td><td>&quot;G&quot;</td><td>-2.857422</td><td>&quot;intergenic&quot;</td></tr><tr><td>&quot;22&quot;</td><td>10510076</td><td>&quot;T&quot;</td><td>&quot;G&quot;</td><td>-4.382812</td><td>&quot;intergenic&quot;</td></tr><tr><td>&quot;22&quot;</td><td>10510080</td><td>&quot;A&quot;</td><td>&quot;T&quot;</td><td>-4.503906</td><td>&quot;intergenic&quot;</td></tr><tr><td>&quot;22&quot;</td><td>10510084</td><td>&quot;T&quot;</td><td>&quot;C&quot;</td><td>1.0390625</td><td>&quot;intergenic&quot;</td></tr><tr><td>&quot;22&quot;</td><td>10510087</td><td>&quot;T&quot;</td><td>&quot;G&quot;</td><td>-1.240234</td><td>&quot;intergenic&quot;</td></tr><tr><td>&quot;22&quot;</td><td>10510093</td><td>&quot;C&quot;</td><td>&quot;T&quot;</td><td>-0.216919</td><td>&quot;intergenic&quot;</td></tr><tr><td>&quot;22&quot;</td><td>10510098</td><td>&quot;T&quot;</td><td>&quot;C&quot;</td><td>-4.558594</td><td>&quot;intergenic&quot;</td></tr><tr><td>&quot;22&quot;</td><td>10510100</td><td>&quot;C&quot;</td><td>&quot;A&quot;</td><td>-3.8125</td><td>&quot;intergenic&quot;</td></tr><tr><td>&quot;22&quot;</td><td>10510100</td><td>&quot;C&quot;</td><td>&quot;G&quot;</td><td>-3.941406</td><td>&quot;intergenic&quot;</td></tr><tr><td>&quot;22&quot;</td><td>10510100</td><td>&quot;C&quot;</td><td>&quot;T&quot;</td><td>-1.238281</td><td>&quot;intergenic&quot;</td></tr><tr><td>&quot;22&quot;</td><td>10510102</td><td>&quot;A&quot;</td><td>&quot;C&quot;</td><td>-4.074219</td><td>&quot;intergenic&quot;</td></tr><tr><td>&quot;22&quot;</td><td>10510110</td><td>&quot;T&quot;</td><td>&quot;A&quot;</td><td>-5.054688</td><td>&quot;intergenic&quot;</td></tr><tr><td>&hellip;</td><td>&hellip;</td><td>&hellip;</td><td>&hellip;</td><td>&hellip;</td><td>&hellip;</td></tr><tr><td>&quot;22&quot;</td><td>50808366</td><td>&quot;T&quot;</td><td>&quot;G&quot;</td><td>0.948242</td><td>&quot;intergenic&quot;</td></tr><tr><td>&quot;22&quot;</td><td>50808373</td><td>&quot;A&quot;</td><td>&quot;G&quot;</td><td>1.094727</td><td>&quot;intergenic&quot;</td></tr><tr><td>&quot;22&quot;</td><td>50808375</td><td>&quot;G&quot;</td><td>&quot;A&quot;</td><td>-0.518066</td><td>&quot;intergenic&quot;</td></tr><tr><td>&quot;22&quot;</td><td>50808377</td><td>&quot;T&quot;</td><td>&quot;C&quot;</td><td>0.11377</td><td>&quot;intergenic&quot;</td></tr><tr><td>&quot;22&quot;</td><td>50808379</td><td>&quot;G&quot;</td><td>&quot;T&quot;</td><td>-0.121094</td><td>&quot;intergenic&quot;</td></tr><tr><td>&quot;22&quot;</td><td>50808381</td><td>&quot;G&quot;</td><td>&quot;T&quot;</td><td>-0.214844</td><td>&quot;intergenic&quot;</td></tr><tr><td>&quot;22&quot;</td><td>50808384</td><td>&quot;G&quot;</td><td>&quot;A&quot;</td><td>-1.084961</td><td>&quot;intergenic&quot;</td></tr><tr><td>&quot;22&quot;</td><td>50808387</td><td>&quot;G&quot;</td><td>&quot;T&quot;</td><td>-0.287109</td><td>&quot;intergenic&quot;</td></tr><tr><td>&quot;22&quot;</td><td>50808390</td><td>&quot;A&quot;</td><td>&quot;G&quot;</td><td>1.291016</td><td>&quot;intergenic&quot;</td></tr><tr><td>&quot;22&quot;</td><td>50808391</td><td>&quot;G&quot;</td><td>&quot;C&quot;</td><td>-2.759766</td><td>&quot;intergenic&quot;</td></tr><tr><td>&quot;22&quot;</td><td>50808397</td><td>&quot;G&quot;</td><td>&quot;T&quot;</td><td>-0.141602</td><td>&quot;intergenic&quot;</td></tr><tr><td>&quot;22&quot;</td><td>50808401</td><td>&quot;T&quot;</td><td>&quot;A&quot;</td><td>-0.224121</td><td>&quot;intergenic&quot;</td></tr></tbody></table></div>"
      ],
      "text/plain": [
       "shape: (10_000_000, 6)\n",
       "┌───────┬──────────┬─────┬─────┬───────────┬─────────────┐\n",
       "│ chrom ┆ pos      ┆ ref ┆ alt ┆ score     ┆ consequence │\n",
       "│ ---   ┆ ---      ┆ --- ┆ --- ┆ ---       ┆ ---         │\n",
       "│ str   ┆ i64      ┆ str ┆ str ┆ f32       ┆ str         │\n",
       "╞═══════╪══════════╪═════╪═════╪═══════════╪═════════════╡\n",
       "│ 22    ┆ 10510068 ┆ A   ┆ G   ┆ -2.857422 ┆ intergenic  │\n",
       "│ 22    ┆ 10510076 ┆ T   ┆ G   ┆ -4.382812 ┆ intergenic  │\n",
       "│ 22    ┆ 10510080 ┆ A   ┆ T   ┆ -4.503906 ┆ intergenic  │\n",
       "│ 22    ┆ 10510084 ┆ T   ┆ C   ┆ 1.0390625 ┆ intergenic  │\n",
       "│ 22    ┆ 10510087 ┆ T   ┆ G   ┆ -1.240234 ┆ intergenic  │\n",
       "│ …     ┆ …        ┆ …   ┆ …   ┆ …         ┆ …           │\n",
       "│ 22    ┆ 50808387 ┆ G   ┆ T   ┆ -0.287109 ┆ intergenic  │\n",
       "│ 22    ┆ 50808390 ┆ A   ┆ G   ┆ 1.291016  ┆ intergenic  │\n",
       "│ 22    ┆ 50808391 ┆ G   ┆ C   ┆ -2.759766 ┆ intergenic  │\n",
       "│ 22    ┆ 50808397 ┆ G   ┆ T   ┆ -0.141602 ┆ intergenic  │\n",
       "│ 22    ┆ 50808401 ┆ T   ┆ A   ┆ -0.224121 ┆ intergenic  │\n",
       "└───────┴──────────┴─────┴─────┴───────────┴─────────────┘"
      ]
     },
     "execution_count": 3,
     "metadata": {},
     "output_type": "execute_result"
    }
   ],
   "source": [
    "chrom = \"22\"\n",
    "model = \"multiz100way/89/128/64/True/defined.phastCons.percentile-75_0.05_0.001/medium/0.1/42/30000/True/True/True\"\n",
    "min_count_per_consequence = 100\n",
    "\n",
    "variants = f\"../../results/positions/{chrom}/llr/{model}.subsample_10000000.annot.parquet\"\n",
    "#variants = f\"../../results/positions/{chrom}/llr/{model}.conserved_pos_full_22.annot.parquet\"\n",
    "\n",
    "V = pl.read_parquet(variants)\n",
    "V = V.with_columns(\n",
    "    pl.col(\"consequence\").str.replace(\"_variant\", \"\")\n",
    ")\n",
    "\n",
    "# optional: replace with model without flipping\n",
    "V = V.with_columns(\n",
    "    score=pl.read_parquet(\"../../results/preds/results/ism_subset/multiz100way/89/128/64/True/defined.phastCons.percentile-75_0.05_0.001/medium/0.1/42/30000/True/True/False.parquet\")[\"score\"]\n",
    ")\n",
    "\n",
    "V"
   ]
  },
  {
   "cell_type": "code",
   "execution_count": 4,
   "id": "977a2a1f-8be9-4a64-be3f-cafc334aaa97",
   "metadata": {
    "tags": []
   },
   "outputs": [
    {
     "data": {
      "text/html": [
       "<div><style>\n",
       ".dataframe > thead > tr,\n",
       ".dataframe > tbody > tr {\n",
       "  text-align: right;\n",
       "  white-space: pre-wrap;\n",
       "}\n",
       "</style>\n",
       "<small>shape: (22, 2)</small><table border=\"1\" class=\"dataframe\"><thead><tr><th>consequence</th><th>count</th></tr><tr><td>str</td><td>u32</td></tr></thead><tbody><tr><td>&quot;intron&quot;</td><td>5275697</td></tr><tr><td>&quot;intergenic&quot;</td><td>3446002</td></tr><tr><td>&quot;non_coding_tra…</td><td>443413</td></tr><tr><td>&quot;3_prime_UTR&quot;</td><td>198938</td></tr><tr><td>&quot;upstream_gene&quot;</td><td>183453</td></tr><tr><td>&quot;downstream_gen…</td><td>170413</td></tr><tr><td>&quot;missense&quot;</td><td>140041</td></tr><tr><td>&quot;5_prime_UTR&quot;</td><td>46155</td></tr><tr><td>&quot;synonymous&quot;</td><td>42172</td></tr><tr><td>&quot;splice_polypyr…</td><td>23324</td></tr><tr><td>&quot;splice_region&quot;</td><td>8122</td></tr><tr><td>&quot;stop_gained&quot;</td><td>7359</td></tr><tr><td>&quot;splice_donor_r…</td><td>4869</td></tr><tr><td>&quot;splice_donor&quot;</td><td>3365</td></tr><tr><td>&quot;splice_accepto…</td><td>3347</td></tr><tr><td>&quot;splice_donor_5…</td><td>1704</td></tr><tr><td>&quot;stop_lost&quot;</td><td>639</td></tr><tr><td>&quot;start_lost&quot;</td><td>541</td></tr><tr><td>&quot;mature_miRNA&quot;</td><td>355</td></tr><tr><td>&quot;stop_retained&quot;</td><td>67</td></tr><tr><td>&quot;incomplete_ter…</td><td>18</td></tr><tr><td>&quot;coding_sequenc…</td><td>6</td></tr></tbody></table></div>"
      ],
      "text/plain": [
       "shape: (22, 2)\n",
       "┌────────────────────────────┬─────────┐\n",
       "│ consequence                ┆ count   │\n",
       "│ ---                        ┆ ---     │\n",
       "│ str                        ┆ u32     │\n",
       "╞════════════════════════════╪═════════╡\n",
       "│ intron                     ┆ 5275697 │\n",
       "│ intergenic                 ┆ 3446002 │\n",
       "│ non_coding_transcript_exon ┆ 443413  │\n",
       "│ 3_prime_UTR                ┆ 198938  │\n",
       "│ upstream_gene              ┆ 183453  │\n",
       "│ …                          ┆ …       │\n",
       "│ start_lost                 ┆ 541     │\n",
       "│ mature_miRNA               ┆ 355     │\n",
       "│ stop_retained              ┆ 67      │\n",
       "│ incomplete_terminal_codon  ┆ 18      │\n",
       "│ coding_sequence            ┆ 6       │\n",
       "└────────────────────────────┴─────────┘"
      ]
     },
     "execution_count": 4,
     "metadata": {},
     "output_type": "execute_result"
    }
   ],
   "source": [
    "c_counts = V[\"consequence\"].value_counts().sort(\"count\", descending=True)\n",
    "c_counts"
   ]
  },
  {
   "cell_type": "code",
   "execution_count": 5,
   "id": "4d9b3d19-f080-46d7-8c07-1edbb46f47b7",
   "metadata": {
    "tags": []
   },
   "outputs": [
    {
     "data": {
      "text/html": [
       "<div><style>\n",
       ".dataframe > thead > tr,\n",
       ".dataframe > tbody > tr {\n",
       "  text-align: right;\n",
       "  white-space: pre-wrap;\n",
       "}\n",
       "</style>\n",
       "<small>shape: (19, 2)</small><table border=\"1\" class=\"dataframe\"><thead><tr><th>consequence</th><th>score</th></tr><tr><td>str</td><td>f32</td></tr></thead><tbody><tr><td>&quot;splice_accepto…</td><td>-13.203125</td></tr><tr><td>&quot;stop_gained&quot;</td><td>-13.125</td></tr><tr><td>&quot;splice_donor&quot;</td><td>-13.109375</td></tr><tr><td>&quot;splice_donor_5…</td><td>-12.921875</td></tr><tr><td>&quot;missense&quot;</td><td>-12.679688</td></tr><tr><td>&quot;start_lost&quot;</td><td>-12.460938</td></tr><tr><td>&quot;stop_lost&quot;</td><td>-12.460938</td></tr><tr><td>&quot;splice_donor_r…</td><td>-11.03125</td></tr><tr><td>&quot;mature_miRNA&quot;</td><td>-10.515625</td></tr><tr><td>&quot;splice_polypyr…</td><td>-9.398438</td></tr><tr><td>&quot;splice_region&quot;</td><td>-9.054688</td></tr><tr><td>&quot;5_prime_UTR&quot;</td><td>-8.359375</td></tr><tr><td>&quot;3_prime_UTR&quot;</td><td>-8.0</td></tr><tr><td>&quot;non_coding_tra…</td><td>-7.3125</td></tr><tr><td>&quot;synonymous&quot;</td><td>-7.175781</td></tr><tr><td>&quot;upstream_gene&quot;</td><td>-7.019531</td></tr><tr><td>&quot;downstream_gen…</td><td>-6.652344</td></tr><tr><td>&quot;intron&quot;</td><td>-6.640625</td></tr><tr><td>&quot;intergenic&quot;</td><td>-6.222656</td></tr></tbody></table></div>"
      ],
      "text/plain": [
       "shape: (19, 2)\n",
       "┌───────────────────────┬────────────┐\n",
       "│ consequence           ┆ score      │\n",
       "│ ---                   ┆ ---        │\n",
       "│ str                   ┆ f32        │\n",
       "╞═══════════════════════╪════════════╡\n",
       "│ splice_acceptor       ┆ -13.203125 │\n",
       "│ stop_gained           ┆ -13.125    │\n",
       "│ splice_donor          ┆ -13.109375 │\n",
       "│ splice_donor_5th_base ┆ -12.921875 │\n",
       "│ missense              ┆ -12.679688 │\n",
       "│ …                     ┆ …          │\n",
       "│ synonymous            ┆ -7.175781  │\n",
       "│ upstream_gene         ┆ -7.019531  │\n",
       "│ downstream_gene       ┆ -6.652344  │\n",
       "│ intron                ┆ -6.640625  │\n",
       "│ intergenic            ┆ -6.222656  │\n",
       "└───────────────────────┴────────────┘"
      ]
     },
     "execution_count": 5,
     "metadata": {},
     "output_type": "execute_result"
    }
   ],
   "source": [
    "c_quantile = V.filter(\n",
    "    pl.col(\"consequence\").is_in(c_counts.filter(pl.col(\"count\") >= min_count_per_consequence)[\"consequence\"])\n",
    ").group_by(\"consequence\").agg(pl.quantile(\"score\", 0.01)).sort(\"score\")\n",
    "c_quantile"
   ]
  },
  {
   "cell_type": "code",
   "execution_count": 6,
   "id": "77eef2b8-d469-47a3-9ab7-074710ceabad",
   "metadata": {},
   "outputs": [
    {
     "data": {
      "text/html": [
       "<div><style>\n",
       ".dataframe > thead > tr,\n",
       ".dataframe > tbody > tr {\n",
       "  text-align: right;\n",
       "  white-space: pre-wrap;\n",
       "}\n",
       "</style>\n",
       "<small>shape: (19,)</small><table border=\"1\" class=\"dataframe\"><thead><tr><th>consequence</th></tr><tr><td>str</td></tr></thead><tbody><tr><td>&quot;splice_accepto…</td></tr><tr><td>&quot;stop_gained&quot;</td></tr><tr><td>&quot;splice_donor&quot;</td></tr><tr><td>&quot;splice_donor_5…</td></tr><tr><td>&quot;missense&quot;</td></tr><tr><td>&quot;start_lost&quot;</td></tr><tr><td>&quot;stop_lost&quot;</td></tr><tr><td>&quot;splice_donor_r…</td></tr><tr><td>&quot;mature_miRNA&quot;</td></tr><tr><td>&quot;splice_polypyr…</td></tr><tr><td>&quot;splice_region&quot;</td></tr><tr><td>&quot;5_prime_UTR&quot;</td></tr><tr><td>&quot;3_prime_UTR&quot;</td></tr><tr><td>&quot;non_coding_tra…</td></tr><tr><td>&quot;synonymous&quot;</td></tr><tr><td>&quot;upstream_gene&quot;</td></tr><tr><td>&quot;downstream_gen…</td></tr><tr><td>&quot;intron&quot;</td></tr><tr><td>&quot;intergenic&quot;</td></tr></tbody></table></div>"
      ],
      "text/plain": [
       "shape: (19,)\n",
       "Series: 'consequence' [str]\n",
       "[\n",
       "\t\"splice_accepto…\n",
       "\t\"stop_gained\"\n",
       "\t\"splice_donor\"\n",
       "\t\"splice_donor_5…\n",
       "\t\"missense\"\n",
       "\t\"start_lost\"\n",
       "\t\"stop_lost\"\n",
       "\t\"splice_donor_r…\n",
       "\t\"mature_miRNA\"\n",
       "\t\"splice_polypyr…\n",
       "\t\"splice_region\"\n",
       "\t\"5_prime_UTR\"\n",
       "\t\"3_prime_UTR\"\n",
       "\t\"non_coding_tra…\n",
       "\t\"synonymous\"\n",
       "\t\"upstream_gene\"\n",
       "\t\"downstream_gen…\n",
       "\t\"intron\"\n",
       "\t\"intergenic\"\n",
       "]"
      ]
     },
     "execution_count": 6,
     "metadata": {},
     "output_type": "execute_result"
    }
   ],
   "source": [
    "c_plot = c_quantile[\"consequence\"]\n",
    "c_plot"
   ]
  },
  {
   "cell_type": "code",
   "execution_count": 7,
   "id": "53f34ac1-2841-4eac-9568-378d4b57ced8",
   "metadata": {
    "tags": []
   },
   "outputs": [],
   "source": [
    "#c_plot = c_plot_backup.clone()"
   ]
  },
  {
   "cell_type": "code",
   "execution_count": 8,
   "id": "64171f44-a81a-4b31-ab64-01e9a8ec5b05",
   "metadata": {
    "tags": []
   },
   "outputs": [],
   "source": [
    "#c_plot_backup = c_plot.clone()"
   ]
  },
  {
   "cell_type": "code",
   "execution_count": 9,
   "id": "7ecfa5e2-a356-47b2-8aea-b679a1788cce",
   "metadata": {
    "tags": []
   },
   "outputs": [],
   "source": [
    "#c_plot = [\n",
    "#    \"stop_gained\",\n",
    "#    \"missense\",\n",
    "#    \"synonymous\",\n",
    "#]"
   ]
  },
  {
   "cell_type": "code",
   "execution_count": 10,
   "id": "4d181fc0-8250-4aad-ad09-0de351314f9f",
   "metadata": {
    "tags": []
   },
   "outputs": [
    {
     "data": {
      "text/html": [
       "<div>\n",
       "<style scoped>\n",
       "    .dataframe tbody tr th:only-of-type {\n",
       "        vertical-align: middle;\n",
       "    }\n",
       "\n",
       "    .dataframe tbody tr th {\n",
       "        vertical-align: top;\n",
       "    }\n",
       "\n",
       "    .dataframe thead th {\n",
       "        text-align: right;\n",
       "    }\n",
       "</style>\n",
       "<table border=\"1\" class=\"dataframe\">\n",
       "  <thead>\n",
       "    <tr style=\"text-align: right;\">\n",
       "      <th></th>\n",
       "      <th>chrom</th>\n",
       "      <th>pos</th>\n",
       "      <th>ref</th>\n",
       "      <th>alt</th>\n",
       "      <th>score</th>\n",
       "      <th>consequence</th>\n",
       "      <th>g</th>\n",
       "      <th>GPN-MSA score</th>\n",
       "    </tr>\n",
       "  </thead>\n",
       "  <tbody>\n",
       "    <tr>\n",
       "      <th>4965860</th>\n",
       "      <td>22</td>\n",
       "      <td>31106165</td>\n",
       "      <td>T</td>\n",
       "      <td>G</td>\n",
       "      <td>-5.156250</td>\n",
       "      <td>splice_acceptor</td>\n",
       "      <td>splice_acceptor</td>\n",
       "      <td>-5.156250</td>\n",
       "    </tr>\n",
       "    <tr>\n",
       "      <th>7892591</th>\n",
       "      <td>22</td>\n",
       "      <td>42560184</td>\n",
       "      <td>A</td>\n",
       "      <td>C</td>\n",
       "      <td>-9.421875</td>\n",
       "      <td>splice_acceptor</td>\n",
       "      <td>splice_acceptor</td>\n",
       "      <td>-9.421875</td>\n",
       "    </tr>\n",
       "    <tr>\n",
       "      <th>3015484</th>\n",
       "      <td>22</td>\n",
       "      <td>23462679</td>\n",
       "      <td>C</td>\n",
       "      <td>G</td>\n",
       "      <td>-0.204346</td>\n",
       "      <td>splice_acceptor</td>\n",
       "      <td>splice_acceptor</td>\n",
       "      <td>-0.204346</td>\n",
       "    </tr>\n",
       "    <tr>\n",
       "      <th>6733965</th>\n",
       "      <td>22</td>\n",
       "      <td>38025867</td>\n",
       "      <td>A</td>\n",
       "      <td>G</td>\n",
       "      <td>-2.248047</td>\n",
       "      <td>splice_acceptor</td>\n",
       "      <td>splice_acceptor</td>\n",
       "      <td>-2.248047</td>\n",
       "    </tr>\n",
       "    <tr>\n",
       "      <th>3588808</th>\n",
       "      <td>22</td>\n",
       "      <td>25709897</td>\n",
       "      <td>G</td>\n",
       "      <td>T</td>\n",
       "      <td>-9.460938</td>\n",
       "      <td>splice_acceptor</td>\n",
       "      <td>splice_acceptor</td>\n",
       "      <td>-9.460938</td>\n",
       "    </tr>\n",
       "    <tr>\n",
       "      <th>...</th>\n",
       "      <td>...</td>\n",
       "      <td>...</td>\n",
       "      <td>...</td>\n",
       "      <td>...</td>\n",
       "      <td>...</td>\n",
       "      <td>...</td>\n",
       "      <td>...</td>\n",
       "      <td>...</td>\n",
       "    </tr>\n",
       "    <tr>\n",
       "      <th>3680017</th>\n",
       "      <td>22</td>\n",
       "      <td>26067410</td>\n",
       "      <td>A</td>\n",
       "      <td>G</td>\n",
       "      <td>-1.184570</td>\n",
       "      <td>intergenic</td>\n",
       "      <td>intergenic</td>\n",
       "      <td>-1.184570</td>\n",
       "    </tr>\n",
       "    <tr>\n",
       "      <th>3680016</th>\n",
       "      <td>22</td>\n",
       "      <td>26067408</td>\n",
       "      <td>C</td>\n",
       "      <td>A</td>\n",
       "      <td>-6.226562</td>\n",
       "      <td>intergenic</td>\n",
       "      <td>intergenic</td>\n",
       "      <td>-6.226562</td>\n",
       "    </tr>\n",
       "    <tr>\n",
       "      <th>3680015</th>\n",
       "      <td>22</td>\n",
       "      <td>26067400</td>\n",
       "      <td>C</td>\n",
       "      <td>A</td>\n",
       "      <td>-4.457031</td>\n",
       "      <td>intergenic</td>\n",
       "      <td>intergenic</td>\n",
       "      <td>-4.457031</td>\n",
       "    </tr>\n",
       "    <tr>\n",
       "      <th>3680033</th>\n",
       "      <td>22</td>\n",
       "      <td>26067454</td>\n",
       "      <td>G</td>\n",
       "      <td>T</td>\n",
       "      <td>-3.611328</td>\n",
       "      <td>intergenic</td>\n",
       "      <td>intergenic</td>\n",
       "      <td>-3.611328</td>\n",
       "    </tr>\n",
       "    <tr>\n",
       "      <th>9999908</th>\n",
       "      <td>22</td>\n",
       "      <td>50808401</td>\n",
       "      <td>T</td>\n",
       "      <td>A</td>\n",
       "      <td>-0.224121</td>\n",
       "      <td>intergenic</td>\n",
       "      <td>intergenic</td>\n",
       "      <td>-0.224121</td>\n",
       "    </tr>\n",
       "  </tbody>\n",
       "</table>\n",
       "<p>9999909 rows × 8 columns</p>\n",
       "</div>"
      ],
      "text/plain": [
       "        chrom       pos ref alt     score      consequence                g  \\\n",
       "4965860    22  31106165   T   G -5.156250  splice_acceptor  splice_acceptor   \n",
       "7892591    22  42560184   A   C -9.421875  splice_acceptor  splice_acceptor   \n",
       "3015484    22  23462679   C   G -0.204346  splice_acceptor  splice_acceptor   \n",
       "6733965    22  38025867   A   G -2.248047  splice_acceptor  splice_acceptor   \n",
       "3588808    22  25709897   G   T -9.460938  splice_acceptor  splice_acceptor   \n",
       "...       ...       ...  ..  ..       ...              ...              ...   \n",
       "3680017    22  26067410   A   G -1.184570       intergenic       intergenic   \n",
       "3680016    22  26067408   C   A -6.226562       intergenic       intergenic   \n",
       "3680015    22  26067400   C   A -4.457031       intergenic       intergenic   \n",
       "3680033    22  26067454   G   T -3.611328       intergenic       intergenic   \n",
       "9999908    22  50808401   T   A -0.224121       intergenic       intergenic   \n",
       "\n",
       "         GPN-MSA score  \n",
       "4965860      -5.156250  \n",
       "7892591      -9.421875  \n",
       "3015484      -0.204346  \n",
       "6733965      -2.248047  \n",
       "3588808      -9.460938  \n",
       "...                ...  \n",
       "3680017      -1.184570  \n",
       "3680016      -6.226562  \n",
       "3680015      -4.457031  \n",
       "3680033      -3.611328  \n",
       "9999908      -0.224121  \n",
       "\n",
       "[9999909 rows x 8 columns]"
      ]
     },
     "execution_count": 10,
     "metadata": {},
     "output_type": "execute_result"
    }
   ],
   "source": [
    "score_col = \"GPN-MSA score\"\n",
    "df = V.filter(pl.col(\"consequence\").is_in(c_plot)).to_pandas()\n",
    "df[\"g\"] = df.consequence\n",
    "df[score_col] = df.score\n",
    "df['consequence'] = pd.Categorical(df['consequence'], categories=c_plot, ordered=True)\n",
    "df = df.sort_values(\"consequence\")\n",
    "df"
   ]
  },
  {
   "cell_type": "code",
   "execution_count": 11,
   "id": "bb88ad94-70fa-4181-b12f-9aefe16b5034",
   "metadata": {
    "tags": []
   },
   "outputs": [
    {
     "data": {
      "text/plain": [
       "(-12.921875, 5.8515625)"
      ]
     },
     "execution_count": 11,
     "metadata": {},
     "output_type": "execute_result"
    }
   ],
   "source": [
    "q = 1 / 10_000\n",
    "x_left, x_right = df[score_col].quantile(q), df[score_col].quantile(1-q)\n",
    "x_left, x_right"
   ]
  },
  {
   "cell_type": "code",
   "execution_count": 12,
   "id": "d4050c30-d349-4805-8c0d-e0eaedde447f",
   "metadata": {
    "tags": []
   },
   "outputs": [
    {
     "data": {
      "image/png": "[encoded data removed]",
      "text/plain": [
       "<Figure size 360x684 with 19 Axes>"
      ]
     },
     "metadata": {
      "needs_background": "light"
     },
     "output_type": "display_data"
    }
   ],
   "source": [
    "sns.set_theme(style=\"white\", rc={\"axes.facecolor\": (0, 0, 0, 0)})\n",
    "\n",
    "pal = sns.cubehelix_palette(len(c_plot), rot=-.25, light=.7, reverse=True)\n",
    "g = sns.FacetGrid(\n",
    "    df, row=\"g\", hue=\"g\",\n",
    "    aspect=10,#15,\n",
    "    #height=.5,  # doesn't work\n",
    "    #height=1, # this works\n",
    "    height=0.5,\n",
    "    palette=pal,\n",
    "    sharey=False,\n",
    ")\n",
    "\n",
    "g.map(\n",
    "    sns.histplot,\n",
    "    score_col,\n",
    "    bins=np.linspace(x_left, x_right, 50),\n",
    "    alpha=1,\n",
    "    fill=True,\n",
    "    stat=\"density\",\n",
    ")\n",
    "\n",
    "def label(x, color, label):\n",
    "    #n = c_counts.filter(consequence=label)[0, \"count\"]\n",
    "    #label = label.replace(\"stop_gained\", \"stop-gain\")\n",
    "    #label = label.replace(\"_\", \" \")\n",
    "    #label = f\"{label} (n={format_number(n)})\"\n",
    "    label = label.replace(\"non_coding_transcript_exon\", \"non_coding\\ntranscript_exon\")\n",
    "    label = label.replace(\"splice_polypyrimidine_tract\", \"splice_polypyrimidine\\ntract\")\n",
    "    ax = plt.gca()\n",
    "    ax.text(\n",
    "        0, .2, label, fontweight=\"bold\", color=color,\n",
    "        ha=\"right\",\n",
    "        va=\"center\", transform=ax.transAxes\n",
    "    )\n",
    "g.map(label, score_col)\n",
    "\n",
    "# start: quantile\n",
    "#\"\"\"\n",
    "def add_quantile(x, color, label):\n",
    "    ax = plt.gca()\n",
    "    artist = ax.axvline(x.quantile(0.01), ls='--', color=color)\n",
    "    \n",
    "g.map(add_quantile, score_col)\n",
    "\n",
    "import matplotlib\n",
    "artist = [c for c in g.axes[0,0].get_children() if type(c)==matplotlib.lines.Line2D][0]\n",
    "legend = g.axes[0,0].legend([artist], [\"1st percentile\"], loc=\"upper right\")\n",
    "legend.get_frame().set_facecolor('white')\n",
    "#\"\"\"\n",
    "# end: quantile\n",
    "\n",
    "# Set the subplots to overlap\n",
    "g.figure.subplots_adjust(hspace=-.25)\n",
    "\n",
    "g.set_titles(\"\")\n",
    "g.set(yticks=[], ylabel=\"\")\n",
    "g.despine(bottom=True, left=True);\n",
    "\n",
    "\n",
    "\n",
    "#plt.axvline(-1.6)\n",
    "\n",
    "#plt.savefig(\"../../results/plots/ism.svg\", bbox_inches=\"tight\")\n",
    "#plt.savefig(\"../../results/plots/ism_noshuffle.svg\", bbox_inches=\"tight\")\n",
    "\n",
    "#plt.savefig(\"../../results/plots/ism_fully_conserved_pos_subset.svg\", bbox_inches=\"tight\")"
   ]
  },
  {
   "cell_type": "code",
   "execution_count": 13,
   "id": "571a20aa-118b-4d2f-a29e-d7706cf749cf",
   "metadata": {},
   "outputs": [],
   "source": [
    "#0.625, 0.125, 0.125, 0.125"
   ]
  }
 ],
 "metadata": {
  "kernelspec": {
   "display_name": "gpn",
   "language": "python",
   "name": "gpn"
  },
  "language_info": {
   "codemirror_mode": {
    "name": "ipython",
    "version": 3
   },
   "file_extension": ".py",
   "mimetype": "text/x-python",
   "name": "python",
   "nbconvert_exporter": "python",
   "pygments_lexer": "ipython3",
   "version": "3.11.3"
  }
 },
 "nbformat": 4,
 "nbformat_minor": 5
}
