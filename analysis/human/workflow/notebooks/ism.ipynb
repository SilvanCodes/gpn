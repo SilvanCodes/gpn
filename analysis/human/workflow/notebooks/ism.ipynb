{
 "cells": [
  {
   "cell_type": "code",
   "execution_count": 13,
   "id": "5875562a-7632-419d-85a7-6f8db5df58a6",
   "metadata": {
    "tags": []
   },
   "outputs": [],
   "source": [
    "import numpy as np\n",
    "import polars as pl\n",
    "import seaborn as sns"
   ]
  },
  {
   "cell_type": "code",
   "execution_count": 3,
   "id": "7b616b49-5198-4829-9d0e-1791677a341e",
   "metadata": {
    "tags": []
   },
   "outputs": [
    {
     "data": {
      "text/html": [
       "<div><style>\n",
       ".dataframe > thead > tr,\n",
       ".dataframe > tbody > tr {\n",
       "  text-align: right;\n",
       "  white-space: pre-wrap;\n",
       "}\n",
       "</style>\n",
       "<small>shape: (10_000_000, 6)</small><table border=\"1\" class=\"dataframe\"><thead><tr><th>chrom</th><th>pos</th><th>ref</th><th>alt</th><th>score</th><th>consequence</th></tr><tr><td>str</td><td>i64</td><td>str</td><td>str</td><td>f32</td><td>str</td></tr></thead><tbody><tr><td>&quot;22&quot;</td><td>10510068</td><td>&quot;T&quot;</td><td>&quot;C&quot;</td><td>-0.014648</td><td>&quot;intergenic_var…</td></tr><tr><td>&quot;22&quot;</td><td>10510076</td><td>&quot;C&quot;</td><td>&quot;T&quot;</td><td>1.984375</td><td>&quot;intergenic_var…</td></tr><tr><td>&quot;22&quot;</td><td>10510080</td><td>&quot;G&quot;</td><td>&quot;T&quot;</td><td>-0.035645</td><td>&quot;intergenic_var…</td></tr><tr><td>&quot;22&quot;</td><td>10510084</td><td>&quot;T&quot;</td><td>&quot;C&quot;</td><td>1.03125</td><td>&quot;intergenic_var…</td></tr><tr><td>&quot;22&quot;</td><td>10510087</td><td>&quot;A&quot;</td><td>&quot;T&quot;</td><td>0.443848</td><td>&quot;intergenic_var…</td></tr><tr><td>&quot;22&quot;</td><td>10510093</td><td>&quot;A&quot;</td><td>&quot;T&quot;</td><td>-2.284668</td><td>&quot;intergenic_var…</td></tr><tr><td>&quot;22&quot;</td><td>10510098</td><td>&quot;G&quot;</td><td>&quot;C&quot;</td><td>-0.089844</td><td>&quot;intergenic_var…</td></tr><tr><td>&quot;22&quot;</td><td>10510100</td><td>&quot;T&quot;</td><td>&quot;A&quot;</td><td>-0.699219</td><td>&quot;intergenic_var…</td></tr><tr><td>&quot;22&quot;</td><td>10510100</td><td>&quot;T&quot;</td><td>&quot;C&quot;</td><td>1.064453</td><td>&quot;intergenic_var…</td></tr><tr><td>&quot;22&quot;</td><td>10510100</td><td>&quot;T&quot;</td><td>&quot;G&quot;</td><td>-0.696777</td><td>&quot;intergenic_var…</td></tr><tr><td>&quot;22&quot;</td><td>10510102</td><td>&quot;A&quot;</td><td>&quot;C&quot;</td><td>-1.810547</td><td>&quot;intergenic_var…</td></tr><tr><td>&quot;22&quot;</td><td>10510110</td><td>&quot;C&quot;</td><td>&quot;A&quot;</td><td>-0.412964</td><td>&quot;intergenic_var…</td></tr><tr><td>&hellip;</td><td>&hellip;</td><td>&hellip;</td><td>&hellip;</td><td>&hellip;</td><td>&hellip;</td></tr><tr><td>&quot;22&quot;</td><td>50808366</td><td>&quot;A&quot;</td><td>&quot;T&quot;</td><td>0.3515625</td><td>&quot;intergenic_var…</td></tr><tr><td>&quot;22&quot;</td><td>50808373</td><td>&quot;G&quot;</td><td>&quot;C&quot;</td><td>-2.837158</td><td>&quot;intergenic_var…</td></tr><tr><td>&quot;22&quot;</td><td>50808375</td><td>&quot;T&quot;</td><td>&quot;A&quot;</td><td>-0.457031</td><td>&quot;intergenic_var…</td></tr><tr><td>&quot;22&quot;</td><td>50808377</td><td>&quot;A&quot;</td><td>&quot;G&quot;</td><td>0.78125</td><td>&quot;intergenic_var…</td></tr><tr><td>&quot;22&quot;</td><td>50808379</td><td>&quot;G&quot;</td><td>&quot;T&quot;</td><td>-0.34375</td><td>&quot;intergenic_var…</td></tr><tr><td>&quot;22&quot;</td><td>50808381</td><td>&quot;T&quot;</td><td>&quot;G&quot;</td><td>-0.068359</td><td>&quot;intergenic_var…</td></tr><tr><td>&quot;22&quot;</td><td>50808384</td><td>&quot;G&quot;</td><td>&quot;A&quot;</td><td>-0.792969</td><td>&quot;intergenic_var…</td></tr><tr><td>&quot;22&quot;</td><td>50808387</td><td>&quot;T&quot;</td><td>&quot;G&quot;</td><td>-0.03125</td><td>&quot;intergenic_var…</td></tr><tr><td>&quot;22&quot;</td><td>50808390</td><td>&quot;G&quot;</td><td>&quot;C&quot;</td><td>-2.832275</td><td>&quot;intergenic_var…</td></tr><tr><td>&quot;22&quot;</td><td>50808391</td><td>&quot;G&quot;</td><td>&quot;C&quot;</td><td>-2.780518</td><td>&quot;intergenic_var…</td></tr><tr><td>&quot;22&quot;</td><td>50808397</td><td>&quot;G&quot;</td><td>&quot;T&quot;</td><td>-0.404297</td><td>&quot;intergenic_var…</td></tr><tr><td>&quot;22&quot;</td><td>50808401</td><td>&quot;A&quot;</td><td>&quot;C&quot;</td><td>0.094727</td><td>&quot;intergenic_var…</td></tr></tbody></table></div>"
      ],
      "text/plain": [
       "shape: (10_000_000, 6)\n",
       "┌───────┬──────────┬─────┬─────┬───────────┬────────────────────┐\n",
       "│ chrom ┆ pos      ┆ ref ┆ alt ┆ score     ┆ consequence        │\n",
       "│ ---   ┆ ---      ┆ --- ┆ --- ┆ ---       ┆ ---                │\n",
       "│ str   ┆ i64      ┆ str ┆ str ┆ f32       ┆ str                │\n",
       "╞═══════╪══════════╪═════╪═════╪═══════════╪════════════════════╡\n",
       "│ 22    ┆ 10510068 ┆ T   ┆ C   ┆ -0.014648 ┆ intergenic_variant │\n",
       "│ 22    ┆ 10510076 ┆ C   ┆ T   ┆ 1.984375  ┆ intergenic_variant │\n",
       "│ 22    ┆ 10510080 ┆ G   ┆ T   ┆ -0.035645 ┆ intergenic_variant │\n",
       "│ 22    ┆ 10510084 ┆ T   ┆ C   ┆ 1.03125   ┆ intergenic_variant │\n",
       "│ 22    ┆ 10510087 ┆ A   ┆ T   ┆ 0.443848  ┆ intergenic_variant │\n",
       "│ …     ┆ …        ┆ …   ┆ …   ┆ …         ┆ …                  │\n",
       "│ 22    ┆ 50808387 ┆ T   ┆ G   ┆ -0.03125  ┆ intergenic_variant │\n",
       "│ 22    ┆ 50808390 ┆ G   ┆ C   ┆ -2.832275 ┆ intergenic_variant │\n",
       "│ 22    ┆ 50808391 ┆ G   ┆ C   ┆ -2.780518 ┆ intergenic_variant │\n",
       "│ 22    ┆ 50808397 ┆ G   ┆ T   ┆ -0.404297 ┆ intergenic_variant │\n",
       "│ 22    ┆ 50808401 ┆ A   ┆ C   ┆ 0.094727  ┆ intergenic_variant │\n",
       "└───────┴──────────┴─────┴─────┴───────────┴────────────────────┘"
      ]
     },
     "execution_count": 3,
     "metadata": {},
     "output_type": "execute_result"
    }
   ],
   "source": [
    "chrom = \"22\"\n",
    "model = \"multiz100way/89/128/64/True/defined.phastCons.percentile-75_0.05_0.001/medium/0.1/42/30000/True/True/True\"\n",
    "\n",
    "V = pl.read_parquet(f\"../../results/positions/{chrom}/llr/{model}.subsample_10000000.annot.parquet\")\n",
    "V"
   ]
  },
  {
   "cell_type": "code",
   "execution_count": 7,
   "id": "977a2a1f-8be9-4a64-be3f-cafc334aaa97",
   "metadata": {
    "tags": []
   },
   "outputs": [
    {
     "data": {
      "text/html": [
       "<div><style>\n",
       ".dataframe > thead > tr,\n",
       ".dataframe > tbody > tr {\n",
       "  text-align: right;\n",
       "  white-space: pre-wrap;\n",
       "}\n",
       "</style>\n",
       "<small>shape: (22, 2)</small><table border=\"1\" class=\"dataframe\"><thead><tr><th>consequence</th><th>count</th></tr><tr><td>str</td><td>u32</td></tr></thead><tbody><tr><td>&quot;intron_variant…</td><td>5275697</td></tr><tr><td>&quot;intergenic_var…</td><td>3446002</td></tr><tr><td>&quot;non_coding_tra…</td><td>443413</td></tr><tr><td>&quot;3_prime_UTR_va…</td><td>198938</td></tr><tr><td>&quot;upstream_gene_…</td><td>183453</td></tr><tr><td>&quot;downstream_gen…</td><td>170413</td></tr><tr><td>&quot;missense_varia…</td><td>139143</td></tr><tr><td>&quot;5_prime_UTR_va…</td><td>46155</td></tr><tr><td>&quot;synonymous_var…</td><td>42130</td></tr><tr><td>&quot;splice_polypyr…</td><td>23321</td></tr><tr><td>&quot;splice_region_…</td><td>8133</td></tr><tr><td>&quot;stop_gained&quot;</td><td>5805</td></tr><tr><td>&quot;splice_donor_r…</td><td>4866</td></tr><tr><td>&quot;splice_donor_v…</td><td>3365</td></tr><tr><td>&quot;splice_accepto…</td><td>3347</td></tr><tr><td>&quot;stop_lost&quot;</td><td>2648</td></tr><tr><td>&quot;splice_donor_5…</td><td>1704</td></tr><tr><td>&quot;stop_retained_…</td><td>548</td></tr><tr><td>&quot;start_lost&quot;</td><td>538</td></tr><tr><td>&quot;mature_miRNA_v…</td><td>355</td></tr><tr><td>&quot;incomplete_ter…</td><td>20</td></tr><tr><td>&quot;coding_sequenc…</td><td>6</td></tr></tbody></table></div>"
      ],
      "text/plain": [
       "shape: (22, 2)\n",
       "┌───────────────────────────────────┬─────────┐\n",
       "│ consequence                       ┆ count   │\n",
       "│ ---                               ┆ ---     │\n",
       "│ str                               ┆ u32     │\n",
       "╞═══════════════════════════════════╪═════════╡\n",
       "│ intron_variant                    ┆ 5275697 │\n",
       "│ intergenic_variant                ┆ 3446002 │\n",
       "│ non_coding_transcript_exon_varia… ┆ 443413  │\n",
       "│ 3_prime_UTR_variant               ┆ 198938  │\n",
       "│ upstream_gene_variant             ┆ 183453  │\n",
       "│ …                                 ┆ …       │\n",
       "│ stop_retained_variant             ┆ 548     │\n",
       "│ start_lost                        ┆ 538     │\n",
       "│ mature_miRNA_variant              ┆ 355     │\n",
       "│ incomplete_terminal_codon_varian… ┆ 20      │\n",
       "│ coding_sequence_variant           ┆ 6       │\n",
       "└───────────────────────────────────┴─────────┘"
      ]
     },
     "execution_count": 7,
     "metadata": {},
     "output_type": "execute_result"
    }
   ],
   "source": [
    "V[\"consequence\"].value_counts().sort(\"count\", descending=True)"
   ]
  },
  {
   "cell_type": "code",
   "execution_count": 12,
   "id": "4d9b3d19-f080-46d7-8c07-1edbb46f47b7",
   "metadata": {
    "tags": []
   },
   "outputs": [
    {
     "data": {
      "text/html": [
       "<div><style>\n",
       ".dataframe > thead > tr,\n",
       ".dataframe > tbody > tr {\n",
       "  text-align: right;\n",
       "  white-space: pre-wrap;\n",
       "}\n",
       "</style>\n",
       "<small>shape: (22, 2)</small><table border=\"1\" class=\"dataframe\"><thead><tr><th>consequence</th><th>score</th></tr><tr><td>str</td><td>f32</td></tr></thead><tbody><tr><td>&quot;stop_gained&quot;</td><td>-12.925781</td></tr><tr><td>&quot;splice_donor_v…</td><td>-12.691406</td></tr><tr><td>&quot;splice_accepto…</td><td>-12.669922</td></tr><tr><td>&quot;missense_varia…</td><td>-11.84375</td></tr><tr><td>&quot;splice_donor_5…</td><td>-10.644531</td></tr><tr><td>&quot;start_lost&quot;</td><td>-9.986328</td></tr><tr><td>&quot;mature_miRNA_v…</td><td>-9.984375</td></tr><tr><td>&quot;splice_donor_r…</td><td>-9.636719</td></tr><tr><td>&quot;splice_polypyr…</td><td>-7.896484</td></tr><tr><td>&quot;splice_region_…</td><td>-7.660156</td></tr><tr><td>&quot;stop_lost&quot;</td><td>-7.205078</td></tr><tr><td>&quot;5_prime_UTR_va…</td><td>-7.032227</td></tr><tr><td>&quot;3_prime_UTR_va…</td><td>-6.828125</td></tr><tr><td>&quot;incomplete_ter…</td><td>-6.268066</td></tr><tr><td>&quot;synonymous_var…</td><td>-5.803711</td></tr><tr><td>&quot;non_coding_tra…</td><td>-5.769531</td></tr><tr><td>&quot;upstream_gene_…</td><td>-5.081543</td></tr><tr><td>&quot;intron_variant…</td><td>-4.861694</td></tr><tr><td>&quot;downstream_gen…</td><td>-4.662109</td></tr><tr><td>&quot;intergenic_var…</td><td>-4.120361</td></tr><tr><td>&quot;stop_retained_…</td><td>-2.75</td></tr><tr><td>&quot;coding_sequenc…</td><td>-1.653809</td></tr></tbody></table></div>"
      ],
      "text/plain": [
       "shape: (22, 2)\n",
       "┌───────────────────────────────┬────────────┐\n",
       "│ consequence                   ┆ score      │\n",
       "│ ---                           ┆ ---        │\n",
       "│ str                           ┆ f32        │\n",
       "╞═══════════════════════════════╪════════════╡\n",
       "│ stop_gained                   ┆ -12.925781 │\n",
       "│ splice_donor_variant          ┆ -12.691406 │\n",
       "│ splice_acceptor_variant       ┆ -12.669922 │\n",
       "│ missense_variant              ┆ -11.84375  │\n",
       "│ splice_donor_5th_base_variant ┆ -10.644531 │\n",
       "│ …                             ┆ …          │\n",
       "│ intron_variant                ┆ -4.861694  │\n",
       "│ downstream_gene_variant       ┆ -4.662109  │\n",
       "│ intergenic_variant            ┆ -4.120361  │\n",
       "│ stop_retained_variant         ┆ -2.75      │\n",
       "│ coding_sequence_variant       ┆ -1.653809  │\n",
       "└───────────────────────────────┴────────────┘"
      ]
     },
     "execution_count": 12,
     "metadata": {},
     "output_type": "execute_result"
    }
   ],
   "source": [
    "V.group_by(\"consequence\").agg(pl.quantile(\"score\", 0.01)).sort(\"score\")"
   ]
  },
  {
   "cell_type": "code",
   "execution_count": null,
   "id": "77eef2b8-d469-47a3-9ab7-074710ceabad",
   "metadata": {},
   "outputs": [],
   "source": []
  }
 ],
 "metadata": {
  "kernelspec": {
   "display_name": "gpn",
   "language": "python",
   "name": "gpn"
  },
  "language_info": {
   "codemirror_mode": {
    "name": "ipython",
    "version": 3
   },
   "file_extension": ".py",
   "mimetype": "text/x-python",
   "name": "python",
   "nbconvert_exporter": "python",
   "pygments_lexer": "ipython3",
   "version": "3.11.3"
  }
 },
 "nbformat": 4,
 "nbformat_minor": 5
}
