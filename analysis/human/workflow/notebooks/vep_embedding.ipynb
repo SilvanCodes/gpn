{
 "cells": [
  {
   "cell_type": "code",
   "execution_count": 317,
   "id": "c493406e-7917-4149-8ad0-825b9d2e8775",
   "metadata": {
    "tags": []
   },
   "outputs": [],
   "source": [
    "from datasets import Dataset\n",
    "from gpn.data import GenomeMSA\n",
    "from gpn.msa.inference import run_inference\n",
    "import matplotlib.pyplot as plt\n",
    "import numpy as np\n",
    "import pandas as pd\n",
    "from pathlib import Path\n",
    "from sklearn.metrics import roc_auc_score, precision_recall_curve, auc, RocCurveDisplay, average_precision_score\n",
    "from scipy.spatial.distance import cdist\n",
    "import seaborn as sns\n",
    "from tqdm import tqdm\n",
    "import warnings\n",
    "warnings.filterwarnings('ignore')"
   ]
  },
  {
   "cell_type": "code",
   "execution_count": 282,
   "id": "722e877b-50f9-4d21-ace8-1ccb3848461f",
   "metadata": {
    "tags": []
   },
   "outputs": [],
   "source": [
    "cols = [\"chrom\", \"pos\", \"ref\", \"alt\"]\n",
    "\n",
    "def match_columns(df, target, covariates):\n",
    "    pos = df[df[target]]\n",
    "    neg = df[~df[target]]\n",
    "    D = cdist(pos[covariates], neg[covariates])\n",
    "    #print(np.min(D, axis=1).max())\n",
    "    \n",
    "    # approach 1: has the issue of ties\n",
    "    #closest = np.argmin(D, axis=1)\n",
    "    \n",
    "    # approach 2: greedy, depends on order of snps\n",
    "    closest = []\n",
    "    dists = []\n",
    "    for i in range(len(pos)):\n",
    "        j = np.argmin(D[i])\n",
    "        closest.append(j)\n",
    "        #dists.append(D[i,j])\n",
    "        D[:, j] = np.inf  # ensure it cannot be picked up again\n",
    "    #print(max(dists))\n",
    "    return pd.concat([pos, neg.iloc[closest]])"
   ]
  },
  {
   "cell_type": "code",
   "execution_count": 267,
   "id": "8280a8ca-bce7-4923-bbe3-fcd65a298aa1",
   "metadata": {},
   "outputs": [
    {
     "name": "stdout",
     "output_type": "stream",
     "text": [
      "Loading MSA...\n",
      "Loading MSA... Done\n"
     ]
    }
   ],
   "source": [
    "genome_msa = GenomeMSA(\"../../results/msa/multiz100way/89/all.zarr\")"
   ]
  },
  {
   "cell_type": "code",
   "execution_count": 269,
   "id": "aa12401b-be47-4780-82ee-372f4426e7ff",
   "metadata": {
    "tags": []
   },
   "outputs": [],
   "source": [
    "from gpn.data import Tokenizer, ReverseComplementer\n",
    "import gpn.model\n",
    "import numpy as np\n",
    "import pandas as pd\n",
    "import torch\n",
    "import torch.nn.functional as F\n",
    "from transformers import AutoModel\n",
    "\n",
    "\n",
    "class VEPEmbedding(torch.nn.Module):\n",
    "    def __init__(self, model_path):\n",
    "        super().__init__()\n",
    "        self.model = AutoModel.from_pretrained(model_path)\n",
    "        #self.register_buffer(\"embedding_mean\", torch.tensor(embedding_mean))\n",
    "        #self.register_buffer(\"embedding_std\", torch.tensor(embedding_std))\n",
    "\n",
    "    def get_embedding(self, input_ids, aux_features):\n",
    "        # last layer\n",
    "        embedding = self.model.forward(\n",
    "            input_ids=input_ids, aux_features=aux_features,\n",
    "        ).last_hidden_state\n",
    "            \n",
    "        # chosing specific layer\n",
    "        #embedding = self.model.forward(\n",
    "        #    input_ids=input_ids, aux_features=aux_features,\n",
    "        #    output_hidden_states=True,\n",
    "        #).hidden_states[12]\n",
    "            \n",
    "        #print(len(embedding))\n",
    "        #raise Exception(\"debug\")\n",
    "        #embedding = (embedding - self.embedding_mean) / self.embedding_std\n",
    "        \n",
    "        embedding = embedding.reshape(len(input_ids), -1)\n",
    "        \n",
    "        return embedding\n",
    "    \n",
    "    def get_scores(self, input_ids_ref, aux_features_ref, input_ids_alt, aux_features_alt):\n",
    "        embedding_ref = self.get_embedding(input_ids_ref, aux_features_ref)\n",
    "        embedding_alt = self.get_embedding(input_ids_alt, aux_features_alt)\n",
    "        \n",
    "        return (\n",
    "            F.pairwise_distance(embedding_ref, embedding_alt),\n",
    "            (embedding_ref * embedding_alt).sum(dim=1),  # dot product\n",
    "            F.cosine_similarity(embedding_ref, embedding_alt),\n",
    "        )\n",
    "\n",
    "    def forward(\n",
    "        self,\n",
    "        input_ids_ref_fwd=None,\n",
    "        aux_features_ref_fwd=None,\n",
    "        input_ids_alt_fwd=None,\n",
    "        aux_features_alt_fwd=None,\n",
    "        input_ids_ref_rev=None,\n",
    "        aux_features_ref_rev=None,\n",
    "        input_ids_alt_rev=None,\n",
    "        aux_features_alt_rev=None,\n",
    "    ):\n",
    "        fwd1, fwd2, fwd3 = self.get_scores(input_ids_ref_fwd, aux_features_ref_fwd, input_ids_alt_fwd, aux_features_alt_fwd)\n",
    "        rev1, rev2, rev3 = self.get_scores(input_ids_ref_rev, aux_features_ref_rev, input_ids_alt_rev, aux_features_alt_rev)\n",
    "        return torch.stack((\n",
    "            (fwd1 + rev1) / 2,\n",
    "            (fwd2 + rev2) / 2,\n",
    "            (fwd3 + rev3) / 2,\n",
    "        ), dim=1)\n",
    "\n",
    "\n",
    "class VEPEmbeddingInference(object):\n",
    "    def __init__(self, model_path, genome_msa, window_size):\n",
    "        self.model = VEPEmbedding(model_path)\n",
    "        self.genome_msa = genome_msa\n",
    "        self.window_size = window_size\n",
    "        self.tokenizer = Tokenizer()\n",
    "        self.reverse_complementer = ReverseComplementer()\n",
    "\n",
    "    def tokenize_function(self, V):\n",
    "        # we convert from 1-based coordinate (standard in VCF) to\n",
    "        # 0-based, to use with GenomeMSA\n",
    "        chrom = np.array(V[\"chrom\"])\n",
    "        pos = np.array(V[\"pos\"]) - 1\n",
    "        start = pos - self.window_size // 2\n",
    "        end = pos + self.window_size // 2\n",
    "        \n",
    "        msa_fwd, msa_rev = self.genome_msa.get_msa_batch_fwd_rev(\n",
    "            chrom,\n",
    "            start,\n",
    "            end,\n",
    "            tokenize=True,\n",
    "        )\n",
    "        pos_fwd = self.window_size // 2\n",
    "        pos_rev = pos_fwd - 1 if self.window_size % 2 == 0 else pos_fwd\n",
    "\n",
    "        ref_fwd = np.array(\n",
    "            [np.frombuffer(x.encode(\"ascii\"), dtype=\"S1\") for x in V[\"ref\"]]\n",
    "        )\n",
    "        alt_fwd = np.array(\n",
    "            [np.frombuffer(x.encode(\"ascii\"), dtype=\"S1\") for x in V[\"alt\"]]\n",
    "        )\n",
    "        ref_rev = self.reverse_complementer(ref_fwd)\n",
    "        alt_rev = self.reverse_complementer(alt_fwd)\n",
    "\n",
    "        def prepare_output(msa, pos, ref, alt):\n",
    "            ref, alt = self.tokenizer(ref.flatten()), self.tokenizer(alt.flatten())\n",
    "            input_ids, aux_features = msa[:, :, 0], msa[:, :, 1:]\n",
    "            assert (\n",
    "                input_ids[:, pos] == ref\n",
    "            ).all(), f\"{input_ids[:, pos].tolist()}, {ref.tolist()}\"\n",
    "            input_ids_alt = input_ids.copy()\n",
    "            input_ids_alt[:, pos] = alt\n",
    "            input_ids = input_ids.astype(np.int64)\n",
    "            input_ids_alt = input_ids_alt.astype(np.int64)\n",
    "            return input_ids, aux_features, input_ids_alt, aux_features\n",
    "\n",
    "        res = {}\n",
    "        (\n",
    "            res[\"input_ids_ref_fwd\"],\n",
    "            res[\"aux_features_ref_fwd\"],\n",
    "            res[\"input_ids_alt_fwd\"],\n",
    "            res[\"aux_features_alt_fwd\"],\n",
    "        ) = prepare_output(msa_fwd, pos_fwd, ref_fwd, alt_fwd)\n",
    "        (\n",
    "            res[\"input_ids_ref_rev\"],\n",
    "            res[\"aux_features_ref_rev\"],\n",
    "            res[\"input_ids_alt_rev\"],\n",
    "            res[\"aux_features_alt_rev\"],\n",
    "        ) = prepare_output(msa_rev, pos_rev, ref_rev, alt_rev)\n",
    "        return res\n",
    "\n",
    "    def postprocess(self, pred):\n",
    "        #return pred\n",
    "        return pd.DataFrame(pred, columns=[\"euclidean_distance\", \"inner_product\", \"cosine_similarity\"])\n",
    "        #return pd.DataFrame(pred, columns=[\"score\"])"
   ]
  },
  {
   "cell_type": "code",
   "execution_count": 321,
   "id": "23a45522-a3cc-4308-890b-954fd66c5049",
   "metadata": {
    "tags": []
   },
   "outputs": [],
   "source": [
    "def score_vep(V2):\n",
    "    dataset = Dataset.from_pandas(V2[cols])\n",
    "    inference = VEPEmbeddingInference(\"songlab/gpn-msa-sapiens\", genome_msa, 128)\n",
    "    pred = run_inference(\n",
    "        dataset,\n",
    "        inference,\n",
    "        per_device_batch_size=256,\n",
    "        dataloader_num_workers=8,\n",
    "    )\n",
    "    return pred\n",
    "\n",
    "def add_scores(V2):\n",
    "    V2.loc[:, [\"euclidean_distance\", \"inner_product\", \"cosine_similarity\"]] = score_vep(V2).values\n",
    "    V2.euclidean_distance *= -1\n",
    "    V2.cosine_similarity -= V2.cosine_similarity.max()\n",
    "    V2.inner_product -= V2.inner_product.max()\n",
    "    return V2"
   ]
  },
  {
   "cell_type": "code",
   "execution_count": 3,
   "id": "454bbcb3-c955-40e8-a03b-10a027ce9203",
   "metadata": {
    "tags": []
   },
   "outputs": [
    {
     "data": {
      "text/html": [
       "<div>\n",
       "<style scoped>\n",
       "    .dataframe tbody tr th:only-of-type {\n",
       "        vertical-align: middle;\n",
       "    }\n",
       "\n",
       "    .dataframe tbody tr th {\n",
       "        vertical-align: top;\n",
       "    }\n",
       "\n",
       "    .dataframe thead th {\n",
       "        text-align: right;\n",
       "    }\n",
       "</style>\n",
       "<table border=\"1\" class=\"dataframe\">\n",
       "  <thead>\n",
       "    <tr style=\"text-align: right;\">\n",
       "      <th></th>\n",
       "      <th>chrom</th>\n",
       "      <th>pos</th>\n",
       "      <th>ref</th>\n",
       "      <th>alt</th>\n",
       "      <th>AF</th>\n",
       "      <th>ld_score</th>\n",
       "    </tr>\n",
       "  </thead>\n",
       "  <tbody>\n",
       "    <tr>\n",
       "      <th>0</th>\n",
       "      <td>1</td>\n",
       "      <td>11063</td>\n",
       "      <td>T</td>\n",
       "      <td>G</td>\n",
       "      <td>0.000048</td>\n",
       "      <td>5.738593</td>\n",
       "    </tr>\n",
       "    <tr>\n",
       "      <th>1</th>\n",
       "      <td>1</td>\n",
       "      <td>13259</td>\n",
       "      <td>G</td>\n",
       "      <td>A</td>\n",
       "      <td>0.000278</td>\n",
       "      <td>5.048821</td>\n",
       "    </tr>\n",
       "    <tr>\n",
       "      <th>2</th>\n",
       "      <td>1</td>\n",
       "      <td>17641</td>\n",
       "      <td>G</td>\n",
       "      <td>A</td>\n",
       "      <td>0.000831</td>\n",
       "      <td>1.683291</td>\n",
       "    </tr>\n",
       "    <tr>\n",
       "      <th>3</th>\n",
       "      <td>1</td>\n",
       "      <td>57222</td>\n",
       "      <td>T</td>\n",
       "      <td>C</td>\n",
       "      <td>0.000659</td>\n",
       "      <td>2.475932</td>\n",
       "    </tr>\n",
       "    <tr>\n",
       "      <th>4</th>\n",
       "      <td>1</td>\n",
       "      <td>58396</td>\n",
       "      <td>T</td>\n",
       "      <td>C</td>\n",
       "      <td>0.00024</td>\n",
       "      <td>29.534102</td>\n",
       "    </tr>\n",
       "    <tr>\n",
       "      <th>...</th>\n",
       "      <td>...</td>\n",
       "      <td>...</td>\n",
       "      <td>...</td>\n",
       "      <td>...</td>\n",
       "      <td>...</td>\n",
       "      <td>...</td>\n",
       "    </tr>\n",
       "    <tr>\n",
       "      <th>22153592</th>\n",
       "      <td>X</td>\n",
       "      <td>155697134</td>\n",
       "      <td>G</td>\n",
       "      <td>A</td>\n",
       "      <td>0.000028</td>\n",
       "      <td>28.358136</td>\n",
       "    </tr>\n",
       "    <tr>\n",
       "      <th>22153593</th>\n",
       "      <td>X</td>\n",
       "      <td>155697920</td>\n",
       "      <td>G</td>\n",
       "      <td>A</td>\n",
       "      <td>0.302726</td>\n",
       "      <td>406.085388</td>\n",
       "    </tr>\n",
       "    <tr>\n",
       "      <th>22153594</th>\n",
       "      <td>X</td>\n",
       "      <td>155699751</td>\n",
       "      <td>C</td>\n",
       "      <td>T</td>\n",
       "      <td>0.245915</td>\n",
       "      <td>483.126375</td>\n",
       "    </tr>\n",
       "    <tr>\n",
       "      <th>22153595</th>\n",
       "      <td>X</td>\n",
       "      <td>155700569</td>\n",
       "      <td>A</td>\n",
       "      <td>G</td>\n",
       "      <td>0.246325</td>\n",
       "      <td>484.684299</td>\n",
       "    </tr>\n",
       "    <tr>\n",
       "      <th>22153596</th>\n",
       "      <td>X</td>\n",
       "      <td>155700826</td>\n",
       "      <td>T</td>\n",
       "      <td>A</td>\n",
       "      <td>0.019688</td>\n",
       "      <td>69.760256</td>\n",
       "    </tr>\n",
       "  </tbody>\n",
       "</table>\n",
       "<p>22153597 rows × 6 columns</p>\n",
       "</div>"
      ],
      "text/plain": [
       "         chrom        pos ref alt        AF    ld_score\n",
       "0            1      11063   T   G  0.000048    5.738593\n",
       "1            1      13259   G   A  0.000278    5.048821\n",
       "2            1      17641   G   A  0.000831    1.683291\n",
       "3            1      57222   T   C  0.000659    2.475932\n",
       "4            1      58396   T   C   0.00024   29.534102\n",
       "...        ...        ...  ..  ..       ...         ...\n",
       "22153592     X  155697134   G   A  0.000028   28.358136\n",
       "22153593     X  155697920   G   A  0.302726  406.085388\n",
       "22153594     X  155699751   C   T  0.245915  483.126375\n",
       "22153595     X  155700569   A   G  0.246325  484.684299\n",
       "22153596     X  155700826   T   A  0.019688   69.760256\n",
       "\n",
       "[22153597 rows x 6 columns]"
      ]
     },
     "execution_count": 3,
     "metadata": {},
     "output_type": "execute_result"
    }
   ],
   "source": [
    "ldscore = pd.read_parquet(\"../../results/tmp/ldscore.processed.parquet\")\n",
    "ldscore"
   ]
  },
  {
   "cell_type": "code",
   "execution_count": 4,
   "id": "af28043b-fb36-4e3b-a22d-9043f312e702",
   "metadata": {
    "tags": []
   },
   "outputs": [],
   "source": [
    "ldscore[\"MAF\"] = ldscore['AF'].apply(lambda x: min(x, 1-x))"
   ]
  },
  {
   "cell_type": "code",
   "execution_count": 5,
   "id": "e85876d3-06af-460a-ad3f-12678643a740",
   "metadata": {
    "tags": []
   },
   "outputs": [
    {
     "data": {
      "text/html": [
       "<div>\n",
       "<style scoped>\n",
       "    .dataframe tbody tr th:only-of-type {\n",
       "        vertical-align: middle;\n",
       "    }\n",
       "\n",
       "    .dataframe tbody tr th {\n",
       "        vertical-align: top;\n",
       "    }\n",
       "\n",
       "    .dataframe thead th {\n",
       "        text-align: right;\n",
       "    }\n",
       "</style>\n",
       "<table border=\"1\" class=\"dataframe\">\n",
       "  <thead>\n",
       "    <tr style=\"text-align: right;\">\n",
       "      <th></th>\n",
       "      <th>chrom</th>\n",
       "      <th>pos</th>\n",
       "      <th>ref</th>\n",
       "      <th>alt</th>\n",
       "      <th>trait</th>\n",
       "      <th>method</th>\n",
       "      <th>pip</th>\n",
       "      <th>region</th>\n",
       "      <th>maf</th>\n",
       "      <th>LD_HWE</th>\n",
       "      <th>LD_SV</th>\n",
       "    </tr>\n",
       "  </thead>\n",
       "  <tbody>\n",
       "    <tr>\n",
       "      <th>0</th>\n",
       "      <td>1</td>\n",
       "      <td>820055</td>\n",
       "      <td>T</td>\n",
       "      <td>G</td>\n",
       "      <td>IGF1</td>\n",
       "      <td>SUSIE</td>\n",
       "      <td>0.001039</td>\n",
       "      <td>chr1:708908-3708908</td>\n",
       "      <td>0.005550</td>\n",
       "      <td>False</td>\n",
       "      <td>False</td>\n",
       "    </tr>\n",
       "    <tr>\n",
       "      <th>1</th>\n",
       "      <td>1</td>\n",
       "      <td>832873</td>\n",
       "      <td>A</td>\n",
       "      <td>C</td>\n",
       "      <td>IGF1</td>\n",
       "      <td>SUSIE</td>\n",
       "      <td>0.003492</td>\n",
       "      <td>chr1:708908-3708908</td>\n",
       "      <td>0.236748</td>\n",
       "      <td>False</td>\n",
       "      <td>False</td>\n",
       "    </tr>\n",
       "    <tr>\n",
       "      <th>2</th>\n",
       "      <td>1</td>\n",
       "      <td>833068</td>\n",
       "      <td>G</td>\n",
       "      <td>A</td>\n",
       "      <td>CRP</td>\n",
       "      <td>SUSIE</td>\n",
       "      <td>0.004263</td>\n",
       "      <td>chr1:64194-3064194</td>\n",
       "      <td>0.106004</td>\n",
       "      <td>False</td>\n",
       "      <td>False</td>\n",
       "    </tr>\n",
       "    <tr>\n",
       "      <th>3</th>\n",
       "      <td>1</td>\n",
       "      <td>834583</td>\n",
       "      <td>G</td>\n",
       "      <td>A</td>\n",
       "      <td>CRP</td>\n",
       "      <td>SUSIE</td>\n",
       "      <td>0.004209</td>\n",
       "      <td>chr1:64194-3064194</td>\n",
       "      <td>0.105298</td>\n",
       "      <td>False</td>\n",
       "      <td>False</td>\n",
       "    </tr>\n",
       "    <tr>\n",
       "      <th>4</th>\n",
       "      <td>1</td>\n",
       "      <td>835506</td>\n",
       "      <td>G</td>\n",
       "      <td>A</td>\n",
       "      <td>CRP</td>\n",
       "      <td>SUSIE</td>\n",
       "      <td>0.004478</td>\n",
       "      <td>chr1:64194-3064194</td>\n",
       "      <td>0.104339</td>\n",
       "      <td>False</td>\n",
       "      <td>False</td>\n",
       "    </tr>\n",
       "    <tr>\n",
       "      <th>...</th>\n",
       "      <td>...</td>\n",
       "      <td>...</td>\n",
       "      <td>...</td>\n",
       "      <td>...</td>\n",
       "      <td>...</td>\n",
       "      <td>...</td>\n",
       "      <td>...</td>\n",
       "      <td>...</td>\n",
       "      <td>...</td>\n",
       "      <td>...</td>\n",
       "      <td>...</td>\n",
       "    </tr>\n",
       "    <tr>\n",
       "      <th>4763178</th>\n",
       "      <td>22</td>\n",
       "      <td>50783624</td>\n",
       "      <td>G</td>\n",
       "      <td>A</td>\n",
       "      <td>Mono</td>\n",
       "      <td>SUSIE</td>\n",
       "      <td>0.001769</td>\n",
       "      <td>chr22:48513402-51304566</td>\n",
       "      <td>0.300835</td>\n",
       "      <td>False</td>\n",
       "      <td>False</td>\n",
       "    </tr>\n",
       "    <tr>\n",
       "      <th>4763179</th>\n",
       "      <td>22</td>\n",
       "      <td>50784537</td>\n",
       "      <td>G</td>\n",
       "      <td>A</td>\n",
       "      <td>Mono</td>\n",
       "      <td>SUSIE</td>\n",
       "      <td>0.001520</td>\n",
       "      <td>chr22:48513402-51304566</td>\n",
       "      <td>0.304649</td>\n",
       "      <td>False</td>\n",
       "      <td>False</td>\n",
       "    </tr>\n",
       "    <tr>\n",
       "      <th>4763180</th>\n",
       "      <td>22</td>\n",
       "      <td>50790482</td>\n",
       "      <td>G</td>\n",
       "      <td>A</td>\n",
       "      <td>Mono</td>\n",
       "      <td>SUSIE</td>\n",
       "      <td>0.003555</td>\n",
       "      <td>chr22:48513402-51304566</td>\n",
       "      <td>0.299990</td>\n",
       "      <td>False</td>\n",
       "      <td>False</td>\n",
       "    </tr>\n",
       "    <tr>\n",
       "      <th>4763181</th>\n",
       "      <td>22</td>\n",
       "      <td>50791289</td>\n",
       "      <td>A</td>\n",
       "      <td>T</td>\n",
       "      <td>Mono</td>\n",
       "      <td>SUSIE</td>\n",
       "      <td>0.003565</td>\n",
       "      <td>chr22:48513402-51304566</td>\n",
       "      <td>0.296184</td>\n",
       "      <td>False</td>\n",
       "      <td>False</td>\n",
       "    </tr>\n",
       "    <tr>\n",
       "      <th>4763182</th>\n",
       "      <td>22</td>\n",
       "      <td>50798635</td>\n",
       "      <td>T</td>\n",
       "      <td>C</td>\n",
       "      <td>Mono</td>\n",
       "      <td>SUSIE</td>\n",
       "      <td>0.002063</td>\n",
       "      <td>chr22:48513402-51304566</td>\n",
       "      <td>0.299064</td>\n",
       "      <td>False</td>\n",
       "      <td>False</td>\n",
       "    </tr>\n",
       "  </tbody>\n",
       "</table>\n",
       "<p>4763183 rows × 11 columns</p>\n",
       "</div>"
      ],
      "text/plain": [
       "        chrom       pos ref alt trait method       pip  \\\n",
       "0           1    820055   T   G  IGF1  SUSIE  0.001039   \n",
       "1           1    832873   A   C  IGF1  SUSIE  0.003492   \n",
       "2           1    833068   G   A   CRP  SUSIE  0.004263   \n",
       "3           1    834583   G   A   CRP  SUSIE  0.004209   \n",
       "4           1    835506   G   A   CRP  SUSIE  0.004478   \n",
       "...       ...       ...  ..  ..   ...    ...       ...   \n",
       "4763178    22  50783624   G   A  Mono  SUSIE  0.001769   \n",
       "4763179    22  50784537   G   A  Mono  SUSIE  0.001520   \n",
       "4763180    22  50790482   G   A  Mono  SUSIE  0.003555   \n",
       "4763181    22  50791289   A   T  Mono  SUSIE  0.003565   \n",
       "4763182    22  50798635   T   C  Mono  SUSIE  0.002063   \n",
       "\n",
       "                          region       maf  LD_HWE  LD_SV  \n",
       "0            chr1:708908-3708908  0.005550   False  False  \n",
       "1            chr1:708908-3708908  0.236748   False  False  \n",
       "2             chr1:64194-3064194  0.106004   False  False  \n",
       "3             chr1:64194-3064194  0.105298   False  False  \n",
       "4             chr1:64194-3064194  0.104339   False  False  \n",
       "...                          ...       ...     ...    ...  \n",
       "4763178  chr22:48513402-51304566  0.300835   False  False  \n",
       "4763179  chr22:48513402-51304566  0.304649   False  False  \n",
       "4763180  chr22:48513402-51304566  0.299990   False  False  \n",
       "4763181  chr22:48513402-51304566  0.296184   False  False  \n",
       "4763182  chr22:48513402-51304566  0.299064   False  False  \n",
       "\n",
       "[4763183 rows x 11 columns]"
      ]
     },
     "execution_count": 5,
     "metadata": {},
     "output_type": "execute_result"
    }
   ],
   "source": [
    "pips = pd.read_parquet(\"../../results/tmp/my_pips.parquet\")\n",
    "pips"
   ]
  },
  {
   "cell_type": "code",
   "execution_count": 6,
   "id": "64f20292-65bd-48fd-be01-90f7540ff77b",
   "metadata": {
    "tags": []
   },
   "outputs": [
    {
     "data": {
      "text/html": [
       "<div>\n",
       "<style scoped>\n",
       "    .dataframe tbody tr th:only-of-type {\n",
       "        vertical-align: middle;\n",
       "    }\n",
       "\n",
       "    .dataframe tbody tr th {\n",
       "        vertical-align: top;\n",
       "    }\n",
       "\n",
       "    .dataframe thead th {\n",
       "        text-align: right;\n",
       "    }\n",
       "</style>\n",
       "<table border=\"1\" class=\"dataframe\">\n",
       "  <thead>\n",
       "    <tr style=\"text-align: right;\">\n",
       "      <th></th>\n",
       "      <th>chrom</th>\n",
       "      <th>pos</th>\n",
       "      <th>ref</th>\n",
       "      <th>alt</th>\n",
       "      <th>trait</th>\n",
       "      <th>method</th>\n",
       "      <th>pip</th>\n",
       "      <th>region</th>\n",
       "      <th>maf</th>\n",
       "      <th>LD_HWE</th>\n",
       "      <th>LD_SV</th>\n",
       "    </tr>\n",
       "  </thead>\n",
       "  <tbody>\n",
       "    <tr>\n",
       "      <th>0</th>\n",
       "      <td>1</td>\n",
       "      <td>820055</td>\n",
       "      <td>T</td>\n",
       "      <td>G</td>\n",
       "      <td>IGF1</td>\n",
       "      <td>SUSIE</td>\n",
       "      <td>0.001039</td>\n",
       "      <td>chr1:708908-3708908</td>\n",
       "      <td>0.005550</td>\n",
       "      <td>False</td>\n",
       "      <td>False</td>\n",
       "    </tr>\n",
       "    <tr>\n",
       "      <th>1</th>\n",
       "      <td>1</td>\n",
       "      <td>832873</td>\n",
       "      <td>A</td>\n",
       "      <td>C</td>\n",
       "      <td>IGF1</td>\n",
       "      <td>SUSIE</td>\n",
       "      <td>0.003492</td>\n",
       "      <td>chr1:708908-3708908</td>\n",
       "      <td>0.236748</td>\n",
       "      <td>False</td>\n",
       "      <td>False</td>\n",
       "    </tr>\n",
       "    <tr>\n",
       "      <th>2</th>\n",
       "      <td>1</td>\n",
       "      <td>833068</td>\n",
       "      <td>G</td>\n",
       "      <td>A</td>\n",
       "      <td>CRP</td>\n",
       "      <td>SUSIE</td>\n",
       "      <td>0.004263</td>\n",
       "      <td>chr1:64194-3064194</td>\n",
       "      <td>0.106004</td>\n",
       "      <td>False</td>\n",
       "      <td>False</td>\n",
       "    </tr>\n",
       "    <tr>\n",
       "      <th>3</th>\n",
       "      <td>1</td>\n",
       "      <td>834583</td>\n",
       "      <td>G</td>\n",
       "      <td>A</td>\n",
       "      <td>CRP</td>\n",
       "      <td>SUSIE</td>\n",
       "      <td>0.004209</td>\n",
       "      <td>chr1:64194-3064194</td>\n",
       "      <td>0.105298</td>\n",
       "      <td>False</td>\n",
       "      <td>False</td>\n",
       "    </tr>\n",
       "    <tr>\n",
       "      <th>4</th>\n",
       "      <td>1</td>\n",
       "      <td>835506</td>\n",
       "      <td>G</td>\n",
       "      <td>A</td>\n",
       "      <td>CRP</td>\n",
       "      <td>SUSIE</td>\n",
       "      <td>0.004478</td>\n",
       "      <td>chr1:64194-3064194</td>\n",
       "      <td>0.104339</td>\n",
       "      <td>False</td>\n",
       "      <td>False</td>\n",
       "    </tr>\n",
       "    <tr>\n",
       "      <th>...</th>\n",
       "      <td>...</td>\n",
       "      <td>...</td>\n",
       "      <td>...</td>\n",
       "      <td>...</td>\n",
       "      <td>...</td>\n",
       "      <td>...</td>\n",
       "      <td>...</td>\n",
       "      <td>...</td>\n",
       "      <td>...</td>\n",
       "      <td>...</td>\n",
       "      <td>...</td>\n",
       "    </tr>\n",
       "    <tr>\n",
       "      <th>4763178</th>\n",
       "      <td>22</td>\n",
       "      <td>50783624</td>\n",
       "      <td>G</td>\n",
       "      <td>A</td>\n",
       "      <td>Mono</td>\n",
       "      <td>SUSIE</td>\n",
       "      <td>0.001769</td>\n",
       "      <td>chr22:48513402-51304566</td>\n",
       "      <td>0.300835</td>\n",
       "      <td>False</td>\n",
       "      <td>False</td>\n",
       "    </tr>\n",
       "    <tr>\n",
       "      <th>4763179</th>\n",
       "      <td>22</td>\n",
       "      <td>50784537</td>\n",
       "      <td>G</td>\n",
       "      <td>A</td>\n",
       "      <td>Mono</td>\n",
       "      <td>SUSIE</td>\n",
       "      <td>0.001520</td>\n",
       "      <td>chr22:48513402-51304566</td>\n",
       "      <td>0.304649</td>\n",
       "      <td>False</td>\n",
       "      <td>False</td>\n",
       "    </tr>\n",
       "    <tr>\n",
       "      <th>4763180</th>\n",
       "      <td>22</td>\n",
       "      <td>50790482</td>\n",
       "      <td>G</td>\n",
       "      <td>A</td>\n",
       "      <td>Mono</td>\n",
       "      <td>SUSIE</td>\n",
       "      <td>0.003555</td>\n",
       "      <td>chr22:48513402-51304566</td>\n",
       "      <td>0.299990</td>\n",
       "      <td>False</td>\n",
       "      <td>False</td>\n",
       "    </tr>\n",
       "    <tr>\n",
       "      <th>4763181</th>\n",
       "      <td>22</td>\n",
       "      <td>50791289</td>\n",
       "      <td>A</td>\n",
       "      <td>T</td>\n",
       "      <td>Mono</td>\n",
       "      <td>SUSIE</td>\n",
       "      <td>0.003565</td>\n",
       "      <td>chr22:48513402-51304566</td>\n",
       "      <td>0.296184</td>\n",
       "      <td>False</td>\n",
       "      <td>False</td>\n",
       "    </tr>\n",
       "    <tr>\n",
       "      <th>4763182</th>\n",
       "      <td>22</td>\n",
       "      <td>50798635</td>\n",
       "      <td>T</td>\n",
       "      <td>C</td>\n",
       "      <td>Mono</td>\n",
       "      <td>SUSIE</td>\n",
       "      <td>0.002063</td>\n",
       "      <td>chr22:48513402-51304566</td>\n",
       "      <td>0.299064</td>\n",
       "      <td>False</td>\n",
       "      <td>False</td>\n",
       "    </tr>\n",
       "  </tbody>\n",
       "</table>\n",
       "<p>2903623 rows × 11 columns</p>\n",
       "</div>"
      ],
      "text/plain": [
       "        chrom       pos ref alt trait method       pip  \\\n",
       "0           1    820055   T   G  IGF1  SUSIE  0.001039   \n",
       "1           1    832873   A   C  IGF1  SUSIE  0.003492   \n",
       "2           1    833068   G   A   CRP  SUSIE  0.004263   \n",
       "3           1    834583   G   A   CRP  SUSIE  0.004209   \n",
       "4           1    835506   G   A   CRP  SUSIE  0.004478   \n",
       "...       ...       ...  ..  ..   ...    ...       ...   \n",
       "4763178    22  50783624   G   A  Mono  SUSIE  0.001769   \n",
       "4763179    22  50784537   G   A  Mono  SUSIE  0.001520   \n",
       "4763180    22  50790482   G   A  Mono  SUSIE  0.003555   \n",
       "4763181    22  50791289   A   T  Mono  SUSIE  0.003565   \n",
       "4763182    22  50798635   T   C  Mono  SUSIE  0.002063   \n",
       "\n",
       "                          region       maf  LD_HWE  LD_SV  \n",
       "0            chr1:708908-3708908  0.005550   False  False  \n",
       "1            chr1:708908-3708908  0.236748   False  False  \n",
       "2             chr1:64194-3064194  0.106004   False  False  \n",
       "3             chr1:64194-3064194  0.105298   False  False  \n",
       "4             chr1:64194-3064194  0.104339   False  False  \n",
       "...                          ...       ...     ...    ...  \n",
       "4763178  chr22:48513402-51304566  0.300835   False  False  \n",
       "4763179  chr22:48513402-51304566  0.304649   False  False  \n",
       "4763180  chr22:48513402-51304566  0.299990   False  False  \n",
       "4763181  chr22:48513402-51304566  0.296184   False  False  \n",
       "4763182  chr22:48513402-51304566  0.299064   False  False  \n",
       "\n",
       "[2903623 rows x 11 columns]"
      ]
     },
     "execution_count": 6,
     "metadata": {},
     "output_type": "execute_result"
    }
   ],
   "source": [
    "pips = pips[pips.method==\"SUSIE\"]\n",
    "pips = pips[(~pips.LD_HWE) & (~pips.LD_SV)]\n",
    "pips"
   ]
  },
  {
   "cell_type": "code",
   "execution_count": 7,
   "id": "0c5377b7-56ce-4774-83ab-343b3c27bfac",
   "metadata": {
    "tags": []
   },
   "outputs": [
    {
     "data": {
      "text/html": [
       "<div>\n",
       "<style scoped>\n",
       "    .dataframe tbody tr th:only-of-type {\n",
       "        vertical-align: middle;\n",
       "    }\n",
       "\n",
       "    .dataframe tbody tr th {\n",
       "        vertical-align: top;\n",
       "    }\n",
       "\n",
       "    .dataframe thead th {\n",
       "        text-align: right;\n",
       "    }\n",
       "</style>\n",
       "<table border=\"1\" class=\"dataframe\">\n",
       "  <thead>\n",
       "    <tr style=\"text-align: right;\">\n",
       "      <th></th>\n",
       "      <th>chrom</th>\n",
       "      <th>pos</th>\n",
       "      <th>ref</th>\n",
       "      <th>alt</th>\n",
       "      <th>pip</th>\n",
       "      <th>maf</th>\n",
       "      <th>n_traits</th>\n",
       "    </tr>\n",
       "  </thead>\n",
       "  <tbody>\n",
       "    <tr>\n",
       "      <th>0</th>\n",
       "      <td>1</td>\n",
       "      <td>820055</td>\n",
       "      <td>T</td>\n",
       "      <td>G</td>\n",
       "      <td>0.001039</td>\n",
       "      <td>0.005550</td>\n",
       "      <td>1</td>\n",
       "    </tr>\n",
       "    <tr>\n",
       "      <th>1</th>\n",
       "      <td>1</td>\n",
       "      <td>832873</td>\n",
       "      <td>A</td>\n",
       "      <td>C</td>\n",
       "      <td>0.003492</td>\n",
       "      <td>0.236748</td>\n",
       "      <td>1</td>\n",
       "    </tr>\n",
       "    <tr>\n",
       "      <th>2</th>\n",
       "      <td>1</td>\n",
       "      <td>833068</td>\n",
       "      <td>G</td>\n",
       "      <td>A</td>\n",
       "      <td>0.004263</td>\n",
       "      <td>0.106004</td>\n",
       "      <td>1</td>\n",
       "    </tr>\n",
       "    <tr>\n",
       "      <th>3</th>\n",
       "      <td>1</td>\n",
       "      <td>834583</td>\n",
       "      <td>G</td>\n",
       "      <td>A</td>\n",
       "      <td>0.004209</td>\n",
       "      <td>0.105298</td>\n",
       "      <td>1</td>\n",
       "    </tr>\n",
       "    <tr>\n",
       "      <th>4</th>\n",
       "      <td>1</td>\n",
       "      <td>835506</td>\n",
       "      <td>G</td>\n",
       "      <td>A</td>\n",
       "      <td>0.004478</td>\n",
       "      <td>0.104339</td>\n",
       "      <td>1</td>\n",
       "    </tr>\n",
       "    <tr>\n",
       "      <th>...</th>\n",
       "      <td>...</td>\n",
       "      <td>...</td>\n",
       "      <td>...</td>\n",
       "      <td>...</td>\n",
       "      <td>...</td>\n",
       "      <td>...</td>\n",
       "      <td>...</td>\n",
       "    </tr>\n",
       "    <tr>\n",
       "      <th>1632740</th>\n",
       "      <td>9</td>\n",
       "      <td>138172038</td>\n",
       "      <td>C</td>\n",
       "      <td>T</td>\n",
       "      <td>0.002393</td>\n",
       "      <td>0.372683</td>\n",
       "      <td>2</td>\n",
       "    </tr>\n",
       "    <tr>\n",
       "      <th>1632741</th>\n",
       "      <td>9</td>\n",
       "      <td>138173218</td>\n",
       "      <td>G</td>\n",
       "      <td>A</td>\n",
       "      <td>0.045044</td>\n",
       "      <td>0.165755</td>\n",
       "      <td>1</td>\n",
       "    </tr>\n",
       "    <tr>\n",
       "      <th>1632742</th>\n",
       "      <td>9</td>\n",
       "      <td>138174172</td>\n",
       "      <td>T</td>\n",
       "      <td>C</td>\n",
       "      <td>0.001422</td>\n",
       "      <td>0.372984</td>\n",
       "      <td>1</td>\n",
       "    </tr>\n",
       "    <tr>\n",
       "      <th>1632743</th>\n",
       "      <td>9</td>\n",
       "      <td>138174508</td>\n",
       "      <td>T</td>\n",
       "      <td>C</td>\n",
       "      <td>0.001392</td>\n",
       "      <td>0.399574</td>\n",
       "      <td>1</td>\n",
       "    </tr>\n",
       "    <tr>\n",
       "      <th>1632744</th>\n",
       "      <td>9</td>\n",
       "      <td>138182431</td>\n",
       "      <td>A</td>\n",
       "      <td>G</td>\n",
       "      <td>0.004044</td>\n",
       "      <td>0.203095</td>\n",
       "      <td>1</td>\n",
       "    </tr>\n",
       "  </tbody>\n",
       "</table>\n",
       "<p>1632745 rows × 7 columns</p>\n",
       "</div>"
      ],
      "text/plain": [
       "        chrom        pos ref alt       pip       maf  n_traits\n",
       "0           1     820055   T   G  0.001039  0.005550         1\n",
       "1           1     832873   A   C  0.003492  0.236748         1\n",
       "2           1     833068   G   A  0.004263  0.106004         1\n",
       "3           1     834583   G   A  0.004209  0.105298         1\n",
       "4           1     835506   G   A  0.004478  0.104339         1\n",
       "...       ...        ...  ..  ..       ...       ...       ...\n",
       "1632740     9  138172038   C   T  0.002393  0.372683         2\n",
       "1632741     9  138173218   G   A  0.045044  0.165755         1\n",
       "1632742     9  138174172   T   C  0.001422  0.372984         1\n",
       "1632743     9  138174508   T   C  0.001392  0.399574         1\n",
       "1632744     9  138182431   A   G  0.004044  0.203095         1\n",
       "\n",
       "[1632745 rows x 7 columns]"
      ]
     },
     "execution_count": 7,
     "metadata": {},
     "output_type": "execute_result"
    }
   ],
   "source": [
    "pips_agg = pips.groupby(cols).agg({\"pip\": \"sum\", \"maf\": \"mean\", \"trait\": \"count\"}).reset_index().rename(columns={\"trait\": \"n_traits\"})\n",
    "pips_agg"
   ]
  },
  {
   "cell_type": "code",
   "execution_count": 8,
   "id": "7747fcc0-7a33-44ef-b61d-b4f75d69bba6",
   "metadata": {
    "tags": []
   },
   "outputs": [
    {
     "data": {
      "text/html": [
       "<div>\n",
       "<style scoped>\n",
       "    .dataframe tbody tr th:only-of-type {\n",
       "        vertical-align: middle;\n",
       "    }\n",
       "\n",
       "    .dataframe tbody tr th {\n",
       "        vertical-align: top;\n",
       "    }\n",
       "\n",
       "    .dataframe thead th {\n",
       "        text-align: right;\n",
       "    }\n",
       "</style>\n",
       "<table border=\"1\" class=\"dataframe\">\n",
       "  <thead>\n",
       "    <tr style=\"text-align: right;\">\n",
       "      <th></th>\n",
       "      <th>chrom</th>\n",
       "      <th>pos</th>\n",
       "      <th>ref</th>\n",
       "      <th>alt</th>\n",
       "      <th>pip</th>\n",
       "      <th>maf</th>\n",
       "      <th>n_traits</th>\n",
       "    </tr>\n",
       "  </thead>\n",
       "  <tbody>\n",
       "    <tr>\n",
       "      <th>0</th>\n",
       "      <td>1</td>\n",
       "      <td>820055</td>\n",
       "      <td>T</td>\n",
       "      <td>G</td>\n",
       "      <td>0.000011</td>\n",
       "      <td>0.005550</td>\n",
       "      <td>1</td>\n",
       "    </tr>\n",
       "    <tr>\n",
       "      <th>1</th>\n",
       "      <td>1</td>\n",
       "      <td>832873</td>\n",
       "      <td>A</td>\n",
       "      <td>C</td>\n",
       "      <td>0.000037</td>\n",
       "      <td>0.236748</td>\n",
       "      <td>1</td>\n",
       "    </tr>\n",
       "    <tr>\n",
       "      <th>2</th>\n",
       "      <td>1</td>\n",
       "      <td>833068</td>\n",
       "      <td>G</td>\n",
       "      <td>A</td>\n",
       "      <td>0.000045</td>\n",
       "      <td>0.106004</td>\n",
       "      <td>1</td>\n",
       "    </tr>\n",
       "    <tr>\n",
       "      <th>3</th>\n",
       "      <td>1</td>\n",
       "      <td>834583</td>\n",
       "      <td>G</td>\n",
       "      <td>A</td>\n",
       "      <td>0.000045</td>\n",
       "      <td>0.105298</td>\n",
       "      <td>1</td>\n",
       "    </tr>\n",
       "    <tr>\n",
       "      <th>4</th>\n",
       "      <td>1</td>\n",
       "      <td>835506</td>\n",
       "      <td>G</td>\n",
       "      <td>A</td>\n",
       "      <td>0.000048</td>\n",
       "      <td>0.104339</td>\n",
       "      <td>1</td>\n",
       "    </tr>\n",
       "    <tr>\n",
       "      <th>...</th>\n",
       "      <td>...</td>\n",
       "      <td>...</td>\n",
       "      <td>...</td>\n",
       "      <td>...</td>\n",
       "      <td>...</td>\n",
       "      <td>...</td>\n",
       "      <td>...</td>\n",
       "    </tr>\n",
       "    <tr>\n",
       "      <th>1632740</th>\n",
       "      <td>9</td>\n",
       "      <td>138172038</td>\n",
       "      <td>C</td>\n",
       "      <td>T</td>\n",
       "      <td>0.000025</td>\n",
       "      <td>0.372683</td>\n",
       "      <td>2</td>\n",
       "    </tr>\n",
       "    <tr>\n",
       "      <th>1632741</th>\n",
       "      <td>9</td>\n",
       "      <td>138173218</td>\n",
       "      <td>G</td>\n",
       "      <td>A</td>\n",
       "      <td>0.000479</td>\n",
       "      <td>0.165755</td>\n",
       "      <td>1</td>\n",
       "    </tr>\n",
       "    <tr>\n",
       "      <th>1632742</th>\n",
       "      <td>9</td>\n",
       "      <td>138174172</td>\n",
       "      <td>T</td>\n",
       "      <td>C</td>\n",
       "      <td>0.000015</td>\n",
       "      <td>0.372984</td>\n",
       "      <td>1</td>\n",
       "    </tr>\n",
       "    <tr>\n",
       "      <th>1632743</th>\n",
       "      <td>9</td>\n",
       "      <td>138174508</td>\n",
       "      <td>T</td>\n",
       "      <td>C</td>\n",
       "      <td>0.000015</td>\n",
       "      <td>0.399574</td>\n",
       "      <td>1</td>\n",
       "    </tr>\n",
       "    <tr>\n",
       "      <th>1632744</th>\n",
       "      <td>9</td>\n",
       "      <td>138182431</td>\n",
       "      <td>A</td>\n",
       "      <td>G</td>\n",
       "      <td>0.000043</td>\n",
       "      <td>0.203095</td>\n",
       "      <td>1</td>\n",
       "    </tr>\n",
       "  </tbody>\n",
       "</table>\n",
       "<p>1632745 rows × 7 columns</p>\n",
       "</div>"
      ],
      "text/plain": [
       "        chrom        pos ref alt       pip       maf  n_traits\n",
       "0           1     820055   T   G  0.000011  0.005550         1\n",
       "1           1     832873   A   C  0.000037  0.236748         1\n",
       "2           1     833068   G   A  0.000045  0.106004         1\n",
       "3           1     834583   G   A  0.000045  0.105298         1\n",
       "4           1     835506   G   A  0.000048  0.104339         1\n",
       "...       ...        ...  ..  ..       ...       ...       ...\n",
       "1632740     9  138172038   C   T  0.000025  0.372683         2\n",
       "1632741     9  138173218   G   A  0.000479  0.165755         1\n",
       "1632742     9  138174172   T   C  0.000015  0.372984         1\n",
       "1632743     9  138174508   T   C  0.000015  0.399574         1\n",
       "1632744     9  138182431   A   G  0.000043  0.203095         1\n",
       "\n",
       "[1632745 rows x 7 columns]"
      ]
     },
     "execution_count": 8,
     "metadata": {},
     "output_type": "execute_result"
    }
   ],
   "source": [
    "pips_agg[\"pip\"] = pips_agg.pip / len(pips.trait.unique())  # average pip\n",
    "pips_agg"
   ]
  },
  {
   "cell_type": "code",
   "execution_count": 9,
   "id": "eb726a59-09e2-44b7-9239-a3506b2e9a1c",
   "metadata": {
    "tags": []
   },
   "outputs": [
    {
     "data": {
      "text/html": [
       "<div>\n",
       "<style scoped>\n",
       "    .dataframe tbody tr th:only-of-type {\n",
       "        vertical-align: middle;\n",
       "    }\n",
       "\n",
       "    .dataframe tbody tr th {\n",
       "        vertical-align: top;\n",
       "    }\n",
       "\n",
       "    .dataframe thead th {\n",
       "        text-align: right;\n",
       "    }\n",
       "</style>\n",
       "<table border=\"1\" class=\"dataframe\">\n",
       "  <thead>\n",
       "    <tr style=\"text-align: right;\">\n",
       "      <th></th>\n",
       "      <th>chrom</th>\n",
       "      <th>pos</th>\n",
       "      <th>ref</th>\n",
       "      <th>alt</th>\n",
       "      <th>GPN-MSA</th>\n",
       "      <th>CADD</th>\n",
       "      <th>phyloP</th>\n",
       "    </tr>\n",
       "  </thead>\n",
       "  <tbody>\n",
       "    <tr>\n",
       "      <th>0</th>\n",
       "      <td>1</td>\n",
       "      <td>832873</td>\n",
       "      <td>A</td>\n",
       "      <td>C</td>\n",
       "      <td>0.487101</td>\n",
       "      <td>0.145778</td>\n",
       "      <td>0.677</td>\n",
       "    </tr>\n",
       "    <tr>\n",
       "      <th>1</th>\n",
       "      <td>1</td>\n",
       "      <td>833068</td>\n",
       "      <td>G</td>\n",
       "      <td>A</td>\n",
       "      <td>1.751498</td>\n",
       "      <td>0.016390</td>\n",
       "      <td>-0.036</td>\n",
       "    </tr>\n",
       "    <tr>\n",
       "      <th>2</th>\n",
       "      <td>1</td>\n",
       "      <td>834583</td>\n",
       "      <td>G</td>\n",
       "      <td>A</td>\n",
       "      <td>0.339468</td>\n",
       "      <td>0.051453</td>\n",
       "      <td>0.479</td>\n",
       "    </tr>\n",
       "    <tr>\n",
       "      <th>3</th>\n",
       "      <td>1</td>\n",
       "      <td>835506</td>\n",
       "      <td>G</td>\n",
       "      <td>A</td>\n",
       "      <td>-0.253357</td>\n",
       "      <td>0.177210</td>\n",
       "      <td>0.645</td>\n",
       "    </tr>\n",
       "    <tr>\n",
       "      <th>4</th>\n",
       "      <td>1</td>\n",
       "      <td>841852</td>\n",
       "      <td>C</td>\n",
       "      <td>T</td>\n",
       "      <td>0.046023</td>\n",
       "      <td>0.025537</td>\n",
       "      <td>0.459</td>\n",
       "    </tr>\n",
       "    <tr>\n",
       "      <th>...</th>\n",
       "      <td>...</td>\n",
       "      <td>...</td>\n",
       "      <td>...</td>\n",
       "      <td>...</td>\n",
       "      <td>...</td>\n",
       "      <td>...</td>\n",
       "      <td>...</td>\n",
       "    </tr>\n",
       "    <tr>\n",
       "      <th>1821943</th>\n",
       "      <td>22</td>\n",
       "      <td>50783624</td>\n",
       "      <td>G</td>\n",
       "      <td>A</td>\n",
       "      <td>-0.883718</td>\n",
       "      <td>-0.438139</td>\n",
       "      <td>0.932</td>\n",
       "    </tr>\n",
       "    <tr>\n",
       "      <th>1821944</th>\n",
       "      <td>22</td>\n",
       "      <td>50784537</td>\n",
       "      <td>G</td>\n",
       "      <td>A</td>\n",
       "      <td>0.073284</td>\n",
       "      <td>-0.645151</td>\n",
       "      <td>-0.249</td>\n",
       "    </tr>\n",
       "    <tr>\n",
       "      <th>1821945</th>\n",
       "      <td>22</td>\n",
       "      <td>50790482</td>\n",
       "      <td>G</td>\n",
       "      <td>A</td>\n",
       "      <td>0.051396</td>\n",
       "      <td>0.020462</td>\n",
       "      <td>-0.349</td>\n",
       "    </tr>\n",
       "    <tr>\n",
       "      <th>1821946</th>\n",
       "      <td>22</td>\n",
       "      <td>50791289</td>\n",
       "      <td>A</td>\n",
       "      <td>T</td>\n",
       "      <td>-0.813960</td>\n",
       "      <td>-0.261473</td>\n",
       "      <td>-0.062</td>\n",
       "    </tr>\n",
       "    <tr>\n",
       "      <th>1821947</th>\n",
       "      <td>22</td>\n",
       "      <td>50798635</td>\n",
       "      <td>T</td>\n",
       "      <td>C</td>\n",
       "      <td>-2.789426</td>\n",
       "      <td>-0.332125</td>\n",
       "      <td>-0.648</td>\n",
       "    </tr>\n",
       "  </tbody>\n",
       "</table>\n",
       "<p>1821948 rows × 7 columns</p>\n",
       "</div>"
      ],
      "text/plain": [
       "        chrom       pos ref alt   GPN-MSA      CADD  phyloP\n",
       "0           1    832873   A   C  0.487101  0.145778   0.677\n",
       "1           1    833068   G   A  1.751498  0.016390  -0.036\n",
       "2           1    834583   G   A  0.339468  0.051453   0.479\n",
       "3           1    835506   G   A -0.253357  0.177210   0.645\n",
       "4           1    841852   C   T  0.046023  0.025537   0.459\n",
       "...       ...       ...  ..  ..       ...       ...     ...\n",
       "1821943    22  50783624   G   A -0.883718 -0.438139   0.932\n",
       "1821944    22  50784537   G   A  0.073284 -0.645151  -0.249\n",
       "1821945    22  50790482   G   A  0.051396  0.020462  -0.349\n",
       "1821946    22  50791289   A   T -0.813960 -0.261473  -0.062\n",
       "1821947    22  50798635   T   C -2.789426 -0.332125  -0.648\n",
       "\n",
       "[1821948 rows x 7 columns]"
      ]
     },
     "execution_count": 9,
     "metadata": {},
     "output_type": "execute_result"
    }
   ],
   "source": [
    "models = [\n",
    "    \"multiz100way/89/128/64/True/defined.phastCons.percentile-75_0.05_0.001/medium/0.1/42/30000/True/True/upweight_phyloP_and_phastCons_flip_0.1_0.5_msa\",\n",
    "    \"CADD.RawScore\",\n",
    "    \"phyloP\",\n",
    "]\n",
    "\n",
    "model_renaming = {\n",
    "    \"CADD.RawScore\": \"CADD\",\n",
    "    \"multiz100way/89/128/64/True/defined.phastCons.percentile-75_0.05_0.001/medium/0.1/42/30000/True/True/upweight_phyloP_and_phastCons_flip_0.1_0.5_msa\": \"GPN-MSA\",\n",
    "}\n",
    "\n",
    "#V = pd.read_parquet(\"output/gwas/processed/test.parquet\")\n",
    "#d = Path(f\"output/preds/output/gwas/processed\")\n",
    "V = pd.read_parquet(\"../../results/finemapping/processed/test.parquet\")\n",
    "d = Path(f\"../../results/preds/results/finemapping/processed\")\n",
    "for m in models:\n",
    "    model_name = model_renaming.get(m, m)\n",
    "    if m in V.columns:\n",
    "        V.rename(columns={m: model_name}, inplace=True)\n",
    "        continue\n",
    "    model_path = d / f\"{m}.parquet\"\n",
    "    V[model_name] = pd.read_parquet(model_path)[\"score\"].values\n",
    "models = [model_renaming.get(m, m) for m in models]\n",
    "V"
   ]
  },
  {
   "cell_type": "code",
   "execution_count": 10,
   "id": "0672e334-375f-4818-ad22-adb7b01be99e",
   "metadata": {
    "tags": []
   },
   "outputs": [
    {
     "data": {
      "text/html": [
       "<div>\n",
       "<style scoped>\n",
       "    .dataframe tbody tr th:only-of-type {\n",
       "        vertical-align: middle;\n",
       "    }\n",
       "\n",
       "    .dataframe tbody tr th {\n",
       "        vertical-align: top;\n",
       "    }\n",
       "\n",
       "    .dataframe thead th {\n",
       "        text-align: right;\n",
       "    }\n",
       "</style>\n",
       "<table border=\"1\" class=\"dataframe\">\n",
       "  <thead>\n",
       "    <tr style=\"text-align: right;\">\n",
       "      <th></th>\n",
       "      <th>chrom</th>\n",
       "      <th>pos</th>\n",
       "      <th>ref</th>\n",
       "      <th>alt</th>\n",
       "      <th>GPN-MSA</th>\n",
       "      <th>CADD</th>\n",
       "      <th>phyloP</th>\n",
       "      <th>AF</th>\n",
       "      <th>ld_score</th>\n",
       "      <th>MAF</th>\n",
       "    </tr>\n",
       "  </thead>\n",
       "  <tbody>\n",
       "    <tr>\n",
       "      <th>0</th>\n",
       "      <td>1</td>\n",
       "      <td>832873</td>\n",
       "      <td>A</td>\n",
       "      <td>C</td>\n",
       "      <td>0.487101</td>\n",
       "      <td>0.145778</td>\n",
       "      <td>0.677</td>\n",
       "      <td>0.763689</td>\n",
       "      <td>65.233773</td>\n",
       "      <td>0.236311</td>\n",
       "    </tr>\n",
       "    <tr>\n",
       "      <th>1</th>\n",
       "      <td>1</td>\n",
       "      <td>833068</td>\n",
       "      <td>G</td>\n",
       "      <td>A</td>\n",
       "      <td>1.751498</td>\n",
       "      <td>0.016390</td>\n",
       "      <td>-0.036</td>\n",
       "      <td>0.105508</td>\n",
       "      <td>39.035791</td>\n",
       "      <td>0.105508</td>\n",
       "    </tr>\n",
       "    <tr>\n",
       "      <th>2</th>\n",
       "      <td>1</td>\n",
       "      <td>834583</td>\n",
       "      <td>G</td>\n",
       "      <td>A</td>\n",
       "      <td>0.339468</td>\n",
       "      <td>0.051453</td>\n",
       "      <td>0.479</td>\n",
       "      <td>0.104803</td>\n",
       "      <td>39.16434</td>\n",
       "      <td>0.104803</td>\n",
       "    </tr>\n",
       "    <tr>\n",
       "      <th>3</th>\n",
       "      <td>1</td>\n",
       "      <td>835506</td>\n",
       "      <td>G</td>\n",
       "      <td>A</td>\n",
       "      <td>-0.253357</td>\n",
       "      <td>0.177210</td>\n",
       "      <td>0.645</td>\n",
       "      <td>0.103867</td>\n",
       "      <td>38.977357</td>\n",
       "      <td>0.103867</td>\n",
       "    </tr>\n",
       "    <tr>\n",
       "      <th>4</th>\n",
       "      <td>1</td>\n",
       "      <td>841852</td>\n",
       "      <td>C</td>\n",
       "      <td>T</td>\n",
       "      <td>0.046023</td>\n",
       "      <td>0.025537</td>\n",
       "      <td>0.459</td>\n",
       "      <td>0.095105</td>\n",
       "      <td>39.579469</td>\n",
       "      <td>0.095105</td>\n",
       "    </tr>\n",
       "    <tr>\n",
       "      <th>...</th>\n",
       "      <td>...</td>\n",
       "      <td>...</td>\n",
       "      <td>...</td>\n",
       "      <td>...</td>\n",
       "      <td>...</td>\n",
       "      <td>...</td>\n",
       "      <td>...</td>\n",
       "      <td>...</td>\n",
       "      <td>...</td>\n",
       "      <td>...</td>\n",
       "    </tr>\n",
       "    <tr>\n",
       "      <th>1816798</th>\n",
       "      <td>22</td>\n",
       "      <td>50783624</td>\n",
       "      <td>G</td>\n",
       "      <td>A</td>\n",
       "      <td>-0.883718</td>\n",
       "      <td>-0.438139</td>\n",
       "      <td>0.932</td>\n",
       "      <td>0.299913</td>\n",
       "      <td>38.986375</td>\n",
       "      <td>0.299913</td>\n",
       "    </tr>\n",
       "    <tr>\n",
       "      <th>1816799</th>\n",
       "      <td>22</td>\n",
       "      <td>50784537</td>\n",
       "      <td>G</td>\n",
       "      <td>A</td>\n",
       "      <td>0.073284</td>\n",
       "      <td>-0.645151</td>\n",
       "      <td>-0.249</td>\n",
       "      <td>0.30374</td>\n",
       "      <td>39.121952</td>\n",
       "      <td>0.303740</td>\n",
       "    </tr>\n",
       "    <tr>\n",
       "      <th>1816800</th>\n",
       "      <td>22</td>\n",
       "      <td>50790482</td>\n",
       "      <td>G</td>\n",
       "      <td>A</td>\n",
       "      <td>0.051396</td>\n",
       "      <td>0.020462</td>\n",
       "      <td>-0.349</td>\n",
       "      <td>0.299102</td>\n",
       "      <td>37.73791</td>\n",
       "      <td>0.299102</td>\n",
       "    </tr>\n",
       "    <tr>\n",
       "      <th>1816801</th>\n",
       "      <td>22</td>\n",
       "      <td>50791289</td>\n",
       "      <td>A</td>\n",
       "      <td>T</td>\n",
       "      <td>-0.813960</td>\n",
       "      <td>-0.261473</td>\n",
       "      <td>-0.062</td>\n",
       "      <td>0.295325</td>\n",
       "      <td>37.576431</td>\n",
       "      <td>0.295325</td>\n",
       "    </tr>\n",
       "    <tr>\n",
       "      <th>1816802</th>\n",
       "      <td>22</td>\n",
       "      <td>50798635</td>\n",
       "      <td>T</td>\n",
       "      <td>C</td>\n",
       "      <td>-2.789426</td>\n",
       "      <td>-0.332125</td>\n",
       "      <td>-0.648</td>\n",
       "      <td>0.298367</td>\n",
       "      <td>36.020836</td>\n",
       "      <td>0.298367</td>\n",
       "    </tr>\n",
       "  </tbody>\n",
       "</table>\n",
       "<p>1816803 rows × 10 columns</p>\n",
       "</div>"
      ],
      "text/plain": [
       "        chrom       pos ref alt   GPN-MSA      CADD  phyloP        AF  \\\n",
       "0           1    832873   A   C  0.487101  0.145778   0.677  0.763689   \n",
       "1           1    833068   G   A  1.751498  0.016390  -0.036  0.105508   \n",
       "2           1    834583   G   A  0.339468  0.051453   0.479  0.104803   \n",
       "3           1    835506   G   A -0.253357  0.177210   0.645  0.103867   \n",
       "4           1    841852   C   T  0.046023  0.025537   0.459  0.095105   \n",
       "...       ...       ...  ..  ..       ...       ...     ...       ...   \n",
       "1816798    22  50783624   G   A -0.883718 -0.438139   0.932  0.299913   \n",
       "1816799    22  50784537   G   A  0.073284 -0.645151  -0.249   0.30374   \n",
       "1816800    22  50790482   G   A  0.051396  0.020462  -0.349  0.299102   \n",
       "1816801    22  50791289   A   T -0.813960 -0.261473  -0.062  0.295325   \n",
       "1816802    22  50798635   T   C -2.789426 -0.332125  -0.648  0.298367   \n",
       "\n",
       "          ld_score       MAF  \n",
       "0        65.233773  0.236311  \n",
       "1        39.035791  0.105508  \n",
       "2         39.16434  0.104803  \n",
       "3        38.977357  0.103867  \n",
       "4        39.579469  0.095105  \n",
       "...            ...       ...  \n",
       "1816798  38.986375  0.299913  \n",
       "1816799  39.121952  0.303740  \n",
       "1816800   37.73791  0.299102  \n",
       "1816801  37.576431  0.295325  \n",
       "1816802  36.020836  0.298367  \n",
       "\n",
       "[1816803 rows x 10 columns]"
      ]
     },
     "execution_count": 10,
     "metadata": {},
     "output_type": "execute_result"
    }
   ],
   "source": [
    "V = V.merge(ldscore, on=cols, how=\"inner\")\n",
    "V"
   ]
  },
  {
   "cell_type": "code",
   "execution_count": 11,
   "id": "e4d48a5e-a42b-4a67-9eda-dbedf4f48290",
   "metadata": {
    "tags": []
   },
   "outputs": [
    {
     "name": "stdout",
     "output_type": "stream",
     "text": [
      "GPN-MSA\n"
     ]
    }
   ],
   "source": [
    "exclude_abs = [\"CADD\", \"phyloP\", \"phyloP-100-vertebrates\", \"phyloP-241-mammals\", \"phyloP-Zoonomia\", 'phastCons-100-vertebrates']\n",
    "for m in models:\n",
    "    if m in V.columns and m not in exclude_abs:\n",
    "        print(m)\n",
    "        V[m] = -V[m].abs()"
   ]
  },
  {
   "cell_type": "code",
   "execution_count": 12,
   "id": "2de868f1-b5bc-4e37-867e-49f0578a2e32",
   "metadata": {
    "tags": []
   },
   "outputs": [
    {
     "data": {
      "text/plain": [
       "0.9887593756725412"
      ]
     },
     "execution_count": 12,
     "metadata": {},
     "output_type": "execute_result"
    }
   ],
   "source": [
    "not_na = ~V[models].isna().any(axis=1)\n",
    "not_na.mean()"
   ]
  },
  {
   "cell_type": "code",
   "execution_count": 13,
   "id": "9bd3a268-68a3-46e3-844c-32e7bab44f47",
   "metadata": {
    "tags": []
   },
   "outputs": [
    {
     "data": {
      "text/plain": [
       "(1796381, 10)"
      ]
     },
     "execution_count": 13,
     "metadata": {},
     "output_type": "execute_result"
    }
   ],
   "source": [
    "V = V[not_na]\n",
    "V.shape"
   ]
  },
  {
   "cell_type": "markdown",
   "id": "af66839b-ce9b-4c9b-863d-eb51ebfe641b",
   "metadata": {
    "user_expressions": []
   },
   "source": [
    "## Aggregate"
   ]
  },
  {
   "cell_type": "code",
   "execution_count": 297,
   "id": "5aedf50f-fbd1-4433-acd4-f442cff3eceb",
   "metadata": {
    "tags": []
   },
   "outputs": [
    {
     "name": "stderr",
     "output_type": "stream",
     "text": [
      "/tmp/ipykernel_2080421/3339213664.py:7: FutureWarning: Setting an item of incompatible dtype is deprecated and will raise in a future error of pandas. Value 'True' has dtype incompatible with float64, please explicitly cast to a compatible dtype first.\n",
      "  V2.loc[V2.pip.rank(ascending=False) <= 1000, \"Likely causal\"] = True   # 1000\n"
     ]
    },
    {
     "data": {
      "text/plain": [
       "Likely causal\n",
       "False    100000\n",
       "True       1000\n",
       "Name: count, dtype: int64"
      ]
     },
     "execution_count": 297,
     "metadata": {},
     "output_type": "execute_result"
    }
   ],
   "source": [
    "from scipy.stats import zscore\n",
    "\n",
    "V2 = V.merge(pips_agg, how=\"inner\", on=cols).sort_values(\"pip\", ascending=False)\n",
    "V2[\"maf_z\"] = zscore(V2[\"maf\"])\n",
    "V2[\"ld_score_z\"] = zscore(V2[\"ld_score\"].astype(float))\n",
    "\n",
    "V2.loc[V2.pip.rank(ascending=False) <= 1000, \"Likely causal\"] = True   # 1000\n",
    "V2.loc[V2.pip.rank() <= 100_000, \"Likely causal\"] = False\n",
    "\n",
    "V2 = V2.dropna(subset=\"Likely causal\")\n",
    "V2[\"Likely causal\"] = V2[\"Likely causal\"].astype(bool)\n",
    "V2[\"Likely causal\"].value_counts()"
   ]
  },
  {
   "cell_type": "code",
   "execution_count": 298,
   "id": "09791e8f-8369-4531-b595-5edf310c6f09",
   "metadata": {
    "tags": []
   },
   "outputs": [
    {
     "data": {
      "text/plain": [
       "Likely causal\n",
       "True     1000\n",
       "False    1000\n",
       "Name: count, dtype: int64"
      ]
     },
     "execution_count": 298,
     "metadata": {},
     "output_type": "execute_result"
    }
   ],
   "source": [
    "V2 = match_columns(V2, \"Likely causal\", [\"maf_z\", \"ld_score_z\"])\n",
    "V2 = V2.drop_duplicates()\n",
    "V2[\"Likely causal\"].value_counts()"
   ]
  },
  {
   "cell_type": "code",
   "execution_count": 299,
   "id": "beb274bd-badf-4f37-86f7-863c01277dd1",
   "metadata": {
    "tags": []
   },
   "outputs": [
    {
     "name": "stderr",
     "output_type": "stream",
     "text": [
      "/scratch/users/gbenegas/software/mambaforge/envs/gpn/lib/python3.11/site-packages/pyarrow/pandas_compat.py:373: FutureWarning: is_sparse is deprecated and will be removed in a future version. Check `isinstance(dtype, pd.SparseDtype)` instead.\n",
      "  if _pandas_api.is_sparse(col):\n"
     ]
    },
    {
     "data": {
      "text/html": [],
      "text/plain": [
       "<IPython.core.display.HTML object>"
      ]
     },
     "metadata": {},
     "output_type": "display_data"
    },
    {
     "data": {
      "text/html": [
       "<div>\n",
       "<style scoped>\n",
       "    .dataframe tbody tr th:only-of-type {\n",
       "        vertical-align: middle;\n",
       "    }\n",
       "\n",
       "    .dataframe tbody tr th {\n",
       "        vertical-align: top;\n",
       "    }\n",
       "\n",
       "    .dataframe thead th {\n",
       "        text-align: right;\n",
       "    }\n",
       "</style>\n",
       "<table border=\"1\" class=\"dataframe\">\n",
       "  <thead>\n",
       "    <tr style=\"text-align: right;\">\n",
       "      <th></th>\n",
       "      <th>chrom</th>\n",
       "      <th>pos</th>\n",
       "      <th>ref</th>\n",
       "      <th>alt</th>\n",
       "      <th>GPN-MSA</th>\n",
       "      <th>CADD</th>\n",
       "      <th>phyloP</th>\n",
       "      <th>AF</th>\n",
       "      <th>ld_score</th>\n",
       "      <th>MAF</th>\n",
       "      <th>pip</th>\n",
       "      <th>maf</th>\n",
       "      <th>n_traits</th>\n",
       "      <th>maf_z</th>\n",
       "      <th>ld_score_z</th>\n",
       "      <th>Likely causal</th>\n",
       "      <th>euclidean_distance</th>\n",
       "      <th>inner_product</th>\n",
       "      <th>cosine_similarity</th>\n",
       "    </tr>\n",
       "  </thead>\n",
       "  <tbody>\n",
       "    <tr>\n",
       "      <th>162015</th>\n",
       "      <td>2</td>\n",
       "      <td>27508073</td>\n",
       "      <td>T</td>\n",
       "      <td>C</td>\n",
       "      <td>-3.085732</td>\n",
       "      <td>-1.147003</td>\n",
       "      <td>-0.075</td>\n",
       "      <td>0.60702</td>\n",
       "      <td>222.283921</td>\n",
       "      <td>0.392980</td>\n",
       "      <td>0.294152</td>\n",
       "      <td>0.393022</td>\n",
       "      <td>37</td>\n",
       "      <td>1.208642</td>\n",
       "      <td>0.415063</td>\n",
       "      <td>True</td>\n",
       "      <td>42.714710</td>\n",
       "      <td>98765.539062</td>\n",
       "      <td>0.990848</td>\n",
       "    </tr>\n",
       "    <tr>\n",
       "      <th>450872</th>\n",
       "      <td>4</td>\n",
       "      <td>102267552</td>\n",
       "      <td>C</td>\n",
       "      <td>T</td>\n",
       "      <td>-3.977336</td>\n",
       "      <td>-2.383603</td>\n",
       "      <td>-1.821</td>\n",
       "      <td>0.074578</td>\n",
       "      <td>107.499194</td>\n",
       "      <td>0.074578</td>\n",
       "      <td>0.214927</td>\n",
       "      <td>0.074813</td>\n",
       "      <td>29</td>\n",
       "      <td>-0.827666</td>\n",
       "      <td>-0.335390</td>\n",
       "      <td>True</td>\n",
       "      <td>49.100784</td>\n",
       "      <td>98073.265625</td>\n",
       "      <td>0.987708</td>\n",
       "    </tr>\n",
       "    <tr>\n",
       "      <th>1078197</th>\n",
       "      <td>12</td>\n",
       "      <td>4275678</td>\n",
       "      <td>T</td>\n",
       "      <td>G</td>\n",
       "      <td>-3.413795</td>\n",
       "      <td>-1.036324</td>\n",
       "      <td>0.509</td>\n",
       "      <td>0.02079</td>\n",
       "      <td>9.373644</td>\n",
       "      <td>0.020790</td>\n",
       "      <td>0.189471</td>\n",
       "      <td>0.021026</td>\n",
       "      <td>21</td>\n",
       "      <td>-1.171865</td>\n",
       "      <td>-0.976926</td>\n",
       "      <td>True</td>\n",
       "      <td>27.341904</td>\n",
       "      <td>99161.539062</td>\n",
       "      <td>0.996244</td>\n",
       "    </tr>\n",
       "    <tr>\n",
       "      <th>1548058</th>\n",
       "      <td>20</td>\n",
       "      <td>44413724</td>\n",
       "      <td>C</td>\n",
       "      <td>T</td>\n",
       "      <td>-9.917723</td>\n",
       "      <td>-2.277288</td>\n",
       "      <td>-7.873</td>\n",
       "      <td>0.031379</td>\n",
       "      <td>14.199153</td>\n",
       "      <td>0.031379</td>\n",
       "      <td>0.183270</td>\n",
       "      <td>0.031456</td>\n",
       "      <td>21</td>\n",
       "      <td>-1.105117</td>\n",
       "      <td>-0.945377</td>\n",
       "      <td>True</td>\n",
       "      <td>18.441339</td>\n",
       "      <td>99208.328125</td>\n",
       "      <td>0.998288</td>\n",
       "    </tr>\n",
       "    <tr>\n",
       "      <th>448132</th>\n",
       "      <td>4</td>\n",
       "      <td>99318162</td>\n",
       "      <td>T</td>\n",
       "      <td>C</td>\n",
       "      <td>-2.632227</td>\n",
       "      <td>-1.131267</td>\n",
       "      <td>-1.178</td>\n",
       "      <td>0.977225</td>\n",
       "      <td>37.569382</td>\n",
       "      <td>0.022775</td>\n",
       "      <td>0.169436</td>\n",
       "      <td>0.022288</td>\n",
       "      <td>19</td>\n",
       "      <td>-1.163789</td>\n",
       "      <td>-0.792585</td>\n",
       "      <td>True</td>\n",
       "      <td>38.332298</td>\n",
       "      <td>98871.890625</td>\n",
       "      <td>0.992623</td>\n",
       "    </tr>\n",
       "    <tr>\n",
       "      <th>...</th>\n",
       "      <td>...</td>\n",
       "      <td>...</td>\n",
       "      <td>...</td>\n",
       "      <td>...</td>\n",
       "      <td>...</td>\n",
       "      <td>...</td>\n",
       "      <td>...</td>\n",
       "      <td>...</td>\n",
       "      <td>...</td>\n",
       "      <td>...</td>\n",
       "      <td>...</td>\n",
       "      <td>...</td>\n",
       "      <td>...</td>\n",
       "      <td>...</td>\n",
       "      <td>...</td>\n",
       "      <td>...</td>\n",
       "      <td>...</td>\n",
       "      <td>...</td>\n",
       "      <td>...</td>\n",
       "    </tr>\n",
       "    <tr>\n",
       "      <th>1365924</th>\n",
       "      <td>17</td>\n",
       "      <td>878167</td>\n",
       "      <td>C</td>\n",
       "      <td>T</td>\n",
       "      <td>-1.014494</td>\n",
       "      <td>-0.373673</td>\n",
       "      <td>-0.114</td>\n",
       "      <td>0.097309</td>\n",
       "      <td>26.536287</td>\n",
       "      <td>0.097309</td>\n",
       "      <td>0.000011</td>\n",
       "      <td>0.097188</td>\n",
       "      <td>1</td>\n",
       "      <td>-0.684481</td>\n",
       "      <td>-0.864718</td>\n",
       "      <td>False</td>\n",
       "      <td>14.114077</td>\n",
       "      <td>99683.359375</td>\n",
       "      <td>0.999002</td>\n",
       "    </tr>\n",
       "    <tr>\n",
       "      <th>260827</th>\n",
       "      <td>2</td>\n",
       "      <td>192143736</td>\n",
       "      <td>T</td>\n",
       "      <td>A</td>\n",
       "      <td>-6.575644</td>\n",
       "      <td>-1.631243</td>\n",
       "      <td>-2.165</td>\n",
       "      <td>0.370792</td>\n",
       "      <td>51.062557</td>\n",
       "      <td>0.370792</td>\n",
       "      <td>0.000012</td>\n",
       "      <td>0.370459</td>\n",
       "      <td>1</td>\n",
       "      <td>1.064258</td>\n",
       "      <td>-0.704367</td>\n",
       "      <td>False</td>\n",
       "      <td>28.890694</td>\n",
       "      <td>99271.171875</td>\n",
       "      <td>0.995801</td>\n",
       "    </tr>\n",
       "    <tr>\n",
       "      <th>1467150</th>\n",
       "      <td>18</td>\n",
       "      <td>76394822</td>\n",
       "      <td>G</td>\n",
       "      <td>A</td>\n",
       "      <td>-0.464374</td>\n",
       "      <td>-0.077052</td>\n",
       "      <td>2.305</td>\n",
       "      <td>0.909925</td>\n",
       "      <td>23.796585</td>\n",
       "      <td>0.090075</td>\n",
       "      <td>0.000011</td>\n",
       "      <td>0.089858</td>\n",
       "      <td>1</td>\n",
       "      <td>-0.731389</td>\n",
       "      <td>-0.882630</td>\n",
       "      <td>False</td>\n",
       "      <td>24.972672</td>\n",
       "      <td>99463.226562</td>\n",
       "      <td>0.996874</td>\n",
       "    </tr>\n",
       "    <tr>\n",
       "      <th>298029</th>\n",
       "      <td>3</td>\n",
       "      <td>11728157</td>\n",
       "      <td>T</td>\n",
       "      <td>C</td>\n",
       "      <td>-2.849348</td>\n",
       "      <td>-0.593265</td>\n",
       "      <td>-0.536</td>\n",
       "      <td>0.006498</td>\n",
       "      <td>10.477118</td>\n",
       "      <td>0.006498</td>\n",
       "      <td>0.000011</td>\n",
       "      <td>0.006484</td>\n",
       "      <td>1</td>\n",
       "      <td>-1.264922</td>\n",
       "      <td>-0.969711</td>\n",
       "      <td>False</td>\n",
       "      <td>24.190710</td>\n",
       "      <td>99498.976562</td>\n",
       "      <td>0.997062</td>\n",
       "    </tr>\n",
       "    <tr>\n",
       "      <th>1316272</th>\n",
       "      <td>16</td>\n",
       "      <td>13194185</td>\n",
       "      <td>C</td>\n",
       "      <td>T</td>\n",
       "      <td>-1.468606</td>\n",
       "      <td>-0.259181</td>\n",
       "      <td>-0.311</td>\n",
       "      <td>0.435399</td>\n",
       "      <td>99.095473</td>\n",
       "      <td>0.435399</td>\n",
       "      <td>0.000012</td>\n",
       "      <td>0.435562</td>\n",
       "      <td>1</td>\n",
       "      <td>1.480870</td>\n",
       "      <td>-0.390333</td>\n",
       "      <td>False</td>\n",
       "      <td>14.303717</td>\n",
       "      <td>99698.242188</td>\n",
       "      <td>0.998973</td>\n",
       "    </tr>\n",
       "  </tbody>\n",
       "</table>\n",
       "<p>2000 rows × 19 columns</p>\n",
       "</div>"
      ],
      "text/plain": [
       "        chrom        pos ref alt   GPN-MSA      CADD  phyloP        AF  \\\n",
       "162015      2   27508073   T   C -3.085732 -1.147003  -0.075   0.60702   \n",
       "450872      4  102267552   C   T -3.977336 -2.383603  -1.821  0.074578   \n",
       "1078197    12    4275678   T   G -3.413795 -1.036324   0.509   0.02079   \n",
       "1548058    20   44413724   C   T -9.917723 -2.277288  -7.873  0.031379   \n",
       "448132      4   99318162   T   C -2.632227 -1.131267  -1.178  0.977225   \n",
       "...       ...        ...  ..  ..       ...       ...     ...       ...   \n",
       "1365924    17     878167   C   T -1.014494 -0.373673  -0.114  0.097309   \n",
       "260827      2  192143736   T   A -6.575644 -1.631243  -2.165  0.370792   \n",
       "1467150    18   76394822   G   A -0.464374 -0.077052   2.305  0.909925   \n",
       "298029      3   11728157   T   C -2.849348 -0.593265  -0.536  0.006498   \n",
       "1316272    16   13194185   C   T -1.468606 -0.259181  -0.311  0.435399   \n",
       "\n",
       "           ld_score       MAF       pip       maf  n_traits     maf_z  \\\n",
       "162015   222.283921  0.392980  0.294152  0.393022        37  1.208642   \n",
       "450872   107.499194  0.074578  0.214927  0.074813        29 -0.827666   \n",
       "1078197    9.373644  0.020790  0.189471  0.021026        21 -1.171865   \n",
       "1548058   14.199153  0.031379  0.183270  0.031456        21 -1.105117   \n",
       "448132    37.569382  0.022775  0.169436  0.022288        19 -1.163789   \n",
       "...             ...       ...       ...       ...       ...       ...   \n",
       "1365924   26.536287  0.097309  0.000011  0.097188         1 -0.684481   \n",
       "260827    51.062557  0.370792  0.000012  0.370459         1  1.064258   \n",
       "1467150   23.796585  0.090075  0.000011  0.089858         1 -0.731389   \n",
       "298029    10.477118  0.006498  0.000011  0.006484         1 -1.264922   \n",
       "1316272   99.095473  0.435399  0.000012  0.435562         1  1.480870   \n",
       "\n",
       "         ld_score_z  Likely causal  euclidean_distance  inner_product  \\\n",
       "162015     0.415063           True           42.714710   98765.539062   \n",
       "450872    -0.335390           True           49.100784   98073.265625   \n",
       "1078197   -0.976926           True           27.341904   99161.539062   \n",
       "1548058   -0.945377           True           18.441339   99208.328125   \n",
       "448132    -0.792585           True           38.332298   98871.890625   \n",
       "...             ...            ...                 ...            ...   \n",
       "1365924   -0.864718          False           14.114077   99683.359375   \n",
       "260827    -0.704367          False           28.890694   99271.171875   \n",
       "1467150   -0.882630          False           24.972672   99463.226562   \n",
       "298029    -0.969711          False           24.190710   99498.976562   \n",
       "1316272   -0.390333          False           14.303717   99698.242188   \n",
       "\n",
       "         cosine_similarity  \n",
       "162015            0.990848  \n",
       "450872            0.987708  \n",
       "1078197           0.996244  \n",
       "1548058           0.998288  \n",
       "448132            0.992623  \n",
       "...                    ...  \n",
       "1365924           0.999002  \n",
       "260827            0.995801  \n",
       "1467150           0.996874  \n",
       "298029            0.997062  \n",
       "1316272           0.998973  \n",
       "\n",
       "[2000 rows x 19 columns]"
      ]
     },
     "execution_count": 299,
     "metadata": {},
     "output_type": "execute_result"
    }
   ],
   "source": [
    "V2.loc[:, [\"euclidean_distance\", \"inner_product\", \"cosine_similarity\"]] = score_vep(V2).values\n",
    "V2"
   ]
  },
  {
   "cell_type": "code",
   "execution_count": 300,
   "id": "4d83faa4-2d7e-4be4-b267-252efe643f8d",
   "metadata": {
    "tags": []
   },
   "outputs": [],
   "source": [
    "#embedding_mean = pred.reshape(-1, 768).mean(axis=0)\n",
    "#embedding_std = pred.reshape(-1, 768).std(axis=0)\n",
    "#embedding_mean.shape, embedding_std.shape"
   ]
  },
  {
   "cell_type": "code",
   "execution_count": 301,
   "id": "dc580423-7280-428b-b5b7-bf9404376160",
   "metadata": {
    "tags": []
   },
   "outputs": [],
   "source": [
    "models = [\"GPN-MSA\", \"CADD\", \"phyloP\"]"
   ]
  },
  {
   "cell_type": "code",
   "execution_count": 302,
   "id": "3e96c4f9-0cff-409e-9349-5ef6cf3356fa",
   "metadata": {
    "tags": []
   },
   "outputs": [],
   "source": [
    "models += [\"euclidean_distance\", \"inner_product\", \"cosine_similarity\"]"
   ]
  },
  {
   "cell_type": "code",
   "execution_count": 303,
   "id": "63470bd1-3a9a-4f74-af64-f50f07a206e5",
   "metadata": {
    "tags": []
   },
   "outputs": [
    {
     "data": {
      "text/html": [
       "<div>\n",
       "<style scoped>\n",
       "    .dataframe tbody tr th:only-of-type {\n",
       "        vertical-align: middle;\n",
       "    }\n",
       "\n",
       "    .dataframe tbody tr th {\n",
       "        vertical-align: top;\n",
       "    }\n",
       "\n",
       "    .dataframe thead th {\n",
       "        text-align: right;\n",
       "    }\n",
       "</style>\n",
       "<table border=\"1\" class=\"dataframe\">\n",
       "  <thead>\n",
       "    <tr style=\"text-align: right;\">\n",
       "      <th></th>\n",
       "      <th>chrom</th>\n",
       "      <th>pos</th>\n",
       "      <th>ref</th>\n",
       "      <th>alt</th>\n",
       "      <th>GPN-MSA</th>\n",
       "      <th>CADD</th>\n",
       "      <th>phyloP</th>\n",
       "      <th>AF</th>\n",
       "      <th>ld_score</th>\n",
       "      <th>MAF</th>\n",
       "      <th>pip</th>\n",
       "      <th>maf</th>\n",
       "      <th>n_traits</th>\n",
       "      <th>maf_z</th>\n",
       "      <th>ld_score_z</th>\n",
       "      <th>Likely causal</th>\n",
       "      <th>euclidean_distance</th>\n",
       "      <th>inner_product</th>\n",
       "      <th>cosine_similarity</th>\n",
       "    </tr>\n",
       "  </thead>\n",
       "  <tbody>\n",
       "    <tr>\n",
       "      <th>162015</th>\n",
       "      <td>2</td>\n",
       "      <td>27508073</td>\n",
       "      <td>T</td>\n",
       "      <td>C</td>\n",
       "      <td>-3.085732</td>\n",
       "      <td>-1.147003</td>\n",
       "      <td>-0.075</td>\n",
       "      <td>0.60702</td>\n",
       "      <td>222.283921</td>\n",
       "      <td>0.392980</td>\n",
       "      <td>0.294152</td>\n",
       "      <td>0.393022</td>\n",
       "      <td>37</td>\n",
       "      <td>1.208642</td>\n",
       "      <td>0.415063</td>\n",
       "      <td>True</td>\n",
       "      <td>-42.714710</td>\n",
       "      <td>-1002.867188</td>\n",
       "      <td>-0.008818</td>\n",
       "    </tr>\n",
       "    <tr>\n",
       "      <th>450872</th>\n",
       "      <td>4</td>\n",
       "      <td>102267552</td>\n",
       "      <td>C</td>\n",
       "      <td>T</td>\n",
       "      <td>-3.977336</td>\n",
       "      <td>-2.383603</td>\n",
       "      <td>-1.821</td>\n",
       "      <td>0.074578</td>\n",
       "      <td>107.499194</td>\n",
       "      <td>0.074578</td>\n",
       "      <td>0.214927</td>\n",
       "      <td>0.074813</td>\n",
       "      <td>29</td>\n",
       "      <td>-0.827666</td>\n",
       "      <td>-0.335390</td>\n",
       "      <td>True</td>\n",
       "      <td>-49.100784</td>\n",
       "      <td>-1695.140625</td>\n",
       "      <td>-0.011958</td>\n",
       "    </tr>\n",
       "    <tr>\n",
       "      <th>1078197</th>\n",
       "      <td>12</td>\n",
       "      <td>4275678</td>\n",
       "      <td>T</td>\n",
       "      <td>G</td>\n",
       "      <td>-3.413795</td>\n",
       "      <td>-1.036324</td>\n",
       "      <td>0.509</td>\n",
       "      <td>0.02079</td>\n",
       "      <td>9.373644</td>\n",
       "      <td>0.020790</td>\n",
       "      <td>0.189471</td>\n",
       "      <td>0.021026</td>\n",
       "      <td>21</td>\n",
       "      <td>-1.171865</td>\n",
       "      <td>-0.976926</td>\n",
       "      <td>True</td>\n",
       "      <td>-27.341904</td>\n",
       "      <td>-606.867188</td>\n",
       "      <td>-0.003421</td>\n",
       "    </tr>\n",
       "    <tr>\n",
       "      <th>1548058</th>\n",
       "      <td>20</td>\n",
       "      <td>44413724</td>\n",
       "      <td>C</td>\n",
       "      <td>T</td>\n",
       "      <td>-9.917723</td>\n",
       "      <td>-2.277288</td>\n",
       "      <td>-7.873</td>\n",
       "      <td>0.031379</td>\n",
       "      <td>14.199153</td>\n",
       "      <td>0.031379</td>\n",
       "      <td>0.183270</td>\n",
       "      <td>0.031456</td>\n",
       "      <td>21</td>\n",
       "      <td>-1.105117</td>\n",
       "      <td>-0.945377</td>\n",
       "      <td>True</td>\n",
       "      <td>-18.441339</td>\n",
       "      <td>-560.078125</td>\n",
       "      <td>-0.001377</td>\n",
       "    </tr>\n",
       "    <tr>\n",
       "      <th>448132</th>\n",
       "      <td>4</td>\n",
       "      <td>99318162</td>\n",
       "      <td>T</td>\n",
       "      <td>C</td>\n",
       "      <td>-2.632227</td>\n",
       "      <td>-1.131267</td>\n",
       "      <td>-1.178</td>\n",
       "      <td>0.977225</td>\n",
       "      <td>37.569382</td>\n",
       "      <td>0.022775</td>\n",
       "      <td>0.169436</td>\n",
       "      <td>0.022288</td>\n",
       "      <td>19</td>\n",
       "      <td>-1.163789</td>\n",
       "      <td>-0.792585</td>\n",
       "      <td>True</td>\n",
       "      <td>-38.332298</td>\n",
       "      <td>-896.515625</td>\n",
       "      <td>-0.007043</td>\n",
       "    </tr>\n",
       "    <tr>\n",
       "      <th>...</th>\n",
       "      <td>...</td>\n",
       "      <td>...</td>\n",
       "      <td>...</td>\n",
       "      <td>...</td>\n",
       "      <td>...</td>\n",
       "      <td>...</td>\n",
       "      <td>...</td>\n",
       "      <td>...</td>\n",
       "      <td>...</td>\n",
       "      <td>...</td>\n",
       "      <td>...</td>\n",
       "      <td>...</td>\n",
       "      <td>...</td>\n",
       "      <td>...</td>\n",
       "      <td>...</td>\n",
       "      <td>...</td>\n",
       "      <td>...</td>\n",
       "      <td>...</td>\n",
       "      <td>...</td>\n",
       "    </tr>\n",
       "    <tr>\n",
       "      <th>1365924</th>\n",
       "      <td>17</td>\n",
       "      <td>878167</td>\n",
       "      <td>C</td>\n",
       "      <td>T</td>\n",
       "      <td>-1.014494</td>\n",
       "      <td>-0.373673</td>\n",
       "      <td>-0.114</td>\n",
       "      <td>0.097309</td>\n",
       "      <td>26.536287</td>\n",
       "      <td>0.097309</td>\n",
       "      <td>0.000011</td>\n",
       "      <td>0.097188</td>\n",
       "      <td>1</td>\n",
       "      <td>-0.684481</td>\n",
       "      <td>-0.864718</td>\n",
       "      <td>False</td>\n",
       "      <td>-14.114077</td>\n",
       "      <td>-85.046875</td>\n",
       "      <td>-0.000664</td>\n",
       "    </tr>\n",
       "    <tr>\n",
       "      <th>260827</th>\n",
       "      <td>2</td>\n",
       "      <td>192143736</td>\n",
       "      <td>T</td>\n",
       "      <td>A</td>\n",
       "      <td>-6.575644</td>\n",
       "      <td>-1.631243</td>\n",
       "      <td>-2.165</td>\n",
       "      <td>0.370792</td>\n",
       "      <td>51.062557</td>\n",
       "      <td>0.370792</td>\n",
       "      <td>0.000012</td>\n",
       "      <td>0.370459</td>\n",
       "      <td>1</td>\n",
       "      <td>1.064258</td>\n",
       "      <td>-0.704367</td>\n",
       "      <td>False</td>\n",
       "      <td>-28.890694</td>\n",
       "      <td>-497.234375</td>\n",
       "      <td>-0.003864</td>\n",
       "    </tr>\n",
       "    <tr>\n",
       "      <th>1467150</th>\n",
       "      <td>18</td>\n",
       "      <td>76394822</td>\n",
       "      <td>G</td>\n",
       "      <td>A</td>\n",
       "      <td>-0.464374</td>\n",
       "      <td>-0.077052</td>\n",
       "      <td>2.305</td>\n",
       "      <td>0.909925</td>\n",
       "      <td>23.796585</td>\n",
       "      <td>0.090075</td>\n",
       "      <td>0.000011</td>\n",
       "      <td>0.089858</td>\n",
       "      <td>1</td>\n",
       "      <td>-0.731389</td>\n",
       "      <td>-0.882630</td>\n",
       "      <td>False</td>\n",
       "      <td>-24.972672</td>\n",
       "      <td>-305.179688</td>\n",
       "      <td>-0.002792</td>\n",
       "    </tr>\n",
       "    <tr>\n",
       "      <th>298029</th>\n",
       "      <td>3</td>\n",
       "      <td>11728157</td>\n",
       "      <td>T</td>\n",
       "      <td>C</td>\n",
       "      <td>-2.849348</td>\n",
       "      <td>-0.593265</td>\n",
       "      <td>-0.536</td>\n",
       "      <td>0.006498</td>\n",
       "      <td>10.477118</td>\n",
       "      <td>0.006498</td>\n",
       "      <td>0.000011</td>\n",
       "      <td>0.006484</td>\n",
       "      <td>1</td>\n",
       "      <td>-1.264922</td>\n",
       "      <td>-0.969711</td>\n",
       "      <td>False</td>\n",
       "      <td>-24.190710</td>\n",
       "      <td>-269.429688</td>\n",
       "      <td>-0.002604</td>\n",
       "    </tr>\n",
       "    <tr>\n",
       "      <th>1316272</th>\n",
       "      <td>16</td>\n",
       "      <td>13194185</td>\n",
       "      <td>C</td>\n",
       "      <td>T</td>\n",
       "      <td>-1.468606</td>\n",
       "      <td>-0.259181</td>\n",
       "      <td>-0.311</td>\n",
       "      <td>0.435399</td>\n",
       "      <td>99.095473</td>\n",
       "      <td>0.435399</td>\n",
       "      <td>0.000012</td>\n",
       "      <td>0.435562</td>\n",
       "      <td>1</td>\n",
       "      <td>1.480870</td>\n",
       "      <td>-0.390333</td>\n",
       "      <td>False</td>\n",
       "      <td>-14.303717</td>\n",
       "      <td>-70.164062</td>\n",
       "      <td>-0.000693</td>\n",
       "    </tr>\n",
       "  </tbody>\n",
       "</table>\n",
       "<p>2000 rows × 19 columns</p>\n",
       "</div>"
      ],
      "text/plain": [
       "        chrom        pos ref alt   GPN-MSA      CADD  phyloP        AF  \\\n",
       "162015      2   27508073   T   C -3.085732 -1.147003  -0.075   0.60702   \n",
       "450872      4  102267552   C   T -3.977336 -2.383603  -1.821  0.074578   \n",
       "1078197    12    4275678   T   G -3.413795 -1.036324   0.509   0.02079   \n",
       "1548058    20   44413724   C   T -9.917723 -2.277288  -7.873  0.031379   \n",
       "448132      4   99318162   T   C -2.632227 -1.131267  -1.178  0.977225   \n",
       "...       ...        ...  ..  ..       ...       ...     ...       ...   \n",
       "1365924    17     878167   C   T -1.014494 -0.373673  -0.114  0.097309   \n",
       "260827      2  192143736   T   A -6.575644 -1.631243  -2.165  0.370792   \n",
       "1467150    18   76394822   G   A -0.464374 -0.077052   2.305  0.909925   \n",
       "298029      3   11728157   T   C -2.849348 -0.593265  -0.536  0.006498   \n",
       "1316272    16   13194185   C   T -1.468606 -0.259181  -0.311  0.435399   \n",
       "\n",
       "           ld_score       MAF       pip       maf  n_traits     maf_z  \\\n",
       "162015   222.283921  0.392980  0.294152  0.393022        37  1.208642   \n",
       "450872   107.499194  0.074578  0.214927  0.074813        29 -0.827666   \n",
       "1078197    9.373644  0.020790  0.189471  0.021026        21 -1.171865   \n",
       "1548058   14.199153  0.031379  0.183270  0.031456        21 -1.105117   \n",
       "448132    37.569382  0.022775  0.169436  0.022288        19 -1.163789   \n",
       "...             ...       ...       ...       ...       ...       ...   \n",
       "1365924   26.536287  0.097309  0.000011  0.097188         1 -0.684481   \n",
       "260827    51.062557  0.370792  0.000012  0.370459         1  1.064258   \n",
       "1467150   23.796585  0.090075  0.000011  0.089858         1 -0.731389   \n",
       "298029    10.477118  0.006498  0.000011  0.006484         1 -1.264922   \n",
       "1316272   99.095473  0.435399  0.000012  0.435562         1  1.480870   \n",
       "\n",
       "         ld_score_z  Likely causal  euclidean_distance  inner_product  \\\n",
       "162015     0.415063           True          -42.714710   -1002.867188   \n",
       "450872    -0.335390           True          -49.100784   -1695.140625   \n",
       "1078197   -0.976926           True          -27.341904    -606.867188   \n",
       "1548058   -0.945377           True          -18.441339    -560.078125   \n",
       "448132    -0.792585           True          -38.332298    -896.515625   \n",
       "...             ...            ...                 ...            ...   \n",
       "1365924   -0.864718          False          -14.114077     -85.046875   \n",
       "260827    -0.704367          False          -28.890694    -497.234375   \n",
       "1467150   -0.882630          False          -24.972672    -305.179688   \n",
       "298029    -0.969711          False          -24.190710    -269.429688   \n",
       "1316272   -0.390333          False          -14.303717     -70.164062   \n",
       "\n",
       "         cosine_similarity  \n",
       "162015           -0.008818  \n",
       "450872           -0.011958  \n",
       "1078197          -0.003421  \n",
       "1548058          -0.001377  \n",
       "448132           -0.007043  \n",
       "...                    ...  \n",
       "1365924          -0.000664  \n",
       "260827           -0.003864  \n",
       "1467150          -0.002792  \n",
       "298029           -0.002604  \n",
       "1316272          -0.000693  \n",
       "\n",
       "[2000 rows x 19 columns]"
      ]
     },
     "execution_count": 303,
     "metadata": {},
     "output_type": "execute_result"
    }
   ],
   "source": [
    "V2.euclidean_distance *= -1\n",
    "V2.cosine_similarity -= V2.cosine_similarity.max()\n",
    "V2.inner_product -= V2.inner_product.max()\n",
    "V2"
   ]
  },
  {
   "cell_type": "code",
   "execution_count": 304,
   "id": "ca06d962-300e-42a7-9a2e-c2b43d5d2117",
   "metadata": {
    "tags": []
   },
   "outputs": [],
   "source": [
    "def rank_transform(s):\n",
    "    return -(s.rank(ascending=False))"
   ]
  },
  {
   "cell_type": "code",
   "execution_count": 305,
   "id": "54c7bada-6b85-4499-88ed-1ee9256488b7",
   "metadata": {
    "tags": []
   },
   "outputs": [],
   "source": [
    "#for m in [\"euclidean_distance\", \"inner_product\", \"cosine_similarity\"]:\n",
    "#    V2[f\"LLR*{m}\"] = -(V2[\"GPN-MSA\"]*V2[m])\n",
    "#    models.append(f\"LLR*{m}\")\n",
    "#V2"
   ]
  },
  {
   "cell_type": "code",
   "execution_count": 306,
   "id": "e47719ba-a4d6-45e3-ada9-c7fb1b91eec8",
   "metadata": {
    "tags": []
   },
   "outputs": [
    {
     "data": {
      "text/html": [
       "<div>\n",
       "<style scoped>\n",
       "    .dataframe tbody tr th:only-of-type {\n",
       "        vertical-align: middle;\n",
       "    }\n",
       "\n",
       "    .dataframe tbody tr th {\n",
       "        vertical-align: top;\n",
       "    }\n",
       "\n",
       "    .dataframe thead th {\n",
       "        text-align: right;\n",
       "    }\n",
       "</style>\n",
       "<table border=\"1\" class=\"dataframe\">\n",
       "  <thead>\n",
       "    <tr style=\"text-align: right;\">\n",
       "      <th></th>\n",
       "      <th>chrom</th>\n",
       "      <th>pos</th>\n",
       "      <th>ref</th>\n",
       "      <th>alt</th>\n",
       "      <th>GPN-MSA</th>\n",
       "      <th>CADD</th>\n",
       "      <th>phyloP</th>\n",
       "      <th>AF</th>\n",
       "      <th>ld_score</th>\n",
       "      <th>MAF</th>\n",
       "      <th>...</th>\n",
       "      <th>n_traits</th>\n",
       "      <th>maf_z</th>\n",
       "      <th>ld_score_z</th>\n",
       "      <th>Likely causal</th>\n",
       "      <th>euclidean_distance</th>\n",
       "      <th>inner_product</th>\n",
       "      <th>cosine_similarity</th>\n",
       "      <th>rank(LLR)+rank(euclidean_distance)</th>\n",
       "      <th>rank(LLR)+rank(inner_product)</th>\n",
       "      <th>rank(LLR)+rank(cosine_similarity)</th>\n",
       "    </tr>\n",
       "  </thead>\n",
       "  <tbody>\n",
       "    <tr>\n",
       "      <th>162015</th>\n",
       "      <td>2</td>\n",
       "      <td>27508073</td>\n",
       "      <td>T</td>\n",
       "      <td>C</td>\n",
       "      <td>-3.085732</td>\n",
       "      <td>-1.147003</td>\n",
       "      <td>-0.075</td>\n",
       "      <td>0.60702</td>\n",
       "      <td>222.283921</td>\n",
       "      <td>0.392980</td>\n",
       "      <td>...</td>\n",
       "      <td>37</td>\n",
       "      <td>1.208642</td>\n",
       "      <td>0.415063</td>\n",
       "      <td>True</td>\n",
       "      <td>-42.714710</td>\n",
       "      <td>-1002.867188</td>\n",
       "      <td>-0.008818</td>\n",
       "      <td>-3501.0</td>\n",
       "      <td>-3481.0</td>\n",
       "      <td>-3500.0</td>\n",
       "    </tr>\n",
       "    <tr>\n",
       "      <th>450872</th>\n",
       "      <td>4</td>\n",
       "      <td>102267552</td>\n",
       "      <td>C</td>\n",
       "      <td>T</td>\n",
       "      <td>-3.977336</td>\n",
       "      <td>-2.383603</td>\n",
       "      <td>-1.821</td>\n",
       "      <td>0.074578</td>\n",
       "      <td>107.499194</td>\n",
       "      <td>0.074578</td>\n",
       "      <td>...</td>\n",
       "      <td>29</td>\n",
       "      <td>-0.827666</td>\n",
       "      <td>-0.335390</td>\n",
       "      <td>True</td>\n",
       "      <td>-49.100784</td>\n",
       "      <td>-1695.140625</td>\n",
       "      <td>-0.011958</td>\n",
       "      <td>-3622.0</td>\n",
       "      <td>-3622.0</td>\n",
       "      <td>-3622.0</td>\n",
       "    </tr>\n",
       "    <tr>\n",
       "      <th>1078197</th>\n",
       "      <td>12</td>\n",
       "      <td>4275678</td>\n",
       "      <td>T</td>\n",
       "      <td>G</td>\n",
       "      <td>-3.413795</td>\n",
       "      <td>-1.036324</td>\n",
       "      <td>0.509</td>\n",
       "      <td>0.02079</td>\n",
       "      <td>9.373644</td>\n",
       "      <td>0.020790</td>\n",
       "      <td>...</td>\n",
       "      <td>21</td>\n",
       "      <td>-1.171865</td>\n",
       "      <td>-0.976926</td>\n",
       "      <td>True</td>\n",
       "      <td>-27.341904</td>\n",
       "      <td>-606.867188</td>\n",
       "      <td>-0.003421</td>\n",
       "      <td>-2883.0</td>\n",
       "      <td>-3236.0</td>\n",
       "      <td>-2883.0</td>\n",
       "    </tr>\n",
       "    <tr>\n",
       "      <th>1548058</th>\n",
       "      <td>20</td>\n",
       "      <td>44413724</td>\n",
       "      <td>C</td>\n",
       "      <td>T</td>\n",
       "      <td>-9.917723</td>\n",
       "      <td>-2.277288</td>\n",
       "      <td>-7.873</td>\n",
       "      <td>0.031379</td>\n",
       "      <td>14.199153</td>\n",
       "      <td>0.031379</td>\n",
       "      <td>...</td>\n",
       "      <td>21</td>\n",
       "      <td>-1.105117</td>\n",
       "      <td>-0.945377</td>\n",
       "      <td>True</td>\n",
       "      <td>-18.441339</td>\n",
       "      <td>-560.078125</td>\n",
       "      <td>-0.001377</td>\n",
       "      <td>-2787.0</td>\n",
       "      <td>-3566.0</td>\n",
       "      <td>-2788.0</td>\n",
       "    </tr>\n",
       "    <tr>\n",
       "      <th>448132</th>\n",
       "      <td>4</td>\n",
       "      <td>99318162</td>\n",
       "      <td>T</td>\n",
       "      <td>C</td>\n",
       "      <td>-2.632227</td>\n",
       "      <td>-1.131267</td>\n",
       "      <td>-1.178</td>\n",
       "      <td>0.977225</td>\n",
       "      <td>37.569382</td>\n",
       "      <td>0.022775</td>\n",
       "      <td>...</td>\n",
       "      <td>19</td>\n",
       "      <td>-1.163789</td>\n",
       "      <td>-0.792585</td>\n",
       "      <td>True</td>\n",
       "      <td>-38.332298</td>\n",
       "      <td>-896.515625</td>\n",
       "      <td>-0.007043</td>\n",
       "      <td>-3425.0</td>\n",
       "      <td>-3406.0</td>\n",
       "      <td>-3425.0</td>\n",
       "    </tr>\n",
       "    <tr>\n",
       "      <th>...</th>\n",
       "      <td>...</td>\n",
       "      <td>...</td>\n",
       "      <td>...</td>\n",
       "      <td>...</td>\n",
       "      <td>...</td>\n",
       "      <td>...</td>\n",
       "      <td>...</td>\n",
       "      <td>...</td>\n",
       "      <td>...</td>\n",
       "      <td>...</td>\n",
       "      <td>...</td>\n",
       "      <td>...</td>\n",
       "      <td>...</td>\n",
       "      <td>...</td>\n",
       "      <td>...</td>\n",
       "      <td>...</td>\n",
       "      <td>...</td>\n",
       "      <td>...</td>\n",
       "      <td>...</td>\n",
       "      <td>...</td>\n",
       "      <td>...</td>\n",
       "    </tr>\n",
       "    <tr>\n",
       "      <th>1365924</th>\n",
       "      <td>17</td>\n",
       "      <td>878167</td>\n",
       "      <td>C</td>\n",
       "      <td>T</td>\n",
       "      <td>-1.014494</td>\n",
       "      <td>-0.373673</td>\n",
       "      <td>-0.114</td>\n",
       "      <td>0.097309</td>\n",
       "      <td>26.536287</td>\n",
       "      <td>0.097309</td>\n",
       "      <td>...</td>\n",
       "      <td>1</td>\n",
       "      <td>-0.684481</td>\n",
       "      <td>-0.864718</td>\n",
       "      <td>False</td>\n",
       "      <td>-14.114077</td>\n",
       "      <td>-85.046875</td>\n",
       "      <td>-0.000664</td>\n",
       "      <td>-979.0</td>\n",
       "      <td>-998.5</td>\n",
       "      <td>-977.0</td>\n",
       "    </tr>\n",
       "    <tr>\n",
       "      <th>260827</th>\n",
       "      <td>2</td>\n",
       "      <td>192143736</td>\n",
       "      <td>T</td>\n",
       "      <td>A</td>\n",
       "      <td>-6.575644</td>\n",
       "      <td>-1.631243</td>\n",
       "      <td>-2.165</td>\n",
       "      <td>0.370792</td>\n",
       "      <td>51.062557</td>\n",
       "      <td>0.370792</td>\n",
       "      <td>...</td>\n",
       "      <td>1</td>\n",
       "      <td>1.064258</td>\n",
       "      <td>-0.704367</td>\n",
       "      <td>False</td>\n",
       "      <td>-28.890694</td>\n",
       "      <td>-497.234375</td>\n",
       "      <td>-0.003864</td>\n",
       "      <td>-3332.0</td>\n",
       "      <td>-3287.0</td>\n",
       "      <td>-3334.0</td>\n",
       "    </tr>\n",
       "    <tr>\n",
       "      <th>1467150</th>\n",
       "      <td>18</td>\n",
       "      <td>76394822</td>\n",
       "      <td>G</td>\n",
       "      <td>A</td>\n",
       "      <td>-0.464374</td>\n",
       "      <td>-0.077052</td>\n",
       "      <td>2.305</td>\n",
       "      <td>0.909925</td>\n",
       "      <td>23.796585</td>\n",
       "      <td>0.090075</td>\n",
       "      <td>...</td>\n",
       "      <td>1</td>\n",
       "      <td>-0.731389</td>\n",
       "      <td>-0.882630</td>\n",
       "      <td>False</td>\n",
       "      <td>-24.972672</td>\n",
       "      <td>-305.179688</td>\n",
       "      <td>-0.002792</td>\n",
       "      <td>-1490.0</td>\n",
       "      <td>-1361.0</td>\n",
       "      <td>-1487.0</td>\n",
       "    </tr>\n",
       "    <tr>\n",
       "      <th>298029</th>\n",
       "      <td>3</td>\n",
       "      <td>11728157</td>\n",
       "      <td>T</td>\n",
       "      <td>C</td>\n",
       "      <td>-2.849348</td>\n",
       "      <td>-0.593265</td>\n",
       "      <td>-0.536</td>\n",
       "      <td>0.006498</td>\n",
       "      <td>10.477118</td>\n",
       "      <td>0.006498</td>\n",
       "      <td>...</td>\n",
       "      <td>1</td>\n",
       "      <td>-1.264922</td>\n",
       "      <td>-0.969711</td>\n",
       "      <td>False</td>\n",
       "      <td>-24.190710</td>\n",
       "      <td>-269.429688</td>\n",
       "      <td>-0.002604</td>\n",
       "      <td>-2619.0</td>\n",
       "      <td>-2475.0</td>\n",
       "      <td>-2616.0</td>\n",
       "    </tr>\n",
       "    <tr>\n",
       "      <th>1316272</th>\n",
       "      <td>16</td>\n",
       "      <td>13194185</td>\n",
       "      <td>C</td>\n",
       "      <td>T</td>\n",
       "      <td>-1.468606</td>\n",
       "      <td>-0.259181</td>\n",
       "      <td>-0.311</td>\n",
       "      <td>0.435399</td>\n",
       "      <td>99.095473</td>\n",
       "      <td>0.435399</td>\n",
       "      <td>...</td>\n",
       "      <td>1</td>\n",
       "      <td>1.480870</td>\n",
       "      <td>-0.390333</td>\n",
       "      <td>False</td>\n",
       "      <td>-14.303717</td>\n",
       "      <td>-70.164062</td>\n",
       "      <td>-0.000693</td>\n",
       "      <td>-1450.0</td>\n",
       "      <td>-1341.0</td>\n",
       "      <td>-1448.0</td>\n",
       "    </tr>\n",
       "  </tbody>\n",
       "</table>\n",
       "<p>2000 rows × 22 columns</p>\n",
       "</div>"
      ],
      "text/plain": [
       "        chrom        pos ref alt   GPN-MSA      CADD  phyloP        AF  \\\n",
       "162015      2   27508073   T   C -3.085732 -1.147003  -0.075   0.60702   \n",
       "450872      4  102267552   C   T -3.977336 -2.383603  -1.821  0.074578   \n",
       "1078197    12    4275678   T   G -3.413795 -1.036324   0.509   0.02079   \n",
       "1548058    20   44413724   C   T -9.917723 -2.277288  -7.873  0.031379   \n",
       "448132      4   99318162   T   C -2.632227 -1.131267  -1.178  0.977225   \n",
       "...       ...        ...  ..  ..       ...       ...     ...       ...   \n",
       "1365924    17     878167   C   T -1.014494 -0.373673  -0.114  0.097309   \n",
       "260827      2  192143736   T   A -6.575644 -1.631243  -2.165  0.370792   \n",
       "1467150    18   76394822   G   A -0.464374 -0.077052   2.305  0.909925   \n",
       "298029      3   11728157   T   C -2.849348 -0.593265  -0.536  0.006498   \n",
       "1316272    16   13194185   C   T -1.468606 -0.259181  -0.311  0.435399   \n",
       "\n",
       "           ld_score       MAF  ...  n_traits     maf_z  ld_score_z  \\\n",
       "162015   222.283921  0.392980  ...        37  1.208642    0.415063   \n",
       "450872   107.499194  0.074578  ...        29 -0.827666   -0.335390   \n",
       "1078197    9.373644  0.020790  ...        21 -1.171865   -0.976926   \n",
       "1548058   14.199153  0.031379  ...        21 -1.105117   -0.945377   \n",
       "448132    37.569382  0.022775  ...        19 -1.163789   -0.792585   \n",
       "...             ...       ...  ...       ...       ...         ...   \n",
       "1365924   26.536287  0.097309  ...         1 -0.684481   -0.864718   \n",
       "260827    51.062557  0.370792  ...         1  1.064258   -0.704367   \n",
       "1467150   23.796585  0.090075  ...         1 -0.731389   -0.882630   \n",
       "298029    10.477118  0.006498  ...         1 -1.264922   -0.969711   \n",
       "1316272   99.095473  0.435399  ...         1  1.480870   -0.390333   \n",
       "\n",
       "         Likely causal  euclidean_distance  inner_product  cosine_similarity  \\\n",
       "162015            True          -42.714710   -1002.867188          -0.008818   \n",
       "450872            True          -49.100784   -1695.140625          -0.011958   \n",
       "1078197           True          -27.341904    -606.867188          -0.003421   \n",
       "1548058           True          -18.441339    -560.078125          -0.001377   \n",
       "448132            True          -38.332298    -896.515625          -0.007043   \n",
       "...                ...                 ...            ...                ...   \n",
       "1365924          False          -14.114077     -85.046875          -0.000664   \n",
       "260827           False          -28.890694    -497.234375          -0.003864   \n",
       "1467150          False          -24.972672    -305.179688          -0.002792   \n",
       "298029           False          -24.190710    -269.429688          -0.002604   \n",
       "1316272          False          -14.303717     -70.164062          -0.000693   \n",
       "\n",
       "         rank(LLR)+rank(euclidean_distance)  rank(LLR)+rank(inner_product)  \\\n",
       "162015                              -3501.0                        -3481.0   \n",
       "450872                              -3622.0                        -3622.0   \n",
       "1078197                             -2883.0                        -3236.0   \n",
       "1548058                             -2787.0                        -3566.0   \n",
       "448132                              -3425.0                        -3406.0   \n",
       "...                                     ...                            ...   \n",
       "1365924                              -979.0                         -998.5   \n",
       "260827                              -3332.0                        -3287.0   \n",
       "1467150                             -1490.0                        -1361.0   \n",
       "298029                              -2619.0                        -2475.0   \n",
       "1316272                             -1450.0                        -1341.0   \n",
       "\n",
       "         rank(LLR)+rank(cosine_similarity)  \n",
       "162015                             -3500.0  \n",
       "450872                             -3622.0  \n",
       "1078197                            -2883.0  \n",
       "1548058                            -2788.0  \n",
       "448132                             -3425.0  \n",
       "...                                    ...  \n",
       "1365924                             -977.0  \n",
       "260827                             -3334.0  \n",
       "1467150                            -1487.0  \n",
       "298029                             -2616.0  \n",
       "1316272                            -1448.0  \n",
       "\n",
       "[2000 rows x 22 columns]"
      ]
     },
     "execution_count": 306,
     "metadata": {},
     "output_type": "execute_result"
    }
   ],
   "source": [
    "for m in [\"euclidean_distance\", \"inner_product\", \"cosine_similarity\"]:\n",
    "    V2[f\"rank(LLR)+rank({m})\"] = rank_transform(V2[\"GPN-MSA\"]) + rank_transform(V2[m])\n",
    "    models.append(f\"rank(LLR)+rank({m})\")\n",
    "V2"
   ]
  },
  {
   "cell_type": "code",
   "execution_count": 307,
   "id": "2628107d-8524-448d-b03c-7ae45f988bd9",
   "metadata": {
    "tags": []
   },
   "outputs": [
    {
     "data": {
      "text/html": [
       "<div>\n",
       "<style scoped>\n",
       "    .dataframe tbody tr th:only-of-type {\n",
       "        vertical-align: middle;\n",
       "    }\n",
       "\n",
       "    .dataframe tbody tr th {\n",
       "        vertical-align: top;\n",
       "    }\n",
       "\n",
       "    .dataframe thead th {\n",
       "        text-align: right;\n",
       "    }\n",
       "</style>\n",
       "<table border=\"1\" class=\"dataframe\">\n",
       "  <thead>\n",
       "    <tr style=\"text-align: right;\">\n",
       "      <th></th>\n",
       "      <th>Model</th>\n",
       "      <th>AUROC</th>\n",
       "      <th>AUPRC</th>\n",
       "      <th>Pairwise_accuracy</th>\n",
       "    </tr>\n",
       "  </thead>\n",
       "  <tbody>\n",
       "    <tr>\n",
       "      <th>0</th>\n",
       "      <td>GPN-MSA</td>\n",
       "      <td>0.694877</td>\n",
       "      <td>0.753622</td>\n",
       "      <td>0.694</td>\n",
       "    </tr>\n",
       "    <tr>\n",
       "      <th>1</th>\n",
       "      <td>CADD</td>\n",
       "      <td>0.708512</td>\n",
       "      <td>0.769914</td>\n",
       "      <td>0.699</td>\n",
       "    </tr>\n",
       "    <tr>\n",
       "      <th>2</th>\n",
       "      <td>phyloP</td>\n",
       "      <td>0.659577</td>\n",
       "      <td>0.720052</td>\n",
       "      <td>0.663</td>\n",
       "    </tr>\n",
       "    <tr>\n",
       "      <th>3</th>\n",
       "      <td>euclidean_distance</td>\n",
       "      <td>0.610325</td>\n",
       "      <td>0.600557</td>\n",
       "      <td>0.619</td>\n",
       "    </tr>\n",
       "    <tr>\n",
       "      <th>4</th>\n",
       "      <td>inner_product</td>\n",
       "      <td>0.675075</td>\n",
       "      <td>0.683878</td>\n",
       "      <td>0.674</td>\n",
       "    </tr>\n",
       "    <tr>\n",
       "      <th>5</th>\n",
       "      <td>cosine_similarity</td>\n",
       "      <td>0.611021</td>\n",
       "      <td>0.601725</td>\n",
       "      <td>0.621</td>\n",
       "    </tr>\n",
       "    <tr>\n",
       "      <th>6</th>\n",
       "      <td>rank(LLR)+rank(euclidean_distance)</td>\n",
       "      <td>0.679309</td>\n",
       "      <td>0.697322</td>\n",
       "      <td>0.684</td>\n",
       "    </tr>\n",
       "    <tr>\n",
       "      <th>7</th>\n",
       "      <td>rank(LLR)+rank(inner_product)</td>\n",
       "      <td>0.707531</td>\n",
       "      <td>0.746343</td>\n",
       "      <td>0.715</td>\n",
       "    </tr>\n",
       "    <tr>\n",
       "      <th>8</th>\n",
       "      <td>rank(LLR)+rank(cosine_similarity)</td>\n",
       "      <td>0.679601</td>\n",
       "      <td>0.698086</td>\n",
       "      <td>0.684</td>\n",
       "    </tr>\n",
       "  </tbody>\n",
       "</table>\n",
       "</div>"
      ],
      "text/plain": [
       "                                Model     AUROC     AUPRC  Pairwise_accuracy\n",
       "0                             GPN-MSA  0.694877  0.753622              0.694\n",
       "1                                CADD  0.708512  0.769914              0.699\n",
       "2                              phyloP  0.659577  0.720052              0.663\n",
       "3                  euclidean_distance  0.610325  0.600557              0.619\n",
       "4                       inner_product  0.675075  0.683878              0.674\n",
       "5                   cosine_similarity  0.611021  0.601725              0.621\n",
       "6  rank(LLR)+rank(euclidean_distance)  0.679309  0.697322              0.684\n",
       "7       rank(LLR)+rank(inner_product)  0.707531  0.746343              0.715\n",
       "8   rank(LLR)+rank(cosine_similarity)  0.679601  0.698086              0.684"
      ]
     },
     "execution_count": 307,
     "metadata": {},
     "output_type": "execute_result"
    }
   ],
   "source": [
    "n = len(V2)//2\n",
    "\n",
    "results = []\n",
    "for m in models:\n",
    "    results.append([\n",
    "        m,\n",
    "        roc_auc_score(V2[\"Likely causal\"], -V2[m]),\n",
    "        average_precision_score(V2[\"Likely causal\"], -V2[m]),\n",
    "        np.mean([(V2.iloc[i][m] < V2.iloc[i+n][m]) for i in range(n)]),\n",
    "    ])\n",
    "results = pd.DataFrame(results, columns=[\"Model\", \"AUROC\", \"AUPRC\", \"Pairwise_accuracy\"])\n",
    "results"
   ]
  },
  {
   "cell_type": "code",
   "execution_count": 308,
   "id": "84e241a4-95ca-49ac-9327-f432e3cb1d49",
   "metadata": {
    "tags": []
   },
   "outputs": [
    {
     "name": "stderr",
     "output_type": "stream",
     "text": [
      "/scratch/users/gbenegas/software/mambaforge/envs/gpn/lib/python3.11/site-packages/seaborn/_oldcore.py:1498: FutureWarning: is_categorical_dtype is deprecated and will be removed in a future version. Use isinstance(dtype, CategoricalDtype) instead\n",
      "  if pd.api.types.is_categorical_dtype(vector):\n",
      "/scratch/users/gbenegas/software/mambaforge/envs/gpn/lib/python3.11/site-packages/seaborn/_oldcore.py:1498: FutureWarning: is_categorical_dtype is deprecated and will be removed in a future version. Use isinstance(dtype, CategoricalDtype) instead\n",
      "  if pd.api.types.is_categorical_dtype(vector):\n",
      "/scratch/users/gbenegas/software/mambaforge/envs/gpn/lib/python3.11/site-packages/seaborn/_oldcore.py:1498: FutureWarning: is_categorical_dtype is deprecated and will be removed in a future version. Use isinstance(dtype, CategoricalDtype) instead\n",
      "  if pd.api.types.is_categorical_dtype(vector):\n"
     ]
    },
    {
     "data": {
      "text/plain": [
       "<Axes: xlabel='Pairwise_accuracy', ylabel='Model'>"
      ]
     },
     "execution_count": 308,
     "metadata": {},
     "output_type": "execute_result"
    },
    {
     "data": {
      "image/png": "[encoded data removed]",
      "text/plain": [
       "<Figure size 216x216 with 1 Axes>"
      ]
     },
     "metadata": {
      "needs_background": "light"
     },
     "output_type": "display_data"
    }
   ],
   "source": [
    "plt.figure(figsize=(3,3))\n",
    "sns.pointplot(\n",
    "    data=results.sort_values(\"Pairwise_accuracy\", ascending=False),\n",
    "    y=\"Model\",\n",
    "    x=\"Pairwise_accuracy\",\n",
    "    join=False,\n",
    ")"
   ]
  },
  {
   "cell_type": "code",
   "execution_count": 310,
   "id": "53c38c14-2205-4db1-b190-0e6577a3bbf3",
   "metadata": {
    "tags": []
   },
   "outputs": [
    {
     "name": "stderr",
     "output_type": "stream",
     "text": [
      "/scratch/users/gbenegas/software/mambaforge/envs/gpn/lib/python3.11/site-packages/seaborn/_oldcore.py:1498: FutureWarning: is_categorical_dtype is deprecated and will be removed in a future version. Use isinstance(dtype, CategoricalDtype) instead\n",
      "  if pd.api.types.is_categorical_dtype(vector):\n",
      "/scratch/users/gbenegas/software/mambaforge/envs/gpn/lib/python3.11/site-packages/seaborn/_oldcore.py:1498: FutureWarning: is_categorical_dtype is deprecated and will be removed in a future version. Use isinstance(dtype, CategoricalDtype) instead\n",
      "  if pd.api.types.is_categorical_dtype(vector):\n",
      "/scratch/users/gbenegas/software/mambaforge/envs/gpn/lib/python3.11/site-packages/seaborn/_oldcore.py:1498: FutureWarning: is_categorical_dtype is deprecated and will be removed in a future version. Use isinstance(dtype, CategoricalDtype) instead\n",
      "  if pd.api.types.is_categorical_dtype(vector):\n"
     ]
    },
    {
     "data": {
      "text/plain": [
       "<Axes: xlabel='AUROC', ylabel='Model'>"
      ]
     },
     "execution_count": 310,
     "metadata": {},
     "output_type": "execute_result"
    },
    {
     "data": {
      "image/png": "[encoded data removed]",
      "text/plain": [
       "<Figure size 216x216 with 1 Axes>"
      ]
     },
     "metadata": {
      "needs_background": "light"
     },
     "output_type": "display_data"
    }
   ],
   "source": [
    "plt.figure(figsize=(3,3))\n",
    "sns.pointplot(\n",
    "    data=results.sort_values(\"AUROC\", ascending=False),\n",
    "    y=\"Model\",\n",
    "    x=\"AUROC\",\n",
    "    join=False,\n",
    ")"
   ]
  },
  {
   "cell_type": "markdown",
   "id": "daedf3ba-1020-4a85-a78c-d0f3f7d91746",
   "metadata": {
    "user_expressions": []
   },
   "source": [
    "## By trait"
   ]
  },
  {
   "cell_type": "code",
   "execution_count": 333,
   "id": "ff160e49-e939-418e-bd0d-da721a5c508b",
   "metadata": {
    "tags": []
   },
   "outputs": [
    {
     "data": {
      "text/plain": [
       "array(['IGF1', 'CRP', 'Plt', 'BW', 'Hb', 'UA', 'Height', 'VitD', 'GGT',\n",
       "       'TP', 'eGFRcys', 'ApoA', 'SBP', 'BFP', 'eGFR', 'FEV1FVC', 'Ca',\n",
       "       'eBMD', 'ALP', 'ALT', 'HDLC', 'AG', 'Alb', 'SHBG', 'BMI', 'Eosino',\n",
       "       'DVT', 'PP', 'MCH', 'MCV', 'Mono', 'Ht', 'MAP', 'WHRadjBMI', 'DBP',\n",
       "       'Glucose', 'HbA1c', 'RBC', 'Migraine_Self', 'LOY', 'MCHC',\n",
       "       'Smoking_Ever_Never', 'Neuroticism', 'Morning_Person',\n",
       "       'Age_at_Menarche', 'Miserableness', 'Worrier', 'Lym', 'WBC',\n",
       "       'Neutro', 'Balding_Type4', 'AST', 'Inguinal_Hernia', 'Tense', 'TC',\n",
       "       'ApoB', 'AFib', 'Urea', 'LDLC', 'IBD', 'Baso',\n",
       "       'Fibroblastic_Disorders', 'TG', 'TBil', 'Testosterone',\n",
       "       'Risk_Taking', 'Guilty_Feelings', 'Sensitivity', 'AID_Combined',\n",
       "       'Age_at_Menopause', 'MCP', 'CAD', 'Insomnia', 'Nervous_Feelings',\n",
       "       'Depression_GP', 'FedUp_Feelings', 'Mood_Swings', 'PrC',\n",
       "       'Hypothyroidism', 'LipoA', 'Asthma', 'Glaucoma_Combined',\n",
       "       'Blood_Clot_Lung', 'Alzheimer_LTFH', 'Worry_Too_Long', 'T2D',\n",
       "       'T2D_BMI', 'Suffer_from_Nerves', 'Cholelithiasis', 'Irritability',\n",
       "       'Loneliness', 'BrC', 'Smoking_CPD', 'CRC'], dtype=object)"
      ]
     },
     "execution_count": 333,
     "metadata": {},
     "output_type": "execute_result"
    }
   ],
   "source": [
    "#traits = pips.trait.value_counts().index.values[:10]\n",
    "#traits = [\"Height\"]\n",
    "traits = pips.trait.unique()\n",
    "traits"
   ]
  },
  {
   "cell_type": "code",
   "execution_count": 334,
   "id": "ec9fab1a-4eba-46ef-b86f-7015c47de7a2",
   "metadata": {
    "tags": []
   },
   "outputs": [],
   "source": [
    "# TODO: should skip datapoints if closest MAF is not small enough"
   ]
  },
  {
   "cell_type": "code",
   "execution_count": 335,
   "id": "9dd1c9d3-6199-4e76-8f01-f254f223cb01",
   "metadata": {
    "tags": []
   },
   "outputs": [],
   "source": [
    "models = [\"GPN-MSA\", \"CADD\", \"phyloP\"]"
   ]
  },
  {
   "cell_type": "code",
   "execution_count": 336,
   "id": "5b6fb1ef-1373-4ac8-a967-9c47042700b4",
   "metadata": {
    "tags": []
   },
   "outputs": [
    {
     "name": "stderr",
     "output_type": "stream",
     "text": [
      "  0%|          | 0/94 [00:00<?, ?it/s]"
     ]
    },
    {
     "data": {
      "text/html": [],
      "text/plain": [
       "<IPython.core.display.HTML object>"
      ]
     },
     "metadata": {},
     "output_type": "display_data"
    },
    {
     "name": "stderr",
     "output_type": "stream",
     "text": [
      "  1%|          | 1/94 [00:05<07:58,  5.14s/it]"
     ]
    },
    {
     "data": {
      "text/html": [],
      "text/plain": [
       "<IPython.core.display.HTML object>"
      ]
     },
     "metadata": {},
     "output_type": "display_data"
    },
    {
     "name": "stderr",
     "output_type": "stream",
     "text": [
      "  2%|▏         | 2/94 [00:10<07:51,  5.13s/it]"
     ]
    },
    {
     "data": {
      "text/html": [],
      "text/plain": [
       "<IPython.core.display.HTML object>"
      ]
     },
     "metadata": {},
     "output_type": "display_data"
    },
    {
     "name": "stderr",
     "output_type": "stream",
     "text": [
      "  3%|▎         | 3/94 [00:16<08:26,  5.56s/it]"
     ]
    },
    {
     "data": {
      "text/html": [],
      "text/plain": [
       "<IPython.core.display.HTML object>"
      ]
     },
     "metadata": {},
     "output_type": "display_data"
    },
    {
     "name": "stderr",
     "output_type": "stream",
     "text": [
      "  4%|▍         | 4/94 [00:21<07:54,  5.27s/it]"
     ]
    },
    {
     "data": {
      "text/html": [],
      "text/plain": [
       "<IPython.core.display.HTML object>"
      ]
     },
     "metadata": {},
     "output_type": "display_data"
    },
    {
     "name": "stderr",
     "output_type": "stream",
     "text": [
      "  5%|▌         | 5/94 [00:27<08:33,  5.76s/it]"
     ]
    },
    {
     "data": {
      "text/html": [],
      "text/plain": [
       "<IPython.core.display.HTML object>"
      ]
     },
     "metadata": {},
     "output_type": "display_data"
    },
    {
     "name": "stderr",
     "output_type": "stream",
     "text": [
      "  6%|▋         | 6/94 [00:32<07:59,  5.45s/it]"
     ]
    },
    {
     "data": {
      "text/html": [],
      "text/plain": [
       "<IPython.core.display.HTML object>"
      ]
     },
     "metadata": {},
     "output_type": "display_data"
    },
    {
     "name": "stderr",
     "output_type": "stream",
     "text": [
      "  7%|▋         | 7/94 [00:40<09:08,  6.30s/it]"
     ]
    },
    {
     "data": {
      "text/html": [],
      "text/plain": [
       "<IPython.core.display.HTML object>"
      ]
     },
     "metadata": {},
     "output_type": "display_data"
    },
    {
     "name": "stderr",
     "output_type": "stream",
     "text": [
      "  9%|▊         | 8/94 [00:44<07:51,  5.48s/it]"
     ]
    },
    {
     "data": {
      "text/html": [],
      "text/plain": [
       "<IPython.core.display.HTML object>"
      ]
     },
     "metadata": {},
     "output_type": "display_data"
    },
    {
     "name": "stderr",
     "output_type": "stream",
     "text": [
      " 10%|▉         | 9/94 [00:50<08:04,  5.70s/it]"
     ]
    },
    {
     "data": {
      "text/html": [],
      "text/plain": [
       "<IPython.core.display.HTML object>"
      ]
     },
     "metadata": {},
     "output_type": "display_data"
    },
    {
     "name": "stderr",
     "output_type": "stream",
     "text": [
      " 11%|█         | 10/94 [00:56<08:03,  5.76s/it]"
     ]
    },
    {
     "data": {
      "text/html": [],
      "text/plain": [
       "<IPython.core.display.HTML object>"
      ]
     },
     "metadata": {},
     "output_type": "display_data"
    },
    {
     "name": "stderr",
     "output_type": "stream",
     "text": [
      " 12%|█▏        | 11/94 [01:01<07:42,  5.57s/it]"
     ]
    },
    {
     "data": {
      "text/html": [],
      "text/plain": [
       "<IPython.core.display.HTML object>"
      ]
     },
     "metadata": {},
     "output_type": "display_data"
    },
    {
     "name": "stderr",
     "output_type": "stream",
     "text": [
      " 13%|█▎        | 12/94 [01:08<08:04,  5.90s/it]"
     ]
    },
    {
     "data": {
      "text/html": [],
      "text/plain": [
       "<IPython.core.display.HTML object>"
      ]
     },
     "metadata": {},
     "output_type": "display_data"
    },
    {
     "name": "stderr",
     "output_type": "stream",
     "text": [
      " 14%|█▍        | 13/94 [01:12<07:21,  5.45s/it]"
     ]
    },
    {
     "data": {
      "text/html": [],
      "text/plain": [
       "<IPython.core.display.HTML object>"
      ]
     },
     "metadata": {},
     "output_type": "display_data"
    },
    {
     "name": "stderr",
     "output_type": "stream",
     "text": [
      " 15%|█▍        | 14/94 [01:16<06:38,  4.99s/it]"
     ]
    },
    {
     "data": {
      "text/html": [],
      "text/plain": [
       "<IPython.core.display.HTML object>"
      ]
     },
     "metadata": {},
     "output_type": "display_data"
    },
    {
     "name": "stderr",
     "output_type": "stream",
     "text": [
      " 16%|█▌        | 15/94 [01:22<06:54,  5.25s/it]"
     ]
    },
    {
     "data": {
      "text/html": [],
      "text/plain": [
       "<IPython.core.display.HTML object>"
      ]
     },
     "metadata": {},
     "output_type": "display_data"
    },
    {
     "name": "stderr",
     "output_type": "stream",
     "text": [
      " 17%|█▋        | 16/94 [01:27<06:41,  5.15s/it]"
     ]
    },
    {
     "data": {
      "text/html": [],
      "text/plain": [
       "<IPython.core.display.HTML object>"
      ]
     },
     "metadata": {},
     "output_type": "display_data"
    },
    {
     "name": "stderr",
     "output_type": "stream",
     "text": [
      " 18%|█▊        | 17/94 [01:32<06:40,  5.20s/it]"
     ]
    },
    {
     "data": {
      "text/html": [],
      "text/plain": [
       "<IPython.core.display.HTML object>"
      ]
     },
     "metadata": {},
     "output_type": "display_data"
    },
    {
     "name": "stderr",
     "output_type": "stream",
     "text": [
      " 19%|█▉        | 18/94 [01:40<07:37,  6.02s/it]"
     ]
    },
    {
     "data": {
      "text/html": [],
      "text/plain": [
       "<IPython.core.display.HTML object>"
      ]
     },
     "metadata": {},
     "output_type": "display_data"
    },
    {
     "name": "stderr",
     "output_type": "stream",
     "text": [
      " 20%|██        | 19/94 [01:48<08:18,  6.65s/it]"
     ]
    },
    {
     "data": {
      "text/html": [],
      "text/plain": [
       "<IPython.core.display.HTML object>"
      ]
     },
     "metadata": {},
     "output_type": "display_data"
    },
    {
     "name": "stderr",
     "output_type": "stream",
     "text": [
      " 21%|██▏       | 20/94 [01:54<07:53,  6.39s/it]"
     ]
    },
    {
     "data": {
      "text/html": [],
      "text/plain": [
       "<IPython.core.display.HTML object>"
      ]
     },
     "metadata": {},
     "output_type": "display_data"
    },
    {
     "name": "stderr",
     "output_type": "stream",
     "text": [
      " 22%|██▏       | 21/94 [02:02<08:29,  6.98s/it]"
     ]
    },
    {
     "data": {
      "text/html": [],
      "text/plain": [
       "<IPython.core.display.HTML object>"
      ]
     },
     "metadata": {},
     "output_type": "display_data"
    },
    {
     "name": "stderr",
     "output_type": "stream",
     "text": [
      " 23%|██▎       | 22/94 [02:10<08:33,  7.13s/it]"
     ]
    },
    {
     "data": {
      "text/html": [],
      "text/plain": [
       "<IPython.core.display.HTML object>"
      ]
     },
     "metadata": {},
     "output_type": "display_data"
    },
    {
     "name": "stderr",
     "output_type": "stream",
     "text": [
      " 24%|██▍       | 23/94 [02:16<08:08,  6.87s/it]"
     ]
    },
    {
     "data": {
      "text/html": [],
      "text/plain": [
       "<IPython.core.display.HTML object>"
      ]
     },
     "metadata": {},
     "output_type": "display_data"
    },
    {
     "name": "stderr",
     "output_type": "stream",
     "text": [
      " 26%|██▌       | 24/94 [02:24<08:22,  7.18s/it]"
     ]
    },
    {
     "data": {
      "text/html": [],
      "text/plain": [
       "<IPython.core.display.HTML object>"
      ]
     },
     "metadata": {},
     "output_type": "display_data"
    },
    {
     "name": "stderr",
     "output_type": "stream",
     "text": [
      " 27%|██▋       | 25/94 [02:29<07:26,  6.47s/it]"
     ]
    },
    {
     "data": {
      "text/html": [],
      "text/plain": [
       "<IPython.core.display.HTML object>"
      ]
     },
     "metadata": {},
     "output_type": "display_data"
    },
    {
     "name": "stderr",
     "output_type": "stream",
     "text": [
      " 28%|██▊       | 26/94 [02:38<08:18,  7.33s/it]"
     ]
    },
    {
     "data": {
      "text/html": [],
      "text/plain": [
       "<IPython.core.display.HTML object>"
      ]
     },
     "metadata": {},
     "output_type": "display_data"
    },
    {
     "name": "stderr",
     "output_type": "stream",
     "text": [
      " 29%|██▊       | 27/94 [02:43<07:25,  6.65s/it]"
     ]
    },
    {
     "data": {
      "text/html": [],
      "text/plain": [
       "<IPython.core.display.HTML object>"
      ]
     },
     "metadata": {},
     "output_type": "display_data"
    },
    {
     "name": "stderr",
     "output_type": "stream",
     "text": [
      " 30%|██▉       | 28/94 [02:50<07:16,  6.61s/it]"
     ]
    },
    {
     "data": {
      "text/html": [],
      "text/plain": [
       "<IPython.core.display.HTML object>"
      ]
     },
     "metadata": {},
     "output_type": "display_data"
    },
    {
     "name": "stderr",
     "output_type": "stream",
     "text": [
      " 31%|███       | 29/94 [03:01<08:33,  7.90s/it]"
     ]
    },
    {
     "data": {
      "text/html": [],
      "text/plain": [
       "<IPython.core.display.HTML object>"
      ]
     },
     "metadata": {},
     "output_type": "display_data"
    },
    {
     "name": "stderr",
     "output_type": "stream",
     "text": [
      " 32%|███▏      | 30/94 [03:12<09:25,  8.83s/it]"
     ]
    },
    {
     "data": {
      "text/html": [],
      "text/plain": [
       "<IPython.core.display.HTML object>"
      ]
     },
     "metadata": {},
     "output_type": "display_data"
    },
    {
     "name": "stderr",
     "output_type": "stream",
     "text": [
      " 33%|███▎      | 31/94 [03:21<09:34,  9.12s/it]"
     ]
    },
    {
     "data": {
      "text/html": [],
      "text/plain": [
       "<IPython.core.display.HTML object>"
      ]
     },
     "metadata": {},
     "output_type": "display_data"
    },
    {
     "name": "stderr",
     "output_type": "stream",
     "text": [
      " 34%|███▍      | 32/94 [03:28<08:29,  8.21s/it]"
     ]
    },
    {
     "data": {
      "text/html": [],
      "text/plain": [
       "<IPython.core.display.HTML object>"
      ]
     },
     "metadata": {},
     "output_type": "display_data"
    },
    {
     "name": "stderr",
     "output_type": "stream",
     "text": [
      " 35%|███▌      | 33/94 [03:33<07:22,  7.25s/it]"
     ]
    },
    {
     "data": {
      "text/html": [],
      "text/plain": [
       "<IPython.core.display.HTML object>"
      ]
     },
     "metadata": {},
     "output_type": "display_data"
    },
    {
     "name": "stderr",
     "output_type": "stream",
     "text": [
      " 36%|███▌      | 34/94 [03:38<06:47,  6.79s/it]"
     ]
    },
    {
     "data": {
      "text/html": [],
      "text/plain": [
       "<IPython.core.display.HTML object>"
      ]
     },
     "metadata": {},
     "output_type": "display_data"
    },
    {
     "name": "stderr",
     "output_type": "stream",
     "text": [
      " 37%|███▋      | 35/94 [03:43<06:10,  6.28s/it]"
     ]
    },
    {
     "data": {
      "text/html": [],
      "text/plain": [
       "<IPython.core.display.HTML object>"
      ]
     },
     "metadata": {},
     "output_type": "display_data"
    },
    {
     "name": "stderr",
     "output_type": "stream",
     "text": [
      " 38%|███▊      | 36/94 [03:48<05:35,  5.78s/it]"
     ]
    },
    {
     "data": {
      "text/html": [],
      "text/plain": [
       "<IPython.core.display.HTML object>"
      ]
     },
     "metadata": {},
     "output_type": "display_data"
    },
    {
     "name": "stderr",
     "output_type": "stream",
     "text": [
      " 39%|███▉      | 37/94 [03:58<06:45,  7.11s/it]"
     ]
    },
    {
     "data": {
      "text/html": [],
      "text/plain": [
       "<IPython.core.display.HTML object>"
      ]
     },
     "metadata": {},
     "output_type": "display_data"
    },
    {
     "name": "stderr",
     "output_type": "stream",
     "text": [
      " 40%|████      | 38/94 [04:10<07:49,  8.38s/it]"
     ]
    },
    {
     "data": {
      "text/html": [],
      "text/plain": [
       "<IPython.core.display.HTML object>"
      ]
     },
     "metadata": {},
     "output_type": "display_data"
    },
    {
     "name": "stderr",
     "output_type": "stream",
     "text": [
      " 41%|████▏     | 39/94 [04:13<06:21,  6.94s/it]"
     ]
    },
    {
     "data": {
      "text/html": [],
      "text/plain": [
       "<IPython.core.display.HTML object>"
      ]
     },
     "metadata": {},
     "output_type": "display_data"
    },
    {
     "name": "stderr",
     "output_type": "stream",
     "text": [
      " 43%|████▎     | 40/94 [04:18<05:39,  6.29s/it]"
     ]
    },
    {
     "data": {
      "text/html": [],
      "text/plain": [
       "<IPython.core.display.HTML object>"
      ]
     },
     "metadata": {},
     "output_type": "display_data"
    },
    {
     "name": "stderr",
     "output_type": "stream",
     "text": [
      " 44%|████▎     | 41/94 [04:24<05:23,  6.10s/it]"
     ]
    },
    {
     "data": {
      "text/html": [],
      "text/plain": [
       "<IPython.core.display.HTML object>"
      ]
     },
     "metadata": {},
     "output_type": "display_data"
    },
    {
     "name": "stderr",
     "output_type": "stream",
     "text": [
      " 45%|████▍     | 42/94 [04:27<04:42,  5.44s/it]"
     ]
    },
    {
     "data": {
      "text/html": [],
      "text/plain": [
       "<IPython.core.display.HTML object>"
      ]
     },
     "metadata": {},
     "output_type": "display_data"
    },
    {
     "name": "stderr",
     "output_type": "stream",
     "text": [
      " 46%|████▌     | 43/94 [04:31<04:10,  4.91s/it]"
     ]
    },
    {
     "data": {
      "text/html": [],
      "text/plain": [
       "<IPython.core.display.HTML object>"
      ]
     },
     "metadata": {},
     "output_type": "display_data"
    },
    {
     "name": "stderr",
     "output_type": "stream",
     "text": [
      " 47%|████▋     | 44/94 [04:35<03:50,  4.60s/it]"
     ]
    },
    {
     "data": {
      "text/html": [],
      "text/plain": [
       "<IPython.core.display.HTML object>"
      ]
     },
     "metadata": {},
     "output_type": "display_data"
    },
    {
     "name": "stderr",
     "output_type": "stream",
     "text": [
      " 48%|████▊     | 45/94 [04:40<03:44,  4.59s/it]"
     ]
    },
    {
     "data": {
      "text/html": [],
      "text/plain": [
       "<IPython.core.display.HTML object>"
      ]
     },
     "metadata": {},
     "output_type": "display_data"
    },
    {
     "name": "stderr",
     "output_type": "stream",
     "text": [
      " 49%|████▉     | 46/94 [04:43<03:26,  4.30s/it]"
     ]
    },
    {
     "data": {
      "text/html": [],
      "text/plain": [
       "<IPython.core.display.HTML object>"
      ]
     },
     "metadata": {},
     "output_type": "display_data"
    },
    {
     "name": "stderr",
     "output_type": "stream",
     "text": [
      " 50%|█████     | 47/94 [04:47<03:13,  4.12s/it]"
     ]
    },
    {
     "data": {
      "text/html": [],
      "text/plain": [
       "<IPython.core.display.HTML object>"
      ]
     },
     "metadata": {},
     "output_type": "display_data"
    },
    {
     "name": "stderr",
     "output_type": "stream",
     "text": [
      " 51%|█████     | 48/94 [04:56<04:20,  5.67s/it]"
     ]
    },
    {
     "data": {
      "text/html": [],
      "text/plain": [
       "<IPython.core.display.HTML object>"
      ]
     },
     "metadata": {},
     "output_type": "display_data"
    },
    {
     "name": "stderr",
     "output_type": "stream",
     "text": [
      " 52%|█████▏    | 49/94 [05:05<05:03,  6.75s/it]"
     ]
    },
    {
     "data": {
      "text/html": [],
      "text/plain": [
       "<IPython.core.display.HTML object>"
      ]
     },
     "metadata": {},
     "output_type": "display_data"
    },
    {
     "name": "stderr",
     "output_type": "stream",
     "text": [
      " 53%|█████▎    | 50/94 [05:14<05:18,  7.24s/it]"
     ]
    },
    {
     "data": {
      "text/html": [],
      "text/plain": [
       "<IPython.core.display.HTML object>"
      ]
     },
     "metadata": {},
     "output_type": "display_data"
    },
    {
     "name": "stderr",
     "output_type": "stream",
     "text": [
      " 54%|█████▍    | 51/94 [05:19<04:49,  6.74s/it]"
     ]
    },
    {
     "data": {
      "text/html": [],
      "text/plain": [
       "<IPython.core.display.HTML object>"
      ]
     },
     "metadata": {},
     "output_type": "display_data"
    },
    {
     "name": "stderr",
     "output_type": "stream",
     "text": [
      " 57%|█████▋    | 54/94 [05:27<02:24,  3.62s/it]"
     ]
    },
    {
     "data": {
      "text/html": [],
      "text/plain": [
       "<IPython.core.display.HTML object>"
      ]
     },
     "metadata": {},
     "output_type": "display_data"
    },
    {
     "name": "stderr",
     "output_type": "stream",
     "text": [
      " 59%|█████▊    | 55/94 [05:35<03:09,  4.85s/it]"
     ]
    },
    {
     "data": {
      "text/html": [],
      "text/plain": [
       "<IPython.core.display.HTML object>"
      ]
     },
     "metadata": {},
     "output_type": "display_data"
    },
    {
     "name": "stderr",
     "output_type": "stream",
     "text": [
      " 60%|█████▉    | 56/94 [05:42<03:31,  5.58s/it]"
     ]
    },
    {
     "data": {
      "text/html": [],
      "text/plain": [
       "<IPython.core.display.HTML object>"
      ]
     },
     "metadata": {},
     "output_type": "display_data"
    },
    {
     "name": "stderr",
     "output_type": "stream",
     "text": [
      " 61%|██████    | 57/94 [05:47<03:10,  5.16s/it]"
     ]
    },
    {
     "data": {
      "text/html": [],
      "text/plain": [
       "<IPython.core.display.HTML object>"
      ]
     },
     "metadata": {},
     "output_type": "display_data"
    },
    {
     "name": "stderr",
     "output_type": "stream",
     "text": [
      " 62%|██████▏   | 58/94 [05:53<03:14,  5.40s/it]"
     ]
    },
    {
     "data": {
      "text/html": [],
      "text/plain": [
       "<IPython.core.display.HTML object>"
      ]
     },
     "metadata": {},
     "output_type": "display_data"
    },
    {
     "name": "stderr",
     "output_type": "stream",
     "text": [
      " 63%|██████▎   | 59/94 [06:02<03:52,  6.64s/it]"
     ]
    },
    {
     "data": {
      "text/html": [],
      "text/plain": [
       "<IPython.core.display.HTML object>"
      ]
     },
     "metadata": {},
     "output_type": "display_data"
    },
    {
     "name": "stderr",
     "output_type": "stream",
     "text": [
      " 64%|██████▍   | 60/94 [06:06<03:16,  5.78s/it]"
     ]
    },
    {
     "data": {
      "text/html": [],
      "text/plain": [
       "<IPython.core.display.HTML object>"
      ]
     },
     "metadata": {},
     "output_type": "display_data"
    },
    {
     "name": "stderr",
     "output_type": "stream",
     "text": [
      " 65%|██████▍   | 61/94 [06:11<03:05,  5.61s/it]"
     ]
    },
    {
     "data": {
      "text/html": [],
      "text/plain": [
       "<IPython.core.display.HTML object>"
      ]
     },
     "metadata": {},
     "output_type": "display_data"
    },
    {
     "name": "stderr",
     "output_type": "stream",
     "text": [
      " 66%|██████▌   | 62/94 [06:15<02:43,  5.12s/it]"
     ]
    },
    {
     "data": {
      "text/html": [],
      "text/plain": [
       "<IPython.core.display.HTML object>"
      ]
     },
     "metadata": {},
     "output_type": "display_data"
    },
    {
     "name": "stderr",
     "output_type": "stream",
     "text": [
      " 67%|██████▋   | 63/94 [06:25<03:18,  6.40s/it]"
     ]
    },
    {
     "data": {
      "text/html": [],
      "text/plain": [
       "<IPython.core.display.HTML object>"
      ]
     },
     "metadata": {},
     "output_type": "display_data"
    },
    {
     "name": "stderr",
     "output_type": "stream",
     "text": [
      " 68%|██████▊   | 64/94 [06:31<03:11,  6.40s/it]"
     ]
    },
    {
     "data": {
      "text/html": [],
      "text/plain": [
       "<IPython.core.display.HTML object>"
      ]
     },
     "metadata": {},
     "output_type": "display_data"
    },
    {
     "name": "stderr",
     "output_type": "stream",
     "text": [
      " 69%|██████▉   | 65/94 [06:36<02:54,  6.02s/it]"
     ]
    },
    {
     "data": {
      "text/html": [],
      "text/plain": [
       "<IPython.core.display.HTML object>"
      ]
     },
     "metadata": {},
     "output_type": "display_data"
    },
    {
     "name": "stderr",
     "output_type": "stream",
     "text": [
      " 71%|███████▏  | 67/94 [06:40<01:46,  3.94s/it]"
     ]
    },
    {
     "data": {
      "text/html": [],
      "text/plain": [
       "<IPython.core.display.HTML object>"
      ]
     },
     "metadata": {},
     "output_type": "display_data"
    },
    {
     "name": "stderr",
     "output_type": "stream",
     "text": [
      " 72%|███████▏  | 68/94 [06:44<01:41,  3.90s/it]"
     ]
    },
    {
     "data": {
      "text/html": [],
      "text/plain": [
       "<IPython.core.display.HTML object>"
      ]
     },
     "metadata": {},
     "output_type": "display_data"
    },
    {
     "name": "stderr",
     "output_type": "stream",
     "text": [
      " 73%|███████▎  | 69/94 [06:48<01:38,  3.94s/it]"
     ]
    },
    {
     "data": {
      "text/html": [],
      "text/plain": [
       "<IPython.core.display.HTML object>"
      ]
     },
     "metadata": {},
     "output_type": "display_data"
    },
    {
     "name": "stderr",
     "output_type": "stream",
     "text": [
      " 74%|███████▍  | 70/94 [06:53<01:42,  4.26s/it]"
     ]
    },
    {
     "data": {
      "text/html": [],
      "text/plain": [
       "<IPython.core.display.HTML object>"
      ]
     },
     "metadata": {},
     "output_type": "display_data"
    },
    {
     "name": "stderr",
     "output_type": "stream",
     "text": [
      " 76%|███████▌  | 71/94 [06:57<01:35,  4.15s/it]"
     ]
    },
    {
     "data": {
      "text/html": [],
      "text/plain": [
       "<IPython.core.display.HTML object>"
      ]
     },
     "metadata": {},
     "output_type": "display_data"
    },
    {
     "name": "stderr",
     "output_type": "stream",
     "text": [
      " 77%|███████▋  | 72/94 [07:02<01:33,  4.24s/it]"
     ]
    },
    {
     "data": {
      "text/html": [],
      "text/plain": [
       "<IPython.core.display.HTML object>"
      ]
     },
     "metadata": {},
     "output_type": "display_data"
    },
    {
     "name": "stderr",
     "output_type": "stream",
     "text": [
      " 81%|████████  | 76/94 [07:07<00:32,  1.82s/it]"
     ]
    },
    {
     "data": {
      "text/html": [],
      "text/plain": [
       "<IPython.core.display.HTML object>"
      ]
     },
     "metadata": {},
     "output_type": "display_data"
    },
    {
     "name": "stderr",
     "output_type": "stream",
     "text": [
      " 82%|████████▏ | 77/94 [07:11<00:41,  2.44s/it]"
     ]
    },
    {
     "data": {
      "text/html": [],
      "text/plain": [
       "<IPython.core.display.HTML object>"
      ]
     },
     "metadata": {},
     "output_type": "display_data"
    },
    {
     "name": "stderr",
     "output_type": "stream",
     "text": [
      " 83%|████████▎ | 78/94 [07:15<00:47,  2.95s/it]"
     ]
    },
    {
     "data": {
      "text/html": [],
      "text/plain": [
       "<IPython.core.display.HTML object>"
      ]
     },
     "metadata": {},
     "output_type": "display_data"
    },
    {
     "name": "stderr",
     "output_type": "stream",
     "text": [
      " 84%|████████▍ | 79/94 [07:20<00:51,  3.42s/it]"
     ]
    },
    {
     "data": {
      "text/html": [],
      "text/plain": [
       "<IPython.core.display.HTML object>"
      ]
     },
     "metadata": {},
     "output_type": "display_data"
    },
    {
     "name": "stderr",
     "output_type": "stream",
     "text": [
      " 85%|████████▌ | 80/94 [07:25<00:53,  3.84s/it]"
     ]
    },
    {
     "data": {
      "text/html": [],
      "text/plain": [
       "<IPython.core.display.HTML object>"
      ]
     },
     "metadata": {},
     "output_type": "display_data"
    },
    {
     "name": "stderr",
     "output_type": "stream",
     "text": [
      " 86%|████████▌ | 81/94 [07:29<00:51,  3.94s/it]"
     ]
    },
    {
     "data": {
      "text/html": [],
      "text/plain": [
       "<IPython.core.display.HTML object>"
      ]
     },
     "metadata": {},
     "output_type": "display_data"
    },
    {
     "name": "stderr",
     "output_type": "stream",
     "text": [
      " 88%|████████▊ | 83/94 [07:34<00:32,  2.97s/it]"
     ]
    },
    {
     "data": {
      "text/html": [],
      "text/plain": [
       "<IPython.core.display.HTML object>"
      ]
     },
     "metadata": {},
     "output_type": "display_data"
    },
    {
     "name": "stderr",
     "output_type": "stream",
     "text": [
      " 90%|█████████ | 85/94 [07:39<00:22,  2.53s/it]"
     ]
    },
    {
     "data": {
      "text/html": [],
      "text/plain": [
       "<IPython.core.display.HTML object>"
      ]
     },
     "metadata": {},
     "output_type": "display_data"
    },
    {
     "name": "stderr",
     "output_type": "stream",
     "text": [
      " 91%|█████████▏| 86/94 [07:43<00:24,  3.10s/it]"
     ]
    },
    {
     "data": {
      "text/html": [],
      "text/plain": [
       "<IPython.core.display.HTML object>"
      ]
     },
     "metadata": {},
     "output_type": "display_data"
    },
    {
     "name": "stderr",
     "output_type": "stream",
     "text": [
      " 93%|█████████▎| 87/94 [07:47<00:24,  3.48s/it]"
     ]
    },
    {
     "data": {
      "text/html": [],
      "text/plain": [
       "<IPython.core.display.HTML object>"
      ]
     },
     "metadata": {},
     "output_type": "display_data"
    },
    {
     "name": "stderr",
     "output_type": "stream",
     "text": [
      " 94%|█████████▎| 88/94 [07:51<00:21,  3.65s/it]"
     ]
    },
    {
     "data": {
      "text/html": [],
      "text/plain": [
       "<IPython.core.display.HTML object>"
      ]
     },
     "metadata": {},
     "output_type": "display_data"
    },
    {
     "name": "stderr",
     "output_type": "stream",
     "text": [
      " 95%|█████████▍| 89/94 [07:56<00:19,  3.81s/it]"
     ]
    },
    {
     "data": {
      "text/html": [],
      "text/plain": [
       "<IPython.core.display.HTML object>"
      ]
     },
     "metadata": {},
     "output_type": "display_data"
    },
    {
     "name": "stderr",
     "output_type": "stream",
     "text": [
      " 97%|█████████▋| 91/94 [08:00<00:08,  2.94s/it]"
     ]
    },
    {
     "data": {
      "text/html": [],
      "text/plain": [
       "<IPython.core.display.HTML object>"
      ]
     },
     "metadata": {},
     "output_type": "display_data"
    },
    {
     "name": "stderr",
     "output_type": "stream",
     "text": [
      " 98%|█████████▊| 92/94 [08:05<00:06,  3.29s/it]"
     ]
    },
    {
     "data": {
      "text/html": [],
      "text/plain": [
       "<IPython.core.display.HTML object>"
      ]
     },
     "metadata": {},
     "output_type": "display_data"
    },
    {
     "name": "stderr",
     "output_type": "stream",
     "text": [
      " 99%|█████████▉| 93/94 [08:09<00:03,  3.70s/it]"
     ]
    },
    {
     "data": {
      "text/html": [],
      "text/plain": [
       "<IPython.core.display.HTML object>"
      ]
     },
     "metadata": {},
     "output_type": "display_data"
    },
    {
     "name": "stderr",
     "output_type": "stream",
     "text": [
      "100%|██████████| 94/94 [08:13<00:00,  5.25s/it]\n"
     ]
    },
    {
     "data": {
      "text/html": [
       "<div>\n",
       "<style scoped>\n",
       "    .dataframe tbody tr th:only-of-type {\n",
       "        vertical-align: middle;\n",
       "    }\n",
       "\n",
       "    .dataframe tbody tr th {\n",
       "        vertical-align: top;\n",
       "    }\n",
       "\n",
       "    .dataframe thead th {\n",
       "        text-align: right;\n",
       "    }\n",
       "</style>\n",
       "<table border=\"1\" class=\"dataframe\">\n",
       "  <thead>\n",
       "    <tr style=\"text-align: right;\">\n",
       "      <th></th>\n",
       "      <th>Trait</th>\n",
       "      <th>n_causal</th>\n",
       "      <th>Model</th>\n",
       "      <th>AUROC</th>\n",
       "      <th>AUPRC</th>\n",
       "      <th>Pairwise_accuracy</th>\n",
       "    </tr>\n",
       "  </thead>\n",
       "  <tbody>\n",
       "    <tr>\n",
       "      <th>0</th>\n",
       "      <td>IGF1</td>\n",
       "      <td>87</td>\n",
       "      <td>GPN-MSA</td>\n",
       "      <td>0.736425</td>\n",
       "      <td>0.786164</td>\n",
       "      <td>0.758621</td>\n",
       "    </tr>\n",
       "    <tr>\n",
       "      <th>1</th>\n",
       "      <td>IGF1</td>\n",
       "      <td>87</td>\n",
       "      <td>CADD</td>\n",
       "      <td>0.765887</td>\n",
       "      <td>0.797987</td>\n",
       "      <td>0.747126</td>\n",
       "    </tr>\n",
       "    <tr>\n",
       "      <th>2</th>\n",
       "      <td>IGF1</td>\n",
       "      <td>87</td>\n",
       "      <td>phyloP</td>\n",
       "      <td>0.747457</td>\n",
       "      <td>0.772482</td>\n",
       "      <td>0.712644</td>\n",
       "    </tr>\n",
       "    <tr>\n",
       "      <th>3</th>\n",
       "      <td>IGF1</td>\n",
       "      <td>87</td>\n",
       "      <td>euclidean_distance</td>\n",
       "      <td>0.554102</td>\n",
       "      <td>0.612756</td>\n",
       "      <td>0.597701</td>\n",
       "    </tr>\n",
       "    <tr>\n",
       "      <th>4</th>\n",
       "      <td>IGF1</td>\n",
       "      <td>87</td>\n",
       "      <td>inner_product</td>\n",
       "      <td>0.657947</td>\n",
       "      <td>0.719819</td>\n",
       "      <td>0.655172</td>\n",
       "    </tr>\n",
       "    <tr>\n",
       "      <th>...</th>\n",
       "      <td>...</td>\n",
       "      <td>...</td>\n",
       "      <td>...</td>\n",
       "      <td>...</td>\n",
       "      <td>...</td>\n",
       "      <td>...</td>\n",
       "    </tr>\n",
       "    <tr>\n",
       "      <th>22180</th>\n",
       "      <td>CRC</td>\n",
       "      <td>1</td>\n",
       "      <td>inner_product</td>\n",
       "      <td>1.000000</td>\n",
       "      <td>1.000000</td>\n",
       "      <td>1.000000</td>\n",
       "    </tr>\n",
       "    <tr>\n",
       "      <th>22181</th>\n",
       "      <td>CRC</td>\n",
       "      <td>1</td>\n",
       "      <td>cosine_similarity</td>\n",
       "      <td>1.000000</td>\n",
       "      <td>1.000000</td>\n",
       "      <td>1.000000</td>\n",
       "    </tr>\n",
       "    <tr>\n",
       "      <th>22182</th>\n",
       "      <td>CRC</td>\n",
       "      <td>1</td>\n",
       "      <td>rank(LLR)+rank(euclidean_distance)</td>\n",
       "      <td>1.000000</td>\n",
       "      <td>1.000000</td>\n",
       "      <td>1.000000</td>\n",
       "    </tr>\n",
       "    <tr>\n",
       "      <th>22183</th>\n",
       "      <td>CRC</td>\n",
       "      <td>1</td>\n",
       "      <td>rank(LLR)+rank(inner_product)</td>\n",
       "      <td>1.000000</td>\n",
       "      <td>1.000000</td>\n",
       "      <td>1.000000</td>\n",
       "    </tr>\n",
       "    <tr>\n",
       "      <th>22184</th>\n",
       "      <td>CRC</td>\n",
       "      <td>1</td>\n",
       "      <td>rank(LLR)+rank(cosine_similarity)</td>\n",
       "      <td>1.000000</td>\n",
       "      <td>1.000000</td>\n",
       "      <td>1.000000</td>\n",
       "    </tr>\n",
       "  </tbody>\n",
       "</table>\n",
       "<p>22185 rows × 6 columns</p>\n",
       "</div>"
      ],
      "text/plain": [
       "      Trait  n_causal                               Model     AUROC     AUPRC  \\\n",
       "0      IGF1        87                             GPN-MSA  0.736425  0.786164   \n",
       "1      IGF1        87                                CADD  0.765887  0.797987   \n",
       "2      IGF1        87                              phyloP  0.747457  0.772482   \n",
       "3      IGF1        87                  euclidean_distance  0.554102  0.612756   \n",
       "4      IGF1        87                       inner_product  0.657947  0.719819   \n",
       "...     ...       ...                                 ...       ...       ...   \n",
       "22180   CRC         1                       inner_product  1.000000  1.000000   \n",
       "22181   CRC         1                   cosine_similarity  1.000000  1.000000   \n",
       "22182   CRC         1  rank(LLR)+rank(euclidean_distance)  1.000000  1.000000   \n",
       "22183   CRC         1       rank(LLR)+rank(inner_product)  1.000000  1.000000   \n",
       "22184   CRC         1   rank(LLR)+rank(cosine_similarity)  1.000000  1.000000   \n",
       "\n",
       "       Pairwise_accuracy  \n",
       "0               0.758621  \n",
       "1               0.747126  \n",
       "2               0.712644  \n",
       "3               0.597701  \n",
       "4               0.655172  \n",
       "...                  ...  \n",
       "22180           1.000000  \n",
       "22181           1.000000  \n",
       "22182           1.000000  \n",
       "22183           1.000000  \n",
       "22184           1.000000  \n",
       "\n",
       "[22185 rows x 6 columns]"
      ]
     },
     "execution_count": 336,
     "metadata": {},
     "output_type": "execute_result"
    }
   ],
   "source": [
    "results2 = []\n",
    "for trait in tqdm(traits):\n",
    "    V2 = V.merge(pips[pips.trait==trait], how=\"inner\", on=cols).copy()\n",
    "    V2[\"maf_z\"] = zscore(V2[\"maf\"])\n",
    "    V2[\"ld_score_z\"] = zscore(V2[\"ld_score\"].astype(float))\n",
    "    V2.loc[V2.pip < 0.01, \"Likely causal\"] = False\n",
    "    V2.loc[V2.pip >  0.9, \"Likely causal\"] = True\n",
    "    V2 = V2.dropna(subset=\"Likely causal\")\n",
    "    V2[\"Likely causal\"] = V2[\"Likely causal\"].astype(bool)\n",
    "    n = len(V2)\n",
    "    if (V2[\"Likely causal\"].sum() < 1) or ((~V2[\"Likely causal\"]).sum() < 1): continue\n",
    "    V2 = match_columns(V2, \"Likely causal\", [\"maf_z\", \"ld_score_z\"])\n",
    "    V2 = V2.drop_duplicates()\n",
    "    \n",
    "    V2 = add_scores(V2)\n",
    "    models += [\"euclidean_distance\", \"inner_product\", \"cosine_similarity\"]\n",
    "    for m in [\"euclidean_distance\", \"inner_product\", \"cosine_similarity\"]:\n",
    "        V2[f\"rank(LLR)+rank({m})\"] = rank_transform(V2[\"GPN-MSA\"]) + rank_transform(V2[m])\n",
    "        models.append(f\"rank(LLR)+rank({m})\")\n",
    "    \n",
    "    n_causal = V2[\"Likely causal\"].sum()\n",
    "    n = n_causal\n",
    "    for m in models:\n",
    "        results2.append([\n",
    "            trait, n_causal, m,\n",
    "            roc_auc_score(V2[\"Likely causal\"], -V2[m]),\n",
    "            average_precision_score(V2[\"Likely causal\"], -V2[m]),\n",
    "            np.mean([(V2.iloc[i][m] < V2.iloc[i+n][m]) for i in range(n)]),\n",
    "        ])\n",
    "results2 = pd.DataFrame(results2, columns=[\"Trait\", \"n_causal\", \"Model\", \"AUROC\", \"AUPRC\", \"Pairwise_accuracy\"])\n",
    "results2"
   ]
  },
  {
   "cell_type": "code",
   "execution_count": 337,
   "id": "c59648fe-6ec0-4068-917f-7a96cab18ecb",
   "metadata": {
    "tags": []
   },
   "outputs": [
    {
     "data": {
      "text/html": [
       "<div>\n",
       "<style scoped>\n",
       "    .dataframe tbody tr th:only-of-type {\n",
       "        vertical-align: middle;\n",
       "    }\n",
       "\n",
       "    .dataframe tbody tr th {\n",
       "        vertical-align: top;\n",
       "    }\n",
       "\n",
       "    .dataframe thead th {\n",
       "        text-align: right;\n",
       "    }\n",
       "</style>\n",
       "<table border=\"1\" class=\"dataframe\">\n",
       "  <thead>\n",
       "    <tr style=\"text-align: right;\">\n",
       "      <th></th>\n",
       "      <th>mean</th>\n",
       "      <th>median</th>\n",
       "    </tr>\n",
       "    <tr>\n",
       "      <th>Model</th>\n",
       "      <th></th>\n",
       "      <th></th>\n",
       "    </tr>\n",
       "  </thead>\n",
       "  <tbody>\n",
       "    <tr>\n",
       "      <th>CADD</th>\n",
       "      <td>0.704828</td>\n",
       "      <td>0.723404</td>\n",
       "    </tr>\n",
       "    <tr>\n",
       "      <th>GPN-MSA</th>\n",
       "      <td>0.671773</td>\n",
       "      <td>0.695652</td>\n",
       "    </tr>\n",
       "    <tr>\n",
       "      <th>cosine_similarity</th>\n",
       "      <td>0.631145</td>\n",
       "      <td>0.605263</td>\n",
       "    </tr>\n",
       "    <tr>\n",
       "      <th>euclidean_distance</th>\n",
       "      <td>0.636428</td>\n",
       "      <td>0.611111</td>\n",
       "    </tr>\n",
       "    <tr>\n",
       "      <th>inner_product</th>\n",
       "      <td>0.694112</td>\n",
       "      <td>0.681818</td>\n",
       "    </tr>\n",
       "    <tr>\n",
       "      <th>phyloP</th>\n",
       "      <td>0.657434</td>\n",
       "      <td>0.666667</td>\n",
       "    </tr>\n",
       "    <tr>\n",
       "      <th>rank(LLR)+rank(cosine_similarity)</th>\n",
       "      <td>0.610248</td>\n",
       "      <td>0.655172</td>\n",
       "    </tr>\n",
       "    <tr>\n",
       "      <th>rank(LLR)+rank(euclidean_distance)</th>\n",
       "      <td>0.622110</td>\n",
       "      <td>0.655172</td>\n",
       "    </tr>\n",
       "    <tr>\n",
       "      <th>rank(LLR)+rank(inner_product)</th>\n",
       "      <td>0.637443</td>\n",
       "      <td>0.681818</td>\n",
       "    </tr>\n",
       "  </tbody>\n",
       "</table>\n",
       "</div>"
      ],
      "text/plain": [
       "                                        mean    median\n",
       "Model                                                 \n",
       "CADD                                0.704828  0.723404\n",
       "GPN-MSA                             0.671773  0.695652\n",
       "cosine_similarity                   0.631145  0.605263\n",
       "euclidean_distance                  0.636428  0.611111\n",
       "inner_product                       0.694112  0.681818\n",
       "phyloP                              0.657434  0.666667\n",
       "rank(LLR)+rank(cosine_similarity)   0.610248  0.655172\n",
       "rank(LLR)+rank(euclidean_distance)  0.622110  0.655172\n",
       "rank(LLR)+rank(inner_product)       0.637443  0.681818"
      ]
     },
     "execution_count": 337,
     "metadata": {},
     "output_type": "execute_result"
    }
   ],
   "source": [
    "results2.groupby(\"Model\").Pairwise_accuracy.agg([\"mean\", \"median\"])"
   ]
  },
  {
   "cell_type": "code",
   "execution_count": 338,
   "id": "1e5a9424-0409-4d32-8099-c2f811681ff3",
   "metadata": {
    "tags": []
   },
   "outputs": [
    {
     "data": {
      "text/plain": [
       "<Axes: xlabel='Pairwise_accuracy', ylabel='Model'>"
      ]
     },
     "execution_count": 338,
     "metadata": {},
     "output_type": "execute_result"
    },
    {
     "data": {
      "image/png": "[encoded data removed]",
      "text/plain": [
       "<Figure size 216x216 with 1 Axes>"
      ]
     },
     "metadata": {
      "needs_background": "light"
     },
     "output_type": "display_data"
    }
   ],
   "source": [
    "plt.figure(figsize=(3,3))\n",
    "sns.pointplot(\n",
    "    data=results2,\n",
    "    y=\"Model\",\n",
    "    x=\"Pairwise_accuracy\",\n",
    "    join=False,\n",
    "    errorbar=None,\n",
    ")"
   ]
  },
  {
   "cell_type": "code",
   "execution_count": 342,
   "id": "a638a20f-89bb-4e3c-8cc1-82bbe815e9cd",
   "metadata": {
    "tags": []
   },
   "outputs": [
    {
     "data": {
      "text/plain": [
       "[<matplotlib.lines.Line2D at 0x7fbf48d3f890>]"
      ]
     },
     "execution_count": 342,
     "metadata": {},
     "output_type": "execute_result"
    },
    {
     "data": {
      "image/png": "[encoded data removed]",
      "text/plain": [
       "<Figure size 432x288 with 1 Axes>"
      ]
     },
     "metadata": {
      "needs_background": "light"
     },
     "output_type": "display_data"
    }
   ],
   "source": [
    "plt.plot(results2.groupby(\"Trait\").apply(lambda df: df.query('Model == \"GPN-MSA\"').iloc[0].Pairwise_accuracy - df.query('Model == \"CADD\"').iloc[0].Pairwise_accuracy))"
   ]
  },
  {
   "cell_type": "code",
   "execution_count": 343,
   "id": "2ee76846-6730-4e3b-9d21-2b8f4a2b639c",
   "metadata": {
    "tags": []
   },
   "outputs": [
    {
     "data": {
      "text/plain": [
       "[<matplotlib.lines.Line2D at 0x7fbda11b6890>]"
      ]
     },
     "execution_count": 343,
     "metadata": {},
     "output_type": "execute_result"
    },
    {
     "data": {
      "image/png": "[encoded data removed]",
      "text/plain": [
       "<Figure size 432x288 with 1 Axes>"
      ]
     },
     "metadata": {
      "needs_background": "light"
     },
     "output_type": "display_data"
    }
   ],
   "source": [
    "plt.plot(results2.groupby(\"Trait\").apply(lambda df: df.query('Model == \"rank(LLR)+rank(inner_product)\"').iloc[0].Pairwise_accuracy - df.query('Model == \"CADD\"').iloc[0].Pairwise_accuracy))"
   ]
  },
  {
   "cell_type": "code",
   "execution_count": null,
   "id": "c54ef4e2-7bc4-4aea-923e-cab20c1d094d",
   "metadata": {},
   "outputs": [],
   "source": []
  }
 ],
 "metadata": {
  "kernelspec": {
   "display_name": "gpn",
   "language": "python",
   "name": "gpn"
  },
  "language_info": {
   "codemirror_mode": {
    "name": "ipython",
    "version": 3
   },
   "file_extension": ".py",
   "mimetype": "text/x-python",
   "name": "python",
   "nbconvert_exporter": "python",
   "pygments_lexer": "ipython3",
   "version": "3.11.3"
  }
 },
 "nbformat": 4,
 "nbformat_minor": 5
}
