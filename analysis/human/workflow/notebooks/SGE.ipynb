{
 "cells": [
  {
   "cell_type": "code",
   "execution_count": 1,
   "id": "4e09a707-5382-4917-a07f-d677745a4d5a",
   "metadata": {
    "tags": []
   },
   "outputs": [
    {
     "name": "stderr",
     "output_type": "stream",
     "text": [
      "/accounts/projects/yss/gbenegas/.local/lib/python3.11/site-packages/tqdm/auto.py:21: TqdmWarning: IProgress not found. Please update jupyter and ipywidgets. See https://ipywidgets.readthedocs.io/en/stable/user_install.html\n",
      "  from .autonotebook import tqdm as notebook_tqdm\n"
     ]
    }
   ],
   "source": [
    "import bioframe as bf\n",
    "from datasets import load_dataset\n",
    "import numpy as np\n",
    "import pandas as pd\n",
    "from pathlib import Path\n",
    "import matplotlib.pyplot as plt\n",
    "from scipy.stats import pearsonr, spearmanr\n",
    "import seaborn as sns\n",
    "from sklearn.cross_decomposition import PLSRegression\n",
    "from sklearn.decomposition import PCA\n",
    "from sklearn.ensemble import RandomForestClassifier\n",
    "from sklearn.linear_model import RidgeCV\n",
    "from sklearn.preprocessing import StandardScaler\n",
    "from sklearn.pipeline import Pipeline\n",
    "from sklearn.metrics import roc_auc_score, precision_recall_curve, auc, RocCurveDisplay, average_precision_score\n",
    "from tqdm import tqdm\n",
    "import warnings\n",
    "warnings.filterwarnings('ignore')"
   ]
  },
  {
   "cell_type": "code",
   "execution_count": 2,
   "id": "6fa3a18f-d635-434c-9e7c-bba2df05bad2",
   "metadata": {
    "tags": []
   },
   "outputs": [],
   "source": [
    "dataset_path = \"results/SGE/DDX3X/processed\""
   ]
  },
  {
   "cell_type": "code",
   "execution_count": 3,
   "id": "83996baa-6fa3-4b37-a746-2241809def51",
   "metadata": {
    "tags": []
   },
   "outputs": [
    {
     "data": {
      "text/html": [
       "<div>\n",
       "<style scoped>\n",
       "    .dataframe tbody tr th:only-of-type {\n",
       "        vertical-align: middle;\n",
       "    }\n",
       "\n",
       "    .dataframe tbody tr th {\n",
       "        vertical-align: top;\n",
       "    }\n",
       "\n",
       "    .dataframe thead th {\n",
       "        text-align: right;\n",
       "    }\n",
       "</style>\n",
       "<table border=\"1\" class=\"dataframe\">\n",
       "  <thead>\n",
       "    <tr style=\"text-align: right;\">\n",
       "      <th></th>\n",
       "      <th>chrom</th>\n",
       "      <th>pos</th>\n",
       "      <th>ref</th>\n",
       "      <th>alt</th>\n",
       "      <th>consequence</th>\n",
       "      <th>category</th>\n",
       "      <th>label</th>\n",
       "      <th>CADD</th>\n",
       "      <th>phyloP-100-vertebrates</th>\n",
       "      <th>phastCons-100-vertebrates</th>\n",
       "      <th>phyloP-241-mammals</th>\n",
       "      <th>GPN-MSA</th>\n",
       "    </tr>\n",
       "  </thead>\n",
       "  <tbody>\n",
       "    <tr>\n",
       "      <th>0</th>\n",
       "      <td>X</td>\n",
       "      <td>41334228</td>\n",
       "      <td>T</td>\n",
       "      <td>A</td>\n",
       "      <td>5_prime_UTR_variant</td>\n",
       "      <td>noncoding</td>\n",
       "      <td>unchanged</td>\n",
       "      <td>-1.099151</td>\n",
       "      <td>-0.352</td>\n",
       "      <td>-0.435</td>\n",
       "      <td>0.354</td>\n",
       "      <td>-4.820312</td>\n",
       "    </tr>\n",
       "    <tr>\n",
       "      <th>1</th>\n",
       "      <td>X</td>\n",
       "      <td>41334228</td>\n",
       "      <td>T</td>\n",
       "      <td>G</td>\n",
       "      <td>5_prime_UTR_variant</td>\n",
       "      <td>noncoding</td>\n",
       "      <td>unchanged</td>\n",
       "      <td>-1.112464</td>\n",
       "      <td>-0.352</td>\n",
       "      <td>-0.435</td>\n",
       "      <td>0.354</td>\n",
       "      <td>-4.269531</td>\n",
       "    </tr>\n",
       "    <tr>\n",
       "      <th>2</th>\n",
       "      <td>X</td>\n",
       "      <td>41334228</td>\n",
       "      <td>T</td>\n",
       "      <td>C</td>\n",
       "      <td>5_prime_UTR_variant</td>\n",
       "      <td>noncoding</td>\n",
       "      <td>unchanged</td>\n",
       "      <td>-1.232743</td>\n",
       "      <td>-0.352</td>\n",
       "      <td>-0.435</td>\n",
       "      <td>0.354</td>\n",
       "      <td>-4.886719</td>\n",
       "    </tr>\n",
       "    <tr>\n",
       "      <th>3</th>\n",
       "      <td>X</td>\n",
       "      <td>41334229</td>\n",
       "      <td>C</td>\n",
       "      <td>A</td>\n",
       "      <td>5_prime_UTR_variant</td>\n",
       "      <td>noncoding</td>\n",
       "      <td>unchanged</td>\n",
       "      <td>-1.548775</td>\n",
       "      <td>-3.034</td>\n",
       "      <td>-0.997</td>\n",
       "      <td>-2.180</td>\n",
       "      <td>-7.417969</td>\n",
       "    </tr>\n",
       "    <tr>\n",
       "      <th>4</th>\n",
       "      <td>X</td>\n",
       "      <td>41334229</td>\n",
       "      <td>C</td>\n",
       "      <td>G</td>\n",
       "      <td>5_prime_UTR_variant</td>\n",
       "      <td>noncoding</td>\n",
       "      <td>unchanged</td>\n",
       "      <td>-1.566415</td>\n",
       "      <td>-3.034</td>\n",
       "      <td>-0.997</td>\n",
       "      <td>-2.180</td>\n",
       "      <td>-6.660156</td>\n",
       "    </tr>\n",
       "    <tr>\n",
       "      <th>...</th>\n",
       "      <td>...</td>\n",
       "      <td>...</td>\n",
       "      <td>...</td>\n",
       "      <td>...</td>\n",
       "      <td>...</td>\n",
       "      <td>...</td>\n",
       "      <td>...</td>\n",
       "      <td>...</td>\n",
       "      <td>...</td>\n",
       "      <td>...</td>\n",
       "      <td>...</td>\n",
       "      <td>...</td>\n",
       "    </tr>\n",
       "    <tr>\n",
       "      <th>7939</th>\n",
       "      <td>X</td>\n",
       "      <td>41347733</td>\n",
       "      <td>T</td>\n",
       "      <td>G</td>\n",
       "      <td>3_prime_UTR_variant</td>\n",
       "      <td>noncoding</td>\n",
       "      <td>unchanged</td>\n",
       "      <td>-1.195731</td>\n",
       "      <td>-1.099</td>\n",
       "      <td>-1.000</td>\n",
       "      <td>-0.233</td>\n",
       "      <td>-6.003906</td>\n",
       "    </tr>\n",
       "    <tr>\n",
       "      <th>7940</th>\n",
       "      <td>X</td>\n",
       "      <td>41347733</td>\n",
       "      <td>T</td>\n",
       "      <td>C</td>\n",
       "      <td>3_prime_UTR_variant</td>\n",
       "      <td>noncoding</td>\n",
       "      <td>unchanged</td>\n",
       "      <td>-1.234965</td>\n",
       "      <td>-1.099</td>\n",
       "      <td>-1.000</td>\n",
       "      <td>-0.233</td>\n",
       "      <td>-3.699219</td>\n",
       "    </tr>\n",
       "    <tr>\n",
       "      <th>7941</th>\n",
       "      <td>X</td>\n",
       "      <td>41347734</td>\n",
       "      <td>A</td>\n",
       "      <td>T</td>\n",
       "      <td>3_prime_UTR_variant</td>\n",
       "      <td>noncoding</td>\n",
       "      <td>unchanged</td>\n",
       "      <td>-1.259134</td>\n",
       "      <td>-1.670</td>\n",
       "      <td>-1.000</td>\n",
       "      <td>-0.642</td>\n",
       "      <td>-6.132812</td>\n",
       "    </tr>\n",
       "    <tr>\n",
       "      <th>7942</th>\n",
       "      <td>X</td>\n",
       "      <td>41347734</td>\n",
       "      <td>A</td>\n",
       "      <td>C</td>\n",
       "      <td>3_prime_UTR_variant</td>\n",
       "      <td>noncoding</td>\n",
       "      <td>unchanged</td>\n",
       "      <td>-1.272620</td>\n",
       "      <td>-1.670</td>\n",
       "      <td>-1.000</td>\n",
       "      <td>-0.642</td>\n",
       "      <td>-5.945312</td>\n",
       "    </tr>\n",
       "    <tr>\n",
       "      <th>7943</th>\n",
       "      <td>X</td>\n",
       "      <td>41347734</td>\n",
       "      <td>A</td>\n",
       "      <td>G</td>\n",
       "      <td>3_prime_UTR_variant</td>\n",
       "      <td>noncoding</td>\n",
       "      <td>unchanged</td>\n",
       "      <td>-1.302287</td>\n",
       "      <td>-1.670</td>\n",
       "      <td>-1.000</td>\n",
       "      <td>-0.642</td>\n",
       "      <td>-4.714844</td>\n",
       "    </tr>\n",
       "  </tbody>\n",
       "</table>\n",
       "<p>7944 rows × 12 columns</p>\n",
       "</div>"
      ],
      "text/plain": [
       "     chrom       pos ref alt          consequence   category      label  \\\n",
       "0        X  41334228   T   A  5_prime_UTR_variant  noncoding  unchanged   \n",
       "1        X  41334228   T   G  5_prime_UTR_variant  noncoding  unchanged   \n",
       "2        X  41334228   T   C  5_prime_UTR_variant  noncoding  unchanged   \n",
       "3        X  41334229   C   A  5_prime_UTR_variant  noncoding  unchanged   \n",
       "4        X  41334229   C   G  5_prime_UTR_variant  noncoding  unchanged   \n",
       "...    ...       ...  ..  ..                  ...        ...        ...   \n",
       "7939     X  41347733   T   G  3_prime_UTR_variant  noncoding  unchanged   \n",
       "7940     X  41347733   T   C  3_prime_UTR_variant  noncoding  unchanged   \n",
       "7941     X  41347734   A   T  3_prime_UTR_variant  noncoding  unchanged   \n",
       "7942     X  41347734   A   C  3_prime_UTR_variant  noncoding  unchanged   \n",
       "7943     X  41347734   A   G  3_prime_UTR_variant  noncoding  unchanged   \n",
       "\n",
       "          CADD  phyloP-100-vertebrates  phastCons-100-vertebrates  \\\n",
       "0    -1.099151                  -0.352                     -0.435   \n",
       "1    -1.112464                  -0.352                     -0.435   \n",
       "2    -1.232743                  -0.352                     -0.435   \n",
       "3    -1.548775                  -3.034                     -0.997   \n",
       "4    -1.566415                  -3.034                     -0.997   \n",
       "...        ...                     ...                        ...   \n",
       "7939 -1.195731                  -1.099                     -1.000   \n",
       "7940 -1.234965                  -1.099                     -1.000   \n",
       "7941 -1.259134                  -1.670                     -1.000   \n",
       "7942 -1.272620                  -1.670                     -1.000   \n",
       "7943 -1.302287                  -1.670                     -1.000   \n",
       "\n",
       "      phyloP-241-mammals   GPN-MSA  \n",
       "0                  0.354 -4.820312  \n",
       "1                  0.354 -4.269531  \n",
       "2                  0.354 -4.886719  \n",
       "3                 -2.180 -7.417969  \n",
       "4                 -2.180 -6.660156  \n",
       "...                  ...       ...  \n",
       "7939              -0.233 -6.003906  \n",
       "7940              -0.233 -3.699219  \n",
       "7941              -0.642 -6.132812  \n",
       "7942              -0.642 -5.945312  \n",
       "7943              -0.642 -4.714844  \n",
       "\n",
       "[7944 rows x 12 columns]"
      ]
     },
     "execution_count": 3,
     "metadata": {},
     "output_type": "execute_result"
    }
   ],
   "source": [
    "models = [\n",
    "    \"CADD.RawScore\",\n",
    "    \"phyloP\",\n",
    "    \"phastCons\",\n",
    "    \"phyloP-Zoonomia\",\n",
    "    \"multiz100way/89/128/64/True/defined.phastCons.percentile-75_0.05_0.001/medium/0.1/42/30000/True/True/True\",\n",
    "]\n",
    "\n",
    "model_renaming = {\n",
    "    \"CADD.RawScore\": \"CADD\",\n",
    "    \"multiz100way/89/128/64/True/defined.phastCons.percentile-75_0.05_0.001/medium/0.1/42/30000/True/True/True\": \"GPN-MSA\",\n",
    "    \"phyloP\": \"phyloP-100-vertebrates\",\n",
    "    \"phastCons\": \"phastCons-100-vertebrates\",\n",
    "    \"phyloP-Zoonomia\": \"phyloP-241-mammals\",\n",
    "    \"InstaDeepAI/nucleotide-transformer-2.5b-multi-species\": \"NT\",\n",
    "    \"LongSafari/hyenadna-large-1m-seqlen-hf\": \"HyenaDNA\",\n",
    "    \n",
    "    \"multiz100way/89/256/128/True/defined.phastCons.percentile-75_0.05_0.001/medium/0.1/42/30000/True/True/True\": \"GPN-MSA-256\",\n",
    "}\n",
    "\n",
    "V = load_dataset(f\"../../{dataset_path}\", split=\"test\").to_pandas()\n",
    "d = Path(f\"../../results/preds/{dataset_path}\")\n",
    "\n",
    "for m in models:\n",
    "    model_name = model_renaming.get(m, m)\n",
    "    model_path = d / f\"{m}.parquet\"\n",
    "    V[model_name] = pd.read_parquet(model_path)[\"score\"].values\n",
    "models = [model_renaming.get(m, m) for m in models]\n",
    "V"
   ]
  },
  {
   "cell_type": "code",
   "execution_count": 4,
   "id": "7339912c-e432-4ea8-abbd-75ef0d5c54fa",
   "metadata": {
    "tags": []
   },
   "outputs": [
    {
     "data": {
      "text/plain": [
       "(7944, 12)"
      ]
     },
     "execution_count": 4,
     "metadata": {},
     "output_type": "execute_result"
    }
   ],
   "source": [
    "V.dropna(subset=models, inplace=True)\n",
    "V.shape"
   ]
  },
  {
   "cell_type": "code",
   "execution_count": 5,
   "id": "f6183501-08e2-4509-b533-43d2fbba7582",
   "metadata": {
    "tags": []
   },
   "outputs": [],
   "source": [
    "V[\"old_label\"] = V.label\n",
    "V.label = V.label != \"unchanged\""
   ]
  },
  {
   "cell_type": "code",
   "execution_count": 6,
   "id": "ee24b696-7484-41c4-9ecd-8bd96739397d",
   "metadata": {
    "tags": []
   },
   "outputs": [
    {
     "data": {
      "text/html": [
       "<div>\n",
       "<style scoped>\n",
       "    .dataframe tbody tr th:only-of-type {\n",
       "        vertical-align: middle;\n",
       "    }\n",
       "\n",
       "    .dataframe tbody tr th {\n",
       "        vertical-align: top;\n",
       "    }\n",
       "\n",
       "    .dataframe thead th {\n",
       "        text-align: right;\n",
       "    }\n",
       "</style>\n",
       "<table border=\"1\" class=\"dataframe\">\n",
       "  <thead>\n",
       "    <tr style=\"text-align: right;\">\n",
       "      <th></th>\n",
       "      <th>Model</th>\n",
       "      <th>AUROC</th>\n",
       "      <th>AUPRC</th>\n",
       "    </tr>\n",
       "  </thead>\n",
       "  <tbody>\n",
       "    <tr>\n",
       "      <th>0</th>\n",
       "      <td>CADD</td>\n",
       "      <td>0.848617</td>\n",
       "      <td>0.656515</td>\n",
       "    </tr>\n",
       "    <tr>\n",
       "      <th>4</th>\n",
       "      <td>GPN-MSA</td>\n",
       "      <td>0.800088</td>\n",
       "      <td>0.532442</td>\n",
       "    </tr>\n",
       "    <tr>\n",
       "      <th>1</th>\n",
       "      <td>phyloP-100-vertebrates</td>\n",
       "      <td>0.742329</td>\n",
       "      <td>0.426382</td>\n",
       "    </tr>\n",
       "    <tr>\n",
       "      <th>3</th>\n",
       "      <td>phyloP-241-mammals</td>\n",
       "      <td>0.690910</td>\n",
       "      <td>0.372401</td>\n",
       "    </tr>\n",
       "    <tr>\n",
       "      <th>2</th>\n",
       "      <td>phastCons-100-vertebrates</td>\n",
       "      <td>0.637770</td>\n",
       "      <td>0.297994</td>\n",
       "    </tr>\n",
       "  </tbody>\n",
       "</table>\n",
       "</div>"
      ],
      "text/plain": [
       "                       Model     AUROC     AUPRC\n",
       "0                       CADD  0.848617  0.656515\n",
       "4                    GPN-MSA  0.800088  0.532442\n",
       "1     phyloP-100-vertebrates  0.742329  0.426382\n",
       "3         phyloP-241-mammals  0.690910  0.372401\n",
       "2  phastCons-100-vertebrates  0.637770  0.297994"
      ]
     },
     "execution_count": 6,
     "metadata": {},
     "output_type": "execute_result"
    }
   ],
   "source": [
    "rows = []\n",
    "V_c = V.copy()\n",
    "for m in models:\n",
    "    AUROC = roc_auc_score(V_c.label, -V_c[m])\n",
    "    AUPRC = average_precision_score(V_c.label, -V_c[m])\n",
    "    rows.append([m, AUROC, AUPRC])\n",
    "results = pd.DataFrame(rows, columns=[\"Model\", \"AUROC\", \"AUPRC\"]).sort_values(\"AUPRC\", ascending=False)\n",
    "results"
   ]
  },
  {
   "cell_type": "code",
   "execution_count": 7,
   "id": "e1afc4a4-b684-402a-8965-e0c04ace5848",
   "metadata": {
    "tags": []
   },
   "outputs": [
    {
     "data": {
      "image/png": "[encoded data removed]",
      "text/plain": [
       "<Figure size 432x288 with 1 Axes>"
      ]
     },
     "metadata": {
      "needs_background": "light"
     },
     "output_type": "display_data"
    }
   ],
   "source": [
    "sns.pointplot(data=results, y=\"Model\", x=\"AUPRC\", join=False);"
   ]
  },
  {
   "cell_type": "code",
   "execution_count": 8,
   "id": "d146d9fd-b970-434f-9989-2bfa3f5f176f",
   "metadata": {
    "tags": []
   },
   "outputs": [
    {
     "data": {
      "text/plain": [
       "<Axes: xlabel='GPN-MSA', ylabel='Count'>"
      ]
     },
     "execution_count": 8,
     "metadata": {},
     "output_type": "execute_result"
    },
    {
     "data": {
      "image/png": "[encoded data removed]",
      "text/plain": [
       "<Figure size 432x288 with 1 Axes>"
      ]
     },
     "metadata": {
      "needs_background": "light"
     },
     "output_type": "display_data"
    }
   ],
   "source": [
    "sns.histplot(data=V, x=\"GPN-MSA\", hue=\"old_label\")"
   ]
  },
  {
   "cell_type": "code",
   "execution_count": 9,
   "id": "5d3f75ec-3d72-4984-9807-d428a0181c30",
   "metadata": {
    "tags": []
   },
   "outputs": [
    {
     "data": {
      "text/plain": [
       "<Axes: xlabel='CADD', ylabel='Count'>"
      ]
     },
     "execution_count": 9,
     "metadata": {},
     "output_type": "execute_result"
    },
    {
     "data": {
      "image/png": "[encoded data removed]",
      "text/plain": [
       "<Figure size 432x288 with 1 Axes>"
      ]
     },
     "metadata": {
      "needs_background": "light"
     },
     "output_type": "display_data"
    }
   ],
   "source": [
    "sns.histplot(data=V, x=\"CADD\", hue=\"old_label\")"
   ]
  }
 ],
 "metadata": {
  "kernelspec": {
   "display_name": "gpn",
   "language": "python",
   "name": "gpn"
  },
  "language_info": {
   "codemirror_mode": {
    "name": "ipython",
    "version": 3
   },
   "file_extension": ".py",
   "mimetype": "text/x-python",
   "name": "python",
   "nbconvert_exporter": "python",
   "pygments_lexer": "ipython3",
   "version": "3.11.3"
  }
 },
 "nbformat": 4,
 "nbformat_minor": 5
}
