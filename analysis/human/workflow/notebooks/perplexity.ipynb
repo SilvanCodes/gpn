{
 "cells": [
  {
   "cell_type": "code",
   "execution_count": 18,
   "id": "cede64f9-a405-4a22-a77b-fbd0c3a397e6",
   "metadata": {
    "tags": []
   },
   "outputs": [],
   "source": [
    "import warnings\n",
    "warnings.filterwarnings('ignore')\n",
    "import bioframe as bf\n",
    "from gpn.data import load_table, Genome\n",
    "import numpy as np\n",
    "import polars as pl\n",
    "from scipy.special import softmax\n",
    "from scipy.stats import entropy\n",
    "from tqdm import tqdm"
   ]
  },
  {
   "cell_type": "code",
   "execution_count": 2,
   "id": "822e0a2e-5f3d-4bab-98ef-e662b0718e68",
   "metadata": {
    "tags": []
   },
   "outputs": [],
   "source": [
    "NUCLEOTIDES = list(\"ACGT\")\n",
    "chrom = \"22\"\n",
    "model = \"multiz100way/89/128/64/True/defined.phastCons.percentile-75_0.05_0.001/medium/0.1/42/30000/True/True/True\""
   ]
  },
  {
   "cell_type": "code",
   "execution_count": 3,
   "id": "6680d8ce-9e3b-4ab3-9366-9d9fb1963c75",
   "metadata": {
    "tags": []
   },
   "outputs": [],
   "source": [
    "anc_path = \"../../results/ancestral/homo_sapiens_ancestor_GRCh38/homo_sapiens_ancestor_22.fa\""
   ]
  },
  {
   "cell_type": "code",
   "execution_count": 4,
   "id": "50fe989b-4f81-44f8-8e27-2ba2eb5a2bf3",
   "metadata": {
    "tags": []
   },
   "outputs": [
    {
     "data": {
      "text/plain": [
       "array([b'.', b'.', b'.', ..., b'.', b'.', b'.'], dtype='|S1')"
      ]
     },
     "execution_count": 4,
     "metadata": {},
     "output_type": "execute_result"
    }
   ],
   "source": [
    "anc_seq = Genome(anc_path)._genome[\"ANCESTOR_for_chromosome:GRCh38:22:1:50818468:1\"].upper()\n",
    "anc_seq = np.frombuffer(anc_seq.encode(\"ascii\"), dtype=\"S1\")\n",
    "anc_seq"
   ]
  },
  {
   "cell_type": "code",
   "execution_count": 5,
   "id": "2c961797-cb9c-4e7a-9f20-3933080232ea",
   "metadata": {
    "tags": []
   },
   "outputs": [],
   "source": [
    "# https://ftp.ensembl.org/pub/release-109/fasta/ancestral_alleles/"
   ]
  },
  {
   "cell_type": "code",
   "execution_count": 6,
   "id": "8aaf0475-ac2d-4354-a2ad-f20c8f7ccc28",
   "metadata": {
    "tags": []
   },
   "outputs": [
    {
     "data": {
      "text/html": [
       "<div>\n",
       "<style scoped>\n",
       "    .dataframe tbody tr th:only-of-type {\n",
       "        vertical-align: middle;\n",
       "    }\n",
       "\n",
       "    .dataframe tbody tr th {\n",
       "        vertical-align: top;\n",
       "    }\n",
       "\n",
       "    .dataframe thead th {\n",
       "        text-align: right;\n",
       "    }\n",
       "</style>\n",
       "<table border=\"1\" class=\"dataframe\">\n",
       "  <thead>\n",
       "    <tr style=\"text-align: right;\">\n",
       "      <th></th>\n",
       "      <th>chrom</th>\n",
       "      <th>start</th>\n",
       "      <th>end</th>\n",
       "      <th>feature</th>\n",
       "    </tr>\n",
       "  </thead>\n",
       "  <tbody>\n",
       "    <tr>\n",
       "      <th>3261452</th>\n",
       "      <td>22</td>\n",
       "      <td>11827522</td>\n",
       "      <td>11910358</td>\n",
       "      <td>gene</td>\n",
       "    </tr>\n",
       "    <tr>\n",
       "      <th>3261453</th>\n",
       "      <td>22</td>\n",
       "      <td>11827522</td>\n",
       "      <td>11910358</td>\n",
       "      <td>transcript</td>\n",
       "    </tr>\n",
       "    <tr>\n",
       "      <th>3261454</th>\n",
       "      <td>22</td>\n",
       "      <td>11827522</td>\n",
       "      <td>11827658</td>\n",
       "      <td>exon</td>\n",
       "    </tr>\n",
       "    <tr>\n",
       "      <th>3261455</th>\n",
       "      <td>22</td>\n",
       "      <td>11832760</td>\n",
       "      <td>11832915</td>\n",
       "      <td>exon</td>\n",
       "    </tr>\n",
       "    <tr>\n",
       "      <th>3261456</th>\n",
       "      <td>22</td>\n",
       "      <td>11867114</td>\n",
       "      <td>11867145</td>\n",
       "      <td>exon</td>\n",
       "    </tr>\n",
       "    <tr>\n",
       "      <th>...</th>\n",
       "      <td>...</td>\n",
       "      <td>...</td>\n",
       "      <td>...</td>\n",
       "      <td>...</td>\n",
       "    </tr>\n",
       "    <tr>\n",
       "      <th>3332625</th>\n",
       "      <td>22</td>\n",
       "      <td>27750775</td>\n",
       "      <td>27750914</td>\n",
       "      <td>three_prime_utr</td>\n",
       "    </tr>\n",
       "    <tr>\n",
       "      <th>3332626</th>\n",
       "      <td>22</td>\n",
       "      <td>27750063</td>\n",
       "      <td>27750228</td>\n",
       "      <td>three_prime_utr</td>\n",
       "    </tr>\n",
       "    <tr>\n",
       "      <th>3332627</th>\n",
       "      <td>22</td>\n",
       "      <td>27750677</td>\n",
       "      <td>27791883</td>\n",
       "      <td>transcript</td>\n",
       "    </tr>\n",
       "    <tr>\n",
       "      <th>3332628</th>\n",
       "      <td>22</td>\n",
       "      <td>27791746</td>\n",
       "      <td>27791883</td>\n",
       "      <td>exon</td>\n",
       "    </tr>\n",
       "    <tr>\n",
       "      <th>3332629</th>\n",
       "      <td>22</td>\n",
       "      <td>27750677</td>\n",
       "      <td>27751096</td>\n",
       "      <td>exon</td>\n",
       "    </tr>\n",
       "  </tbody>\n",
       "</table>\n",
       "<p>71178 rows × 4 columns</p>\n",
       "</div>"
      ],
      "text/plain": [
       "        chrom     start       end          feature\n",
       "3261452    22  11827522  11910358             gene\n",
       "3261453    22  11827522  11910358       transcript\n",
       "3261454    22  11827522  11827658             exon\n",
       "3261455    22  11832760  11832915             exon\n",
       "3261456    22  11867114  11867145             exon\n",
       "...       ...       ...       ...              ...\n",
       "3332625    22  27750775  27750914  three_prime_utr\n",
       "3332626    22  27750063  27750228  three_prime_utr\n",
       "3332627    22  27750677  27791883       transcript\n",
       "3332628    22  27791746  27791883             exon\n",
       "3332629    22  27750677  27751096             exon\n",
       "\n",
       "[71178 rows x 4 columns]"
      ]
     },
     "execution_count": 6,
     "metadata": {},
     "output_type": "execute_result"
    }
   ],
   "source": [
    "annotation = load_table(\"../../results/annotation.gtf.gz\")[[\"chrom\", \"start\", \"end\", \"feature\"]]\n",
    "annotation = annotation[annotation.chrom==chrom]\n",
    "annotation"
   ]
  },
  {
   "cell_type": "code",
   "execution_count": 7,
   "id": "537df376-d9f0-4647-b7c2-90ead2b84c48",
   "metadata": {
    "tags": []
   },
   "outputs": [],
   "source": [
    "annotation = annotation.replace({\n",
    "    \"five_prime_utr\": \"5' UTR\",\n",
    "    \"three_prime_utr\": \"3' UTR\",\n",
    "})"
   ]
  },
  {
   "cell_type": "code",
   "execution_count": 8,
   "id": "a8cfdfe3-9b58-4b61-8963-5f1cb1fd227c",
   "metadata": {
    "tags": []
   },
   "outputs": [
    {
     "data": {
      "text/plain": [
       "feature\n",
       "exon              34347\n",
       "CDS               18387\n",
       "transcript         5351\n",
       "3' UTR             4148\n",
       "5' UTR             3538\n",
       "start_codon        2098\n",
       "stop_codon         1885\n",
       "gene               1412\n",
       "Selenocysteine       12\n",
       "Name: count, dtype: int64"
      ]
     },
     "execution_count": 8,
     "metadata": {},
     "output_type": "execute_result"
    }
   ],
   "source": [
    "annotation.feature.value_counts()"
   ]
  },
  {
   "cell_type": "code",
   "execution_count": 9,
   "id": "674c4a5a-a74a-41d8-ac34-2fa4d6512ca5",
   "metadata": {
    "tags": []
   },
   "outputs": [],
   "source": [
    "features = [\n",
    "    \"CDS\",\n",
    "    \"5' UTR\",\n",
    "    \"3' UTR\",\n",
    "]\n",
    "\n",
    "feature_intervals = {\n",
    "    feature: bf.merge(annotation[annotation.feature==feature]).drop(columns=\"n_intervals\") \n",
    "    for feature in features\n",
    "}"
   ]
  },
  {
   "cell_type": "code",
   "execution_count": 10,
   "id": "a559271b-49a7-40e0-864e-568fd9331fbc",
   "metadata": {
    "tags": []
   },
   "outputs": [
    {
     "name": "stderr",
     "output_type": "stream",
     "text": [
      "100%|██████████| 3/3 [02:34<00:00, 51.43s/it]\n"
     ]
    },
    {
     "data": {
      "text/html": [
       "<div><style>\n",
       ".dataframe > thead > tr,\n",
       ".dataframe > tbody > tr {\n",
       "  text-align: right;\n",
       "  white-space: pre-wrap;\n",
       "}\n",
       "</style>\n",
       "<small>shape: (39_153_633, 17)</small><table border=\"1\" class=\"dataframe\"><thead><tr><th>chrom</th><th>pos</th><th>ref</th><th>A</th><th>C</th><th>G</th><th>T</th><th>anc</th><th>prob_ref</th><th>perplexity_ref</th><th>accuracy_ref</th><th>prob_anc</th><th>perplexity_anc</th><th>accuracy_anc</th><th>CDS</th><th>5&#x27; UTR</th><th>3&#x27; UTR</th></tr><tr><td>str</td><td>i64</td><td>str</td><td>f32</td><td>f32</td><td>f32</td><td>f32</td><td>str</td><td>f32</td><td>f32</td><td>f64</td><td>f32</td><td>f32</td><td>f64</td><td>bool</td><td>bool</td><td>bool</td></tr></thead><tbody><tr><td>&quot;22&quot;</td><td>10510065</td><td>&quot;A&quot;</td><td>0.677927</td><td>0.101803</td><td>0.118962</td><td>0.101308</td><td>&quot;.&quot;</td><td>0.677927</td><td>1.475085</td><td>1.0</td><td>null</td><td>null</td><td>null</td><td>false</td><td>false</td><td>false</td></tr><tr><td>&quot;22&quot;</td><td>10510066</td><td>&quot;A&quot;</td><td>0.678113</td><td>0.104195</td><td>0.11466</td><td>0.103032</td><td>&quot;.&quot;</td><td>0.678113</td><td>1.47468</td><td>1.0</td><td>null</td><td>null</td><td>null</td><td>false</td><td>false</td><td>false</td></tr><tr><td>&quot;22&quot;</td><td>10510067</td><td>&quot;T&quot;</td><td>0.107364</td><td>0.133747</td><td>0.101849</td><td>0.657041</td><td>&quot;.&quot;</td><td>0.657041</td><td>1.521976</td><td>1.0</td><td>null</td><td>null</td><td>null</td><td>false</td><td>false</td><td>false</td></tr><tr><td>&quot;22&quot;</td><td>10510068</td><td>&quot;A&quot;</td><td>0.680645</td><td>0.096985</td><td>0.123955</td><td>0.098416</td><td>&quot;.&quot;</td><td>0.680645</td><td>1.469195</td><td>1.0</td><td>null</td><td>null</td><td>null</td><td>false</td><td>false</td><td>false</td></tr><tr><td>&quot;22&quot;</td><td>10510069</td><td>&quot;T&quot;</td><td>0.120914</td><td>0.108757</td><td>0.121446</td><td>0.648883</td><td>&quot;.&quot;</td><td>0.648883</td><td>1.54111</td><td>1.0</td><td>null</td><td>null</td><td>null</td><td>false</td><td>false</td><td>false</td></tr><tr><td>&quot;22&quot;</td><td>10510070</td><td>&quot;G&quot;</td><td>0.541647</td><td>0.093849</td><td>0.229348</td><td>0.135156</td><td>&quot;.&quot;</td><td>0.229348</td><td>4.360189</td><td>0.0</td><td>null</td><td>null</td><td>null</td><td>false</td><td>false</td><td>false</td></tr><tr><td>&quot;22&quot;</td><td>10510071</td><td>&quot;T&quot;</td><td>0.11857</td><td>0.059215</td><td>0.754159</td><td>0.068056</td><td>&quot;.&quot;</td><td>0.068056</td><td>14.693797</td><td>0.0</td><td>null</td><td>null</td><td>null</td><td>false</td><td>false</td><td>false</td></tr><tr><td>&quot;22&quot;</td><td>10510072</td><td>&quot;A&quot;</td><td>0.721582</td><td>0.080565</td><td>0.113504</td><td>0.084349</td><td>&quot;.&quot;</td><td>0.721582</td><td>1.385843</td><td>1.0</td><td>null</td><td>null</td><td>null</td><td>false</td><td>false</td><td>false</td></tr><tr><td>&quot;22&quot;</td><td>10510073</td><td>&quot;T&quot;</td><td>0.084662</td><td>0.097041</td><td>0.083532</td><td>0.734765</td><td>&quot;.&quot;</td><td>0.734765</td><td>1.36098</td><td>1.0</td><td>null</td><td>null</td><td>null</td><td>false</td><td>false</td><td>false</td></tr><tr><td>&quot;22&quot;</td><td>10510074</td><td>&quot;T&quot;</td><td>0.069883</td><td>0.069918</td><td>0.068198</td><td>0.792001</td><td>&quot;.&quot;</td><td>0.792001</td><td>1.262625</td><td>1.0</td><td>null</td><td>null</td><td>null</td><td>false</td><td>false</td><td>false</td></tr><tr><td>&quot;22&quot;</td><td>10510075</td><td>&quot;T&quot;</td><td>0.060232</td><td>0.064699</td><td>0.060468</td><td>0.814601</td><td>&quot;.&quot;</td><td>0.814601</td><td>1.227594</td><td>1.0</td><td>null</td><td>null</td><td>null</td><td>false</td><td>false</td><td>false</td></tr><tr><td>&quot;22&quot;</td><td>10510076</td><td>&quot;T&quot;</td><td>0.07252</td><td>0.103374</td><td>0.072114</td><td>0.751993</td><td>&quot;.&quot;</td><td>0.751993</td><td>1.3298</td><td>1.0</td><td>null</td><td>null</td><td>null</td><td>false</td><td>false</td><td>false</td></tr><tr><td>&hellip;</td><td>&hellip;</td><td>&hellip;</td><td>&hellip;</td><td>&hellip;</td><td>&hellip;</td><td>&hellip;</td><td>&hellip;</td><td>&hellip;</td><td>&hellip;</td><td>&hellip;</td><td>&hellip;</td><td>&hellip;</td><td>&hellip;</td><td>&hellip;</td><td>&hellip;</td><td>&hellip;</td></tr><tr><td>&quot;22&quot;</td><td>50808393</td><td>&quot;G&quot;</td><td>0.210464</td><td>0.189768</td><td>0.296223</td><td>0.303544</td><td>&quot;.&quot;</td><td>0.296223</td><td>3.375831</td><td>0.0</td><td>null</td><td>null</td><td>null</td><td>false</td><td>false</td><td>false</td></tr><tr><td>&quot;22&quot;</td><td>50808394</td><td>&quot;T&quot;</td><td>0.226472</td><td>0.184121</td><td>0.305347</td><td>0.28406</td><td>&quot;.&quot;</td><td>0.28406</td><td>3.520386</td><td>0.0</td><td>null</td><td>null</td><td>null</td><td>false</td><td>false</td><td>false</td></tr><tr><td>&quot;22&quot;</td><td>50808395</td><td>&quot;T&quot;</td><td>0.172389</td><td>0.193255</td><td>0.375064</td><td>0.259292</td><td>&quot;.&quot;</td><td>0.259292</td><td>3.856652</td><td>0.0</td><td>null</td><td>null</td><td>null</td><td>false</td><td>false</td><td>false</td></tr><tr><td>&quot;22&quot;</td><td>50808396</td><td>&quot;A&quot;</td><td>0.174471</td><td>0.026939</td><td>0.454314</td><td>0.344276</td><td>&quot;.&quot;</td><td>0.174471</td><td>5.731622</td><td>0.0</td><td>null</td><td>null</td><td>null</td><td>false</td><td>false</td><td>false</td></tr><tr><td>&quot;22&quot;</td><td>50808397</td><td>&quot;G&quot;</td><td>0.238948</td><td>0.02679</td><td>0.440352</td><td>0.293911</td><td>&quot;.&quot;</td><td>0.440352</td><td>2.270912</td><td>1.0</td><td>null</td><td>null</td><td>null</td><td>false</td><td>false</td><td>false</td></tr><tr><td>&quot;22&quot;</td><td>50808398</td><td>&quot;G&quot;</td><td>0.26017</td><td>0.028469</td><td>0.428948</td><td>0.282412</td><td>&quot;.&quot;</td><td>0.428948</td><td>2.331283</td><td>1.0</td><td>null</td><td>null</td><td>null</td><td>false</td><td>false</td><td>false</td></tr><tr><td>&quot;22&quot;</td><td>50808399</td><td>&quot;G&quot;</td><td>0.210994</td><td>0.190245</td><td>0.292365</td><td>0.306396</td><td>&quot;.&quot;</td><td>0.292365</td><td>3.420385</td><td>0.0</td><td>null</td><td>null</td><td>null</td><td>false</td><td>false</td><td>false</td></tr><tr><td>&quot;22&quot;</td><td>50808400</td><td>&quot;T&quot;</td><td>0.228317</td><td>0.185802</td><td>0.298947</td><td>0.286934</td><td>&quot;.&quot;</td><td>0.286934</td><td>3.485125</td><td>0.0</td><td>null</td><td>null</td><td>null</td><td>false</td><td>false</td><td>false</td></tr><tr><td>&quot;22&quot;</td><td>50808401</td><td>&quot;T&quot;</td><td>0.17528</td><td>0.192695</td><td>0.368899</td><td>0.263126</td><td>&quot;.&quot;</td><td>0.263126</td><td>3.800462</td><td>0.0</td><td>null</td><td>null</td><td>null</td><td>false</td><td>false</td><td>false</td></tr><tr><td>&quot;22&quot;</td><td>50808402</td><td>&quot;A&quot;</td><td>0.180813</td><td>0.027119</td><td>0.444901</td><td>0.347167</td><td>&quot;.&quot;</td><td>0.180813</td><td>5.530585</td><td>0.0</td><td>null</td><td>null</td><td>null</td><td>false</td><td>false</td><td>false</td></tr><tr><td>&quot;22&quot;</td><td>50808403</td><td>&quot;G&quot;</td><td>0.244816</td><td>0.027058</td><td>0.430505</td><td>0.29762</td><td>&quot;.&quot;</td><td>0.430505</td><td>2.322852</td><td>1.0</td><td>null</td><td>null</td><td>null</td><td>false</td><td>false</td><td>false</td></tr><tr><td>&quot;22&quot;</td><td>50808404</td><td>&quot;G&quot;</td><td>0.265793</td><td>0.028445</td><td>0.420608</td><td>0.285154</td><td>&quot;.&quot;</td><td>0.420608</td><td>2.37751</td><td>1.0</td><td>null</td><td>null</td><td>null</td><td>false</td><td>false</td><td>false</td></tr></tbody></table></div>"
      ],
      "text/plain": [
       "shape: (39_153_633, 17)\n",
       "┌───────┬──────────┬─────┬──────────┬───┬──────────────┬───────┬────────┬────────┐\n",
       "│ chrom ┆ pos      ┆ ref ┆ A        ┆ … ┆ accuracy_anc ┆ CDS   ┆ 5' UTR ┆ 3' UTR │\n",
       "│ ---   ┆ ---      ┆ --- ┆ ---      ┆   ┆ ---          ┆ ---   ┆ ---    ┆ ---    │\n",
       "│ str   ┆ i64      ┆ str ┆ f32      ┆   ┆ f64          ┆ bool  ┆ bool   ┆ bool   │\n",
       "╞═══════╪══════════╪═════╪══════════╪═══╪══════════════╪═══════╪════════╪════════╡\n",
       "│ 22    ┆ 10510065 ┆ A   ┆ 0.677927 ┆ … ┆ null         ┆ false ┆ false  ┆ false  │\n",
       "│ 22    ┆ 10510066 ┆ A   ┆ 0.678113 ┆ … ┆ null         ┆ false ┆ false  ┆ false  │\n",
       "│ 22    ┆ 10510067 ┆ T   ┆ 0.107364 ┆ … ┆ null         ┆ false ┆ false  ┆ false  │\n",
       "│ 22    ┆ 10510068 ┆ A   ┆ 0.680645 ┆ … ┆ null         ┆ false ┆ false  ┆ false  │\n",
       "│ 22    ┆ 10510069 ┆ T   ┆ 0.120914 ┆ … ┆ null         ┆ false ┆ false  ┆ false  │\n",
       "│ …     ┆ …        ┆ …   ┆ …        ┆ … ┆ …            ┆ …     ┆ …      ┆ …      │\n",
       "│ 22    ┆ 50808400 ┆ T   ┆ 0.228317 ┆ … ┆ null         ┆ false ┆ false  ┆ false  │\n",
       "│ 22    ┆ 50808401 ┆ T   ┆ 0.17528  ┆ … ┆ null         ┆ false ┆ false  ┆ false  │\n",
       "│ 22    ┆ 50808402 ┆ A   ┆ 0.180813 ┆ … ┆ null         ┆ false ┆ false  ┆ false  │\n",
       "│ 22    ┆ 50808403 ┆ G   ┆ 0.244816 ┆ … ┆ null         ┆ false ┆ false  ┆ false  │\n",
       "│ 22    ┆ 50808404 ┆ G   ┆ 0.265793 ┆ … ┆ null         ┆ false ┆ false  ┆ false  │\n",
       "└───────┴──────────┴─────┴──────────┴───┴──────────────┴───────┴────────┴────────┘"
      ]
     },
     "execution_count": 10,
     "metadata": {},
     "output_type": "execute_result"
    }
   ],
   "source": [
    "path = f\"../../results/positions/{chrom}/processed_logits/{model}.parquet\"\n",
    "V = (\n",
    "    pl.read_parquet(path)\n",
    ")\n",
    "V = V.with_columns(anc=anc_seq[V[\"pos\"]-1])\n",
    "V = V.with_columns(anc=pl.col(\"anc\").cast(str))\n",
    "V = V.with_columns(\n",
    "    pl.DataFrame(softmax(V.select(NUCLEOTIDES), axis=1), schema=NUCLEOTIDES)\n",
    ")\n",
    "for c in [\"ref\", \"anc\"]:\n",
    "    V = (\n",
    "        V.with_columns(\n",
    "            pl.when(pl.col(c) == \"A\").then(pl.col(\"A\"))\n",
    "            .when(pl.col(c) == \"C\").then(pl.col(\"C\"))\n",
    "            .when(pl.col(c) == \"G\").then(pl.col(\"G\"))\n",
    "            .when(pl.col(c) == \"T\").then(pl.col(\"T\"))\n",
    "            .alias(f\"prob_{c}\")\n",
    "        )\n",
    "        .with_columns(\n",
    "            (1 / pl.col(f\"prob_{c}\")).alias(f\"perplexity_{c}\"),\n",
    "            (pl.col(f\"prob_{c}\") == pl.max_horizontal(NUCLEOTIDES))\n",
    "            .alias(f\"accuracy_{c}\").cast(float)\n",
    "        )\n",
    "    )\n",
    "intervals = (\n",
    "    V.with_columns(\n",
    "        (pl.col(\"pos\") - 1).alias(\"start\"),\n",
    "        pl.col(\"pos\").alias(\"end\")\n",
    "    )\n",
    "    .select([\"chrom\", \"start\", \"end\"])\n",
    "    .to_pandas()\n",
    ")\n",
    "for f, x in tqdm(feature_intervals.items()):\n",
    "    V = V.with_columns(\n",
    "        pl.from_pandas(bf.count_overlaps(intervals, x)[\"count\"] > 0)\n",
    "        .alias(f)\n",
    "    )\n",
    "V"
   ]
  },
  {
   "cell_type": "code",
   "execution_count": 11,
   "id": "de0f1fdc-93f5-4009-803d-bc33f34b673e",
   "metadata": {
    "tags": []
   },
   "outputs": [
    {
     "data": {
      "text/html": [
       "<div><style>\n",
       ".dataframe > thead > tr,\n",
       ".dataframe > tbody > tr {\n",
       "  text-align: right;\n",
       "  white-space: pre-wrap;\n",
       "}\n",
       "</style>\n",
       "<small>shape: (4, 2)</small><table border=\"1\" class=\"dataframe\"><thead><tr><th>Region</th><th>count</th></tr><tr><td>str</td><td>u32</td></tr></thead><tbody><tr><td>&quot;Non-exonic&quot;</td><td>37423927</td></tr><tr><td>&quot;3&#x27; UTR&quot;</td><td>785066</td></tr><tr><td>&quot;5&#x27; UTR&quot;</td><td>189036</td></tr><tr><td>&quot;CDS&quot;</td><td>755604</td></tr></tbody></table></div>"
      ],
      "text/plain": [
       "shape: (4, 2)\n",
       "┌────────────┬──────────┐\n",
       "│ Region     ┆ count    │\n",
       "│ ---        ┆ ---      │\n",
       "│ str        ┆ u32      │\n",
       "╞════════════╪══════════╡\n",
       "│ Non-exonic ┆ 37423927 │\n",
       "│ 3' UTR     ┆ 785066   │\n",
       "│ 5' UTR     ┆ 189036   │\n",
       "│ CDS        ┆ 755604   │\n",
       "└────────────┴──────────┘"
      ]
     },
     "execution_count": 11,
     "metadata": {},
     "output_type": "execute_result"
    }
   ],
   "source": [
    "V = V.with_columns(\n",
    "    pl.when(pl.col(\"CDS\")).then(pl.lit(\"CDS\"))\n",
    "    .when(pl.col(\"5' UTR\")).then(pl.lit(\"5' UTR\"))\n",
    "    .when(pl.col(\"3' UTR\")).then(pl.lit(\"3' UTR\"))\n",
    "    .otherwise(pl.lit(\"Non-exonic\"))\n",
    "    .alias(\"Region\")\n",
    ")\n",
    "V[\"Region\"].value_counts()"
   ]
  },
  {
   "cell_type": "code",
   "execution_count": 12,
   "id": "aa4a6d78-3bda-439b-8fd4-1c4c3ac35420",
   "metadata": {
    "tags": []
   },
   "outputs": [
    {
     "data": {
      "text/html": [
       "<div><style>\n",
       ".dataframe > thead > tr,\n",
       ".dataframe > tbody > tr {\n",
       "  text-align: right;\n",
       "  white-space: pre-wrap;\n",
       "}\n",
       "</style>\n",
       "<small>shape: (4, 3)</small><table border=\"1\" class=\"dataframe\"><thead><tr><th>Region</th><th>Accuracy</th><th>Median perplexity</th></tr><tr><td>str</td><td>f64</td><td>f32</td></tr></thead><tbody><tr><td>&quot;CDS&quot;</td><td>0.915296</td><td>1.032106</td></tr><tr><td>&quot;5&#x27; UTR&quot;</td><td>0.836999</td><td>1.645802</td></tr><tr><td>&quot;3&#x27; UTR&quot;</td><td>0.821391</td><td>1.687933</td></tr><tr><td>&quot;Non-exonic&quot;</td><td>0.690292</td><td>1.977608</td></tr></tbody></table></div>"
      ],
      "text/plain": [
       "shape: (4, 3)\n",
       "┌────────────┬──────────┬───────────────────┐\n",
       "│ Region     ┆ Accuracy ┆ Median perplexity │\n",
       "│ ---        ┆ ---      ┆ ---               │\n",
       "│ str        ┆ f64      ┆ f32               │\n",
       "╞════════════╪══════════╪═══════════════════╡\n",
       "│ CDS        ┆ 0.915296 ┆ 1.032106          │\n",
       "│ 5' UTR     ┆ 0.836999 ┆ 1.645802          │\n",
       "│ 3' UTR     ┆ 0.821391 ┆ 1.687933          │\n",
       "│ Non-exonic ┆ 0.690292 ┆ 1.977608          │\n",
       "└────────────┴──────────┴───────────────────┘"
      ]
     },
     "execution_count": 12,
     "metadata": {},
     "output_type": "execute_result"
    }
   ],
   "source": [
    "df1 = V.group_by(\"Region\").agg(\n",
    "    #pl.mean(\"perplexity_ref\").alias(\"mean perplexity\"),\n",
    "    pl.mean(\"accuracy_ref\").alias(\"Accuracy\"),\n",
    "    pl.median(\"perplexity_ref\").alias(\"Median perplexity\"),\n",
    ").sort(\"Accuracy\", descending=True)\n",
    "df1"
   ]
  },
  {
   "cell_type": "code",
   "execution_count": 13,
   "id": "309cd241-037c-4386-84bb-2a9c2a6d97d2",
   "metadata": {
    "tags": []
   },
   "outputs": [
    {
     "name": "stdout",
     "output_type": "stream",
     "text": [
      "\\begin{tabular}{lrr}\n",
      "\\toprule\n",
      "Region & Accuracy & Median perplexity \\\\\n",
      "\\midrule\n",
      "CDS & 0.915 & 1.032 \\\\\n",
      "5' UTR & 0.837 & 1.646 \\\\\n",
      "3' UTR & 0.821 & 1.688 \\\\\n",
      "Non-exonic & 0.690 & 1.978 \\\\\n",
      "\\bottomrule\n",
      "\\end{tabular}\n",
      "\n"
     ]
    }
   ],
   "source": [
    "print(df1.to_pandas().to_latex(index=False, escape=\"latex\", float_format=\"%.3f\"))"
   ]
  },
  {
   "cell_type": "code",
   "execution_count": 14,
   "id": "00ec23df-b465-4897-96e6-cd709ac40e44",
   "metadata": {
    "tags": []
   },
   "outputs": [
    {
     "data": {
      "text/plain": [
       "245242"
      ]
     },
     "execution_count": 14,
     "metadata": {},
     "output_type": "execute_result"
    }
   ],
   "source": [
    "V_diff = V.filter(\n",
    "    pl.col(\"anc\").is_in(NUCLEOTIDES),\n",
    "    pl.col(\"ref\") != pl.col(\"anc\"),\n",
    ")\n",
    "len(V_diff)"
   ]
  },
  {
   "cell_type": "code",
   "execution_count": 15,
   "id": "ad5421b1-06f8-4540-81c3-1a48eedc1a62",
   "metadata": {
    "tags": []
   },
   "outputs": [
    {
     "data": {
      "text/html": [
       "<div><style>\n",
       ".dataframe > thead > tr,\n",
       ".dataframe > tbody > tr {\n",
       "  text-align: right;\n",
       "  white-space: pre-wrap;\n",
       "}\n",
       "</style>\n",
       "<small>shape: (4, 3)</small><table border=\"1\" class=\"dataframe\"><thead><tr><th>Region</th><th>Accuracy predicting reference</th><th>Accuracy predicting ancestral</th></tr><tr><td>str</td><td>f64</td><td>f64</td></tr></thead><tbody><tr><td>&quot;CDS&quot;</td><td>0.227335</td><td>0.679959</td></tr><tr><td>&quot;5&#x27; UTR&quot;</td><td>0.177312</td><td>0.678742</td></tr><tr><td>&quot;3&#x27; UTR&quot;</td><td>0.245011</td><td>0.60324</td></tr><tr><td>&quot;Non-exonic&quot;</td><td>0.268406</td><td>0.515225</td></tr></tbody></table></div>"
      ],
      "text/plain": [
       "shape: (4, 3)\n",
       "┌────────────┬───────────────────────────────┬───────────────────────────────┐\n",
       "│ Region     ┆ Accuracy predicting reference ┆ Accuracy predicting ancestral │\n",
       "│ ---        ┆ ---                           ┆ ---                           │\n",
       "│ str        ┆ f64                           ┆ f64                           │\n",
       "╞════════════╪═══════════════════════════════╪═══════════════════════════════╡\n",
       "│ CDS        ┆ 0.227335                      ┆ 0.679959                      │\n",
       "│ 5' UTR     ┆ 0.177312                      ┆ 0.678742                      │\n",
       "│ 3' UTR     ┆ 0.245011                      ┆ 0.60324                       │\n",
       "│ Non-exonic ┆ 0.268406                      ┆ 0.515225                      │\n",
       "└────────────┴───────────────────────────────┴───────────────────────────────┘"
      ]
     },
     "execution_count": 15,
     "metadata": {},
     "output_type": "execute_result"
    }
   ],
   "source": [
    "df2 = V_diff.group_by(\"Region\").agg(\n",
    "    pl.mean(\"accuracy_ref\").alias(\"Accuracy predicting reference\"),\n",
    "    pl.mean(\"accuracy_anc\").alias(\"Accuracy predicting ancestral\"),\n",
    ").sort(\"Accuracy predicting ancestral\", descending=True)\n",
    "df2"
   ]
  },
  {
   "cell_type": "code",
   "execution_count": 16,
   "id": "0ddae6b0-93c1-40ba-9803-09e88d14dc90",
   "metadata": {
    "tags": []
   },
   "outputs": [
    {
     "name": "stdout",
     "output_type": "stream",
     "text": [
      "\\begin{tabular}{lrr}\n",
      "\\toprule\n",
      "Region & Accuracy predicting reference & Accuracy predicting ancestral \\\\\n",
      "\\midrule\n",
      "CDS & 0.227 & 0.680 \\\\\n",
      "5' UTR & 0.177 & 0.679 \\\\\n",
      "3' UTR & 0.245 & 0.603 \\\\\n",
      "Non-exonic & 0.268 & 0.515 \\\\\n",
      "\\bottomrule\n",
      "\\end{tabular}\n",
      "\n"
     ]
    }
   ],
   "source": [
    "print(df2.to_pandas().to_latex(index=False, escape=\"latex\", float_format=\"%.3f\"))"
   ]
  },
  {
   "cell_type": "code",
   "execution_count": 19,
   "id": "da3dd821-e5c6-499d-8a6c-d393634da744",
   "metadata": {},
   "outputs": [
    {
     "data": {
      "text/html": [
       "<div><style>\n",
       ".dataframe > thead > tr,\n",
       ".dataframe > tbody > tr {\n",
       "  text-align: right;\n",
       "  white-space: pre-wrap;\n",
       "}\n",
       "</style>\n",
       "<small>shape: (39_153_633, 19)</small><table border=\"1\" class=\"dataframe\"><thead><tr><th>chrom</th><th>pos</th><th>ref</th><th>A</th><th>C</th><th>G</th><th>T</th><th>anc</th><th>prob_ref</th><th>perplexity_ref</th><th>accuracy_ref</th><th>prob_anc</th><th>perplexity_anc</th><th>accuracy_anc</th><th>CDS</th><th>5&#x27; UTR</th><th>3&#x27; UTR</th><th>Region</th><th>entropy</th></tr><tr><td>str</td><td>i64</td><td>str</td><td>f32</td><td>f32</td><td>f32</td><td>f32</td><td>str</td><td>f32</td><td>f32</td><td>f64</td><td>f32</td><td>f32</td><td>f64</td><td>bool</td><td>bool</td><td>bool</td><td>str</td><td>f32</td></tr></thead><tbody><tr><td>&quot;22&quot;</td><td>10510065</td><td>&quot;A&quot;</td><td>0.677927</td><td>0.101803</td><td>0.118962</td><td>0.101308</td><td>&quot;.&quot;</td><td>0.677927</td><td>1.475085</td><td>1.0</td><td>null</td><td>null</td><td>null</td><td>false</td><td>false</td><td>false</td><td>&quot;Non-exonic&quot;</td><td>1.41576</td></tr><tr><td>&quot;22&quot;</td><td>10510066</td><td>&quot;A&quot;</td><td>0.678113</td><td>0.104195</td><td>0.11466</td><td>0.103032</td><td>&quot;.&quot;</td><td>0.678113</td><td>1.47468</td><td>1.0</td><td>null</td><td>null</td><td>null</td><td>false</td><td>false</td><td>false</td><td>&quot;Non-exonic&quot;</td><td>1.416055</td></tr><tr><td>&quot;22&quot;</td><td>10510067</td><td>&quot;T&quot;</td><td>0.107364</td><td>0.133747</td><td>0.101849</td><td>0.657041</td><td>&quot;.&quot;</td><td>0.657041</td><td>1.521976</td><td>1.0</td><td>null</td><td>null</td><td>null</td><td>false</td><td>false</td><td>false</td><td>&quot;Non-exonic&quot;</td><td>1.467612</td></tr><tr><td>&quot;22&quot;</td><td>10510068</td><td>&quot;A&quot;</td><td>0.680645</td><td>0.096985</td><td>0.123955</td><td>0.098416</td><td>&quot;.&quot;</td><td>0.680645</td><td>1.469195</td><td>1.0</td><td>null</td><td>null</td><td>null</td><td>false</td><td>false</td><td>false</td><td>&quot;Non-exonic&quot;</td><td>1.406799</td></tr><tr><td>&quot;22&quot;</td><td>10510069</td><td>&quot;T&quot;</td><td>0.120914</td><td>0.108757</td><td>0.121446</td><td>0.648883</td><td>&quot;.&quot;</td><td>0.648883</td><td>1.54111</td><td>1.0</td><td>null</td><td>null</td><td>null</td><td>false</td><td>false</td><td>false</td><td>&quot;Non-exonic&quot;</td><td>1.490927</td></tr><tr><td>&quot;22&quot;</td><td>10510070</td><td>&quot;G&quot;</td><td>0.541647</td><td>0.093849</td><td>0.229348</td><td>0.135156</td><td>&quot;.&quot;</td><td>0.229348</td><td>4.360189</td><td>0.0</td><td>null</td><td>null</td><td>null</td><td>false</td><td>false</td><td>false</td><td>&quot;Non-exonic&quot;</td><td>1.676943</td></tr><tr><td>&quot;22&quot;</td><td>10510071</td><td>&quot;T&quot;</td><td>0.11857</td><td>0.059215</td><td>0.754159</td><td>0.068056</td><td>&quot;.&quot;</td><td>0.068056</td><td>14.693797</td><td>0.0</td><td>null</td><td>null</td><td>null</td><td>false</td><td>false</td><td>false</td><td>&quot;Non-exonic&quot;</td><td>1.177065</td></tr><tr><td>&quot;22&quot;</td><td>10510072</td><td>&quot;A&quot;</td><td>0.721582</td><td>0.080565</td><td>0.113504</td><td>0.084349</td><td>&quot;.&quot;</td><td>0.721582</td><td>1.385843</td><td>1.0</td><td>null</td><td>null</td><td>null</td><td>false</td><td>false</td><td>false</td><td>&quot;Non-exonic&quot;</td><td>1.289668</td></tr><tr><td>&quot;22&quot;</td><td>10510073</td><td>&quot;T&quot;</td><td>0.084662</td><td>0.097041</td><td>0.083532</td><td>0.734765</td><td>&quot;.&quot;</td><td>0.734765</td><td>1.36098</td><td>1.0</td><td>null</td><td>null</td><td>null</td><td>false</td><td>false</td><td>false</td><td>&quot;Non-exonic&quot;</td><td>1.254029</td></tr><tr><td>&quot;22&quot;</td><td>10510074</td><td>&quot;T&quot;</td><td>0.069883</td><td>0.069918</td><td>0.068198</td><td>0.792001</td><td>&quot;.&quot;</td><td>0.792001</td><td>1.262625</td><td>1.0</td><td>null</td><td>null</td><td>null</td><td>false</td><td>false</td><td>false</td><td>&quot;Non-exonic&quot;</td><td>1.067291</td></tr><tr><td>&quot;22&quot;</td><td>10510075</td><td>&quot;T&quot;</td><td>0.060232</td><td>0.064699</td><td>0.060468</td><td>0.814601</td><td>&quot;.&quot;</td><td>0.814601</td><td>1.227594</td><td>1.0</td><td>null</td><td>null</td><td>null</td><td>false</td><td>false</td><td>false</td><td>&quot;Non-exonic&quot;</td><td>0.98545</td></tr><tr><td>&quot;22&quot;</td><td>10510076</td><td>&quot;T&quot;</td><td>0.07252</td><td>0.103374</td><td>0.072114</td><td>0.751993</td><td>&quot;.&quot;</td><td>0.751993</td><td>1.3298</td><td>1.0</td><td>null</td><td>null</td><td>null</td><td>false</td><td>false</td><td>false</td><td>&quot;Non-exonic&quot;</td><td>1.19577</td></tr><tr><td>&hellip;</td><td>&hellip;</td><td>&hellip;</td><td>&hellip;</td><td>&hellip;</td><td>&hellip;</td><td>&hellip;</td><td>&hellip;</td><td>&hellip;</td><td>&hellip;</td><td>&hellip;</td><td>&hellip;</td><td>&hellip;</td><td>&hellip;</td><td>&hellip;</td><td>&hellip;</td><td>&hellip;</td><td>&hellip;</td><td>&hellip;</td></tr><tr><td>&quot;22&quot;</td><td>50808393</td><td>&quot;G&quot;</td><td>0.210464</td><td>0.189768</td><td>0.296223</td><td>0.303544</td><td>&quot;.&quot;</td><td>0.296223</td><td>3.375831</td><td>0.0</td><td>null</td><td>null</td><td>null</td><td>false</td><td>false</td><td>false</td><td>&quot;Non-exonic&quot;</td><td>1.970249</td></tr><tr><td>&quot;22&quot;</td><td>50808394</td><td>&quot;T&quot;</td><td>0.226472</td><td>0.184121</td><td>0.305347</td><td>0.28406</td><td>&quot;.&quot;</td><td>0.28406</td><td>3.520386</td><td>0.0</td><td>null</td><td>null</td><td>null</td><td>false</td><td>false</td><td>false</td><td>&quot;Non-exonic&quot;</td><td>1.973099</td></tr><tr><td>&quot;22&quot;</td><td>50808395</td><td>&quot;T&quot;</td><td>0.172389</td><td>0.193255</td><td>0.375064</td><td>0.259292</td><td>&quot;.&quot;</td><td>0.259292</td><td>3.856652</td><td>0.0</td><td>null</td><td>null</td><td>null</td><td>false</td><td>false</td><td>false</td><td>&quot;Non-exonic&quot;</td><td>1.931082</td></tr><tr><td>&quot;22&quot;</td><td>50808396</td><td>&quot;A&quot;</td><td>0.174471</td><td>0.026939</td><td>0.454314</td><td>0.344276</td><td>&quot;.&quot;</td><td>0.174471</td><td>5.731622</td><td>0.0</td><td>null</td><td>null</td><td>null</td><td>false</td><td>false</td><td>false</td><td>&quot;Non-exonic&quot;</td><td>1.626687</td></tr><tr><td>&quot;22&quot;</td><td>50808397</td><td>&quot;G&quot;</td><td>0.238948</td><td>0.02679</td><td>0.440352</td><td>0.293911</td><td>&quot;.&quot;</td><td>0.440352</td><td>2.270912</td><td>1.0</td><td>null</td><td>null</td><td>null</td><td>false</td><td>false</td><td>false</td><td>&quot;Non-exonic&quot;</td><td>1.673647</td></tr><tr><td>&quot;22&quot;</td><td>50808398</td><td>&quot;G&quot;</td><td>0.26017</td><td>0.028469</td><td>0.428948</td><td>0.282412</td><td>&quot;.&quot;</td><td>0.428948</td><td>2.331283</td><td>1.0</td><td>null</td><td>null</td><td>null</td><td>false</td><td>false</td><td>false</td><td>&quot;Non-exonic&quot;</td><td>1.690501</td></tr><tr><td>&quot;22&quot;</td><td>50808399</td><td>&quot;G&quot;</td><td>0.210994</td><td>0.190245</td><td>0.292365</td><td>0.306396</td><td>&quot;.&quot;</td><td>0.292365</td><td>3.420385</td><td>0.0</td><td>null</td><td>null</td><td>null</td><td>false</td><td>false</td><td>false</td><td>&quot;Non-exonic&quot;</td><td>1.970659</td></tr><tr><td>&quot;22&quot;</td><td>50808400</td><td>&quot;T&quot;</td><td>0.228317</td><td>0.185802</td><td>0.298947</td><td>0.286934</td><td>&quot;.&quot;</td><td>0.286934</td><td>3.485125</td><td>0.0</td><td>null</td><td>null</td><td>null</td><td>false</td><td>false</td><td>false</td><td>&quot;Non-exonic&quot;</td><td>1.975281</td></tr><tr><td>&quot;22&quot;</td><td>50808401</td><td>&quot;T&quot;</td><td>0.17528</td><td>0.192695</td><td>0.368899</td><td>0.263126</td><td>&quot;.&quot;</td><td>0.263126</td><td>3.800462</td><td>0.0</td><td>null</td><td>null</td><td>null</td><td>false</td><td>false</td><td>false</td><td>&quot;Non-exonic&quot;</td><td>1.93568</td></tr><tr><td>&quot;22&quot;</td><td>50808402</td><td>&quot;A&quot;</td><td>0.180813</td><td>0.027119</td><td>0.444901</td><td>0.347167</td><td>&quot;.&quot;</td><td>0.180813</td><td>5.530585</td><td>0.0</td><td>null</td><td>null</td><td>null</td><td>false</td><td>false</td><td>false</td><td>&quot;Non-exonic&quot;</td><td>1.637008</td></tr><tr><td>&quot;22&quot;</td><td>50808403</td><td>&quot;G&quot;</td><td>0.244816</td><td>0.027058</td><td>0.430505</td><td>0.29762</td><td>&quot;.&quot;</td><td>0.430505</td><td>2.322852</td><td>1.0</td><td>null</td><td>null</td><td>null</td><td>false</td><td>false</td><td>false</td><td>&quot;Non-exonic&quot;</td><td>1.681772</td></tr><tr><td>&quot;22&quot;</td><td>50808404</td><td>&quot;G&quot;</td><td>0.265793</td><td>0.028445</td><td>0.420608</td><td>0.285154</td><td>&quot;.&quot;</td><td>0.420608</td><td>2.37751</td><td>1.0</td><td>null</td><td>null</td><td>null</td><td>false</td><td>false</td><td>false</td><td>&quot;Non-exonic&quot;</td><td>1.695893</td></tr></tbody></table></div>"
      ],
      "text/plain": [
       "shape: (39_153_633, 19)\n",
       "┌───────┬──────────┬─────┬──────────┬───┬────────┬────────┬────────────┬──────────┐\n",
       "│ chrom ┆ pos      ┆ ref ┆ A        ┆ … ┆ 5' UTR ┆ 3' UTR ┆ Region     ┆ entropy  │\n",
       "│ ---   ┆ ---      ┆ --- ┆ ---      ┆   ┆ ---    ┆ ---    ┆ ---        ┆ ---      │\n",
       "│ str   ┆ i64      ┆ str ┆ f32      ┆   ┆ bool   ┆ bool   ┆ str        ┆ f32      │\n",
       "╞═══════╪══════════╪═════╪══════════╪═══╪════════╪════════╪════════════╪══════════╡\n",
       "│ 22    ┆ 10510065 ┆ A   ┆ 0.677927 ┆ … ┆ false  ┆ false  ┆ Non-exonic ┆ 1.41576  │\n",
       "│ 22    ┆ 10510066 ┆ A   ┆ 0.678113 ┆ … ┆ false  ┆ false  ┆ Non-exonic ┆ 1.416055 │\n",
       "│ 22    ┆ 10510067 ┆ T   ┆ 0.107364 ┆ … ┆ false  ┆ false  ┆ Non-exonic ┆ 1.467612 │\n",
       "│ 22    ┆ 10510068 ┆ A   ┆ 0.680645 ┆ … ┆ false  ┆ false  ┆ Non-exonic ┆ 1.406799 │\n",
       "│ 22    ┆ 10510069 ┆ T   ┆ 0.120914 ┆ … ┆ false  ┆ false  ┆ Non-exonic ┆ 1.490927 │\n",
       "│ …     ┆ …        ┆ …   ┆ …        ┆ … ┆ …      ┆ …      ┆ …          ┆ …        │\n",
       "│ 22    ┆ 50808400 ┆ T   ┆ 0.228317 ┆ … ┆ false  ┆ false  ┆ Non-exonic ┆ 1.975281 │\n",
       "│ 22    ┆ 50808401 ┆ T   ┆ 0.17528  ┆ … ┆ false  ┆ false  ┆ Non-exonic ┆ 1.93568  │\n",
       "│ 22    ┆ 50808402 ┆ A   ┆ 0.180813 ┆ … ┆ false  ┆ false  ┆ Non-exonic ┆ 1.637008 │\n",
       "│ 22    ┆ 50808403 ┆ G   ┆ 0.244816 ┆ … ┆ false  ┆ false  ┆ Non-exonic ┆ 1.681772 │\n",
       "│ 22    ┆ 50808404 ┆ G   ┆ 0.265793 ┆ … ┆ false  ┆ false  ┆ Non-exonic ┆ 1.695893 │\n",
       "└───────┴──────────┴─────┴──────────┴───┴────────┴────────┴────────────┴──────────┘"
      ]
     },
     "execution_count": 19,
     "metadata": {},
     "output_type": "execute_result"
    }
   ],
   "source": [
    "V = V.with_columns(\n",
    "    entropy=entropy(V.select(NUCLEOTIDES), base=2, axis=1)\n",
    ")\n",
    "V"
   ]
  },
  {
   "cell_type": "code",
   "execution_count": 28,
   "id": "941ef70f-aa05-48d7-a37a-a396894dc841",
   "metadata": {
    "tags": []
   },
   "outputs": [
    {
     "data": {
      "text/html": [
       "<div><style>\n",
       ".dataframe > thead > tr,\n",
       ".dataframe > tbody > tr {\n",
       "  text-align: right;\n",
       "  white-space: pre-wrap;\n",
       "}\n",
       "</style>\n",
       "<small>shape: (2, 2)</small><table border=\"1\" class=\"dataframe\"><thead><tr><th>Ref-Anc match</th><th>mean entropy</th></tr><tr><td>bool</td><td>f32</td></tr></thead><tbody><tr><td>false</td><td>1.608392</td></tr><tr><td>true</td><td>1.498389</td></tr></tbody></table></div>"
      ],
      "text/plain": [
       "shape: (2, 2)\n",
       "┌───────────────┬──────────────┐\n",
       "│ Ref-Anc match ┆ mean entropy │\n",
       "│ ---           ┆ ---          │\n",
       "│ bool          ┆ f32          │\n",
       "╞═══════════════╪══════════════╡\n",
       "│ false         ┆ 1.608392     │\n",
       "│ true          ┆ 1.498389     │\n",
       "└───────────────┴──────────────┘"
      ]
     },
     "execution_count": 28,
     "metadata": {},
     "output_type": "execute_result"
    }
   ],
   "source": [
    "(\n",
    "    V.filter(pl.col(\"anc\").is_in(NUCLEOTIDES))\n",
    "    .with_columns((pl.col(\"ref\") == pl.col(\"anc\")).alias(\"Ref-Anc match\"))\n",
    "    .group_by(\"Ref-Anc match\")\n",
    "    .agg(\n",
    "        pl.mean(\"entropy\").alias(\"mean entropy\"),\n",
    "    )\n",
    ")"
   ]
  },
  {
   "cell_type": "code",
   "execution_count": null,
   "id": "553061b8-616d-4213-988b-89ff1b6d2b79",
   "metadata": {},
   "outputs": [],
   "source": [
    "# ecdfplot might be better?"
   ]
  },
  {
   "cell_type": "code",
   "execution_count": 21,
   "id": "2e7880fa-8751-4396-9e2e-3a75dc067cb2",
   "metadata": {
    "tags": []
   },
   "outputs": [
    {
     "data": {
      "text/html": [
       "<div>\n",
       "<style scoped>\n",
       "    .dataframe tbody tr th:only-of-type {\n",
       "        vertical-align: middle;\n",
       "    }\n",
       "\n",
       "    .dataframe tbody tr th {\n",
       "        vertical-align: top;\n",
       "    }\n",
       "\n",
       "    .dataframe thead th {\n",
       "        text-align: right;\n",
       "    }\n",
       "</style>\n",
       "<table border=\"1\" class=\"dataframe\">\n",
       "  <thead>\n",
       "    <tr style=\"text-align: right;\">\n",
       "      <th></th>\n",
       "      <th>Ref-Anc match</th>\n",
       "      <th>entropy</th>\n",
       "    </tr>\n",
       "  </thead>\n",
       "  <tbody>\n",
       "    <tr>\n",
       "      <th>0</th>\n",
       "      <td>True</td>\n",
       "      <td>0.191883</td>\n",
       "    </tr>\n",
       "    <tr>\n",
       "      <th>1</th>\n",
       "      <td>True</td>\n",
       "      <td>0.301253</td>\n",
       "    </tr>\n",
       "    <tr>\n",
       "      <th>2</th>\n",
       "      <td>True</td>\n",
       "      <td>0.550957</td>\n",
       "    </tr>\n",
       "    <tr>\n",
       "      <th>3</th>\n",
       "      <td>True</td>\n",
       "      <td>0.344833</td>\n",
       "    </tr>\n",
       "    <tr>\n",
       "      <th>4</th>\n",
       "      <td>True</td>\n",
       "      <td>0.405797</td>\n",
       "    </tr>\n",
       "    <tr>\n",
       "      <th>...</th>\n",
       "      <td>...</td>\n",
       "      <td>...</td>\n",
       "    </tr>\n",
       "    <tr>\n",
       "      <th>32279465</th>\n",
       "      <td>True</td>\n",
       "      <td>1.975786</td>\n",
       "    </tr>\n",
       "    <tr>\n",
       "      <th>32279466</th>\n",
       "      <td>True</td>\n",
       "      <td>1.858189</td>\n",
       "    </tr>\n",
       "    <tr>\n",
       "      <th>32279467</th>\n",
       "      <td>True</td>\n",
       "      <td>1.591479</td>\n",
       "    </tr>\n",
       "    <tr>\n",
       "      <th>32279468</th>\n",
       "      <td>True</td>\n",
       "      <td>1.829296</td>\n",
       "    </tr>\n",
       "    <tr>\n",
       "      <th>32279469</th>\n",
       "      <td>True</td>\n",
       "      <td>1.809061</td>\n",
       "    </tr>\n",
       "  </tbody>\n",
       "</table>\n",
       "<p>32279470 rows × 2 columns</p>\n",
       "</div>"
      ],
      "text/plain": [
       "          Ref-Anc match   entropy\n",
       "0                  True  0.191883\n",
       "1                  True  0.301253\n",
       "2                  True  0.550957\n",
       "3                  True  0.344833\n",
       "4                  True  0.405797\n",
       "...                 ...       ...\n",
       "32279465           True  1.975786\n",
       "32279466           True  1.858189\n",
       "32279467           True  1.591479\n",
       "32279468           True  1.829296\n",
       "32279469           True  1.809061\n",
       "\n",
       "[32279470 rows x 2 columns]"
      ]
     },
     "execution_count": 21,
     "metadata": {},
     "output_type": "execute_result"
    }
   ],
   "source": [
    "df3 = (\n",
    "    V.filter(pl.col(\"anc\").is_in(NUCLEOTIDES))\n",
    "    .with_columns((pl.col(\"ref\") == pl.col(\"anc\")).alias(\"Ref-Anc match\"))\n",
    "    .select([\"Ref-Anc match\", \"entropy\"])\n",
    "    .to_pandas()\n",
    ")\n",
    "df3"
   ]
  },
  {
   "cell_type": "code",
   "execution_count": 22,
   "id": "58313c61-6bf1-4dd2-8cca-7b0dfb5a4826",
   "metadata": {
    "tags": []
   },
   "outputs": [
    {
     "name": "stderr",
     "output_type": "stream",
     "text": [
      "\n",
      "KeyboardInterrupt\n",
      "\n"
     ]
    }
   ],
   "source": [
    "#sns.ecdfplot(data=df3, x=\"perplexity\", hue=\"Ref-Anc match\")  # maybe subsample?"
   ]
  },
  {
   "cell_type": "code",
   "execution_count": 27,
   "id": "6b372b95-a5a5-4598-854e-39d4f9e8476a",
   "metadata": {
    "tags": []
   },
   "outputs": [
    {
     "data": {
      "text/plain": [
       "Ref-Anc match\n",
       "False    1.608394\n",
       "True     1.500958\n",
       "Name: entropy, dtype: float32"
      ]
     },
     "execution_count": 27,
     "metadata": {},
     "output_type": "execute_result"
    }
   ],
   "source": [
    "df3.groupby(\"Ref-Anc match\").entropy.mean()"
   ]
  },
  {
   "cell_type": "code",
   "execution_count": 31,
   "id": "286519ab-a19f-4691-afcd-69afb97d5818",
   "metadata": {
    "tags": []
   },
   "outputs": [
    {
     "data": {
      "text/plain": [
       "0.0"
      ]
     },
     "execution_count": 31,
     "metadata": {},
     "output_type": "execute_result"
    }
   ],
   "source": [
    "from scipy.stats import mannwhitneyu\n",
    "_, p = mannwhitneyu(\n",
    "    df3[df3[\"Ref-Anc match\"]].entropy,\n",
    "    df3[~df3[\"Ref-Anc match\"]].entropy,\n",
    "    alternative=\"less\",\n",
    ")\n",
    "p"
   ]
  },
  {
   "cell_type": "code",
   "execution_count": 32,
   "id": "54110a3b-af27-43ed-b89f-7184ee653623",
   "metadata": {
    "tags": []
   },
   "outputs": [
    {
     "data": {
      "text/plain": [
       "1.0"
      ]
     },
     "execution_count": 32,
     "metadata": {},
     "output_type": "execute_result"
    }
   ],
   "source": [
    "from scipy.stats import mannwhitneyu\n",
    "_, p = mannwhitneyu(\n",
    "    df3[df3[\"Ref-Anc match\"]].entropy,\n",
    "    df3[~df3[\"Ref-Anc match\"]].entropy,\n",
    "    alternative=\"greater\",\n",
    ")\n",
    "p"
   ]
  },
  {
   "cell_type": "code",
   "execution_count": null,
   "id": "4c0f41c6-2c8e-43a7-a35d-4e3fb53e4961",
   "metadata": {},
   "outputs": [],
   "source": []
  }
 ],
 "metadata": {
  "kernelspec": {
   "display_name": "gpn",
   "language": "python",
   "name": "gpn"
  },
  "language_info": {
   "codemirror_mode": {
    "name": "ipython",
    "version": 3
   },
   "file_extension": ".py",
   "mimetype": "text/x-python",
   "name": "python",
   "nbconvert_exporter": "python",
   "pygments_lexer": "ipython3",
   "version": "3.11.3"
  }
 },
 "nbformat": 4,
 "nbformat_minor": 5
}
