{
 "cells": [
  {
   "cell_type": "code",
   "execution_count": 113,
   "id": "cede64f9-a405-4a22-a77b-fbd0c3a397e6",
   "metadata": {
    "tags": []
   },
   "outputs": [],
   "source": [
    "import warnings\n",
    "warnings.filterwarnings('ignore')\n",
    "import bioframe as bf\n",
    "from gpn.data import load_table\n",
    "import polars as pl\n",
    "from scipy.special import softmax\n",
    "from tqdm import tqdm"
   ]
  },
  {
   "cell_type": "code",
   "execution_count": 27,
   "id": "822e0a2e-5f3d-4bab-98ef-e662b0718e68",
   "metadata": {
    "tags": []
   },
   "outputs": [],
   "source": [
    "NUCLEOTIDES = list(\"ACGT\")\n",
    "chrom = \"22\"\n",
    "model = \"multiz100way/89/128/64/True/defined.phastCons.percentile-75_0.05_0.001/medium/0.1/42/30000/True/True/True\""
   ]
  },
  {
   "cell_type": "code",
   "execution_count": 31,
   "id": "8aaf0475-ac2d-4354-a2ad-f20c8f7ccc28",
   "metadata": {
    "tags": []
   },
   "outputs": [
    {
     "data": {
      "text/html": [
       "<div>\n",
       "<style scoped>\n",
       "    .dataframe tbody tr th:only-of-type {\n",
       "        vertical-align: middle;\n",
       "    }\n",
       "\n",
       "    .dataframe tbody tr th {\n",
       "        vertical-align: top;\n",
       "    }\n",
       "\n",
       "    .dataframe thead th {\n",
       "        text-align: right;\n",
       "    }\n",
       "</style>\n",
       "<table border=\"1\" class=\"dataframe\">\n",
       "  <thead>\n",
       "    <tr style=\"text-align: right;\">\n",
       "      <th></th>\n",
       "      <th>chrom</th>\n",
       "      <th>start</th>\n",
       "      <th>end</th>\n",
       "      <th>feature</th>\n",
       "    </tr>\n",
       "  </thead>\n",
       "  <tbody>\n",
       "    <tr>\n",
       "      <th>3261452</th>\n",
       "      <td>22</td>\n",
       "      <td>11827522</td>\n",
       "      <td>11910358</td>\n",
       "      <td>gene</td>\n",
       "    </tr>\n",
       "    <tr>\n",
       "      <th>3261453</th>\n",
       "      <td>22</td>\n",
       "      <td>11827522</td>\n",
       "      <td>11910358</td>\n",
       "      <td>transcript</td>\n",
       "    </tr>\n",
       "    <tr>\n",
       "      <th>3261454</th>\n",
       "      <td>22</td>\n",
       "      <td>11827522</td>\n",
       "      <td>11827658</td>\n",
       "      <td>exon</td>\n",
       "    </tr>\n",
       "    <tr>\n",
       "      <th>3261455</th>\n",
       "      <td>22</td>\n",
       "      <td>11832760</td>\n",
       "      <td>11832915</td>\n",
       "      <td>exon</td>\n",
       "    </tr>\n",
       "    <tr>\n",
       "      <th>3261456</th>\n",
       "      <td>22</td>\n",
       "      <td>11867114</td>\n",
       "      <td>11867145</td>\n",
       "      <td>exon</td>\n",
       "    </tr>\n",
       "    <tr>\n",
       "      <th>...</th>\n",
       "      <td>...</td>\n",
       "      <td>...</td>\n",
       "      <td>...</td>\n",
       "      <td>...</td>\n",
       "    </tr>\n",
       "    <tr>\n",
       "      <th>3332625</th>\n",
       "      <td>22</td>\n",
       "      <td>27750775</td>\n",
       "      <td>27750914</td>\n",
       "      <td>three_prime_utr</td>\n",
       "    </tr>\n",
       "    <tr>\n",
       "      <th>3332626</th>\n",
       "      <td>22</td>\n",
       "      <td>27750063</td>\n",
       "      <td>27750228</td>\n",
       "      <td>three_prime_utr</td>\n",
       "    </tr>\n",
       "    <tr>\n",
       "      <th>3332627</th>\n",
       "      <td>22</td>\n",
       "      <td>27750677</td>\n",
       "      <td>27791883</td>\n",
       "      <td>transcript</td>\n",
       "    </tr>\n",
       "    <tr>\n",
       "      <th>3332628</th>\n",
       "      <td>22</td>\n",
       "      <td>27791746</td>\n",
       "      <td>27791883</td>\n",
       "      <td>exon</td>\n",
       "    </tr>\n",
       "    <tr>\n",
       "      <th>3332629</th>\n",
       "      <td>22</td>\n",
       "      <td>27750677</td>\n",
       "      <td>27751096</td>\n",
       "      <td>exon</td>\n",
       "    </tr>\n",
       "  </tbody>\n",
       "</table>\n",
       "<p>71178 rows × 4 columns</p>\n",
       "</div>"
      ],
      "text/plain": [
       "        chrom     start       end          feature\n",
       "3261452    22  11827522  11910358             gene\n",
       "3261453    22  11827522  11910358       transcript\n",
       "3261454    22  11827522  11827658             exon\n",
       "3261455    22  11832760  11832915             exon\n",
       "3261456    22  11867114  11867145             exon\n",
       "...       ...       ...       ...              ...\n",
       "3332625    22  27750775  27750914  three_prime_utr\n",
       "3332626    22  27750063  27750228  three_prime_utr\n",
       "3332627    22  27750677  27791883       transcript\n",
       "3332628    22  27791746  27791883             exon\n",
       "3332629    22  27750677  27751096             exon\n",
       "\n",
       "[71178 rows x 4 columns]"
      ]
     },
     "execution_count": 31,
     "metadata": {},
     "output_type": "execute_result"
    }
   ],
   "source": [
    "annotation = load_table(\"../../results/annotation.gtf.gz\")[[\"chrom\", \"start\", \"end\", \"feature\"]]\n",
    "annotation = annotation[annotation.chrom==chrom]\n",
    "annotation"
   ]
  },
  {
   "cell_type": "code",
   "execution_count": 108,
   "id": "537df376-d9f0-4647-b7c2-90ead2b84c48",
   "metadata": {
    "tags": []
   },
   "outputs": [],
   "source": [
    "annotation = annotation.replace({\n",
    "    \"five_prime_utr\": \"5' UTR\",\n",
    "    \"three_prime_utr\": \"3' UTR\",\n",
    "})"
   ]
  },
  {
   "cell_type": "code",
   "execution_count": 109,
   "id": "a8cfdfe3-9b58-4b61-8963-5f1cb1fd227c",
   "metadata": {
    "tags": []
   },
   "outputs": [
    {
     "data": {
      "text/plain": [
       "feature\n",
       "exon              34347\n",
       "CDS               18387\n",
       "transcript         5351\n",
       "3' UTR             4148\n",
       "5' UTR             3538\n",
       "start_codon        2098\n",
       "stop_codon         1885\n",
       "gene               1412\n",
       "Selenocysteine       12\n",
       "Name: count, dtype: int64"
      ]
     },
     "execution_count": 109,
     "metadata": {},
     "output_type": "execute_result"
    }
   ],
   "source": [
    "annotation.feature.value_counts()"
   ]
  },
  {
   "cell_type": "code",
   "execution_count": 110,
   "id": "674c4a5a-a74a-41d8-ac34-2fa4d6512ca5",
   "metadata": {
    "tags": []
   },
   "outputs": [
    {
     "data": {
      "text/plain": [
       "{'CDS':      chrom     start       end\n",
       " 0       22  15528191  15529136\n",
       " 1       22  15690077  15690709\n",
       " 2       22  15695370  15695485\n",
       " 3       22  15695644  15695818\n",
       " 4       22  15697373  15697529\n",
       " ...    ...       ...       ...\n",
       " 4522    22  50777951  50777981\n",
       " 4523    22  50779054  50779121\n",
       " 4524    22  50780180  50780226\n",
       " 4525    22  50780708  50780718\n",
       " 4526    22  50782187  50782294\n",
       " \n",
       " [4527 rows x 3 columns],\n",
       " \"5' UTR\":      chrom     start       end\n",
       " 0       22  15690025  15690077\n",
       " 1       22  16592550  16592810\n",
       " 2       22  16808073  16808083\n",
       " 3       22  16821606  16821699\n",
       " 4       22  16825290  16825411\n",
       " ...    ...       ...       ...\n",
       " 1264    22  50729571  50729660\n",
       " 1265    22  50738203  50738235\n",
       " 1266    22  50782294  50782351\n",
       " 1267    22  50782768  50783286\n",
       " 1268    22  50783390  50783667\n",
       " \n",
       " [1269 rows x 3 columns],\n",
       " \"3' UTR\":      chrom     start       end\n",
       " 0       22  15697532  15697629\n",
       " 1       22  15698661  15698768\n",
       " 2       22  15700077  15700215\n",
       " 3       22  15702685  15702756\n",
       " 4       22  15708019  15708090\n",
       " ...    ...       ...       ...\n",
       " 1692    22  50776669  50776749\n",
       " 1693    22  50777951  50777981\n",
       " 1694    22  50779010  50779051\n",
       " 1695    22  50780024  50780177\n",
       " 1696    22  50780612  50780705\n",
       " \n",
       " [1697 rows x 3 columns]}"
      ]
     },
     "execution_count": 110,
     "metadata": {},
     "output_type": "execute_result"
    }
   ],
   "source": [
    "features = [\n",
    "    \"CDS\",\n",
    "    \"5' UTR\",\n",
    "    \"3' UTR\",\n",
    "]\n",
    "\n",
    "feature_intervals = {\n",
    "    feature: bf.merge(annotation[annotation.feature==feature]).drop(columns=\"n_intervals\") \n",
    "    for feature in features\n",
    "}\n",
    "\n",
    "feature_intervals"
   ]
  },
  {
   "cell_type": "code",
   "execution_count": 111,
   "id": "22b2b7d8-6dc5-4265-83a6-ae549deee07f",
   "metadata": {
    "tags": []
   },
   "outputs": [
    {
     "data": {
      "text/html": [
       "<div><style>\n",
       ".dataframe > thead > tr,\n",
       ".dataframe > tbody > tr {\n",
       "  text-align: right;\n",
       "  white-space: pre-wrap;\n",
       "}\n",
       "</style>\n",
       "<small>shape: (39_153_633, 10)</small><table border=\"1\" class=\"dataframe\"><thead><tr><th>chrom</th><th>pos</th><th>ref</th><th>A</th><th>C</th><th>G</th><th>T</th><th>ref_prob</th><th>perplexity</th><th>accuracy</th></tr><tr><td>str</td><td>i64</td><td>str</td><td>f32</td><td>f32</td><td>f32</td><td>f32</td><td>f32</td><td>f32</td><td>f64</td></tr></thead><tbody><tr><td>&quot;22&quot;</td><td>10510065</td><td>&quot;A&quot;</td><td>0.677927</td><td>0.101803</td><td>0.118962</td><td>0.101308</td><td>0.677927</td><td>1.475085</td><td>1.0</td></tr><tr><td>&quot;22&quot;</td><td>10510066</td><td>&quot;A&quot;</td><td>0.678113</td><td>0.104195</td><td>0.11466</td><td>0.103032</td><td>0.678113</td><td>1.47468</td><td>1.0</td></tr><tr><td>&quot;22&quot;</td><td>10510067</td><td>&quot;T&quot;</td><td>0.107364</td><td>0.133747</td><td>0.101849</td><td>0.657041</td><td>0.657041</td><td>1.521976</td><td>1.0</td></tr><tr><td>&quot;22&quot;</td><td>10510068</td><td>&quot;A&quot;</td><td>0.680645</td><td>0.096985</td><td>0.123955</td><td>0.098416</td><td>0.680645</td><td>1.469195</td><td>1.0</td></tr><tr><td>&quot;22&quot;</td><td>10510069</td><td>&quot;T&quot;</td><td>0.120914</td><td>0.108757</td><td>0.121446</td><td>0.648883</td><td>0.648883</td><td>1.54111</td><td>1.0</td></tr><tr><td>&quot;22&quot;</td><td>10510070</td><td>&quot;G&quot;</td><td>0.541647</td><td>0.093849</td><td>0.229348</td><td>0.135156</td><td>0.229348</td><td>4.360189</td><td>0.0</td></tr><tr><td>&quot;22&quot;</td><td>10510071</td><td>&quot;T&quot;</td><td>0.11857</td><td>0.059215</td><td>0.754159</td><td>0.068056</td><td>0.068056</td><td>14.693797</td><td>0.0</td></tr><tr><td>&quot;22&quot;</td><td>10510072</td><td>&quot;A&quot;</td><td>0.721582</td><td>0.080565</td><td>0.113504</td><td>0.084349</td><td>0.721582</td><td>1.385843</td><td>1.0</td></tr><tr><td>&quot;22&quot;</td><td>10510073</td><td>&quot;T&quot;</td><td>0.084662</td><td>0.097041</td><td>0.083532</td><td>0.734765</td><td>0.734765</td><td>1.36098</td><td>1.0</td></tr><tr><td>&quot;22&quot;</td><td>10510074</td><td>&quot;T&quot;</td><td>0.069883</td><td>0.069918</td><td>0.068198</td><td>0.792001</td><td>0.792001</td><td>1.262625</td><td>1.0</td></tr><tr><td>&quot;22&quot;</td><td>10510075</td><td>&quot;T&quot;</td><td>0.060232</td><td>0.064699</td><td>0.060468</td><td>0.814601</td><td>0.814601</td><td>1.227594</td><td>1.0</td></tr><tr><td>&quot;22&quot;</td><td>10510076</td><td>&quot;T&quot;</td><td>0.07252</td><td>0.103374</td><td>0.072114</td><td>0.751993</td><td>0.751993</td><td>1.3298</td><td>1.0</td></tr><tr><td>&hellip;</td><td>&hellip;</td><td>&hellip;</td><td>&hellip;</td><td>&hellip;</td><td>&hellip;</td><td>&hellip;</td><td>&hellip;</td><td>&hellip;</td><td>&hellip;</td></tr><tr><td>&quot;22&quot;</td><td>50808393</td><td>&quot;G&quot;</td><td>0.210464</td><td>0.189768</td><td>0.296223</td><td>0.303544</td><td>0.296223</td><td>3.375831</td><td>0.0</td></tr><tr><td>&quot;22&quot;</td><td>50808394</td><td>&quot;T&quot;</td><td>0.226472</td><td>0.184121</td><td>0.305347</td><td>0.28406</td><td>0.28406</td><td>3.520386</td><td>0.0</td></tr><tr><td>&quot;22&quot;</td><td>50808395</td><td>&quot;T&quot;</td><td>0.172389</td><td>0.193255</td><td>0.375064</td><td>0.259292</td><td>0.259292</td><td>3.856652</td><td>0.0</td></tr><tr><td>&quot;22&quot;</td><td>50808396</td><td>&quot;A&quot;</td><td>0.174471</td><td>0.026939</td><td>0.454314</td><td>0.344276</td><td>0.174471</td><td>5.731622</td><td>0.0</td></tr><tr><td>&quot;22&quot;</td><td>50808397</td><td>&quot;G&quot;</td><td>0.238948</td><td>0.02679</td><td>0.440352</td><td>0.293911</td><td>0.440352</td><td>2.270912</td><td>1.0</td></tr><tr><td>&quot;22&quot;</td><td>50808398</td><td>&quot;G&quot;</td><td>0.26017</td><td>0.028469</td><td>0.428948</td><td>0.282412</td><td>0.428948</td><td>2.331283</td><td>1.0</td></tr><tr><td>&quot;22&quot;</td><td>50808399</td><td>&quot;G&quot;</td><td>0.210994</td><td>0.190245</td><td>0.292365</td><td>0.306396</td><td>0.292365</td><td>3.420385</td><td>0.0</td></tr><tr><td>&quot;22&quot;</td><td>50808400</td><td>&quot;T&quot;</td><td>0.228317</td><td>0.185802</td><td>0.298947</td><td>0.286934</td><td>0.286934</td><td>3.485125</td><td>0.0</td></tr><tr><td>&quot;22&quot;</td><td>50808401</td><td>&quot;T&quot;</td><td>0.17528</td><td>0.192695</td><td>0.368899</td><td>0.263126</td><td>0.263126</td><td>3.800462</td><td>0.0</td></tr><tr><td>&quot;22&quot;</td><td>50808402</td><td>&quot;A&quot;</td><td>0.180813</td><td>0.027119</td><td>0.444901</td><td>0.347167</td><td>0.180813</td><td>5.530585</td><td>0.0</td></tr><tr><td>&quot;22&quot;</td><td>50808403</td><td>&quot;G&quot;</td><td>0.244816</td><td>0.027058</td><td>0.430505</td><td>0.29762</td><td>0.430505</td><td>2.322852</td><td>1.0</td></tr><tr><td>&quot;22&quot;</td><td>50808404</td><td>&quot;G&quot;</td><td>0.265793</td><td>0.028445</td><td>0.420608</td><td>0.285154</td><td>0.420608</td><td>2.37751</td><td>1.0</td></tr></tbody></table></div>"
      ],
      "text/plain": [
       "shape: (39_153_633, 10)\n",
       "┌───────┬──────────┬─────┬──────────┬───┬──────────┬──────────┬────────────┬──────────┐\n",
       "│ chrom ┆ pos      ┆ ref ┆ A        ┆ … ┆ T        ┆ ref_prob ┆ perplexity ┆ accuracy │\n",
       "│ ---   ┆ ---      ┆ --- ┆ ---      ┆   ┆ ---      ┆ ---      ┆ ---        ┆ ---      │\n",
       "│ str   ┆ i64      ┆ str ┆ f32      ┆   ┆ f32      ┆ f32      ┆ f32        ┆ f64      │\n",
       "╞═══════╪══════════╪═════╪══════════╪═══╪══════════╪══════════╪════════════╪══════════╡\n",
       "│ 22    ┆ 10510065 ┆ A   ┆ 0.677927 ┆ … ┆ 0.101308 ┆ 0.677927 ┆ 1.475085   ┆ 1.0      │\n",
       "│ 22    ┆ 10510066 ┆ A   ┆ 0.678113 ┆ … ┆ 0.103032 ┆ 0.678113 ┆ 1.47468    ┆ 1.0      │\n",
       "│ 22    ┆ 10510067 ┆ T   ┆ 0.107364 ┆ … ┆ 0.657041 ┆ 0.657041 ┆ 1.521976   ┆ 1.0      │\n",
       "│ 22    ┆ 10510068 ┆ A   ┆ 0.680645 ┆ … ┆ 0.098416 ┆ 0.680645 ┆ 1.469195   ┆ 1.0      │\n",
       "│ 22    ┆ 10510069 ┆ T   ┆ 0.120914 ┆ … ┆ 0.648883 ┆ 0.648883 ┆ 1.54111    ┆ 1.0      │\n",
       "│ …     ┆ …        ┆ …   ┆ …        ┆ … ┆ …        ┆ …        ┆ …          ┆ …        │\n",
       "│ 22    ┆ 50808400 ┆ T   ┆ 0.228317 ┆ … ┆ 0.286934 ┆ 0.286934 ┆ 3.485125   ┆ 0.0      │\n",
       "│ 22    ┆ 50808401 ┆ T   ┆ 0.17528  ┆ … ┆ 0.263126 ┆ 0.263126 ┆ 3.800462   ┆ 0.0      │\n",
       "│ 22    ┆ 50808402 ┆ A   ┆ 0.180813 ┆ … ┆ 0.347167 ┆ 0.180813 ┆ 5.530585   ┆ 0.0      │\n",
       "│ 22    ┆ 50808403 ┆ G   ┆ 0.244816 ┆ … ┆ 0.29762  ┆ 0.430505 ┆ 2.322852   ┆ 1.0      │\n",
       "│ 22    ┆ 50808404 ┆ G   ┆ 0.265793 ┆ … ┆ 0.285154 ┆ 0.420608 ┆ 2.37751    ┆ 1.0      │\n",
       "└───────┴──────────┴─────┴──────────┴───┴──────────┴──────────┴────────────┴──────────┘"
      ]
     },
     "execution_count": 111,
     "metadata": {},
     "output_type": "execute_result"
    }
   ],
   "source": [
    "path = f\"../../results/positions/{chrom}/processed_logits/{model}.parquet\"\n",
    "V = pl.read_parquet(path)\n",
    "V = (\n",
    "    V.with_columns(\n",
    "        pl.DataFrame(softmax(V.select(NUCLEOTIDES), axis=1), schema=NUCLEOTIDES)\n",
    "    )\n",
    "    .with_columns(\n",
    "        pl.when(pl.col(\"ref\") == \"A\").then(pl.col(\"A\"))\n",
    "        .when(pl.col(\"ref\") == \"C\").then(pl.col(\"C\"))\n",
    "        .when(pl.col(\"ref\") == \"G\").then(pl.col(\"G\"))\n",
    "        .when(pl.col(\"ref\") == \"T\").then(pl.col(\"T\"))\n",
    "        .alias(\"ref_prob\")\n",
    "    )\n",
    "    .with_columns(\n",
    "        (1 / pl.col(\"ref_prob\")).alias(\"perplexity\"),\n",
    "        (pl.col(\"ref_prob\") == pl.max_horizontal(NUCLEOTIDES))\n",
    "        .alias(\"accuracy\").cast(float)\n",
    "    )\n",
    ")\n",
    "V"
   ]
  },
  {
   "cell_type": "code",
   "execution_count": 112,
   "id": "f719963a-2e3b-4641-8292-6ba6d78705d7",
   "metadata": {
    "tags": []
   },
   "outputs": [
    {
     "data": {
      "text/html": [
       "<div>\n",
       "<style scoped>\n",
       "    .dataframe tbody tr th:only-of-type {\n",
       "        vertical-align: middle;\n",
       "    }\n",
       "\n",
       "    .dataframe tbody tr th {\n",
       "        vertical-align: top;\n",
       "    }\n",
       "\n",
       "    .dataframe thead th {\n",
       "        text-align: right;\n",
       "    }\n",
       "</style>\n",
       "<table border=\"1\" class=\"dataframe\">\n",
       "  <thead>\n",
       "    <tr style=\"text-align: right;\">\n",
       "      <th></th>\n",
       "      <th>chrom</th>\n",
       "      <th>start</th>\n",
       "      <th>end</th>\n",
       "    </tr>\n",
       "  </thead>\n",
       "  <tbody>\n",
       "    <tr>\n",
       "      <th>0</th>\n",
       "      <td>22</td>\n",
       "      <td>10510064</td>\n",
       "      <td>10510065</td>\n",
       "    </tr>\n",
       "    <tr>\n",
       "      <th>1</th>\n",
       "      <td>22</td>\n",
       "      <td>10510065</td>\n",
       "      <td>10510066</td>\n",
       "    </tr>\n",
       "    <tr>\n",
       "      <th>2</th>\n",
       "      <td>22</td>\n",
       "      <td>10510066</td>\n",
       "      <td>10510067</td>\n",
       "    </tr>\n",
       "    <tr>\n",
       "      <th>3</th>\n",
       "      <td>22</td>\n",
       "      <td>10510067</td>\n",
       "      <td>10510068</td>\n",
       "    </tr>\n",
       "    <tr>\n",
       "      <th>4</th>\n",
       "      <td>22</td>\n",
       "      <td>10510068</td>\n",
       "      <td>10510069</td>\n",
       "    </tr>\n",
       "    <tr>\n",
       "      <th>...</th>\n",
       "      <td>...</td>\n",
       "      <td>...</td>\n",
       "      <td>...</td>\n",
       "    </tr>\n",
       "    <tr>\n",
       "      <th>39153628</th>\n",
       "      <td>22</td>\n",
       "      <td>50808399</td>\n",
       "      <td>50808400</td>\n",
       "    </tr>\n",
       "    <tr>\n",
       "      <th>39153629</th>\n",
       "      <td>22</td>\n",
       "      <td>50808400</td>\n",
       "      <td>50808401</td>\n",
       "    </tr>\n",
       "    <tr>\n",
       "      <th>39153630</th>\n",
       "      <td>22</td>\n",
       "      <td>50808401</td>\n",
       "      <td>50808402</td>\n",
       "    </tr>\n",
       "    <tr>\n",
       "      <th>39153631</th>\n",
       "      <td>22</td>\n",
       "      <td>50808402</td>\n",
       "      <td>50808403</td>\n",
       "    </tr>\n",
       "    <tr>\n",
       "      <th>39153632</th>\n",
       "      <td>22</td>\n",
       "      <td>50808403</td>\n",
       "      <td>50808404</td>\n",
       "    </tr>\n",
       "  </tbody>\n",
       "</table>\n",
       "<p>39153633 rows × 3 columns</p>\n",
       "</div>"
      ],
      "text/plain": [
       "         chrom     start       end\n",
       "0           22  10510064  10510065\n",
       "1           22  10510065  10510066\n",
       "2           22  10510066  10510067\n",
       "3           22  10510067  10510068\n",
       "4           22  10510068  10510069\n",
       "...        ...       ...       ...\n",
       "39153628    22  50808399  50808400\n",
       "39153629    22  50808400  50808401\n",
       "39153630    22  50808401  50808402\n",
       "39153631    22  50808402  50808403\n",
       "39153632    22  50808403  50808404\n",
       "\n",
       "[39153633 rows x 3 columns]"
      ]
     },
     "execution_count": 112,
     "metadata": {},
     "output_type": "execute_result"
    }
   ],
   "source": [
    "intervals = (\n",
    "    V.with_columns(\n",
    "        (pl.col(\"pos\") - 1).alias(\"start\"),\n",
    "        pl.col(\"pos\").alias(\"end\")\n",
    "    )\n",
    "    .select([\"chrom\", \"start\", \"end\"])\n",
    "    .to_pandas()\n",
    ")\n",
    "intervals"
   ]
  },
  {
   "cell_type": "code",
   "execution_count": 114,
   "id": "3f9ef0ca-a4d1-4810-a0f6-137f48ea3167",
   "metadata": {
    "tags": []
   },
   "outputs": [
    {
     "name": "stderr",
     "output_type": "stream",
     "text": [
      "100%|██████████| 3/3 [03:30<00:00, 70.15s/it] \n"
     ]
    },
    {
     "data": {
      "text/html": [
       "<div><style>\n",
       ".dataframe > thead > tr,\n",
       ".dataframe > tbody > tr {\n",
       "  text-align: right;\n",
       "  white-space: pre-wrap;\n",
       "}\n",
       "</style>\n",
       "<small>shape: (39_153_633, 13)</small><table border=\"1\" class=\"dataframe\"><thead><tr><th>chrom</th><th>pos</th><th>ref</th><th>A</th><th>C</th><th>G</th><th>T</th><th>ref_prob</th><th>perplexity</th><th>accuracy</th><th>CDS</th><th>5&#x27; UTR</th><th>3&#x27; UTR</th></tr><tr><td>str</td><td>i64</td><td>str</td><td>f32</td><td>f32</td><td>f32</td><td>f32</td><td>f32</td><td>f32</td><td>f64</td><td>bool</td><td>bool</td><td>bool</td></tr></thead><tbody><tr><td>&quot;22&quot;</td><td>10510065</td><td>&quot;A&quot;</td><td>0.677927</td><td>0.101803</td><td>0.118962</td><td>0.101308</td><td>0.677927</td><td>1.475085</td><td>1.0</td><td>false</td><td>false</td><td>false</td></tr><tr><td>&quot;22&quot;</td><td>10510066</td><td>&quot;A&quot;</td><td>0.678113</td><td>0.104195</td><td>0.11466</td><td>0.103032</td><td>0.678113</td><td>1.47468</td><td>1.0</td><td>false</td><td>false</td><td>false</td></tr><tr><td>&quot;22&quot;</td><td>10510067</td><td>&quot;T&quot;</td><td>0.107364</td><td>0.133747</td><td>0.101849</td><td>0.657041</td><td>0.657041</td><td>1.521976</td><td>1.0</td><td>false</td><td>false</td><td>false</td></tr><tr><td>&quot;22&quot;</td><td>10510068</td><td>&quot;A&quot;</td><td>0.680645</td><td>0.096985</td><td>0.123955</td><td>0.098416</td><td>0.680645</td><td>1.469195</td><td>1.0</td><td>false</td><td>false</td><td>false</td></tr><tr><td>&quot;22&quot;</td><td>10510069</td><td>&quot;T&quot;</td><td>0.120914</td><td>0.108757</td><td>0.121446</td><td>0.648883</td><td>0.648883</td><td>1.54111</td><td>1.0</td><td>false</td><td>false</td><td>false</td></tr><tr><td>&quot;22&quot;</td><td>10510070</td><td>&quot;G&quot;</td><td>0.541647</td><td>0.093849</td><td>0.229348</td><td>0.135156</td><td>0.229348</td><td>4.360189</td><td>0.0</td><td>false</td><td>false</td><td>false</td></tr><tr><td>&quot;22&quot;</td><td>10510071</td><td>&quot;T&quot;</td><td>0.11857</td><td>0.059215</td><td>0.754159</td><td>0.068056</td><td>0.068056</td><td>14.693797</td><td>0.0</td><td>false</td><td>false</td><td>false</td></tr><tr><td>&quot;22&quot;</td><td>10510072</td><td>&quot;A&quot;</td><td>0.721582</td><td>0.080565</td><td>0.113504</td><td>0.084349</td><td>0.721582</td><td>1.385843</td><td>1.0</td><td>false</td><td>false</td><td>false</td></tr><tr><td>&quot;22&quot;</td><td>10510073</td><td>&quot;T&quot;</td><td>0.084662</td><td>0.097041</td><td>0.083532</td><td>0.734765</td><td>0.734765</td><td>1.36098</td><td>1.0</td><td>false</td><td>false</td><td>false</td></tr><tr><td>&quot;22&quot;</td><td>10510074</td><td>&quot;T&quot;</td><td>0.069883</td><td>0.069918</td><td>0.068198</td><td>0.792001</td><td>0.792001</td><td>1.262625</td><td>1.0</td><td>false</td><td>false</td><td>false</td></tr><tr><td>&quot;22&quot;</td><td>10510075</td><td>&quot;T&quot;</td><td>0.060232</td><td>0.064699</td><td>0.060468</td><td>0.814601</td><td>0.814601</td><td>1.227594</td><td>1.0</td><td>false</td><td>false</td><td>false</td></tr><tr><td>&quot;22&quot;</td><td>10510076</td><td>&quot;T&quot;</td><td>0.07252</td><td>0.103374</td><td>0.072114</td><td>0.751993</td><td>0.751993</td><td>1.3298</td><td>1.0</td><td>false</td><td>false</td><td>false</td></tr><tr><td>&hellip;</td><td>&hellip;</td><td>&hellip;</td><td>&hellip;</td><td>&hellip;</td><td>&hellip;</td><td>&hellip;</td><td>&hellip;</td><td>&hellip;</td><td>&hellip;</td><td>&hellip;</td><td>&hellip;</td><td>&hellip;</td></tr><tr><td>&quot;22&quot;</td><td>50808393</td><td>&quot;G&quot;</td><td>0.210464</td><td>0.189768</td><td>0.296223</td><td>0.303544</td><td>0.296223</td><td>3.375831</td><td>0.0</td><td>false</td><td>false</td><td>false</td></tr><tr><td>&quot;22&quot;</td><td>50808394</td><td>&quot;T&quot;</td><td>0.226472</td><td>0.184121</td><td>0.305347</td><td>0.28406</td><td>0.28406</td><td>3.520386</td><td>0.0</td><td>false</td><td>false</td><td>false</td></tr><tr><td>&quot;22&quot;</td><td>50808395</td><td>&quot;T&quot;</td><td>0.172389</td><td>0.193255</td><td>0.375064</td><td>0.259292</td><td>0.259292</td><td>3.856652</td><td>0.0</td><td>false</td><td>false</td><td>false</td></tr><tr><td>&quot;22&quot;</td><td>50808396</td><td>&quot;A&quot;</td><td>0.174471</td><td>0.026939</td><td>0.454314</td><td>0.344276</td><td>0.174471</td><td>5.731622</td><td>0.0</td><td>false</td><td>false</td><td>false</td></tr><tr><td>&quot;22&quot;</td><td>50808397</td><td>&quot;G&quot;</td><td>0.238948</td><td>0.02679</td><td>0.440352</td><td>0.293911</td><td>0.440352</td><td>2.270912</td><td>1.0</td><td>false</td><td>false</td><td>false</td></tr><tr><td>&quot;22&quot;</td><td>50808398</td><td>&quot;G&quot;</td><td>0.26017</td><td>0.028469</td><td>0.428948</td><td>0.282412</td><td>0.428948</td><td>2.331283</td><td>1.0</td><td>false</td><td>false</td><td>false</td></tr><tr><td>&quot;22&quot;</td><td>50808399</td><td>&quot;G&quot;</td><td>0.210994</td><td>0.190245</td><td>0.292365</td><td>0.306396</td><td>0.292365</td><td>3.420385</td><td>0.0</td><td>false</td><td>false</td><td>false</td></tr><tr><td>&quot;22&quot;</td><td>50808400</td><td>&quot;T&quot;</td><td>0.228317</td><td>0.185802</td><td>0.298947</td><td>0.286934</td><td>0.286934</td><td>3.485125</td><td>0.0</td><td>false</td><td>false</td><td>false</td></tr><tr><td>&quot;22&quot;</td><td>50808401</td><td>&quot;T&quot;</td><td>0.17528</td><td>0.192695</td><td>0.368899</td><td>0.263126</td><td>0.263126</td><td>3.800462</td><td>0.0</td><td>false</td><td>false</td><td>false</td></tr><tr><td>&quot;22&quot;</td><td>50808402</td><td>&quot;A&quot;</td><td>0.180813</td><td>0.027119</td><td>0.444901</td><td>0.347167</td><td>0.180813</td><td>5.530585</td><td>0.0</td><td>false</td><td>false</td><td>false</td></tr><tr><td>&quot;22&quot;</td><td>50808403</td><td>&quot;G&quot;</td><td>0.244816</td><td>0.027058</td><td>0.430505</td><td>0.29762</td><td>0.430505</td><td>2.322852</td><td>1.0</td><td>false</td><td>false</td><td>false</td></tr><tr><td>&quot;22&quot;</td><td>50808404</td><td>&quot;G&quot;</td><td>0.265793</td><td>0.028445</td><td>0.420608</td><td>0.285154</td><td>0.420608</td><td>2.37751</td><td>1.0</td><td>false</td><td>false</td><td>false</td></tr></tbody></table></div>"
      ],
      "text/plain": [
       "shape: (39_153_633, 13)\n",
       "┌───────┬──────────┬─────┬──────────┬───┬──────────┬───────┬────────┬────────┐\n",
       "│ chrom ┆ pos      ┆ ref ┆ A        ┆ … ┆ accuracy ┆ CDS   ┆ 5' UTR ┆ 3' UTR │\n",
       "│ ---   ┆ ---      ┆ --- ┆ ---      ┆   ┆ ---      ┆ ---   ┆ ---    ┆ ---    │\n",
       "│ str   ┆ i64      ┆ str ┆ f32      ┆   ┆ f64      ┆ bool  ┆ bool   ┆ bool   │\n",
       "╞═══════╪══════════╪═════╪══════════╪═══╪══════════╪═══════╪════════╪════════╡\n",
       "│ 22    ┆ 10510065 ┆ A   ┆ 0.677927 ┆ … ┆ 1.0      ┆ false ┆ false  ┆ false  │\n",
       "│ 22    ┆ 10510066 ┆ A   ┆ 0.678113 ┆ … ┆ 1.0      ┆ false ┆ false  ┆ false  │\n",
       "│ 22    ┆ 10510067 ┆ T   ┆ 0.107364 ┆ … ┆ 1.0      ┆ false ┆ false  ┆ false  │\n",
       "│ 22    ┆ 10510068 ┆ A   ┆ 0.680645 ┆ … ┆ 1.0      ┆ false ┆ false  ┆ false  │\n",
       "│ 22    ┆ 10510069 ┆ T   ┆ 0.120914 ┆ … ┆ 1.0      ┆ false ┆ false  ┆ false  │\n",
       "│ …     ┆ …        ┆ …   ┆ …        ┆ … ┆ …        ┆ …     ┆ …      ┆ …      │\n",
       "│ 22    ┆ 50808400 ┆ T   ┆ 0.228317 ┆ … ┆ 0.0      ┆ false ┆ false  ┆ false  │\n",
       "│ 22    ┆ 50808401 ┆ T   ┆ 0.17528  ┆ … ┆ 0.0      ┆ false ┆ false  ┆ false  │\n",
       "│ 22    ┆ 50808402 ┆ A   ┆ 0.180813 ┆ … ┆ 0.0      ┆ false ┆ false  ┆ false  │\n",
       "│ 22    ┆ 50808403 ┆ G   ┆ 0.244816 ┆ … ┆ 1.0      ┆ false ┆ false  ┆ false  │\n",
       "│ 22    ┆ 50808404 ┆ G   ┆ 0.265793 ┆ … ┆ 1.0      ┆ false ┆ false  ┆ false  │\n",
       "└───────┴──────────┴─────┴──────────┴───┴──────────┴───────┴────────┴────────┘"
      ]
     },
     "execution_count": 114,
     "metadata": {},
     "output_type": "execute_result"
    }
   ],
   "source": [
    "for f, x in tqdm(feature_intervals.items()):\n",
    "    V = V.with_columns(\n",
    "        pl.from_pandas(bf.count_overlaps(intervals, x)[\"count\"] > 0)\n",
    "        .alias(f)\n",
    "    )\n",
    "V"
   ]
  },
  {
   "cell_type": "code",
   "execution_count": 117,
   "id": "de0f1fdc-93f5-4009-803d-bc33f34b673e",
   "metadata": {
    "tags": []
   },
   "outputs": [
    {
     "data": {
      "text/html": [
       "<div><style>\n",
       ".dataframe > thead > tr,\n",
       ".dataframe > tbody > tr {\n",
       "  text-align: right;\n",
       "  white-space: pre-wrap;\n",
       "}\n",
       "</style>\n",
       "<small>shape: (4, 2)</small><table border=\"1\" class=\"dataframe\"><thead><tr><th>Region</th><th>count</th></tr><tr><td>str</td><td>u32</td></tr></thead><tbody><tr><td>&quot;3&#x27; UTR&quot;</td><td>785066</td></tr><tr><td>&quot;Non-exonic&quot;</td><td>37423927</td></tr><tr><td>&quot;5&#x27; UTR&quot;</td><td>189036</td></tr><tr><td>&quot;CDS&quot;</td><td>755604</td></tr></tbody></table></div>"
      ],
      "text/plain": [
       "shape: (4, 2)\n",
       "┌────────────┬──────────┐\n",
       "│ Region     ┆ count    │\n",
       "│ ---        ┆ ---      │\n",
       "│ str        ┆ u32      │\n",
       "╞════════════╪══════════╡\n",
       "│ 3' UTR     ┆ 785066   │\n",
       "│ Non-exonic ┆ 37423927 │\n",
       "│ 5' UTR     ┆ 189036   │\n",
       "│ CDS        ┆ 755604   │\n",
       "└────────────┴──────────┘"
      ]
     },
     "execution_count": 117,
     "metadata": {},
     "output_type": "execute_result"
    }
   ],
   "source": [
    "V = V.with_columns(\n",
    "    pl.when(pl.col(\"CDS\")).then(pl.lit(\"CDS\"))\n",
    "    .when(pl.col(\"5' UTR\")).then(pl.lit(\"5' UTR\"))\n",
    "    .when(pl.col(\"3' UTR\")).then(pl.lit(\"3' UTR\"))\n",
    "    .otherwise(pl.lit(\"Non-exonic\"))\n",
    "    .alias(\"Region\")\n",
    ")\n",
    "V[\"Region\"].value_counts()"
   ]
  },
  {
   "cell_type": "code",
   "execution_count": 119,
   "id": "aa4a6d78-3bda-439b-8fd4-1c4c3ac35420",
   "metadata": {
    "tags": []
   },
   "outputs": [
    {
     "data": {
      "text/html": [
       "<div><style>\n",
       ".dataframe > thead > tr,\n",
       ".dataframe > tbody > tr {\n",
       "  text-align: right;\n",
       "  white-space: pre-wrap;\n",
       "}\n",
       "</style>\n",
       "<small>shape: (4, 4)</small><table border=\"1\" class=\"dataframe\"><thead><tr><th>Region</th><th>mean perplexity</th><th>median perplexity</th><th>mean accuracy</th></tr><tr><td>str</td><td>f32</td><td>f32</td><td>f64</td></tr></thead><tbody><tr><td>&quot;CDS&quot;</td><td>4.877965</td><td>1.032106</td><td>0.915296</td></tr><tr><td>&quot;5&#x27; UTR&quot;</td><td>3.203826</td><td>1.645802</td><td>0.836999</td></tr><tr><td>&quot;3&#x27; UTR&quot;</td><td>3.116771</td><td>1.687933</td><td>0.821391</td></tr><tr><td>&quot;Non-exonic&quot;</td><td>2.528364</td><td>1.977608</td><td>0.690292</td></tr></tbody></table></div>"
      ],
      "text/plain": [
       "shape: (4, 4)\n",
       "┌────────────┬─────────────────┬───────────────────┬───────────────┐\n",
       "│ Region     ┆ mean perplexity ┆ median perplexity ┆ mean accuracy │\n",
       "│ ---        ┆ ---             ┆ ---               ┆ ---           │\n",
       "│ str        ┆ f32             ┆ f32               ┆ f64           │\n",
       "╞════════════╪═════════════════╪═══════════════════╪═══════════════╡\n",
       "│ CDS        ┆ 4.877965        ┆ 1.032106          ┆ 0.915296      │\n",
       "│ 5' UTR     ┆ 3.203826        ┆ 1.645802          ┆ 0.836999      │\n",
       "│ 3' UTR     ┆ 3.116771        ┆ 1.687933          ┆ 0.821391      │\n",
       "│ Non-exonic ┆ 2.528364        ┆ 1.977608          ┆ 0.690292      │\n",
       "└────────────┴─────────────────┴───────────────────┴───────────────┘"
      ]
     },
     "execution_count": 119,
     "metadata": {},
     "output_type": "execute_result"
    }
   ],
   "source": [
    "V.group_by(\"Region\").agg(\n",
    "    pl.mean(\"perplexity\").alias(\"mean perplexity\"),\n",
    "    pl.median(\"perplexity\").alias(\"median perplexity\"),\n",
    "    pl.mean(\"accuracy\").alias(\"mean accuracy\"),\n",
    ").sort(\"mean accuracy\", descending=True)"
   ]
  }
 ],
 "metadata": {
  "kernelspec": {
   "display_name": "gpn",
   "language": "python",
   "name": "gpn"
  },
  "language_info": {
   "codemirror_mode": {
    "name": "ipython",
    "version": 3
   },
   "file_extension": ".py",
   "mimetype": "text/x-python",
   "name": "python",
   "nbconvert_exporter": "python",
   "pygments_lexer": "ipython3",
   "version": "3.11.3"
  }
 },
 "nbformat": 4,
 "nbformat_minor": 5
}
