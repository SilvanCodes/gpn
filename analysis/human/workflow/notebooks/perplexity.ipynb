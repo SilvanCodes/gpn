{
 "cells": [
  {
   "cell_type": "code",
   "execution_count": 125,
   "id": "cede64f9-a405-4a22-a77b-fbd0c3a397e6",
   "metadata": {
    "tags": []
   },
   "outputs": [],
   "source": [
    "import warnings\n",
    "warnings.filterwarnings('ignore')\n",
    "import bioframe as bf\n",
    "from gpn.data import load_table, Genome\n",
    "import numpy as np\n",
    "import polars as pl\n",
    "from scipy.special import softmax\n",
    "from tqdm import tqdm"
   ]
  },
  {
   "cell_type": "code",
   "execution_count": 126,
   "id": "822e0a2e-5f3d-4bab-98ef-e662b0718e68",
   "metadata": {
    "tags": []
   },
   "outputs": [],
   "source": [
    "NUCLEOTIDES = list(\"ACGT\")\n",
    "chrom = \"22\"\n",
    "model = \"multiz100way/89/128/64/True/defined.phastCons.percentile-75_0.05_0.001/medium/0.1/42/30000/True/True/True\""
   ]
  },
  {
   "cell_type": "code",
   "execution_count": 127,
   "id": "6680d8ce-9e3b-4ab3-9366-9d9fb1963c75",
   "metadata": {
    "tags": []
   },
   "outputs": [],
   "source": [
    "anc_path = \"../../results/ancestral/homo_sapiens_ancestor_GRCh38/homo_sapiens_ancestor_22.fa\""
   ]
  },
  {
   "cell_type": "code",
   "execution_count": 128,
   "id": "50fe989b-4f81-44f8-8e27-2ba2eb5a2bf3",
   "metadata": {
    "tags": []
   },
   "outputs": [
    {
     "data": {
      "text/plain": [
       "array([b'.', b'.', b'.', ..., b'.', b'.', b'.'], dtype='|S1')"
      ]
     },
     "execution_count": 128,
     "metadata": {},
     "output_type": "execute_result"
    }
   ],
   "source": [
    "anc_seq = Genome(anc_path)._genome[\"ANCESTOR_for_chromosome:GRCh38:22:1:50818468:1\"].upper()\n",
    "anc_seq = np.frombuffer(anc_seq.encode(\"ascii\"), dtype=\"S1\")\n",
    "anc_seq"
   ]
  },
  {
   "cell_type": "code",
   "execution_count": 120,
   "id": "2c961797-cb9c-4e7a-9f20-3933080232ea",
   "metadata": {
    "tags": []
   },
   "outputs": [],
   "source": [
    "# https://ftp.ensembl.org/pub/release-109/fasta/ancestral_alleles/"
   ]
  },
  {
   "cell_type": "code",
   "execution_count": 31,
   "id": "8aaf0475-ac2d-4354-a2ad-f20c8f7ccc28",
   "metadata": {
    "tags": []
   },
   "outputs": [
    {
     "data": {
      "text/html": [
       "<div>\n",
       "<style scoped>\n",
       "    .dataframe tbody tr th:only-of-type {\n",
       "        vertical-align: middle;\n",
       "    }\n",
       "\n",
       "    .dataframe tbody tr th {\n",
       "        vertical-align: top;\n",
       "    }\n",
       "\n",
       "    .dataframe thead th {\n",
       "        text-align: right;\n",
       "    }\n",
       "</style>\n",
       "<table border=\"1\" class=\"dataframe\">\n",
       "  <thead>\n",
       "    <tr style=\"text-align: right;\">\n",
       "      <th></th>\n",
       "      <th>chrom</th>\n",
       "      <th>start</th>\n",
       "      <th>end</th>\n",
       "      <th>feature</th>\n",
       "    </tr>\n",
       "  </thead>\n",
       "  <tbody>\n",
       "    <tr>\n",
       "      <th>3261452</th>\n",
       "      <td>22</td>\n",
       "      <td>11827522</td>\n",
       "      <td>11910358</td>\n",
       "      <td>gene</td>\n",
       "    </tr>\n",
       "    <tr>\n",
       "      <th>3261453</th>\n",
       "      <td>22</td>\n",
       "      <td>11827522</td>\n",
       "      <td>11910358</td>\n",
       "      <td>transcript</td>\n",
       "    </tr>\n",
       "    <tr>\n",
       "      <th>3261454</th>\n",
       "      <td>22</td>\n",
       "      <td>11827522</td>\n",
       "      <td>11827658</td>\n",
       "      <td>exon</td>\n",
       "    </tr>\n",
       "    <tr>\n",
       "      <th>3261455</th>\n",
       "      <td>22</td>\n",
       "      <td>11832760</td>\n",
       "      <td>11832915</td>\n",
       "      <td>exon</td>\n",
       "    </tr>\n",
       "    <tr>\n",
       "      <th>3261456</th>\n",
       "      <td>22</td>\n",
       "      <td>11867114</td>\n",
       "      <td>11867145</td>\n",
       "      <td>exon</td>\n",
       "    </tr>\n",
       "    <tr>\n",
       "      <th>...</th>\n",
       "      <td>...</td>\n",
       "      <td>...</td>\n",
       "      <td>...</td>\n",
       "      <td>...</td>\n",
       "    </tr>\n",
       "    <tr>\n",
       "      <th>3332625</th>\n",
       "      <td>22</td>\n",
       "      <td>27750775</td>\n",
       "      <td>27750914</td>\n",
       "      <td>three_prime_utr</td>\n",
       "    </tr>\n",
       "    <tr>\n",
       "      <th>3332626</th>\n",
       "      <td>22</td>\n",
       "      <td>27750063</td>\n",
       "      <td>27750228</td>\n",
       "      <td>three_prime_utr</td>\n",
       "    </tr>\n",
       "    <tr>\n",
       "      <th>3332627</th>\n",
       "      <td>22</td>\n",
       "      <td>27750677</td>\n",
       "      <td>27791883</td>\n",
       "      <td>transcript</td>\n",
       "    </tr>\n",
       "    <tr>\n",
       "      <th>3332628</th>\n",
       "      <td>22</td>\n",
       "      <td>27791746</td>\n",
       "      <td>27791883</td>\n",
       "      <td>exon</td>\n",
       "    </tr>\n",
       "    <tr>\n",
       "      <th>3332629</th>\n",
       "      <td>22</td>\n",
       "      <td>27750677</td>\n",
       "      <td>27751096</td>\n",
       "      <td>exon</td>\n",
       "    </tr>\n",
       "  </tbody>\n",
       "</table>\n",
       "<p>71178 rows × 4 columns</p>\n",
       "</div>"
      ],
      "text/plain": [
       "        chrom     start       end          feature\n",
       "3261452    22  11827522  11910358             gene\n",
       "3261453    22  11827522  11910358       transcript\n",
       "3261454    22  11827522  11827658             exon\n",
       "3261455    22  11832760  11832915             exon\n",
       "3261456    22  11867114  11867145             exon\n",
       "...       ...       ...       ...              ...\n",
       "3332625    22  27750775  27750914  three_prime_utr\n",
       "3332626    22  27750063  27750228  three_prime_utr\n",
       "3332627    22  27750677  27791883       transcript\n",
       "3332628    22  27791746  27791883             exon\n",
       "3332629    22  27750677  27751096             exon\n",
       "\n",
       "[71178 rows x 4 columns]"
      ]
     },
     "execution_count": 31,
     "metadata": {},
     "output_type": "execute_result"
    }
   ],
   "source": [
    "annotation = load_table(\"../../results/annotation.gtf.gz\")[[\"chrom\", \"start\", \"end\", \"feature\"]]\n",
    "annotation = annotation[annotation.chrom==chrom]\n",
    "annotation"
   ]
  },
  {
   "cell_type": "code",
   "execution_count": 108,
   "id": "537df376-d9f0-4647-b7c2-90ead2b84c48",
   "metadata": {
    "tags": []
   },
   "outputs": [],
   "source": [
    "annotation = annotation.replace({\n",
    "    \"five_prime_utr\": \"5' UTR\",\n",
    "    \"three_prime_utr\": \"3' UTR\",\n",
    "})"
   ]
  },
  {
   "cell_type": "code",
   "execution_count": 109,
   "id": "a8cfdfe3-9b58-4b61-8963-5f1cb1fd227c",
   "metadata": {
    "tags": []
   },
   "outputs": [
    {
     "data": {
      "text/plain": [
       "feature\n",
       "exon              34347\n",
       "CDS               18387\n",
       "transcript         5351\n",
       "3' UTR             4148\n",
       "5' UTR             3538\n",
       "start_codon        2098\n",
       "stop_codon         1885\n",
       "gene               1412\n",
       "Selenocysteine       12\n",
       "Name: count, dtype: int64"
      ]
     },
     "execution_count": 109,
     "metadata": {},
     "output_type": "execute_result"
    }
   ],
   "source": [
    "annotation.feature.value_counts()"
   ]
  },
  {
   "cell_type": "code",
   "execution_count": 110,
   "id": "674c4a5a-a74a-41d8-ac34-2fa4d6512ca5",
   "metadata": {
    "tags": []
   },
   "outputs": [
    {
     "data": {
      "text/plain": [
       "{'CDS':      chrom     start       end\n",
       " 0       22  15528191  15529136\n",
       " 1       22  15690077  15690709\n",
       " 2       22  15695370  15695485\n",
       " 3       22  15695644  15695818\n",
       " 4       22  15697373  15697529\n",
       " ...    ...       ...       ...\n",
       " 4522    22  50777951  50777981\n",
       " 4523    22  50779054  50779121\n",
       " 4524    22  50780180  50780226\n",
       " 4525    22  50780708  50780718\n",
       " 4526    22  50782187  50782294\n",
       " \n",
       " [4527 rows x 3 columns],\n",
       " \"5' UTR\":      chrom     start       end\n",
       " 0       22  15690025  15690077\n",
       " 1       22  16592550  16592810\n",
       " 2       22  16808073  16808083\n",
       " 3       22  16821606  16821699\n",
       " 4       22  16825290  16825411\n",
       " ...    ...       ...       ...\n",
       " 1264    22  50729571  50729660\n",
       " 1265    22  50738203  50738235\n",
       " 1266    22  50782294  50782351\n",
       " 1267    22  50782768  50783286\n",
       " 1268    22  50783390  50783667\n",
       " \n",
       " [1269 rows x 3 columns],\n",
       " \"3' UTR\":      chrom     start       end\n",
       " 0       22  15697532  15697629\n",
       " 1       22  15698661  15698768\n",
       " 2       22  15700077  15700215\n",
       " 3       22  15702685  15702756\n",
       " 4       22  15708019  15708090\n",
       " ...    ...       ...       ...\n",
       " 1692    22  50776669  50776749\n",
       " 1693    22  50777951  50777981\n",
       " 1694    22  50779010  50779051\n",
       " 1695    22  50780024  50780177\n",
       " 1696    22  50780612  50780705\n",
       " \n",
       " [1697 rows x 3 columns]}"
      ]
     },
     "execution_count": 110,
     "metadata": {},
     "output_type": "execute_result"
    }
   ],
   "source": [
    "features = [\n",
    "    \"CDS\",\n",
    "    \"5' UTR\",\n",
    "    \"3' UTR\",\n",
    "]\n",
    "\n",
    "feature_intervals = {\n",
    "    feature: bf.merge(annotation[annotation.feature==feature]).drop(columns=\"n_intervals\") \n",
    "    for feature in features\n",
    "}"
   ]
  },
  {
   "cell_type": "code",
   "execution_count": 148,
   "id": "a559271b-49a7-40e0-864e-568fd9331fbc",
   "metadata": {
    "tags": []
   },
   "outputs": [
    {
     "name": "stderr",
     "output_type": "stream",
     "text": [
      "100%|██████████| 3/3 [03:28<00:00, 69.62s/it]\n"
     ]
    },
    {
     "data": {
      "text/html": [
       "<div><style>\n",
       ".dataframe > thead > tr,\n",
       ".dataframe > tbody > tr {\n",
       "  text-align: right;\n",
       "  white-space: pre-wrap;\n",
       "}\n",
       "</style>\n",
       "<small>shape: (39_153_633, 17)</small><table border=\"1\" class=\"dataframe\"><thead><tr><th>chrom</th><th>pos</th><th>ref</th><th>A</th><th>C</th><th>G</th><th>T</th><th>anc</th><th>prob_ref</th><th>perplexity_ref</th><th>accuracy_ref</th><th>prob_anc</th><th>perplexity_anc</th><th>accuracy_anc</th><th>CDS</th><th>5&#x27; UTR</th><th>3&#x27; UTR</th></tr><tr><td>str</td><td>i64</td><td>str</td><td>f32</td><td>f32</td><td>f32</td><td>f32</td><td>str</td><td>f32</td><td>f32</td><td>f64</td><td>f32</td><td>f32</td><td>f64</td><td>bool</td><td>bool</td><td>bool</td></tr></thead><tbody><tr><td>&quot;22&quot;</td><td>10510065</td><td>&quot;A&quot;</td><td>0.677927</td><td>0.101803</td><td>0.118962</td><td>0.101308</td><td>&quot;.&quot;</td><td>0.677927</td><td>1.475085</td><td>1.0</td><td>null</td><td>null</td><td>null</td><td>false</td><td>false</td><td>false</td></tr><tr><td>&quot;22&quot;</td><td>10510066</td><td>&quot;A&quot;</td><td>0.678113</td><td>0.104195</td><td>0.11466</td><td>0.103032</td><td>&quot;.&quot;</td><td>0.678113</td><td>1.47468</td><td>1.0</td><td>null</td><td>null</td><td>null</td><td>false</td><td>false</td><td>false</td></tr><tr><td>&quot;22&quot;</td><td>10510067</td><td>&quot;T&quot;</td><td>0.107364</td><td>0.133747</td><td>0.101849</td><td>0.657041</td><td>&quot;.&quot;</td><td>0.657041</td><td>1.521976</td><td>1.0</td><td>null</td><td>null</td><td>null</td><td>false</td><td>false</td><td>false</td></tr><tr><td>&quot;22&quot;</td><td>10510068</td><td>&quot;A&quot;</td><td>0.680645</td><td>0.096985</td><td>0.123955</td><td>0.098416</td><td>&quot;.&quot;</td><td>0.680645</td><td>1.469195</td><td>1.0</td><td>null</td><td>null</td><td>null</td><td>false</td><td>false</td><td>false</td></tr><tr><td>&quot;22&quot;</td><td>10510069</td><td>&quot;T&quot;</td><td>0.120914</td><td>0.108757</td><td>0.121446</td><td>0.648883</td><td>&quot;.&quot;</td><td>0.648883</td><td>1.54111</td><td>1.0</td><td>null</td><td>null</td><td>null</td><td>false</td><td>false</td><td>false</td></tr><tr><td>&quot;22&quot;</td><td>10510070</td><td>&quot;G&quot;</td><td>0.541647</td><td>0.093849</td><td>0.229348</td><td>0.135156</td><td>&quot;.&quot;</td><td>0.229348</td><td>4.360189</td><td>0.0</td><td>null</td><td>null</td><td>null</td><td>false</td><td>false</td><td>false</td></tr><tr><td>&quot;22&quot;</td><td>10510071</td><td>&quot;T&quot;</td><td>0.11857</td><td>0.059215</td><td>0.754159</td><td>0.068056</td><td>&quot;.&quot;</td><td>0.068056</td><td>14.693797</td><td>0.0</td><td>null</td><td>null</td><td>null</td><td>false</td><td>false</td><td>false</td></tr><tr><td>&quot;22&quot;</td><td>10510072</td><td>&quot;A&quot;</td><td>0.721582</td><td>0.080565</td><td>0.113504</td><td>0.084349</td><td>&quot;.&quot;</td><td>0.721582</td><td>1.385843</td><td>1.0</td><td>null</td><td>null</td><td>null</td><td>false</td><td>false</td><td>false</td></tr><tr><td>&quot;22&quot;</td><td>10510073</td><td>&quot;T&quot;</td><td>0.084662</td><td>0.097041</td><td>0.083532</td><td>0.734765</td><td>&quot;.&quot;</td><td>0.734765</td><td>1.36098</td><td>1.0</td><td>null</td><td>null</td><td>null</td><td>false</td><td>false</td><td>false</td></tr><tr><td>&quot;22&quot;</td><td>10510074</td><td>&quot;T&quot;</td><td>0.069883</td><td>0.069918</td><td>0.068198</td><td>0.792001</td><td>&quot;.&quot;</td><td>0.792001</td><td>1.262625</td><td>1.0</td><td>null</td><td>null</td><td>null</td><td>false</td><td>false</td><td>false</td></tr><tr><td>&quot;22&quot;</td><td>10510075</td><td>&quot;T&quot;</td><td>0.060232</td><td>0.064699</td><td>0.060468</td><td>0.814601</td><td>&quot;.&quot;</td><td>0.814601</td><td>1.227594</td><td>1.0</td><td>null</td><td>null</td><td>null</td><td>false</td><td>false</td><td>false</td></tr><tr><td>&quot;22&quot;</td><td>10510076</td><td>&quot;T&quot;</td><td>0.07252</td><td>0.103374</td><td>0.072114</td><td>0.751993</td><td>&quot;.&quot;</td><td>0.751993</td><td>1.3298</td><td>1.0</td><td>null</td><td>null</td><td>null</td><td>false</td><td>false</td><td>false</td></tr><tr><td>&hellip;</td><td>&hellip;</td><td>&hellip;</td><td>&hellip;</td><td>&hellip;</td><td>&hellip;</td><td>&hellip;</td><td>&hellip;</td><td>&hellip;</td><td>&hellip;</td><td>&hellip;</td><td>&hellip;</td><td>&hellip;</td><td>&hellip;</td><td>&hellip;</td><td>&hellip;</td><td>&hellip;</td></tr><tr><td>&quot;22&quot;</td><td>50808393</td><td>&quot;G&quot;</td><td>0.210464</td><td>0.189768</td><td>0.296223</td><td>0.303544</td><td>&quot;.&quot;</td><td>0.296223</td><td>3.375831</td><td>0.0</td><td>null</td><td>null</td><td>null</td><td>false</td><td>false</td><td>false</td></tr><tr><td>&quot;22&quot;</td><td>50808394</td><td>&quot;T&quot;</td><td>0.226472</td><td>0.184121</td><td>0.305347</td><td>0.28406</td><td>&quot;.&quot;</td><td>0.28406</td><td>3.520386</td><td>0.0</td><td>null</td><td>null</td><td>null</td><td>false</td><td>false</td><td>false</td></tr><tr><td>&quot;22&quot;</td><td>50808395</td><td>&quot;T&quot;</td><td>0.172389</td><td>0.193255</td><td>0.375064</td><td>0.259292</td><td>&quot;.&quot;</td><td>0.259292</td><td>3.856652</td><td>0.0</td><td>null</td><td>null</td><td>null</td><td>false</td><td>false</td><td>false</td></tr><tr><td>&quot;22&quot;</td><td>50808396</td><td>&quot;A&quot;</td><td>0.174471</td><td>0.026939</td><td>0.454314</td><td>0.344276</td><td>&quot;.&quot;</td><td>0.174471</td><td>5.731622</td><td>0.0</td><td>null</td><td>null</td><td>null</td><td>false</td><td>false</td><td>false</td></tr><tr><td>&quot;22&quot;</td><td>50808397</td><td>&quot;G&quot;</td><td>0.238948</td><td>0.02679</td><td>0.440352</td><td>0.293911</td><td>&quot;.&quot;</td><td>0.440352</td><td>2.270912</td><td>1.0</td><td>null</td><td>null</td><td>null</td><td>false</td><td>false</td><td>false</td></tr><tr><td>&quot;22&quot;</td><td>50808398</td><td>&quot;G&quot;</td><td>0.26017</td><td>0.028469</td><td>0.428948</td><td>0.282412</td><td>&quot;.&quot;</td><td>0.428948</td><td>2.331283</td><td>1.0</td><td>null</td><td>null</td><td>null</td><td>false</td><td>false</td><td>false</td></tr><tr><td>&quot;22&quot;</td><td>50808399</td><td>&quot;G&quot;</td><td>0.210994</td><td>0.190245</td><td>0.292365</td><td>0.306396</td><td>&quot;.&quot;</td><td>0.292365</td><td>3.420385</td><td>0.0</td><td>null</td><td>null</td><td>null</td><td>false</td><td>false</td><td>false</td></tr><tr><td>&quot;22&quot;</td><td>50808400</td><td>&quot;T&quot;</td><td>0.228317</td><td>0.185802</td><td>0.298947</td><td>0.286934</td><td>&quot;.&quot;</td><td>0.286934</td><td>3.485125</td><td>0.0</td><td>null</td><td>null</td><td>null</td><td>false</td><td>false</td><td>false</td></tr><tr><td>&quot;22&quot;</td><td>50808401</td><td>&quot;T&quot;</td><td>0.17528</td><td>0.192695</td><td>0.368899</td><td>0.263126</td><td>&quot;.&quot;</td><td>0.263126</td><td>3.800462</td><td>0.0</td><td>null</td><td>null</td><td>null</td><td>false</td><td>false</td><td>false</td></tr><tr><td>&quot;22&quot;</td><td>50808402</td><td>&quot;A&quot;</td><td>0.180813</td><td>0.027119</td><td>0.444901</td><td>0.347167</td><td>&quot;.&quot;</td><td>0.180813</td><td>5.530585</td><td>0.0</td><td>null</td><td>null</td><td>null</td><td>false</td><td>false</td><td>false</td></tr><tr><td>&quot;22&quot;</td><td>50808403</td><td>&quot;G&quot;</td><td>0.244816</td><td>0.027058</td><td>0.430505</td><td>0.29762</td><td>&quot;.&quot;</td><td>0.430505</td><td>2.322852</td><td>1.0</td><td>null</td><td>null</td><td>null</td><td>false</td><td>false</td><td>false</td></tr><tr><td>&quot;22&quot;</td><td>50808404</td><td>&quot;G&quot;</td><td>0.265793</td><td>0.028445</td><td>0.420608</td><td>0.285154</td><td>&quot;.&quot;</td><td>0.420608</td><td>2.37751</td><td>1.0</td><td>null</td><td>null</td><td>null</td><td>false</td><td>false</td><td>false</td></tr></tbody></table></div>"
      ],
      "text/plain": [
       "shape: (39_153_633, 17)\n",
       "┌───────┬──────────┬─────┬──────────┬───┬──────────────┬───────┬────────┬────────┐\n",
       "│ chrom ┆ pos      ┆ ref ┆ A        ┆ … ┆ accuracy_anc ┆ CDS   ┆ 5' UTR ┆ 3' UTR │\n",
       "│ ---   ┆ ---      ┆ --- ┆ ---      ┆   ┆ ---          ┆ ---   ┆ ---    ┆ ---    │\n",
       "│ str   ┆ i64      ┆ str ┆ f32      ┆   ┆ f64          ┆ bool  ┆ bool   ┆ bool   │\n",
       "╞═══════╪══════════╪═════╪══════════╪═══╪══════════════╪═══════╪════════╪════════╡\n",
       "│ 22    ┆ 10510065 ┆ A   ┆ 0.677927 ┆ … ┆ null         ┆ false ┆ false  ┆ false  │\n",
       "│ 22    ┆ 10510066 ┆ A   ┆ 0.678113 ┆ … ┆ null         ┆ false ┆ false  ┆ false  │\n",
       "│ 22    ┆ 10510067 ┆ T   ┆ 0.107364 ┆ … ┆ null         ┆ false ┆ false  ┆ false  │\n",
       "│ 22    ┆ 10510068 ┆ A   ┆ 0.680645 ┆ … ┆ null         ┆ false ┆ false  ┆ false  │\n",
       "│ 22    ┆ 10510069 ┆ T   ┆ 0.120914 ┆ … ┆ null         ┆ false ┆ false  ┆ false  │\n",
       "│ …     ┆ …        ┆ …   ┆ …        ┆ … ┆ …            ┆ …     ┆ …      ┆ …      │\n",
       "│ 22    ┆ 50808400 ┆ T   ┆ 0.228317 ┆ … ┆ null         ┆ false ┆ false  ┆ false  │\n",
       "│ 22    ┆ 50808401 ┆ T   ┆ 0.17528  ┆ … ┆ null         ┆ false ┆ false  ┆ false  │\n",
       "│ 22    ┆ 50808402 ┆ A   ┆ 0.180813 ┆ … ┆ null         ┆ false ┆ false  ┆ false  │\n",
       "│ 22    ┆ 50808403 ┆ G   ┆ 0.244816 ┆ … ┆ null         ┆ false ┆ false  ┆ false  │\n",
       "│ 22    ┆ 50808404 ┆ G   ┆ 0.265793 ┆ … ┆ null         ┆ false ┆ false  ┆ false  │\n",
       "└───────┴──────────┴─────┴──────────┴───┴──────────────┴───────┴────────┴────────┘"
      ]
     },
     "execution_count": 148,
     "metadata": {},
     "output_type": "execute_result"
    }
   ],
   "source": [
    "path = f\"../../results/positions/{chrom}/processed_logits/{model}.parquet\"\n",
    "V = (\n",
    "    pl.read_parquet(path)\n",
    ")\n",
    "V = V.with_columns(anc=anc_seq[V[\"pos\"]-1])\n",
    "V = V.with_columns(anc=pl.col(\"anc\").cast(str))\n",
    "V = V.with_columns(\n",
    "    pl.DataFrame(softmax(V.select(NUCLEOTIDES), axis=1), schema=NUCLEOTIDES)\n",
    ")\n",
    "for c in [\"ref\", \"anc\"]:\n",
    "    V = (\n",
    "        V.with_columns(\n",
    "            pl.when(pl.col(c) == \"A\").then(pl.col(\"A\"))\n",
    "            .when(pl.col(c) == \"C\").then(pl.col(\"C\"))\n",
    "            .when(pl.col(c) == \"G\").then(pl.col(\"G\"))\n",
    "            .when(pl.col(c) == \"T\").then(pl.col(\"T\"))\n",
    "            .alias(f\"prob_{c}\")\n",
    "        )\n",
    "        .with_columns(\n",
    "            (1 / pl.col(f\"prob_{c}\")).alias(f\"perplexity_{c}\"),\n",
    "            (pl.col(f\"prob_{c}\") == pl.max_horizontal(NUCLEOTIDES))\n",
    "            .alias(f\"accuracy_{c}\").cast(float)\n",
    "        )\n",
    "    )\n",
    "intervals = (\n",
    "    V.with_columns(\n",
    "        (pl.col(\"pos\") - 1).alias(\"start\"),\n",
    "        pl.col(\"pos\").alias(\"end\")\n",
    "    )\n",
    "    .select([\"chrom\", \"start\", \"end\"])\n",
    "    .to_pandas()\n",
    ")\n",
    "for f, x in tqdm(feature_intervals.items()):\n",
    "    V = V.with_columns(\n",
    "        pl.from_pandas(bf.count_overlaps(intervals, x)[\"count\"] > 0)\n",
    "        .alias(f)\n",
    "    )\n",
    "V"
   ]
  },
  {
   "cell_type": "code",
   "execution_count": 149,
   "id": "de0f1fdc-93f5-4009-803d-bc33f34b673e",
   "metadata": {
    "tags": []
   },
   "outputs": [
    {
     "data": {
      "text/html": [
       "<div><style>\n",
       ".dataframe > thead > tr,\n",
       ".dataframe > tbody > tr {\n",
       "  text-align: right;\n",
       "  white-space: pre-wrap;\n",
       "}\n",
       "</style>\n",
       "<small>shape: (4, 2)</small><table border=\"1\" class=\"dataframe\"><thead><tr><th>Region</th><th>count</th></tr><tr><td>str</td><td>u32</td></tr></thead><tbody><tr><td>&quot;3&#x27; UTR&quot;</td><td>785066</td></tr><tr><td>&quot;5&#x27; UTR&quot;</td><td>189036</td></tr><tr><td>&quot;Non-exonic&quot;</td><td>37423927</td></tr><tr><td>&quot;CDS&quot;</td><td>755604</td></tr></tbody></table></div>"
      ],
      "text/plain": [
       "shape: (4, 2)\n",
       "┌────────────┬──────────┐\n",
       "│ Region     ┆ count    │\n",
       "│ ---        ┆ ---      │\n",
       "│ str        ┆ u32      │\n",
       "╞════════════╪══════════╡\n",
       "│ 3' UTR     ┆ 785066   │\n",
       "│ 5' UTR     ┆ 189036   │\n",
       "│ Non-exonic ┆ 37423927 │\n",
       "│ CDS        ┆ 755604   │\n",
       "└────────────┴──────────┘"
      ]
     },
     "execution_count": 149,
     "metadata": {},
     "output_type": "execute_result"
    }
   ],
   "source": [
    "V = V.with_columns(\n",
    "    pl.when(pl.col(\"CDS\")).then(pl.lit(\"CDS\"))\n",
    "    .when(pl.col(\"5' UTR\")).then(pl.lit(\"5' UTR\"))\n",
    "    .when(pl.col(\"3' UTR\")).then(pl.lit(\"3' UTR\"))\n",
    "    .otherwise(pl.lit(\"Non-exonic\"))\n",
    "    .alias(\"Region\")\n",
    ")\n",
    "V[\"Region\"].value_counts()"
   ]
  },
  {
   "cell_type": "code",
   "execution_count": 150,
   "id": "aa4a6d78-3bda-439b-8fd4-1c4c3ac35420",
   "metadata": {
    "tags": []
   },
   "outputs": [
    {
     "data": {
      "text/html": [
       "<div><style>\n",
       ".dataframe > thead > tr,\n",
       ".dataframe > tbody > tr {\n",
       "  text-align: right;\n",
       "  white-space: pre-wrap;\n",
       "}\n",
       "</style>\n",
       "<small>shape: (4, 4)</small><table border=\"1\" class=\"dataframe\"><thead><tr><th>Region</th><th>mean perplexity</th><th>median perplexity</th><th>mean accuracy</th></tr><tr><td>str</td><td>f32</td><td>f32</td><td>f64</td></tr></thead><tbody><tr><td>&quot;CDS&quot;</td><td>4.877965</td><td>1.032106</td><td>0.915296</td></tr><tr><td>&quot;5&#x27; UTR&quot;</td><td>3.203826</td><td>1.645802</td><td>0.836999</td></tr><tr><td>&quot;3&#x27; UTR&quot;</td><td>3.116771</td><td>1.687933</td><td>0.821391</td></tr><tr><td>&quot;Non-exonic&quot;</td><td>2.528364</td><td>1.977608</td><td>0.690292</td></tr></tbody></table></div>"
      ],
      "text/plain": [
       "shape: (4, 4)\n",
       "┌────────────┬─────────────────┬───────────────────┬───────────────┐\n",
       "│ Region     ┆ mean perplexity ┆ median perplexity ┆ mean accuracy │\n",
       "│ ---        ┆ ---             ┆ ---               ┆ ---           │\n",
       "│ str        ┆ f32             ┆ f32               ┆ f64           │\n",
       "╞════════════╪═════════════════╪═══════════════════╪═══════════════╡\n",
       "│ CDS        ┆ 4.877965        ┆ 1.032106          ┆ 0.915296      │\n",
       "│ 5' UTR     ┆ 3.203826        ┆ 1.645802          ┆ 0.836999      │\n",
       "│ 3' UTR     ┆ 3.116771        ┆ 1.687933          ┆ 0.821391      │\n",
       "│ Non-exonic ┆ 2.528364        ┆ 1.977608          ┆ 0.690292      │\n",
       "└────────────┴─────────────────┴───────────────────┴───────────────┘"
      ]
     },
     "execution_count": 150,
     "metadata": {},
     "output_type": "execute_result"
    }
   ],
   "source": [
    "V.group_by(\"Region\").agg(\n",
    "    pl.mean(\"perplexity_ref\").alias(\"mean perplexity\"),\n",
    "    pl.median(\"perplexity_ref\").alias(\"median perplexity\"),\n",
    "    pl.mean(\"accuracy_ref\").alias(\"mean accuracy\"),\n",
    ").sort(\"mean accuracy\", descending=True)"
   ]
  },
  {
   "cell_type": "code",
   "execution_count": 151,
   "id": "7e055412-bf9f-4455-99d6-2e00b694417a",
   "metadata": {
    "tags": []
   },
   "outputs": [
    {
     "data": {
      "text/html": [
       "<div><style>\n",
       ".dataframe > thead > tr,\n",
       ".dataframe > tbody > tr {\n",
       "  text-align: right;\n",
       "  white-space: pre-wrap;\n",
       "}\n",
       "</style>\n",
       "<small>shape: (245_242, 18)</small><table border=\"1\" class=\"dataframe\"><thead><tr><th>chrom</th><th>pos</th><th>ref</th><th>A</th><th>C</th><th>G</th><th>T</th><th>anc</th><th>prob_ref</th><th>perplexity_ref</th><th>accuracy_ref</th><th>prob_anc</th><th>perplexity_anc</th><th>accuracy_anc</th><th>CDS</th><th>5&#x27; UTR</th><th>3&#x27; UTR</th><th>Region</th></tr><tr><td>str</td><td>i64</td><td>str</td><td>f32</td><td>f32</td><td>f32</td><td>f32</td><td>str</td><td>f32</td><td>f32</td><td>f64</td><td>f32</td><td>f32</td><td>f64</td><td>bool</td><td>bool</td><td>bool</td><td>str</td></tr></thead><tbody><tr><td>&quot;22&quot;</td><td>10518459</td><td>&quot;A&quot;</td><td>0.008285</td><td>0.008497</td><td>0.011397</td><td>0.971821</td><td>&quot;G&quot;</td><td>0.008285</td><td>120.705559</td><td>0.0</td><td>0.011397</td><td>87.740578</td><td>0.0</td><td>false</td><td>false</td><td>false</td><td>&quot;Non-exonic&quot;</td></tr><tr><td>&quot;22&quot;</td><td>10518501</td><td>&quot;T&quot;</td><td>0.134272</td><td>0.10653</td><td>0.658977</td><td>0.100222</td><td>&quot;G&quot;</td><td>0.100222</td><td>9.977855</td><td>0.0</td><td>0.658977</td><td>1.517505</td><td>1.0</td><td>false</td><td>false</td><td>false</td><td>&quot;Non-exonic&quot;</td></tr><tr><td>&quot;22&quot;</td><td>10519374</td><td>&quot;A&quot;</td><td>0.835341</td><td>0.016677</td><td>0.131142</td><td>0.016841</td><td>&quot;T&quot;</td><td>0.835341</td><td>1.197116</td><td>1.0</td><td>0.016841</td><td>59.380619</td><td>0.0</td><td>false</td><td>false</td><td>false</td><td>&quot;Non-exonic&quot;</td></tr><tr><td>&quot;22&quot;</td><td>10519601</td><td>&quot;T&quot;</td><td>0.034935</td><td>0.048267</td><td>0.035382</td><td>0.881416</td><td>&quot;C&quot;</td><td>0.881416</td><td>1.134538</td><td>1.0</td><td>0.048267</td><td>20.718164</td><td>0.0</td><td>false</td><td>false</td><td>false</td><td>&quot;Non-exonic&quot;</td></tr><tr><td>&quot;22&quot;</td><td>10520484</td><td>&quot;A&quot;</td><td>0.166912</td><td>0.333243</td><td>0.335201</td><td>0.164645</td><td>&quot;G&quot;</td><td>0.166912</td><td>5.991196</td><td>0.0</td><td>0.335201</td><td>2.983286</td><td>1.0</td><td>false</td><td>false</td><td>false</td><td>&quot;Non-exonic&quot;</td></tr><tr><td>&quot;22&quot;</td><td>10520648</td><td>&quot;T&quot;</td><td>0.223243</td><td>0.429472</td><td>0.070539</td><td>0.276747</td><td>&quot;C&quot;</td><td>0.276747</td><td>3.61341</td><td>0.0</td><td>0.429472</td><td>2.328441</td><td>1.0</td><td>false</td><td>false</td><td>false</td><td>&quot;Non-exonic&quot;</td></tr><tr><td>&quot;22&quot;</td><td>10521092</td><td>&quot;T&quot;</td><td>0.225548</td><td>0.222702</td><td>0.243162</td><td>0.308588</td><td>&quot;G&quot;</td><td>0.308588</td><td>3.240564</td><td>1.0</td><td>0.243162</td><td>4.112489</td><td>0.0</td><td>false</td><td>false</td><td>false</td><td>&quot;Non-exonic&quot;</td></tr><tr><td>&quot;22&quot;</td><td>10521902</td><td>&quot;A&quot;</td><td>0.966232</td><td>0.006049</td><td>0.022035</td><td>0.005684</td><td>&quot;G&quot;</td><td>0.966232</td><td>1.034949</td><td>1.0</td><td>0.022035</td><td>45.381908</td><td>0.0</td><td>false</td><td>false</td><td>false</td><td>&quot;Non-exonic&quot;</td></tr><tr><td>&quot;22&quot;</td><td>10521936</td><td>&quot;A&quot;</td><td>0.128062</td><td>0.406185</td><td>0.15614</td><td>0.309613</td><td>&quot;C&quot;</td><td>0.128062</td><td>7.80874</td><td>0.0</td><td>0.406185</td><td>2.461933</td><td>1.0</td><td>false</td><td>false</td><td>false</td><td>&quot;Non-exonic&quot;</td></tr><tr><td>&quot;22&quot;</td><td>10522214</td><td>&quot;G&quot;</td><td>0.061944</td><td>0.182598</td><td>0.085582</td><td>0.669876</td><td>&quot;C&quot;</td><td>0.085582</td><td>11.684699</td><td>0.0</td><td>0.182598</td><td>5.476508</td><td>0.0</td><td>false</td><td>false</td><td>false</td><td>&quot;Non-exonic&quot;</td></tr><tr><td>&quot;22&quot;</td><td>10522567</td><td>&quot;C&quot;</td><td>0.247024</td><td>0.247266</td><td>0.281011</td><td>0.224699</td><td>&quot;T&quot;</td><td>0.247266</td><td>4.04423</td><td>0.0</td><td>0.224699</td><td>4.450402</td><td>0.0</td><td>false</td><td>false</td><td>false</td><td>&quot;Non-exonic&quot;</td></tr><tr><td>&quot;22&quot;</td><td>10522690</td><td>&quot;A&quot;</td><td>0.118151</td><td>0.628202</td><td>0.082241</td><td>0.171406</td><td>&quot;G&quot;</td><td>0.118151</td><td>8.463748</td><td>0.0</td><td>0.082241</td><td>12.15933</td><td>0.0</td><td>false</td><td>false</td><td>false</td><td>&quot;Non-exonic&quot;</td></tr><tr><td>&hellip;</td><td>&hellip;</td><td>&hellip;</td><td>&hellip;</td><td>&hellip;</td><td>&hellip;</td><td>&hellip;</td><td>&hellip;</td><td>&hellip;</td><td>&hellip;</td><td>&hellip;</td><td>&hellip;</td><td>&hellip;</td><td>&hellip;</td><td>&hellip;</td><td>&hellip;</td><td>&hellip;</td><td>&hellip;</td></tr><tr><td>&quot;22&quot;</td><td>50791190</td><td>&quot;G&quot;</td><td>0.195654</td><td>0.365531</td><td>0.281909</td><td>0.156906</td><td>&quot;A&quot;</td><td>0.281909</td><td>3.547244</td><td>0.0</td><td>0.195654</td><td>5.111053</td><td>0.0</td><td>false</td><td>false</td><td>false</td><td>&quot;Non-exonic&quot;</td></tr><tr><td>&quot;22&quot;</td><td>50791228</td><td>&quot;G&quot;</td><td>0.29311</td><td>0.397516</td><td>0.053719</td><td>0.255655</td><td>&quot;A&quot;</td><td>0.053719</td><td>18.615324</td><td>0.0</td><td>0.29311</td><td>3.41169</td><td>0.0</td><td>false</td><td>false</td><td>false</td><td>&quot;Non-exonic&quot;</td></tr><tr><td>&quot;22&quot;</td><td>50791254</td><td>&quot;A&quot;</td><td>0.369038</td><td>0.219076</td><td>0.255625</td><td>0.156261</td><td>&quot;G&quot;</td><td>0.369038</td><td>2.709745</td><td>1.0</td><td>0.255625</td><td>3.911974</td><td>0.0</td><td>false</td><td>false</td><td>false</td><td>&quot;Non-exonic&quot;</td></tr><tr><td>&quot;22&quot;</td><td>50791360</td><td>&quot;T&quot;</td><td>0.307036</td><td>0.056299</td><td>0.354087</td><td>0.282578</td><td>&quot;G&quot;</td><td>0.282578</td><td>3.53884</td><td>0.0</td><td>0.354087</td><td>2.824166</td><td>1.0</td><td>false</td><td>false</td><td>false</td><td>&quot;Non-exonic&quot;</td></tr><tr><td>&quot;22&quot;</td><td>50791388</td><td>&quot;G&quot;</td><td>0.32602</td><td>0.337685</td><td>0.073818</td><td>0.262476</td><td>&quot;A&quot;</td><td>0.073818</td><td>13.546776</td><td>0.0</td><td>0.32602</td><td>3.067298</td><td>0.0</td><td>false</td><td>false</td><td>false</td><td>&quot;Non-exonic&quot;</td></tr><tr><td>&quot;22&quot;</td><td>50791674</td><td>&quot;G&quot;</td><td>0.377128</td><td>0.14625</td><td>0.170317</td><td>0.306304</td><td>&quot;A&quot;</td><td>0.170317</td><td>5.871391</td><td>0.0</td><td>0.377128</td><td>2.651617</td><td>1.0</td><td>false</td><td>false</td><td>false</td><td>&quot;Non-exonic&quot;</td></tr><tr><td>&quot;22&quot;</td><td>50791915</td><td>&quot;T&quot;</td><td>0.262939</td><td>0.077063</td><td>0.388978</td><td>0.27102</td><td>&quot;C&quot;</td><td>0.27102</td><td>3.689759</td><td>0.0</td><td>0.077063</td><td>12.976364</td><td>0.0</td><td>false</td><td>false</td><td>false</td><td>&quot;Non-exonic&quot;</td></tr><tr><td>&quot;22&quot;</td><td>50792075</td><td>&quot;G&quot;</td><td>0.244652</td><td>0.272663</td><td>0.350448</td><td>0.132238</td><td>&quot;T&quot;</td><td>0.350448</td><td>2.853493</td><td>1.0</td><td>0.132238</td><td>7.562132</td><td>0.0</td><td>false</td><td>false</td><td>false</td><td>&quot;Non-exonic&quot;</td></tr><tr><td>&quot;22&quot;</td><td>50792203</td><td>&quot;G&quot;</td><td>0.129046</td><td>0.268692</td><td>0.254889</td><td>0.347373</td><td>&quot;A&quot;</td><td>0.254889</td><td>3.92327</td><td>0.0</td><td>0.129046</td><td>7.749199</td><td>0.0</td><td>false</td><td>false</td><td>false</td><td>&quot;Non-exonic&quot;</td></tr><tr><td>&quot;22&quot;</td><td>50792252</td><td>&quot;A&quot;</td><td>0.227895</td><td>0.220022</td><td>0.175246</td><td>0.376837</td><td>&quot;G&quot;</td><td>0.227895</td><td>4.387989</td><td>0.0</td><td>0.175246</td><td>5.706274</td><td>0.0</td><td>false</td><td>false</td><td>false</td><td>&quot;Non-exonic&quot;</td></tr><tr><td>&quot;22&quot;</td><td>50792253</td><td>&quot;T&quot;</td><td>0.302993</td><td>0.183416</td><td>0.195436</td><td>0.318155</td><td>&quot;G&quot;</td><td>0.318155</td><td>3.143124</td><td>1.0</td><td>0.195436</td><td>5.116763</td><td>0.0</td><td>false</td><td>false</td><td>false</td><td>&quot;Non-exonic&quot;</td></tr><tr><td>&quot;22&quot;</td><td>50792521</td><td>&quot;C&quot;</td><td>0.114137</td><td>0.702595</td><td>0.015078</td><td>0.16819</td><td>&quot;T&quot;</td><td>0.702595</td><td>1.423294</td><td>1.0</td><td>0.16819</td><td>5.94566</td><td>0.0</td><td>false</td><td>false</td><td>false</td><td>&quot;Non-exonic&quot;</td></tr></tbody></table></div>"
      ],
      "text/plain": [
       "shape: (245_242, 18)\n",
       "┌───────┬──────────┬─────┬──────────┬───┬───────┬────────┬────────┬────────────┐\n",
       "│ chrom ┆ pos      ┆ ref ┆ A        ┆ … ┆ CDS   ┆ 5' UTR ┆ 3' UTR ┆ Region     │\n",
       "│ ---   ┆ ---      ┆ --- ┆ ---      ┆   ┆ ---   ┆ ---    ┆ ---    ┆ ---        │\n",
       "│ str   ┆ i64      ┆ str ┆ f32      ┆   ┆ bool  ┆ bool   ┆ bool   ┆ str        │\n",
       "╞═══════╪══════════╪═════╪══════════╪═══╪═══════╪════════╪════════╪════════════╡\n",
       "│ 22    ┆ 10518459 ┆ A   ┆ 0.008285 ┆ … ┆ false ┆ false  ┆ false  ┆ Non-exonic │\n",
       "│ 22    ┆ 10518501 ┆ T   ┆ 0.134272 ┆ … ┆ false ┆ false  ┆ false  ┆ Non-exonic │\n",
       "│ 22    ┆ 10519374 ┆ A   ┆ 0.835341 ┆ … ┆ false ┆ false  ┆ false  ┆ Non-exonic │\n",
       "│ 22    ┆ 10519601 ┆ T   ┆ 0.034935 ┆ … ┆ false ┆ false  ┆ false  ┆ Non-exonic │\n",
       "│ 22    ┆ 10520484 ┆ A   ┆ 0.166912 ┆ … ┆ false ┆ false  ┆ false  ┆ Non-exonic │\n",
       "│ …     ┆ …        ┆ …   ┆ …        ┆ … ┆ …     ┆ …      ┆ …      ┆ …          │\n",
       "│ 22    ┆ 50792075 ┆ G   ┆ 0.244652 ┆ … ┆ false ┆ false  ┆ false  ┆ Non-exonic │\n",
       "│ 22    ┆ 50792203 ┆ G   ┆ 0.129046 ┆ … ┆ false ┆ false  ┆ false  ┆ Non-exonic │\n",
       "│ 22    ┆ 50792252 ┆ A   ┆ 0.227895 ┆ … ┆ false ┆ false  ┆ false  ┆ Non-exonic │\n",
       "│ 22    ┆ 50792253 ┆ T   ┆ 0.302993 ┆ … ┆ false ┆ false  ┆ false  ┆ Non-exonic │\n",
       "│ 22    ┆ 50792521 ┆ C   ┆ 0.114137 ┆ … ┆ false ┆ false  ┆ false  ┆ Non-exonic │\n",
       "└───────┴──────────┴─────┴──────────┴───┴───────┴────────┴────────┴────────────┘"
      ]
     },
     "execution_count": 151,
     "metadata": {},
     "output_type": "execute_result"
    }
   ],
   "source": [
    "V_diff = V.filter(\n",
    "    pl.col(\"anc\").is_in(NUCLEOTIDES),\n",
    "    pl.col(\"anc\") != pl.col(\"ref\")\n",
    ")\n",
    "V_diff"
   ]
  },
  {
   "cell_type": "code",
   "execution_count": 153,
   "id": "ad5421b1-06f8-4540-81c3-1a48eedc1a62",
   "metadata": {
    "tags": []
   },
   "outputs": [
    {
     "data": {
      "text/html": [
       "<div><style>\n",
       ".dataframe > thead > tr,\n",
       ".dataframe > tbody > tr {\n",
       "  text-align: right;\n",
       "  white-space: pre-wrap;\n",
       "}\n",
       "</style>\n",
       "<small>shape: (4, 3)</small><table border=\"1\" class=\"dataframe\"><thead><tr><th>Region</th><th>mean accuracy ref</th><th>mean accuracy anc</th></tr><tr><td>str</td><td>f64</td><td>f64</td></tr></thead><tbody><tr><td>&quot;CDS&quot;</td><td>0.227335</td><td>0.679959</td></tr><tr><td>&quot;5&#x27; UTR&quot;</td><td>0.177312</td><td>0.678742</td></tr><tr><td>&quot;3&#x27; UTR&quot;</td><td>0.245011</td><td>0.60324</td></tr><tr><td>&quot;Non-exonic&quot;</td><td>0.268406</td><td>0.515225</td></tr></tbody></table></div>"
      ],
      "text/plain": [
       "shape: (4, 3)\n",
       "┌────────────┬───────────────────┬───────────────────┐\n",
       "│ Region     ┆ mean accuracy ref ┆ mean accuracy anc │\n",
       "│ ---        ┆ ---               ┆ ---               │\n",
       "│ str        ┆ f64               ┆ f64               │\n",
       "╞════════════╪═══════════════════╪═══════════════════╡\n",
       "│ CDS        ┆ 0.227335          ┆ 0.679959          │\n",
       "│ 5' UTR     ┆ 0.177312          ┆ 0.678742          │\n",
       "│ 3' UTR     ┆ 0.245011          ┆ 0.60324           │\n",
       "│ Non-exonic ┆ 0.268406          ┆ 0.515225          │\n",
       "└────────────┴───────────────────┴───────────────────┘"
      ]
     },
     "execution_count": 153,
     "metadata": {},
     "output_type": "execute_result"
    }
   ],
   "source": [
    "V_diff.group_by(\"Region\").agg(\n",
    "    #pl.mean(\"perplexity_ref\").alias(\"mean perplexity ref\"),\n",
    "    #pl.median(\"perplexity_ref\").alias(\"median perplexity ref\"),\n",
    "    pl.mean(\"accuracy_ref\").alias(\"mean accuracy ref\"),\n",
    "    #pl.mean(\"perplexity_anc\").alias(\"mean perplexity anc\"),\n",
    "    #pl.median(\"perplexity_anc\").alias(\"median perplexity anc\"),\n",
    "    pl.mean(\"accuracy_anc\").alias(\"mean accuracy anc\"),\n",
    ").sort(\"mean accuracy anc\", descending=True)"
   ]
  }
 ],
 "metadata": {
  "kernelspec": {
   "display_name": "gpn",
   "language": "python",
   "name": "gpn"
  },
  "language_info": {
   "codemirror_mode": {
    "name": "ipython",
    "version": 3
   },
   "file_extension": ".py",
   "mimetype": "text/x-python",
   "name": "python",
   "nbconvert_exporter": "python",
   "pygments_lexer": "ipython3",
   "version": "3.11.3"
  }
 },
 "nbformat": 4,
 "nbformat_minor": 5
}
