{
 "cells": [
  {
   "cell_type": "code",
   "execution_count": 3,
   "id": "c493406e-7917-4149-8ad0-825b9d2e8775",
   "metadata": {
    "tags": []
   },
   "outputs": [],
   "source": [
    "from datasets import Dataset\n",
    "from gpn.data import GenomeMSA\n",
    "from gpn.msa.inference import run_inference\n",
    "import matplotlib.pyplot as plt\n",
    "import numpy as np\n",
    "import pandas as pd\n",
    "from pathlib import Path\n",
    "from sklearn.metrics import roc_auc_score, precision_recall_curve, auc, RocCurveDisplay, average_precision_score\n",
    "from scipy.spatial.distance import cdist\n",
    "import seaborn as sns\n",
    "from tqdm import tqdm\n",
    "import warnings\n",
    "warnings.filterwarnings('ignore')"
   ]
  },
  {
   "cell_type": "code",
   "execution_count": 3,
   "id": "8280a8ca-bce7-4923-bbe3-fcd65a298aa1",
   "metadata": {},
   "outputs": [
    {
     "name": "stdout",
     "output_type": "stream",
     "text": [
      "Loading MSA...\n",
      "Loading MSA... Done\n"
     ]
    }
   ],
   "source": [
    "genome_msa = GenomeMSA(\"../../results/msa/multiz100way/89/all.zarr\")"
   ]
  },
  {
   "cell_type": "code",
   "execution_count": 31,
   "id": "aa12401b-be47-4780-82ee-372f4426e7ff",
   "metadata": {
    "tags": []
   },
   "outputs": [],
   "source": [
    "from gpn.data import Tokenizer, ReverseComplementer\n",
    "import gpn.model\n",
    "import numpy as np\n",
    "import pandas as pd\n",
    "import torch\n",
    "import torch.nn.functional as F\n",
    "from transformers import AutoModel, AutoModelForMaskedLM\n",
    "\n",
    "\n",
    "class VEPEmbedding(torch.nn.Module):\n",
    "    def __init__(self, model_path, embedding_mean=None, embedding_std=None):\n",
    "        super().__init__()\n",
    "        self.model = AutoModel.from_pretrained(model_path)\n",
    "        if embedding_mean is not None and embedding_std is not None:\n",
    "            self.register_buffer(\"embedding_mean\", torch.tensor(embedding_mean))\n",
    "            self.register_buffer(\"embedding_std\", torch.tensor(embedding_std))\n",
    "        else:\n",
    "            self.embedding_mean = None\n",
    "\n",
    "    def get_embedding(self, input_ids, aux_features, exclude_pos=None):\n",
    "        embedding = self.model(\n",
    "            input_ids=input_ids, aux_features=aux_features,\n",
    "        ).last_hidden_state\n",
    "        \n",
    "        if exclude_pos is not None:\n",
    "            embedding = torch.cat((embedding[:, :exclude_pos], embedding[:, exclude_pos+1:]), dim=1)\n",
    "\n",
    "        # chosing specific layer\n",
    "        #hidden_states = self.model(\n",
    "        #    input_ids=input_ids, aux_features=aux_features,\n",
    "        #    output_hidden_states=True,\n",
    "        #).hidden_states # note 0 is the encoder, so last layer is 12, not 11\n",
    "        #embedding = torch.cat((hidden_states[-1], hidden_states[-2]), dim=-1)  \n",
    "            \n",
    "        if self.embedding_mean is not None:\n",
    "            embedding = (embedding - self.embedding_mean) / self.embedding_std\n",
    "        \n",
    "        # this usually on\n",
    "        #embedding = embedding.reshape(len(input_ids), -1)\n",
    "        \n",
    "        return embedding\n",
    "    \n",
    "    def get_scores(self, input_ids_ref, aux_features_ref, input_ids_alt, aux_features_alt, exclude_pos=None):\n",
    "        embedding_ref = self.get_embedding(input_ids_ref, aux_features_ref, exclude_pos=exclude_pos)\n",
    "        embedding_alt = self.get_embedding(input_ids_alt, aux_features_alt, exclude_pos=exclude_pos)\n",
    "        return torch.stack((embedding_ref, embedding_alt), dim=1)\n",
    "        return (\n",
    "            F.pairwise_distance(embedding_ref, embedding_alt),\n",
    "            (embedding_ref * embedding_alt).sum(dim=1),  # dot product\n",
    "            F.cosine_similarity(embedding_ref, embedding_alt),\n",
    "        )\n",
    "\n",
    "    def forward(\n",
    "        self,\n",
    "        input_ids_ref_fwd=None,\n",
    "        aux_features_ref_fwd=None,\n",
    "        input_ids_alt_fwd=None,\n",
    "        aux_features_alt_fwd=None,\n",
    "        input_ids_ref_rev=None,\n",
    "        aux_features_ref_rev=None,\n",
    "        input_ids_alt_rev=None,\n",
    "        aux_features_alt_rev=None,\n",
    "    ):\n",
    "        W = input_ids_ref_fwd.shape[1]\n",
    "\n",
    "        return torch.cat((\n",
    "            self.get_scores(input_ids_ref_fwd, aux_features_ref_fwd, input_ids_alt_fwd, aux_features_alt_fwd),\n",
    "            self.get_scores(input_ids_ref_rev, aux_features_ref_rev, input_ids_alt_rev, aux_features_alt_rev),\n",
    "        ), dim=1)\n",
    "        fwd1, fwd2, fwd3 = self.get_scores(\n",
    "            input_ids_ref_fwd, aux_features_ref_fwd, input_ids_alt_fwd, aux_features_alt_fwd,\n",
    "            #exclude_pos=W//2,\n",
    "        )\n",
    "        rev1, rev2, rev3 = self.get_scores(\n",
    "            input_ids_ref_rev, aux_features_ref_rev, input_ids_alt_rev, aux_features_alt_rev,\n",
    "            #exclude_pos=(W//2) - 1,\n",
    "        )\n",
    "        return torch.stack((\n",
    "            (fwd1 + rev1) / 2,\n",
    "            (fwd2 + rev2) / 2,\n",
    "            (fwd3 + rev3) / 2,\n",
    "        \n",
    "        ), dim=1)\n",
    "\n",
    "\n",
    "class VEPEmbeddingInference(object):\n",
    "    def __init__(self, model_path, genome_msa, window_size):\n",
    "        self.model = VEPEmbedding(model_path)#, embedding_mean=embedding_mean, embedding_std=embedding_std)\n",
    "        self.genome_msa = genome_msa\n",
    "        self.window_size = window_size\n",
    "        self.tokenizer = Tokenizer()\n",
    "        self.reverse_complementer = ReverseComplementer()\n",
    "\n",
    "    def tokenize_function(self, V):\n",
    "        # we convert from 1-based coordinate (standard in VCF) to\n",
    "        # 0-based, to use with GenomeMSA\n",
    "        chrom = np.array(V[\"chrom\"])\n",
    "        pos = np.array(V[\"pos\"]) - 1\n",
    "        start = pos - self.window_size // 2\n",
    "        end = pos + self.window_size // 2\n",
    "        \n",
    "        msa_fwd, msa_rev = self.genome_msa.get_msa_batch_fwd_rev(\n",
    "            chrom,\n",
    "            start,\n",
    "            end,\n",
    "            tokenize=True,\n",
    "        )\n",
    "        pos_fwd = self.window_size // 2\n",
    "        pos_rev = pos_fwd - 1 if self.window_size % 2 == 0 else pos_fwd\n",
    "\n",
    "        ref_fwd = np.array(\n",
    "            [np.frombuffer(x.encode(\"ascii\"), dtype=\"S1\") for x in V[\"ref\"]]\n",
    "        )\n",
    "        alt_fwd = np.array(\n",
    "            [np.frombuffer(x.encode(\"ascii\"), dtype=\"S1\") for x in V[\"alt\"]]\n",
    "        )\n",
    "        ref_rev = self.reverse_complementer(ref_fwd)\n",
    "        alt_rev = self.reverse_complementer(alt_fwd)\n",
    "\n",
    "        def prepare_output(msa, pos, ref, alt):\n",
    "            ref, alt = self.tokenizer(ref.flatten()), self.tokenizer(alt.flatten())\n",
    "            input_ids, aux_features = msa[:, :, 0], msa[:, :, 1:]\n",
    "            assert (\n",
    "                input_ids[:, pos] == ref\n",
    "            ).all(), f\"{input_ids[:, pos].tolist()}, {ref.tolist()}\"\n",
    "            input_ids_alt = input_ids.copy()\n",
    "            input_ids_alt[:, pos] = alt\n",
    "            input_ids = input_ids.astype(np.int64)\n",
    "            input_ids_alt = input_ids_alt.astype(np.int64)\n",
    "            return input_ids, aux_features, input_ids_alt, aux_features\n",
    "\n",
    "        res = {}\n",
    "        (\n",
    "            res[\"input_ids_ref_fwd\"],\n",
    "            res[\"aux_features_ref_fwd\"],\n",
    "            res[\"input_ids_alt_fwd\"],\n",
    "            res[\"aux_features_alt_fwd\"],\n",
    "        ) = prepare_output(msa_fwd, pos_fwd, ref_fwd, alt_fwd)\n",
    "        (\n",
    "            res[\"input_ids_ref_rev\"],\n",
    "            res[\"aux_features_ref_rev\"],\n",
    "            res[\"input_ids_alt_rev\"],\n",
    "            res[\"aux_features_alt_rev\"],\n",
    "        ) = prepare_output(msa_rev, pos_rev, ref_rev, alt_rev)\n",
    "        return res\n",
    "\n",
    "    def postprocess(self, pred):\n",
    "        return pred\n",
    "        #return pd.DataFrame(pred, columns=[\"euclidean_distance\", \"inner_product\", \"cosine_similarity\"])\n",
    "        #return pd.DataFrame(pred, columns=[\"score\"])\n",
    "\n",
    "\n",
    "def score_vep(V2):\n",
    "    dataset = Dataset.from_pandas(V2[cols])\n",
    "    inference = VEPEmbeddingInference(\"songlab/gpn-msa-sapiens\", genome_msa, 128)\n",
    "    pred = run_inference(\n",
    "        dataset,\n",
    "        inference,\n",
    "        per_device_batch_size=256,\n",
    "        dataloader_num_workers=8,\n",
    "    )\n",
    "    return pred\n",
    "\n",
    "\n",
    "def add_scores(V2):\n",
    "    V2.loc[:, [\"euclidean_distance\", \"inner_product\", \"cosine_similarity\"]] = score_vep(V2)\n",
    "    V2.euclidean_distance *= -1\n",
    "    V2.cosine_similarity -= V2.cosine_similarity.max()\n",
    "    V2.inner_product -= V2.inner_product.max()\n",
    "    return V2"
   ]
  },
  {
   "cell_type": "code",
   "execution_count": 11,
   "id": "eb726a59-09e2-44b7-9239-a3506b2e9a1c",
   "metadata": {
    "tags": []
   },
   "outputs": [
    {
     "data": {
      "text/html": [
       "<div>\n",
       "<style scoped>\n",
       "    .dataframe tbody tr th:only-of-type {\n",
       "        vertical-align: middle;\n",
       "    }\n",
       "\n",
       "    .dataframe tbody tr th {\n",
       "        vertical-align: top;\n",
       "    }\n",
       "\n",
       "    .dataframe thead th {\n",
       "        text-align: right;\n",
       "    }\n",
       "</style>\n",
       "<table border=\"1\" class=\"dataframe\">\n",
       "  <thead>\n",
       "    <tr style=\"text-align: right;\">\n",
       "      <th></th>\n",
       "      <th>chrom</th>\n",
       "      <th>pos</th>\n",
       "      <th>ref</th>\n",
       "      <th>alt</th>\n",
       "      <th>pip</th>\n",
       "      <th>GPN-MSA</th>\n",
       "      <th>CADD</th>\n",
       "      <th>phyloP</th>\n",
       "    </tr>\n",
       "  </thead>\n",
       "  <tbody>\n",
       "    <tr>\n",
       "      <th>0</th>\n",
       "      <td>1</td>\n",
       "      <td>727242</td>\n",
       "      <td>G</td>\n",
       "      <td>A</td>\n",
       "      <td>4.651720e-12</td>\n",
       "      <td>-1.317049</td>\n",
       "      <td>-0.413109</td>\n",
       "      <td>-0.655</td>\n",
       "    </tr>\n",
       "    <tr>\n",
       "      <th>1</th>\n",
       "      <td>1</td>\n",
       "      <td>758351</td>\n",
       "      <td>A</td>\n",
       "      <td>G</td>\n",
       "      <td>5.534810e-11</td>\n",
       "      <td>-0.050360</td>\n",
       "      <td>-0.296760</td>\n",
       "      <td>-0.289</td>\n",
       "    </tr>\n",
       "    <tr>\n",
       "      <th>2</th>\n",
       "      <td>1</td>\n",
       "      <td>758443</td>\n",
       "      <td>G</td>\n",
       "      <td>C</td>\n",
       "      <td>3.978040e-12</td>\n",
       "      <td>-0.226570</td>\n",
       "      <td>-1.064142</td>\n",
       "      <td>-0.252</td>\n",
       "    </tr>\n",
       "    <tr>\n",
       "      <th>3</th>\n",
       "      <td>1</td>\n",
       "      <td>770988</td>\n",
       "      <td>A</td>\n",
       "      <td>G</td>\n",
       "      <td>8.349990e-13</td>\n",
       "      <td>-0.988294</td>\n",
       "      <td>-0.170610</td>\n",
       "      <td>-0.291</td>\n",
       "    </tr>\n",
       "    <tr>\n",
       "      <th>4</th>\n",
       "      <td>1</td>\n",
       "      <td>796338</td>\n",
       "      <td>T</td>\n",
       "      <td>C</td>\n",
       "      <td>7.095540e-10</td>\n",
       "      <td>1.562877</td>\n",
       "      <td>0.140019</td>\n",
       "      <td>0.372</td>\n",
       "    </tr>\n",
       "    <tr>\n",
       "      <th>...</th>\n",
       "      <td>...</td>\n",
       "      <td>...</td>\n",
       "      <td>...</td>\n",
       "      <td>...</td>\n",
       "      <td>...</td>\n",
       "      <td>...</td>\n",
       "      <td>...</td>\n",
       "      <td>...</td>\n",
       "    </tr>\n",
       "    <tr>\n",
       "      <th>757818</th>\n",
       "      <td>22</td>\n",
       "      <td>50783303</td>\n",
       "      <td>T</td>\n",
       "      <td>C</td>\n",
       "      <td>0.000000e+00</td>\n",
       "      <td>-1.394941</td>\n",
       "      <td>-0.715689</td>\n",
       "      <td>-0.049</td>\n",
       "    </tr>\n",
       "    <tr>\n",
       "      <th>757819</th>\n",
       "      <td>22</td>\n",
       "      <td>50784338</td>\n",
       "      <td>G</td>\n",
       "      <td>A</td>\n",
       "      <td>2.306390e-03</td>\n",
       "      <td>-0.965638</td>\n",
       "      <td>-0.267661</td>\n",
       "      <td>-0.450</td>\n",
       "    </tr>\n",
       "    <tr>\n",
       "      <th>757820</th>\n",
       "      <td>22</td>\n",
       "      <td>50791228</td>\n",
       "      <td>G</td>\n",
       "      <td>A</td>\n",
       "      <td>0.000000e+00</td>\n",
       "      <td>1.697440</td>\n",
       "      <td>0.163494</td>\n",
       "      <td>2.096</td>\n",
       "    </tr>\n",
       "    <tr>\n",
       "      <th>757821</th>\n",
       "      <td>22</td>\n",
       "      <td>50791377</td>\n",
       "      <td>T</td>\n",
       "      <td>C</td>\n",
       "      <td>0.000000e+00</td>\n",
       "      <td>-0.309580</td>\n",
       "      <td>-0.211272</td>\n",
       "      <td>-0.286</td>\n",
       "    </tr>\n",
       "    <tr>\n",
       "      <th>757822</th>\n",
       "      <td>22</td>\n",
       "      <td>50792792</td>\n",
       "      <td>A</td>\n",
       "      <td>G</td>\n",
       "      <td>2.856520e-03</td>\n",
       "      <td>-0.059765</td>\n",
       "      <td>-0.457751</td>\n",
       "      <td>-0.020</td>\n",
       "    </tr>\n",
       "  </tbody>\n",
       "</table>\n",
       "<p>757823 rows × 8 columns</p>\n",
       "</div>"
      ],
      "text/plain": [
       "       chrom       pos ref alt           pip   GPN-MSA      CADD  phyloP\n",
       "0          1    727242   G   A  4.651720e-12 -1.317049 -0.413109  -0.655\n",
       "1          1    758351   A   G  5.534810e-11 -0.050360 -0.296760  -0.289\n",
       "2          1    758443   G   C  3.978040e-12 -0.226570 -1.064142  -0.252\n",
       "3          1    770988   A   G  8.349990e-13 -0.988294 -0.170610  -0.291\n",
       "4          1    796338   T   C  7.095540e-10  1.562877  0.140019   0.372\n",
       "...      ...       ...  ..  ..           ...       ...       ...     ...\n",
       "757818    22  50783303   T   C  0.000000e+00 -1.394941 -0.715689  -0.049\n",
       "757819    22  50784338   G   A  2.306390e-03 -0.965638 -0.267661  -0.450\n",
       "757820    22  50791228   G   A  0.000000e+00  1.697440  0.163494   2.096\n",
       "757821    22  50791377   T   C  0.000000e+00 -0.309580 -0.211272  -0.286\n",
       "757822    22  50792792   A   G  2.856520e-03 -0.059765 -0.457751  -0.020\n",
       "\n",
       "[757823 rows x 8 columns]"
      ]
     },
     "execution_count": 11,
     "metadata": {},
     "output_type": "execute_result"
    }
   ],
   "source": [
    "models = [\n",
    "    \"multiz100way/89/128/64/True/defined.phastCons.percentile-75_0.05_0.001/medium/0.1/42/30000/True/True/True\",\n",
    "    \"CADD.RawScore\",\n",
    "    \"phyloP\",\n",
    "]\n",
    "\n",
    "model_renaming = {\n",
    "    \"CADD.RawScore\": \"CADD\",\n",
    "    \"multiz100way/89/128/64/True/defined.phastCons.percentile-75_0.05_0.001/medium/0.1/42/30000/True/True/True\": \"GPN-MSA\",\n",
    "}\n",
    "\n",
    "V = pd.read_parquet(\"../../results/causaldb/test.parquet\")\n",
    "d = Path(f\"../../results/preds/results/causaldb\")\n",
    "for m in models:\n",
    "    model_name = model_renaming.get(m, m)\n",
    "    model_path = d / f\"{m}.parquet\"\n",
    "    V[model_name] = pd.read_parquet(model_path)[\"score\"].values\n",
    "models = [model_renaming.get(m, m) for m in models]\n",
    "V"
   ]
  },
  {
   "cell_type": "code",
   "execution_count": 12,
   "id": "e4d48a5e-a42b-4a67-9eda-dbedf4f48290",
   "metadata": {
    "tags": []
   },
   "outputs": [
    {
     "name": "stdout",
     "output_type": "stream",
     "text": [
      "GPN-MSA\n"
     ]
    }
   ],
   "source": [
    "exclude_abs = [\"CADD\", \"phyloP\", \"phyloP-100-vertebrates\", \"phyloP-241-mammals\", \"phyloP-Zoonomia\", 'phastCons-100-vertebrates']\n",
    "for m in models:\n",
    "    if m in V.columns and m not in exclude_abs:\n",
    "        print(m)\n",
    "        V[m] = -V[m].abs()"
   ]
  },
  {
   "cell_type": "code",
   "execution_count": 13,
   "id": "2de868f1-b5bc-4e37-867e-49f0578a2e32",
   "metadata": {
    "tags": []
   },
   "outputs": [
    {
     "data": {
      "text/plain": [
       "0.9860983369467541"
      ]
     },
     "execution_count": 13,
     "metadata": {},
     "output_type": "execute_result"
    }
   ],
   "source": [
    "not_na = ~V[models].isna().any(axis=1)\n",
    "not_na.mean()"
   ]
  },
  {
   "cell_type": "code",
   "execution_count": 14,
   "id": "9bd3a268-68a3-46e3-844c-32e7bab44f47",
   "metadata": {
    "tags": []
   },
   "outputs": [
    {
     "data": {
      "text/plain": [
       "(747288, 8)"
      ]
     },
     "execution_count": 14,
     "metadata": {},
     "output_type": "execute_result"
    }
   ],
   "source": [
    "V = V[not_na]\n",
    "V.shape"
   ]
  },
  {
   "cell_type": "code",
   "execution_count": 15,
   "id": "5aedf50f-fbd1-4433-acd4-f442cff3eceb",
   "metadata": {
    "tags": []
   },
   "outputs": [
    {
     "data": {
      "text/plain": [
       "Likely causal\n",
       "False    734816\n",
       "True       7841\n",
       "Name: count, dtype: int64"
      ]
     },
     "execution_count": 15,
     "metadata": {},
     "output_type": "execute_result"
    }
   ],
   "source": [
    "V2 = V.copy()\n",
    "V2.loc[V2.pip > 0.99, \"Likely causal\"] = True\n",
    "V2.loc[V2.pip < 0.01, \"Likely causal\"] = False\n",
    "V2 = V2.dropna(subset=\"Likely causal\")\n",
    "V2[\"Likely causal\"] = V2[\"Likely causal\"].astype(bool)\n",
    "V2[\"Likely causal\"].value_counts()"
   ]
  },
  {
   "cell_type": "code",
   "execution_count": 16,
   "id": "2628107d-8524-448d-b03c-7ae45f988bd9",
   "metadata": {
    "tags": []
   },
   "outputs": [
    {
     "data": {
      "text/html": [
       "<div>\n",
       "<style scoped>\n",
       "    .dataframe tbody tr th:only-of-type {\n",
       "        vertical-align: middle;\n",
       "    }\n",
       "\n",
       "    .dataframe tbody tr th {\n",
       "        vertical-align: top;\n",
       "    }\n",
       "\n",
       "    .dataframe thead th {\n",
       "        text-align: right;\n",
       "    }\n",
       "</style>\n",
       "<table border=\"1\" class=\"dataframe\">\n",
       "  <thead>\n",
       "    <tr style=\"text-align: right;\">\n",
       "      <th></th>\n",
       "      <th>Model</th>\n",
       "      <th>AUROC</th>\n",
       "      <th>AUPRC</th>\n",
       "    </tr>\n",
       "  </thead>\n",
       "  <tbody>\n",
       "    <tr>\n",
       "      <th>0</th>\n",
       "      <td>GPN-MSA</td>\n",
       "      <td>0.552169</td>\n",
       "      <td>0.019186</td>\n",
       "    </tr>\n",
       "    <tr>\n",
       "      <th>1</th>\n",
       "      <td>CADD</td>\n",
       "      <td>0.520590</td>\n",
       "      <td>0.023708</td>\n",
       "    </tr>\n",
       "    <tr>\n",
       "      <th>2</th>\n",
       "      <td>phyloP</td>\n",
       "      <td>0.559628</td>\n",
       "      <td>0.018544</td>\n",
       "    </tr>\n",
       "  </tbody>\n",
       "</table>\n",
       "</div>"
      ],
      "text/plain": [
       "     Model     AUROC     AUPRC\n",
       "0  GPN-MSA  0.552169  0.019186\n",
       "1     CADD  0.520590  0.023708\n",
       "2   phyloP  0.559628  0.018544"
      ]
     },
     "execution_count": 16,
     "metadata": {},
     "output_type": "execute_result"
    }
   ],
   "source": [
    "results = []\n",
    "for m in models:\n",
    "    results.append([\n",
    "        m,\n",
    "        roc_auc_score(V2[\"Likely causal\"], -V2[m]),\n",
    "        average_precision_score(V2[\"Likely causal\"], -V2[m]),\n",
    "    ])\n",
    "results = pd.DataFrame(results, columns=[\"Model\", \"AUROC\", \"AUPRC\"])\n",
    "results"
   ]
  },
  {
   "cell_type": "code",
   "execution_count": 17,
   "id": "53c38c14-2205-4db1-b190-0e6577a3bbf3",
   "metadata": {
    "tags": []
   },
   "outputs": [
    {
     "data": {
      "text/plain": [
       "<Axes: xlabel='AUPRC', ylabel='Model'>"
      ]
     },
     "execution_count": 17,
     "metadata": {},
     "output_type": "execute_result"
    },
    {
     "data": {
      "image/png": "[encoded data removed]",
      "text/plain": [
       "<Figure size 216x216 with 1 Axes>"
      ]
     },
     "metadata": {
      "needs_background": "light"
     },
     "output_type": "display_data"
    }
   ],
   "source": [
    "plt.figure(figsize=(3,3))\n",
    "sns.pointplot(\n",
    "    data=results.sort_values(\"AUPRC\", ascending=False),\n",
    "    y=\"Model\",\n",
    "    x=\"AUPRC\",\n",
    "    join=False,\n",
    ")"
   ]
  },
  {
   "cell_type": "code",
   "execution_count": null,
   "id": "dd3aaed1-c619-4e66-889e-7d3b5e214887",
   "metadata": {},
   "outputs": [],
   "source": []
  }
 ],
 "metadata": {
  "kernelspec": {
   "display_name": "gpn",
   "language": "python",
   "name": "gpn"
  },
  "language_info": {
   "codemirror_mode": {
    "name": "ipython",
    "version": 3
   },
   "file_extension": ".py",
   "mimetype": "text/x-python",
   "name": "python",
   "nbconvert_exporter": "python",
   "pygments_lexer": "ipython3",
   "version": "3.11.3"
  }
 },
 "nbformat": 4,
 "nbformat_minor": 5
}
