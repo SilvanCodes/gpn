{
 "cells": [
  {
   "cell_type": "code",
   "execution_count": 1,
   "id": "5bdab8ea-d113-4106-aa3b-bb0f1ae18a1d",
   "metadata": {
    "tags": []
   },
   "outputs": [],
   "source": [
    "import zarr"
   ]
  },
  {
   "cell_type": "code",
   "execution_count": 13,
   "id": "8ed596ca-d240-493d-a413-4b74234511f9",
   "metadata": {
    "tags": []
   },
   "outputs": [],
   "source": [
    "# not working\n",
    "# zarr.open('zip:///::hf://gonzalobenegas/super-rose/89.zarr.zip')"
   ]
  },
  {
   "cell_type": "code",
   "execution_count": 6,
   "id": "09e50a22-f91a-4865-a2b5-375fdccf9268",
   "metadata": {
    "tags": []
   },
   "outputs": [
    {
     "data": {
      "text/plain": [
       "<zarr.hierarchy.Group '/'>"
      ]
     },
     "execution_count": 6,
     "metadata": {},
     "output_type": "execute_result"
    }
   ],
   "source": [
    "# Seems to be taking like a minute, wonder why\n",
    "z = zarr.open('zip:///::https://huggingface.co/datasets/gonzalobenegas/super-rose/resolve/main/89.zarr.zip')\n",
    "z"
   ]
  },
  {
   "cell_type": "code",
   "execution_count": 11,
   "id": "2ff9c04e-6ad6-4480-ba5c-41328836d0c9",
   "metadata": {
    "tags": []
   },
   "outputs": [
    {
     "data": {
      "text/plain": [
       "(139, 90)"
      ]
     },
     "execution_count": 11,
     "metadata": {},
     "output_type": "execute_result"
    }
   ],
   "source": [
    "x = z[\"X\"][15573342:15573481]\n",
    "x.shape"
   ]
  },
  {
   "cell_type": "code",
   "execution_count": null,
   "id": "c3ff1cb5-b18c-4969-b7ef-12571ebe3116",
   "metadata": {},
   "outputs": [],
   "source": []
  }
 ],
 "metadata": {
  "kernelspec": {
   "display_name": "gpn",
   "language": "python",
   "name": "gpn"
  },
  "language_info": {
   "codemirror_mode": {
    "name": "ipython",
    "version": 3
   },
   "file_extension": ".py",
   "mimetype": "text/x-python",
   "name": "python",
   "nbconvert_exporter": "python",
   "pygments_lexer": "ipython3",
   "version": "3.11.3"
  }
 },
 "nbformat": 4,
 "nbformat_minor": 5
}
