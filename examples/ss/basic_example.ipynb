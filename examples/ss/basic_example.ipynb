{
  "cells": [
    {
      "cell_type": "markdown",
      "metadata": {
        "id": "RVs1eelGRwcp"
      },
      "source": [
        "# Basic example with GPN"
      ]
    },
    {
      "cell_type": "markdown",
      "metadata": {
        "id": "8B2MO9GJqTsH"
      },
      "source": [
        "## Setup"
      ]
    },
    {
      "cell_type": "code",
      "execution_count": 1,
      "metadata": {
        "colab": {
          "base_uri": "https://localhost:8080/"
        },
        "id": "Ff_VhW6GciQ-",
        "outputId": "94d74808-6c2d-4310-c915-e6bca7239ca1"
      },
      "outputs": [
        {
          "output_type": "stream",
          "name": "stdout",
          "text": [
            "  Preparing metadata (setup.py) ... \u001b[?25l\u001b[?25hdone\n",
            "  Preparing metadata (setup.py) ... \u001b[?25l\u001b[?25hdone\n",
            "\u001b[2K   \u001b[90m━━━━━━━━━━━━━━━━━━━━━━━━━━━━━━━━━━━━━━━━\u001b[0m \u001b[32m153.3/153.3 kB\u001b[0m \u001b[31m6.1 MB/s\u001b[0m eta \u001b[36m0:00:00\u001b[0m\n",
            "\u001b[2K   \u001b[90m━━━━━━━━━━━━━━━━━━━━━━━━━━━━━━━━━━━━━━━━\u001b[0m \u001b[32m3.3/3.3 MB\u001b[0m \u001b[31m55.9 MB/s\u001b[0m eta \u001b[36m0:00:00\u001b[0m\n",
            "\u001b[2K   \u001b[90m━━━━━━━━━━━━━━━━━━━━━━━━━━━━━━━━━━━━━━━━\u001b[0m \u001b[32m84.1/84.1 kB\u001b[0m \u001b[31m6.5 MB/s\u001b[0m eta \u001b[36m0:00:00\u001b[0m\n",
            "\u001b[2K   \u001b[90m━━━━━━━━━━━━━━━━━━━━━━━━━━━━━━━━━━━━━━━━\u001b[0m \u001b[32m187.1/187.1 kB\u001b[0m \u001b[31m16.3 MB/s\u001b[0m eta \u001b[36m0:00:00\u001b[0m\n",
            "\u001b[2K   \u001b[90m━━━━━━━━━━━━━━━━━━━━━━━━━━━━━━━━━━━━━━━━\u001b[0m \u001b[32m276.4/276.4 kB\u001b[0m \u001b[31m21.2 MB/s\u001b[0m eta \u001b[36m0:00:00\u001b[0m\n",
            "\u001b[2K   \u001b[90m━━━━━━━━━━━━━━━━━━━━━━━━━━━━━━━━━━━━━━━━\u001b[0m \u001b[32m8.8/8.8 MB\u001b[0m \u001b[31m104.5 MB/s\u001b[0m eta \u001b[36m0:00:00\u001b[0m\n",
            "\u001b[2K   \u001b[90m━━━━━━━━━━━━━━━━━━━━━━━━━━━━━━━━━━━━━━━━\u001b[0m \u001b[32m80.0/80.0 kB\u001b[0m \u001b[31m6.7 MB/s\u001b[0m eta \u001b[36m0:00:00\u001b[0m\n",
            "\u001b[?25h  Building wheel for gpn (setup.py) ... \u001b[?25l\u001b[?25hdone\n",
            "  Building wheel for pandarallel (setup.py) ... \u001b[?25l\u001b[?25hdone\n"
          ]
        }
      ],
      "source": [
        "!pip install --quiet git+https://github.com/SilvanCodes/gpn.git"
      ]
    },
    {
      "cell_type": "code",
      "execution_count": 2,
      "metadata": {
        "id": "w1NVT828inDl",
        "outputId": "ebf3e20c-8bb4-4dd3-ad38-90447adfc96e",
        "colab": {
          "base_uri": "https://localhost:8080/",
          "height": 333,
          "referenced_widgets": [
            "ada7c0bca54c4599b528522ef31fece8",
            "d8226ab9c8c149bca83780d2b07093df",
            "d3d853bbadc34ac199b8a482711bc075",
            "5387767f40ba447e89935f49139c6e60",
            "23fad72df39749adb0914f9b40669365",
            "37605a4e088d4872965922fff8ba00e5",
            "762020d66ba94968ba20385424a0a4f3",
            "ae365c0dc2d64b758561d79d14c946e0",
            "1262f9b54f3e4ca7889ee4b85fff48d1",
            "1e4b85b142674eacbdd86b021f5eb542",
            "5c504efa53d24f61b68097eba4841af4",
            "8b3f851671474fce9c47e0eec6c1389e",
            "2575a9cbbd4c4207b95218477fc3a27b",
            "22d6ee72eca3470aafdb07fe2aee7eaf",
            "52a461d22a18492f890cba5bc0d3f722",
            "ff7d5c125fa94c73a34e82db050d3d06",
            "05a7a9b1c68c433fb5f78d1a2714d904",
            "a1a62999de79483cb969c662930a8a92",
            "41fff53da956461cb39625ccf2d9e698",
            "a09134c5f44a46c0a918703095ecef60",
            "9313ac8653f740a9b471e26b3fef1322",
            "f1cd0f80a0cf4568b8e75ede9e86f2a0",
            "ccad3096bf8e479482598a27c47df6d4",
            "dbc738d7bcbd461080ee17ff595982b3",
            "a9cd45cba2994af4b78d1ee850927287",
            "ca82bc902d294e1d9e7ce784f4a4606c",
            "f3077f6d09f24d11a198101a6bd588b4",
            "a912793d97c54f4eb039efb65a9ed671",
            "e1212e220de841e59ae44a44c29c3ddd",
            "7e78dd9ea3d046afad5ae7279b308718",
            "4c095321d1d742ddb660aaf608cedaef",
            "616e4ec2a3f04a57bcbb9450a8f8ebc8",
            "f84b3dbdf4bb441ba5ed6f43bdf85713",
            "e4fa16730aae43d79ef5748c5519455f",
            "9eb73734e34e41299694018f48ad1b10",
            "269d0f5ce279405dace46ed09d2484e6",
            "ce86fb4daafa42ab94a705b606494cb3",
            "553d3160d90f44d1bd0897320f38258c",
            "e38ca94422794cf28be92dbb644bfdeb",
            "c49c4f25d6ac492eab0ef15339627e14",
            "6d2c6407237b4ca4aaa4fc7f44bafa41",
            "e9cf889cf56f425496906fe95689a729",
            "d7f08a28f3dc46a1938ecf2bf36b082f",
            "4c5b14976b68427aa2275200baf92d8a",
            "de8c6d667c204a88b6e6e22c62b5c4c3",
            "038002adf0ec44b89aa93663f161889f",
            "a2d59c591e0c4c24896d8812c1d43079",
            "37076e83b9e046bb80c6e8f8fbd18a81",
            "81889e1a08984f09a11712c82da59da2",
            "9013e2186f1b4968a755500eee1ecaff",
            "0e912f4751854ee3847ffbd156f98e98",
            "6799f0699295458fbded03838a9de8c6",
            "d7015e43fdfb40948adf33d367cfbfe1",
            "b0357e131bbe4f30a172179b61f19b74",
            "2cd631c706124bda9fbc94e3e1208153"
          ]
        }
      },
      "outputs": [
        {
          "output_type": "stream",
          "name": "stderr",
          "text": [
            "No model was supplied, defaulted to songlab/gpn-brassicales and revision main (https://huggingface.co/songlab/gpn-brassicales).\n",
            "Using a pipeline without specifying a model name and revision in production is not recommended.\n",
            "/usr/local/lib/python3.12/dist-packages/huggingface_hub/utils/_auth.py:94: UserWarning: \n",
            "The secret `HF_TOKEN` does not exist in your Colab secrets.\n",
            "To authenticate with the Hugging Face Hub, create a token in your settings tab (https://huggingface.co/settings/tokens), set it as secret in your Google Colab and restart your session.\n",
            "You will be able to reuse this secret in all of your notebooks.\n",
            "Please note that authentication is recommended but still optional to access public models or datasets.\n",
            "  warnings.warn(\n"
          ]
        },
        {
          "output_type": "display_data",
          "data": {
            "text/plain": [
              "config.json:   0%|          | 0.00/466 [00:00<?, ?B/s]"
            ],
            "application/vnd.jupyter.widget-view+json": {
              "version_major": 2,
              "version_minor": 0,
              "model_id": "ada7c0bca54c4599b528522ef31fece8"
            }
          },
          "metadata": {}
        },
        {
          "output_type": "display_data",
          "data": {
            "text/plain": [
              "model.safetensors:   0%|          | 0.00/264M [00:00<?, ?B/s]"
            ],
            "application/vnd.jupyter.widget-view+json": {
              "version_major": 2,
              "version_minor": 0,
              "model_id": "8b3f851671474fce9c47e0eec6c1389e"
            }
          },
          "metadata": {}
        },
        {
          "output_type": "display_data",
          "data": {
            "text/plain": [
              "tokenizer_config.json:   0%|          | 0.00/516 [00:00<?, ?B/s]"
            ],
            "application/vnd.jupyter.widget-view+json": {
              "version_major": 2,
              "version_minor": 0,
              "model_id": "ccad3096bf8e479482598a27c47df6d4"
            }
          },
          "metadata": {}
        },
        {
          "output_type": "display_data",
          "data": {
            "text/plain": [
              "tokenizer.json: 0.00B [00:00, ?B/s]"
            ],
            "application/vnd.jupyter.widget-view+json": {
              "version_major": 2,
              "version_minor": 0,
              "model_id": "e4fa16730aae43d79ef5748c5519455f"
            }
          },
          "metadata": {}
        },
        {
          "output_type": "display_data",
          "data": {
            "text/plain": [
              "special_tokens_map.json:   0%|          | 0.00/77.0 [00:00<?, ?B/s]"
            ],
            "application/vnd.jupyter.widget-view+json": {
              "version_major": 2,
              "version_minor": 0,
              "model_id": "de8c6d667c204a88b6e6e22c62b5c4c3"
            }
          },
          "metadata": {}
        },
        {
          "output_type": "stream",
          "name": "stderr",
          "text": [
            "Device set to use cpu\n"
          ]
        }
      ],
      "source": [
        "import gpn.model\n",
        "from transformers import pipeline\n",
        "\n",
        "gpn = pipeline(\"gpn\")"
      ]
    },
    {
      "cell_type": "markdown",
      "metadata": {
        "id": "m1UWIDDproyK"
      },
      "source": [
        "Example region: chr5:3566900-3567600\n",
        "\n",
        "[UCSC Genome Browser view](https://genome.ucsc.edu/s/gbenegas/gpn%2Darabidopsis%2Dnotebook)"
      ]
    },
    {
      "cell_type": "markdown",
      "metadata": {
        "id": "4FpHHd31MVjB"
      },
      "source": [
        "![title](https://raw.githubusercontent.com/songlab-cal/gpn/refs/heads/main/examples/ss/browser_example.png)"
      ]
    },
    {
      "cell_type": "code",
      "execution_count": 3,
      "metadata": {
        "colab": {
          "base_uri": "https://localhost:8080/"
        },
        "id": "tGRtdN-jnTeE",
        "outputId": "bb48dd45-22ad-4b9a-adf9-b8d6a59fedfb"
      },
      "outputs": [
        {
          "output_type": "execute_result",
          "data": {
            "text/plain": [
              "700"
            ]
          },
          "metadata": {},
          "execution_count": 3
        }
      ],
      "source": [
        "seq = \"CGGGTTAAAAATCTAGTTGTTATTATTAAAGGAAATAAAATATCCTCATAAAACAATTTGTTGTAATCTATCTTTGGGCTAATGTTCTTATCCTACAAGACGAACCCTGACCGTATTCGTCGTAGAAAAAAAATTGCTTCGATCCCATCATTGAGTTCAATAATCGGCGCACAAAGGCCGATTCATAAAAACTCTAGGCCCATTAAAGTAAAGCCCATTCTCAACCCTATCCAGTCTCCCTGTATATATATATTTACGACACCAACCCAGCGTTGATATTTAATTTTCTTCAGTCAGAGATTTCGAAACCCTAGTCGATTTCGAGATCCAACTAACTCTGCTCCTTATCTCAGGTAAAATTCTCGCTCGAGAACTCAATTGCTTATCCAAAGTTCCAACTGAAGATGCTTTCCTACTGAATCTTAGGTTAATGTTTTGGATTTGGAATCTTACCCGAAATTTCTCTGCAGCTTGTTGAATTTGCGAAGTATGGGAGACGCTAGAGACAACGAAGCCTACGAGGAGGAGCTCTTGGACTATGAAGAAGAAGACGAGAAGGTCCCAGATTCTGGAAACAAAGTTAACGGCGAAGCTGTGAAAAAGTGAGTTTTATGGTTTCCTCGATATGTTTCATGTATACTACTGTGTGTTTAAATTTGTCGATTCTTAGATTACTACTTGATAACAAGTAGCAGTATGT\"\n",
        "len(seq)"
      ]
    },
    {
      "cell_type": "code",
      "execution_count": 4,
      "metadata": {
        "id": "N1Qqi0tJYtR7",
        "outputId": "306c8c30-9e55-4a94-e6ec-26bd5bf48f85",
        "colab": {
          "base_uri": "https://localhost:8080/",
          "height": 424
        }
      },
      "outputs": [
        {
          "output_type": "execute_result",
          "data": {
            "text/plain": [
              "    ref     p_ref       p_a       p_c       p_g       p_t     gpn_a     gpn_c  \\\n",
              "0     C  0.827393  0.040538  0.827393  0.078542  0.053527 -4.351236  0.000000   \n",
              "1     G  0.807159  0.029345  0.128080  0.807159  0.035417 -4.781667 -2.655812   \n",
              "2     G  0.789616  0.052317  0.111113  0.789616  0.046953 -3.915788 -2.829120   \n",
              "3     G  0.866124  0.101466  0.006938  0.866124  0.025472 -3.093584 -6.963885   \n",
              "4     T  0.652927  0.100722  0.022133  0.224218  0.652927 -2.696548 -4.882654   \n",
              "..   ..       ...       ...       ...       ...       ...       ...       ...   \n",
              "695   T  0.740257  0.158444  0.062795  0.038504  0.740257 -2.224058 -3.559311   \n",
              "696   A  0.628186  0.628186  0.049927  0.118898  0.202989  0.000000 -3.653304   \n",
              "697   T  0.778940  0.107533  0.021665  0.091861  0.778940 -2.856727 -5.168058   \n",
              "698   G  0.654687  0.095057  0.134410  0.654687  0.115847 -2.783936 -2.284168   \n",
              "699   T  0.782286  0.117165  0.044575  0.055974  0.782286 -2.739158 -4.133377   \n",
              "\n",
              "        gpn_g     gpn_t  \n",
              "0   -3.397039 -3.950231  \n",
              "1    0.000000 -4.510355  \n",
              "2    0.000000 -4.071872  \n",
              "3    0.000000 -5.087584  \n",
              "4   -1.542020  0.000000  \n",
              "..        ...       ...  \n",
              "695 -4.264937  0.000000  \n",
              "696 -2.401466 -1.629791  \n",
              "697 -3.083988  0.000000  \n",
              "698  0.000000 -2.498588  \n",
              "699 -3.804872  0.000000  \n",
              "\n",
              "[700 rows x 10 columns]"
            ],
            "text/html": [
              "\n",
              "  <div id=\"df-6ac4252f-afa5-4ff5-8ac6-f50b0ec9d7cd\" class=\"colab-df-container\">\n",
              "    <div>\n",
              "<style scoped>\n",
              "    .dataframe tbody tr th:only-of-type {\n",
              "        vertical-align: middle;\n",
              "    }\n",
              "\n",
              "    .dataframe tbody tr th {\n",
              "        vertical-align: top;\n",
              "    }\n",
              "\n",
              "    .dataframe thead th {\n",
              "        text-align: right;\n",
              "    }\n",
              "</style>\n",
              "<table border=\"1\" class=\"dataframe\">\n",
              "  <thead>\n",
              "    <tr style=\"text-align: right;\">\n",
              "      <th></th>\n",
              "      <th>ref</th>\n",
              "      <th>p_ref</th>\n",
              "      <th>p_a</th>\n",
              "      <th>p_c</th>\n",
              "      <th>p_g</th>\n",
              "      <th>p_t</th>\n",
              "      <th>gpn_a</th>\n",
              "      <th>gpn_c</th>\n",
              "      <th>gpn_g</th>\n",
              "      <th>gpn_t</th>\n",
              "    </tr>\n",
              "  </thead>\n",
              "  <tbody>\n",
              "    <tr>\n",
              "      <th>0</th>\n",
              "      <td>C</td>\n",
              "      <td>0.827393</td>\n",
              "      <td>0.040538</td>\n",
              "      <td>0.827393</td>\n",
              "      <td>0.078542</td>\n",
              "      <td>0.053527</td>\n",
              "      <td>-4.351236</td>\n",
              "      <td>0.000000</td>\n",
              "      <td>-3.397039</td>\n",
              "      <td>-3.950231</td>\n",
              "    </tr>\n",
              "    <tr>\n",
              "      <th>1</th>\n",
              "      <td>G</td>\n",
              "      <td>0.807159</td>\n",
              "      <td>0.029345</td>\n",
              "      <td>0.128080</td>\n",
              "      <td>0.807159</td>\n",
              "      <td>0.035417</td>\n",
              "      <td>-4.781667</td>\n",
              "      <td>-2.655812</td>\n",
              "      <td>0.000000</td>\n",
              "      <td>-4.510355</td>\n",
              "    </tr>\n",
              "    <tr>\n",
              "      <th>2</th>\n",
              "      <td>G</td>\n",
              "      <td>0.789616</td>\n",
              "      <td>0.052317</td>\n",
              "      <td>0.111113</td>\n",
              "      <td>0.789616</td>\n",
              "      <td>0.046953</td>\n",
              "      <td>-3.915788</td>\n",
              "      <td>-2.829120</td>\n",
              "      <td>0.000000</td>\n",
              "      <td>-4.071872</td>\n",
              "    </tr>\n",
              "    <tr>\n",
              "      <th>3</th>\n",
              "      <td>G</td>\n",
              "      <td>0.866124</td>\n",
              "      <td>0.101466</td>\n",
              "      <td>0.006938</td>\n",
              "      <td>0.866124</td>\n",
              "      <td>0.025472</td>\n",
              "      <td>-3.093584</td>\n",
              "      <td>-6.963885</td>\n",
              "      <td>0.000000</td>\n",
              "      <td>-5.087584</td>\n",
              "    </tr>\n",
              "    <tr>\n",
              "      <th>4</th>\n",
              "      <td>T</td>\n",
              "      <td>0.652927</td>\n",
              "      <td>0.100722</td>\n",
              "      <td>0.022133</td>\n",
              "      <td>0.224218</td>\n",
              "      <td>0.652927</td>\n",
              "      <td>-2.696548</td>\n",
              "      <td>-4.882654</td>\n",
              "      <td>-1.542020</td>\n",
              "      <td>0.000000</td>\n",
              "    </tr>\n",
              "    <tr>\n",
              "      <th>...</th>\n",
              "      <td>...</td>\n",
              "      <td>...</td>\n",
              "      <td>...</td>\n",
              "      <td>...</td>\n",
              "      <td>...</td>\n",
              "      <td>...</td>\n",
              "      <td>...</td>\n",
              "      <td>...</td>\n",
              "      <td>...</td>\n",
              "      <td>...</td>\n",
              "    </tr>\n",
              "    <tr>\n",
              "      <th>695</th>\n",
              "      <td>T</td>\n",
              "      <td>0.740257</td>\n",
              "      <td>0.158444</td>\n",
              "      <td>0.062795</td>\n",
              "      <td>0.038504</td>\n",
              "      <td>0.740257</td>\n",
              "      <td>-2.224058</td>\n",
              "      <td>-3.559311</td>\n",
              "      <td>-4.264937</td>\n",
              "      <td>0.000000</td>\n",
              "    </tr>\n",
              "    <tr>\n",
              "      <th>696</th>\n",
              "      <td>A</td>\n",
              "      <td>0.628186</td>\n",
              "      <td>0.628186</td>\n",
              "      <td>0.049927</td>\n",
              "      <td>0.118898</td>\n",
              "      <td>0.202989</td>\n",
              "      <td>0.000000</td>\n",
              "      <td>-3.653304</td>\n",
              "      <td>-2.401466</td>\n",
              "      <td>-1.629791</td>\n",
              "    </tr>\n",
              "    <tr>\n",
              "      <th>697</th>\n",
              "      <td>T</td>\n",
              "      <td>0.778940</td>\n",
              "      <td>0.107533</td>\n",
              "      <td>0.021665</td>\n",
              "      <td>0.091861</td>\n",
              "      <td>0.778940</td>\n",
              "      <td>-2.856727</td>\n",
              "      <td>-5.168058</td>\n",
              "      <td>-3.083988</td>\n",
              "      <td>0.000000</td>\n",
              "    </tr>\n",
              "    <tr>\n",
              "      <th>698</th>\n",
              "      <td>G</td>\n",
              "      <td>0.654687</td>\n",
              "      <td>0.095057</td>\n",
              "      <td>0.134410</td>\n",
              "      <td>0.654687</td>\n",
              "      <td>0.115847</td>\n",
              "      <td>-2.783936</td>\n",
              "      <td>-2.284168</td>\n",
              "      <td>0.000000</td>\n",
              "      <td>-2.498588</td>\n",
              "    </tr>\n",
              "    <tr>\n",
              "      <th>699</th>\n",
              "      <td>T</td>\n",
              "      <td>0.782286</td>\n",
              "      <td>0.117165</td>\n",
              "      <td>0.044575</td>\n",
              "      <td>0.055974</td>\n",
              "      <td>0.782286</td>\n",
              "      <td>-2.739158</td>\n",
              "      <td>-4.133377</td>\n",
              "      <td>-3.804872</td>\n",
              "      <td>0.000000</td>\n",
              "    </tr>\n",
              "  </tbody>\n",
              "</table>\n",
              "<p>700 rows × 10 columns</p>\n",
              "</div>\n",
              "    <div class=\"colab-df-buttons\">\n",
              "\n",
              "  <div class=\"colab-df-container\">\n",
              "    <button class=\"colab-df-convert\" onclick=\"convertToInteractive('df-6ac4252f-afa5-4ff5-8ac6-f50b0ec9d7cd')\"\n",
              "            title=\"Convert this dataframe to an interactive table.\"\n",
              "            style=\"display:none;\">\n",
              "\n",
              "  <svg xmlns=\"http://www.w3.org/2000/svg\" height=\"24px\" viewBox=\"0 -960 960 960\">\n",
              "    <path d=\"M120-120v-720h720v720H120Zm60-500h600v-160H180v160Zm220 220h160v-160H400v160Zm0 220h160v-160H400v160ZM180-400h160v-160H180v160Zm440 0h160v-160H620v160ZM180-180h160v-160H180v160Zm440 0h160v-160H620v160Z\"/>\n",
              "  </svg>\n",
              "    </button>\n",
              "\n",
              "  <style>\n",
              "    .colab-df-container {\n",
              "      display:flex;\n",
              "      gap: 12px;\n",
              "    }\n",
              "\n",
              "    .colab-df-convert {\n",
              "      background-color: #E8F0FE;\n",
              "      border: none;\n",
              "      border-radius: 50%;\n",
              "      cursor: pointer;\n",
              "      display: none;\n",
              "      fill: #1967D2;\n",
              "      height: 32px;\n",
              "      padding: 0 0 0 0;\n",
              "      width: 32px;\n",
              "    }\n",
              "\n",
              "    .colab-df-convert:hover {\n",
              "      background-color: #E2EBFA;\n",
              "      box-shadow: 0px 1px 2px rgba(60, 64, 67, 0.3), 0px 1px 3px 1px rgba(60, 64, 67, 0.15);\n",
              "      fill: #174EA6;\n",
              "    }\n",
              "\n",
              "    .colab-df-buttons div {\n",
              "      margin-bottom: 4px;\n",
              "    }\n",
              "\n",
              "    [theme=dark] .colab-df-convert {\n",
              "      background-color: #3B4455;\n",
              "      fill: #D2E3FC;\n",
              "    }\n",
              "\n",
              "    [theme=dark] .colab-df-convert:hover {\n",
              "      background-color: #434B5C;\n",
              "      box-shadow: 0px 1px 3px 1px rgba(0, 0, 0, 0.15);\n",
              "      filter: drop-shadow(0px 1px 2px rgba(0, 0, 0, 0.3));\n",
              "      fill: #FFFFFF;\n",
              "    }\n",
              "  </style>\n",
              "\n",
              "    <script>\n",
              "      const buttonEl =\n",
              "        document.querySelector('#df-6ac4252f-afa5-4ff5-8ac6-f50b0ec9d7cd button.colab-df-convert');\n",
              "      buttonEl.style.display =\n",
              "        google.colab.kernel.accessAllowed ? 'block' : 'none';\n",
              "\n",
              "      async function convertToInteractive(key) {\n",
              "        const element = document.querySelector('#df-6ac4252f-afa5-4ff5-8ac6-f50b0ec9d7cd');\n",
              "        const dataTable =\n",
              "          await google.colab.kernel.invokeFunction('convertToInteractive',\n",
              "                                                    [key], {});\n",
              "        if (!dataTable) return;\n",
              "\n",
              "        const docLinkHtml = 'Like what you see? Visit the ' +\n",
              "          '<a target=\"_blank\" href=https://colab.research.google.com/notebooks/data_table.ipynb>data table notebook</a>'\n",
              "          + ' to learn more about interactive tables.';\n",
              "        element.innerHTML = '';\n",
              "        dataTable['output_type'] = 'display_data';\n",
              "        await google.colab.output.renderOutput(dataTable, element);\n",
              "        const docLink = document.createElement('div');\n",
              "        docLink.innerHTML = docLinkHtml;\n",
              "        element.appendChild(docLink);\n",
              "      }\n",
              "    </script>\n",
              "  </div>\n",
              "\n",
              "\n",
              "    <div id=\"df-407fe6ea-db22-4aa0-9003-bcc7256484bf\">\n",
              "      <button class=\"colab-df-quickchart\" onclick=\"quickchart('df-407fe6ea-db22-4aa0-9003-bcc7256484bf')\"\n",
              "                title=\"Suggest charts\"\n",
              "                style=\"display:none;\">\n",
              "\n",
              "<svg xmlns=\"http://www.w3.org/2000/svg\" height=\"24px\"viewBox=\"0 0 24 24\"\n",
              "     width=\"24px\">\n",
              "    <g>\n",
              "        <path d=\"M19 3H5c-1.1 0-2 .9-2 2v14c0 1.1.9 2 2 2h14c1.1 0 2-.9 2-2V5c0-1.1-.9-2-2-2zM9 17H7v-7h2v7zm4 0h-2V7h2v10zm4 0h-2v-4h2v4z\"/>\n",
              "    </g>\n",
              "</svg>\n",
              "      </button>\n",
              "\n",
              "<style>\n",
              "  .colab-df-quickchart {\n",
              "      --bg-color: #E8F0FE;\n",
              "      --fill-color: #1967D2;\n",
              "      --hover-bg-color: #E2EBFA;\n",
              "      --hover-fill-color: #174EA6;\n",
              "      --disabled-fill-color: #AAA;\n",
              "      --disabled-bg-color: #DDD;\n",
              "  }\n",
              "\n",
              "  [theme=dark] .colab-df-quickchart {\n",
              "      --bg-color: #3B4455;\n",
              "      --fill-color: #D2E3FC;\n",
              "      --hover-bg-color: #434B5C;\n",
              "      --hover-fill-color: #FFFFFF;\n",
              "      --disabled-bg-color: #3B4455;\n",
              "      --disabled-fill-color: #666;\n",
              "  }\n",
              "\n",
              "  .colab-df-quickchart {\n",
              "    background-color: var(--bg-color);\n",
              "    border: none;\n",
              "    border-radius: 50%;\n",
              "    cursor: pointer;\n",
              "    display: none;\n",
              "    fill: var(--fill-color);\n",
              "    height: 32px;\n",
              "    padding: 0;\n",
              "    width: 32px;\n",
              "  }\n",
              "\n",
              "  .colab-df-quickchart:hover {\n",
              "    background-color: var(--hover-bg-color);\n",
              "    box-shadow: 0 1px 2px rgba(60, 64, 67, 0.3), 0 1px 3px 1px rgba(60, 64, 67, 0.15);\n",
              "    fill: var(--button-hover-fill-color);\n",
              "  }\n",
              "\n",
              "  .colab-df-quickchart-complete:disabled,\n",
              "  .colab-df-quickchart-complete:disabled:hover {\n",
              "    background-color: var(--disabled-bg-color);\n",
              "    fill: var(--disabled-fill-color);\n",
              "    box-shadow: none;\n",
              "  }\n",
              "\n",
              "  .colab-df-spinner {\n",
              "    border: 2px solid var(--fill-color);\n",
              "    border-color: transparent;\n",
              "    border-bottom-color: var(--fill-color);\n",
              "    animation:\n",
              "      spin 1s steps(1) infinite;\n",
              "  }\n",
              "\n",
              "  @keyframes spin {\n",
              "    0% {\n",
              "      border-color: transparent;\n",
              "      border-bottom-color: var(--fill-color);\n",
              "      border-left-color: var(--fill-color);\n",
              "    }\n",
              "    20% {\n",
              "      border-color: transparent;\n",
              "      border-left-color: var(--fill-color);\n",
              "      border-top-color: var(--fill-color);\n",
              "    }\n",
              "    30% {\n",
              "      border-color: transparent;\n",
              "      border-left-color: var(--fill-color);\n",
              "      border-top-color: var(--fill-color);\n",
              "      border-right-color: var(--fill-color);\n",
              "    }\n",
              "    40% {\n",
              "      border-color: transparent;\n",
              "      border-right-color: var(--fill-color);\n",
              "      border-top-color: var(--fill-color);\n",
              "    }\n",
              "    60% {\n",
              "      border-color: transparent;\n",
              "      border-right-color: var(--fill-color);\n",
              "    }\n",
              "    80% {\n",
              "      border-color: transparent;\n",
              "      border-right-color: var(--fill-color);\n",
              "      border-bottom-color: var(--fill-color);\n",
              "    }\n",
              "    90% {\n",
              "      border-color: transparent;\n",
              "      border-bottom-color: var(--fill-color);\n",
              "    }\n",
              "  }\n",
              "</style>\n",
              "\n",
              "      <script>\n",
              "        async function quickchart(key) {\n",
              "          const quickchartButtonEl =\n",
              "            document.querySelector('#' + key + ' button');\n",
              "          quickchartButtonEl.disabled = true;  // To prevent multiple clicks.\n",
              "          quickchartButtonEl.classList.add('colab-df-spinner');\n",
              "          try {\n",
              "            const charts = await google.colab.kernel.invokeFunction(\n",
              "                'suggestCharts', [key], {});\n",
              "          } catch (error) {\n",
              "            console.error('Error during call to suggestCharts:', error);\n",
              "          }\n",
              "          quickchartButtonEl.classList.remove('colab-df-spinner');\n",
              "          quickchartButtonEl.classList.add('colab-df-quickchart-complete');\n",
              "        }\n",
              "        (() => {\n",
              "          let quickchartButtonEl =\n",
              "            document.querySelector('#df-407fe6ea-db22-4aa0-9003-bcc7256484bf button');\n",
              "          quickchartButtonEl.style.display =\n",
              "            google.colab.kernel.accessAllowed ? 'block' : 'none';\n",
              "        })();\n",
              "      </script>\n",
              "    </div>\n",
              "\n",
              "    </div>\n",
              "  </div>\n"
            ],
            "application/vnd.google.colaboratory.intrinsic+json": {
              "type": "dataframe",
              "summary": "{\n  \"name\": \"gpn(seq)\",\n  \"rows\": 700,\n  \"fields\": [\n    {\n      \"column\": \"ref\",\n      \"properties\": {\n        \"dtype\": \"category\",\n        \"num_unique_values\": 4,\n        \"samples\": [\n          \"G\",\n          \"A\",\n          \"C\"\n        ],\n        \"semantic_type\": \"\",\n        \"description\": \"\"\n      }\n    },\n    {\n      \"column\": \"p_ref\",\n      \"properties\": {\n        \"dtype\": \"number\",\n        \"std\": 0.15527954673489566,\n        \"min\": 0.10394340008497238,\n        \"max\": 0.9988271594047546,\n        \"num_unique_values\": 700,\n        \"samples\": [\n          0.8237810134887695,\n          0.8562236428260803,\n          0.8090085983276367\n        ],\n        \"semantic_type\": \"\",\n        \"description\": \"\"\n      }\n    },\n    {\n      \"column\": \"p_a\",\n      \"properties\": {\n        \"dtype\": \"float32\",\n        \"num_unique_values\": 700,\n        \"samples\": [\n          0.8237810134887695,\n          0.05709875375032425,\n          0.8090085983276367\n        ],\n        \"semantic_type\": \"\",\n        \"description\": \"\"\n      }\n    },\n    {\n      \"column\": \"p_c\",\n      \"properties\": {\n        \"dtype\": \"float32\",\n        \"num_unique_values\": 700,\n        \"samples\": [\n          0.06511096656322479,\n          0.03570995479822159,\n          0.07080424576997757\n        ],\n        \"semantic_type\": \"\",\n        \"description\": \"\"\n      }\n    },\n    {\n      \"column\": \"p_g\",\n      \"properties\": {\n        \"dtype\": \"float32\",\n        \"num_unique_values\": 700,\n        \"samples\": [\n          0.03805255889892578,\n          0.050967637449502945,\n          0.04474135488271713\n        ],\n        \"semantic_type\": \"\",\n        \"description\": \"\"\n      }\n    },\n    {\n      \"column\": \"p_t\",\n      \"properties\": {\n        \"dtype\": \"float32\",\n        \"num_unique_values\": 700,\n        \"samples\": [\n          0.07305543124675751,\n          0.8562236428260803,\n          0.07544579356908798\n        ],\n        \"semantic_type\": \"\",\n        \"description\": \"\"\n      }\n    },\n    {\n      \"column\": \"gpn_a\",\n      \"properties\": {\n        \"dtype\": \"number\",\n        \"std\": 2.401098575906732,\n        \"min\": -12.205641750713516,\n        \"max\": 0.8086883454957338,\n        \"num_unique_values\": 485,\n        \"samples\": [\n          -3.847390815055316,\n          -2.7558625534700303,\n          -3.4421633496711683\n        ],\n        \"semantic_type\": \"\",\n        \"description\": \"\"\n      }\n    },\n    {\n      \"column\": \"gpn_c\",\n      \"properties\": {\n        \"dtype\": \"number\",\n        \"std\": 2.4951545252825333,\n        \"min\": -12.3515147033286,\n        \"max\": 2.9674368231510933,\n        \"num_unique_values\": 563,\n        \"samples\": [\n          -3.5908887186138307,\n          -1.4259439748118878,\n          0.02568551543804539\n        ],\n        \"semantic_type\": \"\",\n        \"description\": \"\"\n      }\n    },\n    {\n      \"column\": \"gpn_g\",\n      \"properties\": {\n        \"dtype\": \"number\",\n        \"std\": 2.4029484388200064,\n        \"min\": -11.519649720093353,\n        \"max\": 1.8149459692015242,\n        \"num_unique_values\": 572,\n        \"samples\": [\n          -3.9771909339877043,\n          -3.717978778549938,\n          -2.886059525674056\n        ],\n        \"semantic_type\": \"\",\n        \"description\": \"\"\n      }\n    },\n    {\n      \"column\": \"gpn_t\",\n      \"properties\": {\n        \"dtype\": \"number\",\n        \"std\": 2.6331940345409413,\n        \"min\": -12.83617417991173,\n        \"max\": 0.9611440575233533,\n        \"num_unique_values\": 484,\n        \"samples\": [\n          -7.513366911775457,\n          -2.041477377622927,\n          -4.417942505634662\n        ],\n        \"semantic_type\": \"\",\n        \"description\": \"\"\n      }\n    }\n  ]\n}"
            }
          },
          "metadata": {},
          "execution_count": 4
        }
      ],
      "source": [
        "gpn(seq)"
      ]
    }
  ],
  "metadata": {
    "colab": {
      "provenance": []
    },
    "kernelspec": {
      "display_name": "Python 3 (ipykernel)",
      "language": "python",
      "name": "python3"
    },
    "language_info": {
      "codemirror_mode": {
        "name": "ipython",
        "version": 3
      },
      "file_extension": ".py",
      "mimetype": "text/x-python",
      "name": "python",
      "nbconvert_exporter": "python",
      "pygments_lexer": "ipython3",
      "version": "3.11.0"
    },
  },
  "nbformat": 4,
  "nbformat_minor": 0
}
